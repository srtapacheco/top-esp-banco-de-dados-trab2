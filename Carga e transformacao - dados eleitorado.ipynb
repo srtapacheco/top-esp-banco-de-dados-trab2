{
  "nbformat": 4,
  "nbformat_minor": 0,
  "metadata": {
    "colab": {
      "private_outputs": true,
      "provenance": []
    },
    "kernelspec": {
      "name": "ir",
      "display_name": "R"
    },
    "language_info": {
      "name": "R"
    }
  },
  "cells": [
    {
      "cell_type": "markdown",
      "source": [
        "**1. Carga do Dataset**"
      ],
      "metadata": {
        "id": "zFncHwlVsMAj"
      }
    },
    {
      "cell_type": "code",
      "execution_count": null,
      "metadata": {
        "id": "VGMKqYv8UruL"
      },
      "outputs": [],
      "source": [
        "# Instalar o pacote Tidyverse\n",
        "install.packages(\"tidyverse\")\n",
        "library(tidyverse)\n",
        "library(ggplot2)\n"
      ]
    },
    {
      "cell_type": "markdown",
      "source": [],
      "metadata": {
        "id": "is7Cp7NoVrTI"
      }
    },
    {
      "cell_type": "code",
      "source": [
        "# Carregar a biblioteca\n",
        "library(readr)\n",
        "\n",
        "# Carregar o arquivo CSV usando read_delim para arquivos delimitados por ponto e vírgula\n",
        "dataset_eleitorado <- read_delim(\"perfil_eleitor_secao_ATUAL_RO.csv\", delim = \";\", locale = locale(encoding = \"latin1\"))\n",
        "\n",
        "# Calcular dimensões do dataset\n",
        "linhas <- nrow(dataset_eleitorado)\n",
        "colunas <- ncol(dataset_eleitorado)\n",
        "celulas <- linhas * colunas\n",
        "\n",
        "cat(\"Número de linhas:\", linhas, \"\\n\")\n",
        "cat(\"Número de colunas:\", colunas, \"\\n\")\n",
        "cat(\"Número de células:\", celulas, \"\\n\")\n"
      ],
      "metadata": {
        "id": "BZB2qYrdpKRO"
      },
      "execution_count": null,
      "outputs": []
    },
    {
      "cell_type": "markdown",
      "source": [
        "**2. Seleção de Colunas (Transformação - Projeção)**"
      ],
      "metadata": {
        "id": "G-SSAALjsTJx"
      }
    },
    {
      "cell_type": "code",
      "source": [
        "# Selecionar apenas as colunas de interesse\n",
        "colunas_interesse <- c(\"NM_MUNICIPIO\", \"CD_GENERO\", \"DS_GENERO\", \"CD_ESTADO_CIVIL\",\n",
        "                       \"DS_ESTADO_CIVIL\", \"CD_FAIXA_ETARIA\", \"DS_FAIXA_ETARIA\",\n",
        "                       \"CD_GRAU_ESCOLARIDADE\", \"DS_GRAU_ESCOLARIDADE\", \"QT_ELEITORES_PERFIL\")\n",
        "\n",
        "dataset_filtrado <- dataset_eleitorado %>% select(all_of(colunas_interesse))\n",
        "\n",
        "# Comparar dimensões antes e depois\n",
        "linhas_filtrado <- nrow(dataset_filtrado)\n",
        "colunas_filtrado <- ncol(dataset_filtrado)\n",
        "celulas_filtrado <- linhas_filtrado * colunas_filtrado\n",
        "\n",
        "cat(\"Após projeção:\\n\")\n",
        "cat(\"Linhas:\", linhas_filtrado, \"\\n\")\n",
        "cat(\"Colunas:\", colunas_filtrado, \"\\n\")\n",
        "cat(\"Células:\", celulas_filtrado, \"\\n\")"
      ],
      "metadata": {
        "id": "GEnHwDrVpkov"
      },
      "execution_count": null,
      "outputs": []
    },
    {
      "cell_type": "markdown",
      "source": [
        "**3. Filtragem de Linhas (Transformação - Limpeza de Dados)**"
      ],
      "metadata": {
        "id": "Cb8y6nNNsmrV"
      }
    },
    {
      "cell_type": "code",
      "source": [
        "# Filtrar linhas inválidas\n",
        "dataset_limpo <- dataset_filtrado %>%\n",
        "  filter(\n",
        "    DS_FAIXA_ETARIA != \"Inválido\",\n",
        "    !str_detect(DS_GENERO, \"NÃO INFORMADO\"),\n",
        "    !str_detect(DS_ESTADO_CIVIL, \"NÃO INFORMADO\"),\n",
        "    !str_detect(DS_GRAU_ESCOLARIDADE, \"NÃO INFORMADO\")\n",
        "  )\n",
        "\n",
        "# Comparar dimensões antes e depois da limpeza\n",
        "linhas_limpo <- nrow(dataset_limpo)\n",
        "colunas_limpo <- ncol(dataset_limpo)\n",
        "celulas_limpo <- linhas_limpo * colunas_limpo\n",
        "\n",
        "cat(\"Após limpeza:\\n\")\n",
        "cat(\"Linhas:\", linhas_limpo, \"\\n\")\n",
        "cat(\"Colunas:\", colunas_limpo, \"\\n\")\n",
        "cat(\"Células:\", celulas_limpo, \"\\n\")"
      ],
      "metadata": {
        "id": "NFYgH6eMppCu"
      },
      "execution_count": null,
      "outputs": []
    },
    {
      "cell_type": "markdown",
      "source": [
        "2.3. Calcular o Número de Células com Dados"
      ],
      "metadata": {
        "id": "YiQvrTG6stmv"
      }
    },
    {
      "cell_type": "code",
      "source": [
        "# Contar o número de células com dados (ANTES E DEPOIS)\n",
        "celulas_antes <- nrow(dataset_eleitorado) * ncol(dataset_eleitorado)\n",
        "celulas_depois <- nrow(dataset_limpo) * ncol(dataset_limpo)\n",
        "\n",
        "cat(\"Número de células antes das transformações:\", celulas_antes, \"\\n\")\n",
        "cat(\"Número de células após as transformações:\", celulas_depois, \"\\n\")"
      ],
      "metadata": {
        "id": "NhA9l8c7psg1"
      },
      "execution_count": null,
      "outputs": []
    },
    {
      "cell_type": "markdown",
      "source": [
        "Análises:"
      ],
      "metadata": {
        "id": "hjEjQ5uqGuMB"
      }
    },
    {
      "cell_type": "code",
      "source": [
        "# Filtrar dados com os critérios\n",
        "filtro <- dataset_limpo %>%\n",
        "  filter(\n",
        "    DS_GENERO == \"MASCULINO\",\n",
        "    DS_FAIXA_ETARIA == \"35 a 39 anos\",\n",
        "    DS_ESTADO_CIVIL == \"CASADO\",\n",
        "    DS_GRAU_ESCOLARIDADE == \"ENSINO MÉDIO COMPLETO\"\n",
        "  )\n",
        "\n",
        "# Calcular total de eleitores que atendem ao critério\n",
        "total_filtro <- sum(filtro$QT_ELEITORES_PERFIL)\n",
        "\n",
        "# Calcular total geral de eleitores\n",
        "total_geral <- sum(dataset_limpo$QT_ELEITORES_PERFIL)\n",
        "\n",
        "# Comparar\n",
        "cat(\"Total de eleitores que atendem ao critério:\", total_filtro, \"\\n\")\n",
        "cat(\"Total geral de eleitores:\", total_geral, \"\\n\")\n",
        "cat(\"Proporção:\", round((total_filtro / total_geral) * 100, 2), \"%\\n\")\n"
      ],
      "metadata": {
        "id": "Uweak5zpBnoR"
      },
      "execution_count": null,
      "outputs": []
    },
    {
      "cell_type": "code",
      "source": [
        "# Contagem por sexo\n",
        "contagem_sexo <- dataset_limpo %>%\n",
        "  group_by(DS_GENERO) %>%\n",
        "  summarise(QT_ELEITORES = sum(QT_ELEITORES_PERFIL))\n",
        "\n",
        "# Contagem por município\n",
        "contagem_municipio <- dataset_limpo %>%\n",
        "  group_by(NM_MUNICIPIO) %>%\n",
        "  summarise(QT_ELEITORES = sum(QT_ELEITORES_PERFIL))\n",
        "\n",
        "# Combinação: Sexo versus Faixa Etária\n",
        "sexo_vs_idade <- dataset_limpo %>%\n",
        "  group_by(DS_GENERO, DS_FAIXA_ETARIA) %>%\n",
        "  summarise(QT_ELEITORES = sum(QT_ELEITORES_PERFIL)) %>%\n",
        "  arrange(desc(QT_ELEITORES))\n",
        "\n",
        "print(\"Contagem por sexo\")\n",
        "print(contagem_sexo)\n",
        "print(\"Contagem por município\")\n",
        "print(contagem_municipio)\n",
        "print(\"Sexo vs Faixa Etária\")\n",
        "print(sexo_vs_idade)"
      ],
      "metadata": {
        "id": "sk6yfoEJK92m"
      },
      "execution_count": null,
      "outputs": []
    },
    {
      "cell_type": "code",
      "source": [
        "# Estatísticas básicas\n",
        "estatisticas <- dataset_limpo %>%\n",
        "  group_by(NM_MUNICIPIO) %>%\n",
        "  summarise(\n",
        "    Total_Eleitores = sum(QT_ELEITORES_PERFIL)\n",
        "  ) %>%\n",
        "  summarise(\n",
        "    Media = mean(Total_Eleitores),\n",
        "    Mediana = median(Total_Eleitores),\n",
        "    Moda = Total_Eleitores[which.max(tabulate(match(Total_Eleitores, unique(Total_Eleitores))))],\n",
        "    Minimo = min(Total_Eleitores),\n",
        "    Maximo = max(Total_Eleitores),\n",
        "    Intervalo = max(Total_Eleitores) - min(Total_Eleitores),\n",
        "    Desvio_Padrao = sd(Total_Eleitores)\n",
        "  )\n",
        "\n",
        "print(estatisticas)\n"
      ],
      "metadata": {
        "id": "lBuAvytOLF5c"
      },
      "execution_count": null,
      "outputs": []
    },
    {
      "cell_type": "code",
      "source": [
        "# Comparação entre dois municípios\n",
        "municipios_comparados <- dataset_limpo %>%\n",
        "  filter(NM_MUNICIPIO %in% c(\"Município A\", \"Município B\")) %>%\n",
        "  group_by(NM_MUNICIPIO, DS_GENERO) %>%\n",
        "  summarise(Total_Eleitores = sum(QT_ELEITORES_PERFIL))\n",
        "\n",
        "print(municipios_comparados)\n"
      ],
      "metadata": {
        "id": "UolhFb1qLJQt"
      },
      "execution_count": null,
      "outputs": []
    },
    {
      "cell_type": "code",
      "source": [
        "# Total de eleitores agrupados por município e grau de instrução\n",
        "agrupado_municipio <- dataset_limpo %>%\n",
        "  group_by(NM_MUNICIPIO, DS_GRAU_ESCOLARIDADE) %>%\n",
        "  summarise(QT_ELEITORES = sum(QT_ELEITORES_PERFIL))\n",
        "\n",
        "print(agrupado_municipio)\n"
      ],
      "metadata": {
        "id": "_DeiHRBdLLLE"
      },
      "execution_count": null,
      "outputs": []
    },
    {
      "cell_type": "code",
      "source": [
        "# Município com menos eleitores\n",
        "municipio_menos <- dataset_limpo %>%\n",
        "  group_by(NM_MUNICIPIO) %>%\n",
        "  summarise(Total_Eleitores = sum(QT_ELEITORES_PERFIL)) %>%\n",
        "  arrange(Total_Eleitores) %>%\n",
        "  slice(1)\n",
        "\n",
        "# Município com mais eleitores (exceto a capital)\n",
        "municipio_mais <- dataset_limpo %>%\n",
        "  filter(NM_MUNICIPIO != \"Capital\") %>%\n",
        "  group_by(NM_MUNICIPIO) %>%\n",
        "  summarise(Total_Eleitores = sum(QT_ELEITORES_PERFIL)) %>%\n",
        "  arrange(desc(Total_Eleitores)) %>%\n",
        "  slice(1)\n",
        "\n",
        "cat(\"Município com menos eleitores:\\n\")\n",
        "print(municipio_menos)\n",
        "\n",
        "cat(\"Município com mais eleitores (exceto a capital):\\n\")\n",
        "print(municipio_mais)\n"
      ],
      "metadata": {
        "id": "VBKLfuS4LMqs"
      },
      "execution_count": null,
      "outputs": []
    },
    {
      "cell_type": "code",
      "source": [
        "\n",
        "ggplot(contagem_sexo, aes(x = DS_GENERO, y = QT_ELEITORES, fill = DS_GENERO)) +\n",
        "  geom_bar(stat = \"identity\") +\n",
        "  labs(title = \"Distribuição de Eleitores por Gênero\",\n",
        "       x = \"Gênero\", y = \"Total de Eleitores\") +\n",
        "  theme_minimal()\n"
      ],
      "metadata": {
        "id": "xyRYkWJMLOrN"
      },
      "execution_count": null,
      "outputs": []
    },
    {
      "cell_type": "code",
      "source": [
        "ggplot(sexo_vs_idade, aes(x = DS_FAIXA_ETARIA, y = QT_ELEITORES, fill = DS_GENERO)) +\n",
        "  geom_bar(stat = \"identity\", position = \"dodge\") +\n",
        "  labs(title = \"Eleitores por Faixa Etária e Sexo\",\n",
        "       x = \"Faixa Etária\", y = \"Total de Eleitores\") +\n",
        "  theme_minimal()\n"
      ],
      "metadata": {
        "id": "St0Ww-IlLPQ-"
      },
      "execution_count": null,
      "outputs": []
    },
    {
      "cell_type": "code",
      "source": [
        "# Heatmap Faixa Etária vs Estado Civil para Homens\n",
        "heatmap_homens <- dataset_limpo %>%\n",
        "  filter(DS_GENERO == \"MASCULINO\") %>%\n",
        "  group_by(DS_FAIXA_ETARIA, DS_ESTADO_CIVIL) %>%\n",
        "  summarise(QT_ELEITORES = sum(QT_ELEITORES_PERFIL))\n",
        "\n",
        "ggplot(heatmap_homens, aes(x = DS_FAIXA_ETARIA, y = DS_ESTADO_CIVIL, fill = QT_ELEITORES)) +\n",
        "  geom_tile() +\n",
        "  scale_fill_gradient(low = \"white\", high = \"blue\") +\n",
        "  labs(title = \"Heatmap: Faixa Etária x Estado Civil (Homens)\",\n",
        "       x = \"Faixa Etária\", y = \"Estado Civil\") +\n",
        "  theme_minimal()\n"
      ],
      "metadata": {
        "id": "FDqa1lN-LUf1"
      },
      "execution_count": null,
      "outputs": []
    },
    {
      "cell_type": "code",
      "source": [
        "# Heatmap para Faixa Etária vs Estado Civil - Gênero Feminino\n",
        "heatmap_feminino <- dataset_limpo %>%\n",
        "  filter(DS_GENERO == \"FEMININO\") %>%\n",
        "  group_by(DS_FAIXA_ETARIA, DS_ESTADO_CIVIL) %>%\n",
        "  summarise(QT_ELEITORES = sum(QT_ELEITORES_PERFIL), .groups = \"drop\") %>%\n",
        "  ggplot(aes(x = DS_ESTADO_CIVIL, y = DS_FAIXA_ETARIA, fill = QT_ELEITORES)) +\n",
        "  geom_tile(color = \"white\") +\n",
        "  scale_fill_gradient(low = \"green\", high = \"red\", name = \"Eleitores\") +\n",
        "  labs(\n",
        "    title = \"Distribuição de Eleitores (Feminino)\",\n",
        "    x = \"Estado Civil\",\n",
        "    y = \"Faixa Etária\"\n",
        "  ) +\n",
        "  theme_minimal() +\n",
        "  theme(axis.text.x = element_text(angle = 45, hjust = 1))"
      ],
      "metadata": {
        "id": "A8HOgLshmuLe"
      },
      "execution_count": null,
      "outputs": []
    }
  ]
}