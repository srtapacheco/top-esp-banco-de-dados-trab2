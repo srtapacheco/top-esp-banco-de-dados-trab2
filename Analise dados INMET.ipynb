{
  "nbformat": 4,
  "nbformat_minor": 0,
  "metadata": {
    "colab": {
      "provenance": [],
      "collapsed_sections": [
        "XduJ37B3yDFt",
        "875hzSfkRjtL",
        "kxIV03hiW0T8",
        "4IfKwndOZSJi",
        "5Q0Ccs6oZyng",
        "2ssWwTAEbvBh",
        "G5CG-jCWb89v"
      ]
    },
    "kernelspec": {
      "name": "ir",
      "display_name": "R"
    },
    "language_info": {
      "name": "R"
    }
  },
  "cells": [
    {
      "cell_type": "markdown",
      "source": [
        "# Installing R"
      ],
      "metadata": {
        "id": "XduJ37B3yDFt"
      }
    },
    {
      "cell_type": "code",
      "execution_count": null,
      "metadata": {
        "colab": {
          "base_uri": "https://localhost:8080/"
        },
        "id": "FLMa0p62vXfa",
        "outputId": "12e765c2-be84-4be1-9dcd-53728de1a898"
      },
      "outputs": [
        {
          "output_type": "stream",
          "name": "stdout",
          "text": [
            "Reading package lists... Done\n",
            "Building dependency tree... Done\n",
            "Reading state information... Done\n",
            "r-base is already the newest version (4.4.2-1.2204.0).\n",
            "0 upgraded, 0 newly installed, 0 to remove and 49 not upgraded.\n"
          ]
        }
      ],
      "source": [
        "!apt-get install r-base"
      ]
    },
    {
      "cell_type": "markdown",
      "source": [
        "# Reading Data"
      ],
      "metadata": {
        "id": "Uf3hP_J2yRP9"
      }
    },
    {
      "cell_type": "code",
      "source": [
        "# install.packages(\"readr\")\n",
        "# install.packages(\"dplyr\")\n",
        "# install.packages(\"lubridate\")\n",
        "library(readr)\n",
        "library(dplyr)\n",
        "library(lubridate)\n",
        "\n",
        "file1 = \"INMET_SE_RJ_A602_RIO DE JANEIRO-MARAMBAIA_01-01-2022_A_31-12-2022.CSV\"\n",
        "data1 = read.table(file1, sep=\";\", dec=\",\", skip=8, header=TRUE, check.names = FALSE, fileEncoding = \"latin1\")\n",
        "\n",
        "file2 = \"INMET_SE_RJ_A602_RIO DE JANEIRO-MARAMBAIA_01-01-2023_A_31-12-2023.CSV\"\n",
        "data2 = read.table(file2, sep=\";\", dec=\",\", skip=8, header=TRUE, check.names = FALSE, fileEncoding = \"latin1\")\n"
      ],
      "metadata": {
        "id": "PvRy3coKv86j"
      },
      "execution_count": null,
      "outputs": []
    },
    {
      "cell_type": "markdown",
      "source": [
        "# Pre-Processing"
      ],
      "metadata": {
        "id": "H0gYwIKuy1uA"
      }
    },
    {
      "cell_type": "code",
      "source": [
        "# Interested columns\n",
        "columns <- c(\"Data\",\n",
        "            \"Hora UTC\",\n",
        "            \"PRECIPITAÇÃO TOTAL, HORÁRIO (mm)\",\n",
        "            \"PRESSAO ATMOSFERICA AO NIVEL DA ESTACAO, HORARIA (mB)\",\n",
        "            \"PRESSÃO ATMOSFERICA MAX.NA HORA ANT. (AUT) (mB)\",\n",
        "            \"PRESSÃO ATMOSFERICA MIN. NA HORA ANT. (AUT) (mB)\",\n",
        "            \"TEMPERATURA DO AR - BULBO SECO, HORARIA (°C)\",\n",
        "            \"TEMPERATURA MÁXIMA NA HORA ANT. (AUT) (°C)\",\n",
        "            \"TEMPERATURA MÍNIMA NA HORA ANT. (AUT) (°C)\",\n",
        "            \"VENTO, DIREÇÃO HORARIA (gr) (° (gr))\",\n",
        "            \"VENTO, RAJADA MAXIMA (m/s)\",\n",
        "            \"VENTO, VELOCIDADE HORARIA (m/s)\")\n",
        "\n",
        "# Filtering datasets using columns\n",
        "data1 <- data1 %>%\n",
        "  select(all_of(columns))\n",
        "data2 <- data2 %>%\n",
        "  select(all_of(columns))\n",
        "\n",
        "# Filtering rows without NA\n",
        "data1 <- data1 %>%\n",
        "  filter(complete.cases(.))\n",
        "data2 <- data2 %>%\n",
        "  filter(complete.cases(.))\n",
        "\n",
        "# Converting date column to date format\n",
        "data1[[\"Data\"]] = as.Date(data1[[\"Data\"]], format = \"%Y/%m/%d\")\n",
        "data2[[\"Data\"]] = as.Date(data2[[\"Data\"]], format = \"%Y/%m/%d\")\n",
        "\n",
        "# Function to convert \"XXXX UTC\" into \"HH:MM\"\n",
        "hour_converter = function(hour) {\n",
        "  # Removes \" UTC\"\n",
        "  hour_without_utc <- gsub(\" UTC\", \"\", hour)\n",
        "  # Converts to format HH:MM\n",
        "  paste0(substring(hour_without_utc, 1, 2), \":\", substring(hour_without_utc, 3, 4))\n",
        "}\n",
        "\n",
        "# Applying function to column Hora UTC\n",
        "data1[[\"Hora UTC\"]] = sapply(data1[[\"Hora UTC\"]], hour_converter)\n",
        "data2[[\"Hora UTC\"]] = sapply(data2[[\"Hora UTC\"]], hour_converter)"
      ],
      "metadata": {
        "id": "4BJWbhitOaFs"
      },
      "execution_count": null,
      "outputs": []
    },
    {
      "cell_type": "markdown",
      "source": [
        "# Utility Functions"
      ],
      "metadata": {
        "id": "fW6q-MGHY4YI"
      }
    },
    {
      "cell_type": "code",
      "source": [
        "numeric_columns <- c(\"PRECIPITAÇÃO TOTAL, HORÁRIO (mm)\",\n",
        "            \"PRESSAO ATMOSFERICA AO NIVEL DA ESTACAO, HORARIA (mB)\",\n",
        "            \"PRESSÃO ATMOSFERICA MAX.NA HORA ANT. (AUT) (mB)\",\n",
        "            \"PRESSÃO ATMOSFERICA MIN. NA HORA ANT. (AUT) (mB)\",\n",
        "            \"TEMPERATURA DO AR - BULBO SECO, HORARIA (°C)\",\n",
        "            \"TEMPERATURA MÁXIMA NA HORA ANT. (AUT) (°C)\",\n",
        "            \"TEMPERATURA MÍNIMA NA HORA ANT. (AUT) (°C)\",\n",
        "            \"VENTO, DIREÇÃO HORARIA (gr) (° (gr))\",\n",
        "            \"VENTO, RAJADA MAXIMA (m/s)\",\n",
        "            \"VENTO, VELOCIDADE HORARIA (m/s)\")\n",
        "\n",
        "column_filter = function(data) {\n",
        "  return(data %>%\n",
        "  select(all_of(numeric_columns)))\n",
        "}"
      ],
      "metadata": {
        "id": "D2MWZCF5Y6R_"
      },
      "execution_count": null,
      "outputs": []
    },
    {
      "cell_type": "markdown",
      "source": [
        "# Item 1"
      ],
      "metadata": {
        "id": "875hzSfkRjtL"
      }
    },
    {
      "cell_type": "markdown",
      "source": [
        "## All Rows From Trimester Semester"
      ],
      "metadata": {
        "id": "kxIV03hiW0T8"
      }
    },
    {
      "cell_type": "code",
      "source": [
        "# Filtering rows from first trimester\n",
        "data1_item1a <- data1 %>%\n",
        "  filter(format(Data, \"%m\") %in% c(\"01\", \"02\", \"03\"))\n",
        "\n",
        "head(column_filter(data1_item1a))"
      ],
      "metadata": {
        "colab": {
          "base_uri": "https://localhost:8080/",
          "height": 393
        },
        "id": "NOWNSGdlRkz3",
        "outputId": "dff14c86-8fae-4c9c-f2bd-c8d900639975"
      },
      "execution_count": null,
      "outputs": [
        {
          "output_type": "display_data",
          "data": {
            "text/html": [
              "<table class=\"dataframe\">\n",
              "<caption>A data.frame: 6 × 10</caption>\n",
              "<thead>\n",
              "\t<tr><th></th><th scope=col>PRECIPITAÇÃO TOTAL, HORÁRIO (mm)</th><th scope=col>PRESSAO ATMOSFERICA AO NIVEL DA ESTACAO, HORARIA (mB)</th><th scope=col>PRESSÃO ATMOSFERICA MAX.NA HORA ANT. (AUT) (mB)</th><th scope=col>PRESSÃO ATMOSFERICA MIN. NA HORA ANT. (AUT) (mB)</th><th scope=col>TEMPERATURA DO AR - BULBO SECO, HORARIA (°C)</th><th scope=col>TEMPERATURA MÁXIMA NA HORA ANT. (AUT) (°C)</th><th scope=col>TEMPERATURA MÍNIMA NA HORA ANT. (AUT) (°C)</th><th scope=col>VENTO, DIREÇÃO HORARIA (gr) (° (gr))</th><th scope=col>VENTO, RAJADA MAXIMA (m/s)</th><th scope=col>VENTO, VELOCIDADE HORARIA (m/s)</th></tr>\n",
              "\t<tr><th></th><th scope=col>&lt;dbl&gt;</th><th scope=col>&lt;dbl&gt;</th><th scope=col>&lt;dbl&gt;</th><th scope=col>&lt;dbl&gt;</th><th scope=col>&lt;dbl&gt;</th><th scope=col>&lt;dbl&gt;</th><th scope=col>&lt;dbl&gt;</th><th scope=col>&lt;int&gt;</th><th scope=col>&lt;dbl&gt;</th><th scope=col>&lt;dbl&gt;</th></tr>\n",
              "</thead>\n",
              "<tbody>\n",
              "\t<tr><th scope=row>1</th><td>0.0</td><td>1007.4</td><td>1007.4</td><td>1006.7</td><td>23.1</td><td>23.3</td><td>22.9</td><td>334</td><td>2.3</td><td>1.5</td></tr>\n",
              "\t<tr><th scope=row>2</th><td>0.2</td><td>1007.8</td><td>1007.9</td><td>1007.4</td><td>23.0</td><td>23.2</td><td>22.7</td><td>359</td><td>2.0</td><td>0.8</td></tr>\n",
              "\t<tr><th scope=row>3</th><td>0.0</td><td>1007.6</td><td>1007.9</td><td>1007.6</td><td>22.9</td><td>23.3</td><td>22.8</td><td>136</td><td>1.8</td><td>0.3</td></tr>\n",
              "\t<tr><th scope=row>4</th><td>0.0</td><td>1006.7</td><td>1007.6</td><td>1006.7</td><td>23.3</td><td>23.3</td><td>22.8</td><td>133</td><td>3.0</td><td>1.9</td></tr>\n",
              "\t<tr><th scope=row>5</th><td>0.0</td><td>1006.7</td><td>1006.7</td><td>1006.5</td><td>23.1</td><td>23.4</td><td>22.9</td><td>282</td><td>4.2</td><td>3.0</td></tr>\n",
              "\t<tr><th scope=row>6</th><td>0.6</td><td>1006.6</td><td>1007.0</td><td>1006.6</td><td>22.8</td><td>23.4</td><td>22.8</td><td> 54</td><td>4.6</td><td>1.8</td></tr>\n",
              "</tbody>\n",
              "</table>\n"
            ],
            "text/markdown": "\nA data.frame: 6 × 10\n\n| <!--/--> | PRECIPITAÇÃO TOTAL, HORÁRIO (mm) &lt;dbl&gt; | PRESSAO ATMOSFERICA AO NIVEL DA ESTACAO, HORARIA (mB) &lt;dbl&gt; | PRESSÃO ATMOSFERICA MAX.NA HORA ANT. (AUT) (mB) &lt;dbl&gt; | PRESSÃO ATMOSFERICA MIN. NA HORA ANT. (AUT) (mB) &lt;dbl&gt; | TEMPERATURA DO AR - BULBO SECO, HORARIA (°C) &lt;dbl&gt; | TEMPERATURA MÁXIMA NA HORA ANT. (AUT) (°C) &lt;dbl&gt; | TEMPERATURA MÍNIMA NA HORA ANT. (AUT) (°C) &lt;dbl&gt; | VENTO, DIREÇÃO HORARIA (gr) (° (gr)) &lt;int&gt; | VENTO, RAJADA MAXIMA (m/s) &lt;dbl&gt; | VENTO, VELOCIDADE HORARIA (m/s) &lt;dbl&gt; |\n|---|---|---|---|---|---|---|---|---|---|---|\n| 1 | 0.0 | 1007.4 | 1007.4 | 1006.7 | 23.1 | 23.3 | 22.9 | 334 | 2.3 | 1.5 |\n| 2 | 0.2 | 1007.8 | 1007.9 | 1007.4 | 23.0 | 23.2 | 22.7 | 359 | 2.0 | 0.8 |\n| 3 | 0.0 | 1007.6 | 1007.9 | 1007.6 | 22.9 | 23.3 | 22.8 | 136 | 1.8 | 0.3 |\n| 4 | 0.0 | 1006.7 | 1007.6 | 1006.7 | 23.3 | 23.3 | 22.8 | 133 | 3.0 | 1.9 |\n| 5 | 0.0 | 1006.7 | 1006.7 | 1006.5 | 23.1 | 23.4 | 22.9 | 282 | 4.2 | 3.0 |\n| 6 | 0.6 | 1006.6 | 1007.0 | 1006.6 | 22.8 | 23.4 | 22.8 |  54 | 4.6 | 1.8 |\n\n",
            "text/latex": "A data.frame: 6 × 10\n\\begin{tabular}{r|llllllllll}\n  & PRECIPITAÇÃO TOTAL, HORÁRIO (mm) & PRESSAO ATMOSFERICA AO NIVEL DA ESTACAO, HORARIA (mB) & PRESSÃO ATMOSFERICA MAX.NA HORA ANT. (AUT) (mB) & PRESSÃO ATMOSFERICA MIN. NA HORA ANT. (AUT) (mB) & TEMPERATURA DO AR - BULBO SECO, HORARIA (°C) & TEMPERATURA MÁXIMA NA HORA ANT. (AUT) (°C) & TEMPERATURA MÍNIMA NA HORA ANT. (AUT) (°C) & VENTO, DIREÇÃO HORARIA (gr) (° (gr)) & VENTO, RAJADA MAXIMA (m/s) & VENTO, VELOCIDADE HORARIA (m/s)\\\\\n  & <dbl> & <dbl> & <dbl> & <dbl> & <dbl> & <dbl> & <dbl> & <int> & <dbl> & <dbl>\\\\\n\\hline\n\t1 & 0.0 & 1007.4 & 1007.4 & 1006.7 & 23.1 & 23.3 & 22.9 & 334 & 2.3 & 1.5\\\\\n\t2 & 0.2 & 1007.8 & 1007.9 & 1007.4 & 23.0 & 23.2 & 22.7 & 359 & 2.0 & 0.8\\\\\n\t3 & 0.0 & 1007.6 & 1007.9 & 1007.6 & 22.9 & 23.3 & 22.8 & 136 & 1.8 & 0.3\\\\\n\t4 & 0.0 & 1006.7 & 1007.6 & 1006.7 & 23.3 & 23.3 & 22.8 & 133 & 3.0 & 1.9\\\\\n\t5 & 0.0 & 1006.7 & 1006.7 & 1006.5 & 23.1 & 23.4 & 22.9 & 282 & 4.2 & 3.0\\\\\n\t6 & 0.6 & 1006.6 & 1007.0 & 1006.6 & 22.8 & 23.4 & 22.8 &  54 & 4.6 & 1.8\\\\\n\\end{tabular}\n",
            "text/plain": [
              "  PRECIPITAÇÃO TOTAL, HORÁRIO (mm)\n",
              "1 0.0                             \n",
              "2 0.2                             \n",
              "3 0.0                             \n",
              "4 0.0                             \n",
              "5 0.0                             \n",
              "6 0.6                             \n",
              "  PRESSAO ATMOSFERICA AO NIVEL DA ESTACAO, HORARIA (mB)\n",
              "1 1007.4                                               \n",
              "2 1007.8                                               \n",
              "3 1007.6                                               \n",
              "4 1006.7                                               \n",
              "5 1006.7                                               \n",
              "6 1006.6                                               \n",
              "  PRESSÃO ATMOSFERICA MAX.NA HORA ANT. (AUT) (mB)\n",
              "1 1007.4                                         \n",
              "2 1007.9                                         \n",
              "3 1007.9                                         \n",
              "4 1007.6                                         \n",
              "5 1006.7                                         \n",
              "6 1007.0                                         \n",
              "  PRESSÃO ATMOSFERICA MIN. NA HORA ANT. (AUT) (mB)\n",
              "1 1006.7                                          \n",
              "2 1007.4                                          \n",
              "3 1007.6                                          \n",
              "4 1006.7                                          \n",
              "5 1006.5                                          \n",
              "6 1006.6                                          \n",
              "  TEMPERATURA DO AR - BULBO SECO, HORARIA (°C)\n",
              "1 23.1                                        \n",
              "2 23.0                                        \n",
              "3 22.9                                        \n",
              "4 23.3                                        \n",
              "5 23.1                                        \n",
              "6 22.8                                        \n",
              "  TEMPERATURA MÁXIMA NA HORA ANT. (AUT) (°C)\n",
              "1 23.3                                      \n",
              "2 23.2                                      \n",
              "3 23.3                                      \n",
              "4 23.3                                      \n",
              "5 23.4                                      \n",
              "6 23.4                                      \n",
              "  TEMPERATURA MÍNIMA NA HORA ANT. (AUT) (°C)\n",
              "1 22.9                                      \n",
              "2 22.7                                      \n",
              "3 22.8                                      \n",
              "4 22.8                                      \n",
              "5 22.9                                      \n",
              "6 22.8                                      \n",
              "  VENTO, DIREÇÃO HORARIA (gr) (° (gr)) VENTO, RAJADA MAXIMA (m/s)\n",
              "1 334                                  2.3                       \n",
              "2 359                                  2.0                       \n",
              "3 136                                  1.8                       \n",
              "4 133                                  3.0                       \n",
              "5 282                                  4.2                       \n",
              "6  54                                  4.6                       \n",
              "  VENTO, VELOCIDADE HORARIA (m/s)\n",
              "1 1.5                            \n",
              "2 0.8                            \n",
              "3 0.3                            \n",
              "4 1.9                            \n",
              "5 3.0                            \n",
              "6 1.8                            "
            ]
          },
          "metadata": {}
        }
      ]
    },
    {
      "cell_type": "code",
      "source": [
        "# Filtering rows from first trimester\n",
        "data2_item1a <- data2 %>%\n",
        "  filter(format(Data, \"%m\") %in% c(\"01\", \"02\", \"03\"))\n",
        "\n",
        "head(column_filter(data2_item1a))"
      ],
      "metadata": {
        "colab": {
          "base_uri": "https://localhost:8080/",
          "height": 393
        },
        "id": "qRgKZrU5ZeZN",
        "outputId": "1a7694e2-c228-4600-da62-53ed55ebf520"
      },
      "execution_count": null,
      "outputs": [
        {
          "output_type": "display_data",
          "data": {
            "text/html": [
              "<table class=\"dataframe\">\n",
              "<caption>A data.frame: 6 × 10</caption>\n",
              "<thead>\n",
              "\t<tr><th></th><th scope=col>PRECIPITAÇÃO TOTAL, HORÁRIO (mm)</th><th scope=col>PRESSAO ATMOSFERICA AO NIVEL DA ESTACAO, HORARIA (mB)</th><th scope=col>PRESSÃO ATMOSFERICA MAX.NA HORA ANT. (AUT) (mB)</th><th scope=col>PRESSÃO ATMOSFERICA MIN. NA HORA ANT. (AUT) (mB)</th><th scope=col>TEMPERATURA DO AR - BULBO SECO, HORARIA (°C)</th><th scope=col>TEMPERATURA MÁXIMA NA HORA ANT. (AUT) (°C)</th><th scope=col>TEMPERATURA MÍNIMA NA HORA ANT. (AUT) (°C)</th><th scope=col>VENTO, DIREÇÃO HORARIA (gr) (° (gr))</th><th scope=col>VENTO, RAJADA MAXIMA (m/s)</th><th scope=col>VENTO, VELOCIDADE HORARIA (m/s)</th></tr>\n",
              "\t<tr><th></th><th scope=col>&lt;dbl&gt;</th><th scope=col>&lt;dbl&gt;</th><th scope=col>&lt;dbl&gt;</th><th scope=col>&lt;dbl&gt;</th><th scope=col>&lt;dbl&gt;</th><th scope=col>&lt;dbl&gt;</th><th scope=col>&lt;dbl&gt;</th><th scope=col>&lt;int&gt;</th><th scope=col>&lt;dbl&gt;</th><th scope=col>&lt;dbl&gt;</th></tr>\n",
              "</thead>\n",
              "<tbody>\n",
              "\t<tr><th scope=row>1</th><td>0</td><td>1014.4</td><td>1014.5</td><td>1013.7</td><td>23.0</td><td>23.0</td><td>21.9</td><td>343</td><td>2.9</td><td>1.8</td></tr>\n",
              "\t<tr><th scope=row>2</th><td>0</td><td>1014.4</td><td>1014.6</td><td>1014.3</td><td>22.6</td><td>23.5</td><td>22.6</td><td>257</td><td>4.6</td><td>0.9</td></tr>\n",
              "\t<tr><th scope=row>3</th><td>0</td><td>1013.5</td><td>1014.4</td><td>1013.4</td><td>23.1</td><td>23.2</td><td>22.6</td><td>  8</td><td>3.5</td><td>1.7</td></tr>\n",
              "\t<tr><th scope=row>4</th><td>0</td><td>1012.8</td><td>1013.6</td><td>1012.8</td><td>22.8</td><td>23.1</td><td>22.6</td><td> 35</td><td>3.2</td><td>2.2</td></tr>\n",
              "\t<tr><th scope=row>5</th><td>0</td><td>1012.1</td><td>1012.8</td><td>1012.1</td><td>22.5</td><td>23.1</td><td>22.5</td><td> 59</td><td>3.3</td><td>1.7</td></tr>\n",
              "\t<tr><th scope=row>6</th><td>0</td><td>1011.7</td><td>1012.1</td><td>1011.7</td><td>21.4</td><td>22.6</td><td>21.2</td><td>121</td><td>3.1</td><td>1.7</td></tr>\n",
              "</tbody>\n",
              "</table>\n"
            ],
            "text/markdown": "\nA data.frame: 6 × 10\n\n| <!--/--> | PRECIPITAÇÃO TOTAL, HORÁRIO (mm) &lt;dbl&gt; | PRESSAO ATMOSFERICA AO NIVEL DA ESTACAO, HORARIA (mB) &lt;dbl&gt; | PRESSÃO ATMOSFERICA MAX.NA HORA ANT. (AUT) (mB) &lt;dbl&gt; | PRESSÃO ATMOSFERICA MIN. NA HORA ANT. (AUT) (mB) &lt;dbl&gt; | TEMPERATURA DO AR - BULBO SECO, HORARIA (°C) &lt;dbl&gt; | TEMPERATURA MÁXIMA NA HORA ANT. (AUT) (°C) &lt;dbl&gt; | TEMPERATURA MÍNIMA NA HORA ANT. (AUT) (°C) &lt;dbl&gt; | VENTO, DIREÇÃO HORARIA (gr) (° (gr)) &lt;int&gt; | VENTO, RAJADA MAXIMA (m/s) &lt;dbl&gt; | VENTO, VELOCIDADE HORARIA (m/s) &lt;dbl&gt; |\n|---|---|---|---|---|---|---|---|---|---|---|\n| 1 | 0 | 1014.4 | 1014.5 | 1013.7 | 23.0 | 23.0 | 21.9 | 343 | 2.9 | 1.8 |\n| 2 | 0 | 1014.4 | 1014.6 | 1014.3 | 22.6 | 23.5 | 22.6 | 257 | 4.6 | 0.9 |\n| 3 | 0 | 1013.5 | 1014.4 | 1013.4 | 23.1 | 23.2 | 22.6 |   8 | 3.5 | 1.7 |\n| 4 | 0 | 1012.8 | 1013.6 | 1012.8 | 22.8 | 23.1 | 22.6 |  35 | 3.2 | 2.2 |\n| 5 | 0 | 1012.1 | 1012.8 | 1012.1 | 22.5 | 23.1 | 22.5 |  59 | 3.3 | 1.7 |\n| 6 | 0 | 1011.7 | 1012.1 | 1011.7 | 21.4 | 22.6 | 21.2 | 121 | 3.1 | 1.7 |\n\n",
            "text/latex": "A data.frame: 6 × 10\n\\begin{tabular}{r|llllllllll}\n  & PRECIPITAÇÃO TOTAL, HORÁRIO (mm) & PRESSAO ATMOSFERICA AO NIVEL DA ESTACAO, HORARIA (mB) & PRESSÃO ATMOSFERICA MAX.NA HORA ANT. (AUT) (mB) & PRESSÃO ATMOSFERICA MIN. NA HORA ANT. (AUT) (mB) & TEMPERATURA DO AR - BULBO SECO, HORARIA (°C) & TEMPERATURA MÁXIMA NA HORA ANT. (AUT) (°C) & TEMPERATURA MÍNIMA NA HORA ANT. (AUT) (°C) & VENTO, DIREÇÃO HORARIA (gr) (° (gr)) & VENTO, RAJADA MAXIMA (m/s) & VENTO, VELOCIDADE HORARIA (m/s)\\\\\n  & <dbl> & <dbl> & <dbl> & <dbl> & <dbl> & <dbl> & <dbl> & <int> & <dbl> & <dbl>\\\\\n\\hline\n\t1 & 0 & 1014.4 & 1014.5 & 1013.7 & 23.0 & 23.0 & 21.9 & 343 & 2.9 & 1.8\\\\\n\t2 & 0 & 1014.4 & 1014.6 & 1014.3 & 22.6 & 23.5 & 22.6 & 257 & 4.6 & 0.9\\\\\n\t3 & 0 & 1013.5 & 1014.4 & 1013.4 & 23.1 & 23.2 & 22.6 &   8 & 3.5 & 1.7\\\\\n\t4 & 0 & 1012.8 & 1013.6 & 1012.8 & 22.8 & 23.1 & 22.6 &  35 & 3.2 & 2.2\\\\\n\t5 & 0 & 1012.1 & 1012.8 & 1012.1 & 22.5 & 23.1 & 22.5 &  59 & 3.3 & 1.7\\\\\n\t6 & 0 & 1011.7 & 1012.1 & 1011.7 & 21.4 & 22.6 & 21.2 & 121 & 3.1 & 1.7\\\\\n\\end{tabular}\n",
            "text/plain": [
              "  PRECIPITAÇÃO TOTAL, HORÁRIO (mm)\n",
              "1 0                               \n",
              "2 0                               \n",
              "3 0                               \n",
              "4 0                               \n",
              "5 0                               \n",
              "6 0                               \n",
              "  PRESSAO ATMOSFERICA AO NIVEL DA ESTACAO, HORARIA (mB)\n",
              "1 1014.4                                               \n",
              "2 1014.4                                               \n",
              "3 1013.5                                               \n",
              "4 1012.8                                               \n",
              "5 1012.1                                               \n",
              "6 1011.7                                               \n",
              "  PRESSÃO ATMOSFERICA MAX.NA HORA ANT. (AUT) (mB)\n",
              "1 1014.5                                         \n",
              "2 1014.6                                         \n",
              "3 1014.4                                         \n",
              "4 1013.6                                         \n",
              "5 1012.8                                         \n",
              "6 1012.1                                         \n",
              "  PRESSÃO ATMOSFERICA MIN. NA HORA ANT. (AUT) (mB)\n",
              "1 1013.7                                          \n",
              "2 1014.3                                          \n",
              "3 1013.4                                          \n",
              "4 1012.8                                          \n",
              "5 1012.1                                          \n",
              "6 1011.7                                          \n",
              "  TEMPERATURA DO AR - BULBO SECO, HORARIA (°C)\n",
              "1 23.0                                        \n",
              "2 22.6                                        \n",
              "3 23.1                                        \n",
              "4 22.8                                        \n",
              "5 22.5                                        \n",
              "6 21.4                                        \n",
              "  TEMPERATURA MÁXIMA NA HORA ANT. (AUT) (°C)\n",
              "1 23.0                                      \n",
              "2 23.5                                      \n",
              "3 23.2                                      \n",
              "4 23.1                                      \n",
              "5 23.1                                      \n",
              "6 22.6                                      \n",
              "  TEMPERATURA MÍNIMA NA HORA ANT. (AUT) (°C)\n",
              "1 21.9                                      \n",
              "2 22.6                                      \n",
              "3 22.6                                      \n",
              "4 22.6                                      \n",
              "5 22.5                                      \n",
              "6 21.2                                      \n",
              "  VENTO, DIREÇÃO HORARIA (gr) (° (gr)) VENTO, RAJADA MAXIMA (m/s)\n",
              "1 343                                  2.9                       \n",
              "2 257                                  4.6                       \n",
              "3   8                                  3.5                       \n",
              "4  35                                  3.2                       \n",
              "5  59                                  3.3                       \n",
              "6 121                                  3.1                       \n",
              "  VENTO, VELOCIDADE HORARIA (m/s)\n",
              "1 1.8                            \n",
              "2 0.9                            \n",
              "3 1.7                            \n",
              "4 2.2                            \n",
              "5 1.7                            \n",
              "6 1.7                            "
            ]
          },
          "metadata": {}
        }
      ]
    },
    {
      "cell_type": "markdown",
      "source": [
        "## All Rows From Second Trimester"
      ],
      "metadata": {
        "id": "4IfKwndOZSJi"
      }
    },
    {
      "cell_type": "code",
      "source": [
        "# Filtering rows from second trimester\n",
        "data1_item1b <- data1 %>%\n",
        "  filter(format(Data, \"%m\") %in% c(\"04\", \"05\", \"06\"))\n",
        "\n",
        "head(column_filter(data1_item1b))"
      ],
      "metadata": {
        "colab": {
          "base_uri": "https://localhost:8080/",
          "height": 393
        },
        "id": "uIx9wEMyZT5M",
        "outputId": "211f5ea2-9e40-47fd-a864-6ae9a07d5a9c"
      },
      "execution_count": null,
      "outputs": [
        {
          "output_type": "display_data",
          "data": {
            "text/html": [
              "<table class=\"dataframe\">\n",
              "<caption>A data.frame: 6 × 10</caption>\n",
              "<thead>\n",
              "\t<tr><th></th><th scope=col>PRECIPITAÇÃO TOTAL, HORÁRIO (mm)</th><th scope=col>PRESSAO ATMOSFERICA AO NIVEL DA ESTACAO, HORARIA (mB)</th><th scope=col>PRESSÃO ATMOSFERICA MAX.NA HORA ANT. (AUT) (mB)</th><th scope=col>PRESSÃO ATMOSFERICA MIN. NA HORA ANT. (AUT) (mB)</th><th scope=col>TEMPERATURA DO AR - BULBO SECO, HORARIA (°C)</th><th scope=col>TEMPERATURA MÁXIMA NA HORA ANT. (AUT) (°C)</th><th scope=col>TEMPERATURA MÍNIMA NA HORA ANT. (AUT) (°C)</th><th scope=col>VENTO, DIREÇÃO HORARIA (gr) (° (gr))</th><th scope=col>VENTO, RAJADA MAXIMA (m/s)</th><th scope=col>VENTO, VELOCIDADE HORARIA (m/s)</th></tr>\n",
              "\t<tr><th></th><th scope=col>&lt;dbl&gt;</th><th scope=col>&lt;dbl&gt;</th><th scope=col>&lt;dbl&gt;</th><th scope=col>&lt;dbl&gt;</th><th scope=col>&lt;dbl&gt;</th><th scope=col>&lt;dbl&gt;</th><th scope=col>&lt;dbl&gt;</th><th scope=col>&lt;int&gt;</th><th scope=col>&lt;dbl&gt;</th><th scope=col>&lt;dbl&gt;</th></tr>\n",
              "</thead>\n",
              "<tbody>\n",
              "\t<tr><th scope=row>1</th><td> 2.0</td><td>1014.7</td><td>1014.7</td><td>1013.2</td><td>24.3</td><td>24.3</td><td>23.4</td><td> 63</td><td> 8.9</td><td>2.9</td></tr>\n",
              "\t<tr><th scope=row>2</th><td>48.0</td><td>1014.7</td><td>1015.0</td><td>1014.6</td><td>23.3</td><td>24.4</td><td>23.3</td><td>217</td><td> 9.4</td><td>7.1</td></tr>\n",
              "\t<tr><th scope=row>3</th><td>97.2</td><td>1015.2</td><td>1015.4</td><td>1014.7</td><td>23.2</td><td>23.4</td><td>23.1</td><td>176</td><td>15.1</td><td>9.8</td></tr>\n",
              "\t<tr><th scope=row>4</th><td>38.6</td><td>1015.1</td><td>1015.3</td><td>1014.6</td><td>22.8</td><td>23.5</td><td>22.7</td><td>154</td><td>15.1</td><td>9.7</td></tr>\n",
              "\t<tr><th scope=row>5</th><td>14.0</td><td>1014.1</td><td>1015.2</td><td>1014.0</td><td>22.6</td><td>22.8</td><td>22.0</td><td>100</td><td>12.6</td><td>5.7</td></tr>\n",
              "\t<tr><th scope=row>6</th><td> 2.4</td><td>1014.1</td><td>1014.3</td><td>1013.9</td><td>22.5</td><td>22.8</td><td>22.5</td><td> 88</td><td> 9.4</td><td>3.7</td></tr>\n",
              "</tbody>\n",
              "</table>\n"
            ],
            "text/markdown": "\nA data.frame: 6 × 10\n\n| <!--/--> | PRECIPITAÇÃO TOTAL, HORÁRIO (mm) &lt;dbl&gt; | PRESSAO ATMOSFERICA AO NIVEL DA ESTACAO, HORARIA (mB) &lt;dbl&gt; | PRESSÃO ATMOSFERICA MAX.NA HORA ANT. (AUT) (mB) &lt;dbl&gt; | PRESSÃO ATMOSFERICA MIN. NA HORA ANT. (AUT) (mB) &lt;dbl&gt; | TEMPERATURA DO AR - BULBO SECO, HORARIA (°C) &lt;dbl&gt; | TEMPERATURA MÁXIMA NA HORA ANT. (AUT) (°C) &lt;dbl&gt; | TEMPERATURA MÍNIMA NA HORA ANT. (AUT) (°C) &lt;dbl&gt; | VENTO, DIREÇÃO HORARIA (gr) (° (gr)) &lt;int&gt; | VENTO, RAJADA MAXIMA (m/s) &lt;dbl&gt; | VENTO, VELOCIDADE HORARIA (m/s) &lt;dbl&gt; |\n|---|---|---|---|---|---|---|---|---|---|---|\n| 1 |  2.0 | 1014.7 | 1014.7 | 1013.2 | 24.3 | 24.3 | 23.4 |  63 |  8.9 | 2.9 |\n| 2 | 48.0 | 1014.7 | 1015.0 | 1014.6 | 23.3 | 24.4 | 23.3 | 217 |  9.4 | 7.1 |\n| 3 | 97.2 | 1015.2 | 1015.4 | 1014.7 | 23.2 | 23.4 | 23.1 | 176 | 15.1 | 9.8 |\n| 4 | 38.6 | 1015.1 | 1015.3 | 1014.6 | 22.8 | 23.5 | 22.7 | 154 | 15.1 | 9.7 |\n| 5 | 14.0 | 1014.1 | 1015.2 | 1014.0 | 22.6 | 22.8 | 22.0 | 100 | 12.6 | 5.7 |\n| 6 |  2.4 | 1014.1 | 1014.3 | 1013.9 | 22.5 | 22.8 | 22.5 |  88 |  9.4 | 3.7 |\n\n",
            "text/latex": "A data.frame: 6 × 10\n\\begin{tabular}{r|llllllllll}\n  & PRECIPITAÇÃO TOTAL, HORÁRIO (mm) & PRESSAO ATMOSFERICA AO NIVEL DA ESTACAO, HORARIA (mB) & PRESSÃO ATMOSFERICA MAX.NA HORA ANT. (AUT) (mB) & PRESSÃO ATMOSFERICA MIN. NA HORA ANT. (AUT) (mB) & TEMPERATURA DO AR - BULBO SECO, HORARIA (°C) & TEMPERATURA MÁXIMA NA HORA ANT. (AUT) (°C) & TEMPERATURA MÍNIMA NA HORA ANT. (AUT) (°C) & VENTO, DIREÇÃO HORARIA (gr) (° (gr)) & VENTO, RAJADA MAXIMA (m/s) & VENTO, VELOCIDADE HORARIA (m/s)\\\\\n  & <dbl> & <dbl> & <dbl> & <dbl> & <dbl> & <dbl> & <dbl> & <int> & <dbl> & <dbl>\\\\\n\\hline\n\t1 &  2.0 & 1014.7 & 1014.7 & 1013.2 & 24.3 & 24.3 & 23.4 &  63 &  8.9 & 2.9\\\\\n\t2 & 48.0 & 1014.7 & 1015.0 & 1014.6 & 23.3 & 24.4 & 23.3 & 217 &  9.4 & 7.1\\\\\n\t3 & 97.2 & 1015.2 & 1015.4 & 1014.7 & 23.2 & 23.4 & 23.1 & 176 & 15.1 & 9.8\\\\\n\t4 & 38.6 & 1015.1 & 1015.3 & 1014.6 & 22.8 & 23.5 & 22.7 & 154 & 15.1 & 9.7\\\\\n\t5 & 14.0 & 1014.1 & 1015.2 & 1014.0 & 22.6 & 22.8 & 22.0 & 100 & 12.6 & 5.7\\\\\n\t6 &  2.4 & 1014.1 & 1014.3 & 1013.9 & 22.5 & 22.8 & 22.5 &  88 &  9.4 & 3.7\\\\\n\\end{tabular}\n",
            "text/plain": [
              "  PRECIPITAÇÃO TOTAL, HORÁRIO (mm)\n",
              "1  2.0                            \n",
              "2 48.0                            \n",
              "3 97.2                            \n",
              "4 38.6                            \n",
              "5 14.0                            \n",
              "6  2.4                            \n",
              "  PRESSAO ATMOSFERICA AO NIVEL DA ESTACAO, HORARIA (mB)\n",
              "1 1014.7                                               \n",
              "2 1014.7                                               \n",
              "3 1015.2                                               \n",
              "4 1015.1                                               \n",
              "5 1014.1                                               \n",
              "6 1014.1                                               \n",
              "  PRESSÃO ATMOSFERICA MAX.NA HORA ANT. (AUT) (mB)\n",
              "1 1014.7                                         \n",
              "2 1015.0                                         \n",
              "3 1015.4                                         \n",
              "4 1015.3                                         \n",
              "5 1015.2                                         \n",
              "6 1014.3                                         \n",
              "  PRESSÃO ATMOSFERICA MIN. NA HORA ANT. (AUT) (mB)\n",
              "1 1013.2                                          \n",
              "2 1014.6                                          \n",
              "3 1014.7                                          \n",
              "4 1014.6                                          \n",
              "5 1014.0                                          \n",
              "6 1013.9                                          \n",
              "  TEMPERATURA DO AR - BULBO SECO, HORARIA (°C)\n",
              "1 24.3                                        \n",
              "2 23.3                                        \n",
              "3 23.2                                        \n",
              "4 22.8                                        \n",
              "5 22.6                                        \n",
              "6 22.5                                        \n",
              "  TEMPERATURA MÁXIMA NA HORA ANT. (AUT) (°C)\n",
              "1 24.3                                      \n",
              "2 24.4                                      \n",
              "3 23.4                                      \n",
              "4 23.5                                      \n",
              "5 22.8                                      \n",
              "6 22.8                                      \n",
              "  TEMPERATURA MÍNIMA NA HORA ANT. (AUT) (°C)\n",
              "1 23.4                                      \n",
              "2 23.3                                      \n",
              "3 23.1                                      \n",
              "4 22.7                                      \n",
              "5 22.0                                      \n",
              "6 22.5                                      \n",
              "  VENTO, DIREÇÃO HORARIA (gr) (° (gr)) VENTO, RAJADA MAXIMA (m/s)\n",
              "1  63                                   8.9                      \n",
              "2 217                                   9.4                      \n",
              "3 176                                  15.1                      \n",
              "4 154                                  15.1                      \n",
              "5 100                                  12.6                      \n",
              "6  88                                   9.4                      \n",
              "  VENTO, VELOCIDADE HORARIA (m/s)\n",
              "1 2.9                            \n",
              "2 7.1                            \n",
              "3 9.8                            \n",
              "4 9.7                            \n",
              "5 5.7                            \n",
              "6 3.7                            "
            ]
          },
          "metadata": {}
        }
      ]
    },
    {
      "cell_type": "code",
      "source": [
        "# Filtering rows from second trimester\n",
        "data2_item1b <- data2 %>%\n",
        "  filter(format(Data, \"%m\") %in% c(\"04\", \"05\", \"06\"))\n",
        "\n",
        "head(column_filter(data2_item1b))"
      ],
      "metadata": {
        "colab": {
          "base_uri": "https://localhost:8080/",
          "height": 393
        },
        "id": "8Ov8NHoqZilN",
        "outputId": "51cfef28-559a-4a5f-c4e2-04b035ed206a"
      },
      "execution_count": null,
      "outputs": [
        {
          "output_type": "display_data",
          "data": {
            "text/html": [
              "<table class=\"dataframe\">\n",
              "<caption>A data.frame: 6 × 10</caption>\n",
              "<thead>\n",
              "\t<tr><th></th><th scope=col>PRECIPITAÇÃO TOTAL, HORÁRIO (mm)</th><th scope=col>PRESSAO ATMOSFERICA AO NIVEL DA ESTACAO, HORARIA (mB)</th><th scope=col>PRESSÃO ATMOSFERICA MAX.NA HORA ANT. (AUT) (mB)</th><th scope=col>PRESSÃO ATMOSFERICA MIN. NA HORA ANT. (AUT) (mB)</th><th scope=col>TEMPERATURA DO AR - BULBO SECO, HORARIA (°C)</th><th scope=col>TEMPERATURA MÁXIMA NA HORA ANT. (AUT) (°C)</th><th scope=col>TEMPERATURA MÍNIMA NA HORA ANT. (AUT) (°C)</th><th scope=col>VENTO, DIREÇÃO HORARIA (gr) (° (gr))</th><th scope=col>VENTO, RAJADA MAXIMA (m/s)</th><th scope=col>VENTO, VELOCIDADE HORARIA (m/s)</th></tr>\n",
              "\t<tr><th></th><th scope=col>&lt;dbl&gt;</th><th scope=col>&lt;dbl&gt;</th><th scope=col>&lt;dbl&gt;</th><th scope=col>&lt;dbl&gt;</th><th scope=col>&lt;dbl&gt;</th><th scope=col>&lt;dbl&gt;</th><th scope=col>&lt;dbl&gt;</th><th scope=col>&lt;int&gt;</th><th scope=col>&lt;dbl&gt;</th><th scope=col>&lt;dbl&gt;</th></tr>\n",
              "</thead>\n",
              "<tbody>\n",
              "\t<tr><th scope=row>1</th><td>0</td><td>1011.8</td><td>1012.2</td><td>1011.8</td><td>23.9</td><td>25.2</td><td>23.9</td><td> 27</td><td>7.7</td><td>3.3</td></tr>\n",
              "\t<tr><th scope=row>2</th><td>0</td><td>1012.3</td><td>1012.3</td><td>1011.8</td><td>23.4</td><td>23.9</td><td>23.4</td><td>349</td><td>5.5</td><td>3.0</td></tr>\n",
              "\t<tr><th scope=row>3</th><td>0</td><td>1012.4</td><td>1012.5</td><td>1012.2</td><td>23.1</td><td>23.5</td><td>23.1</td><td>  2</td><td>5.8</td><td>2.6</td></tr>\n",
              "\t<tr><th scope=row>4</th><td>0</td><td>1011.9</td><td>1012.4</td><td>1011.9</td><td>23.2</td><td>23.2</td><td>23.1</td><td> 11</td><td>4.5</td><td>2.8</td></tr>\n",
              "\t<tr><th scope=row>5</th><td>0</td><td>1011.2</td><td>1011.9</td><td>1011.2</td><td>23.0</td><td>23.2</td><td>23.0</td><td> 19</td><td>4.7</td><td>2.9</td></tr>\n",
              "\t<tr><th scope=row>6</th><td>0</td><td>1010.5</td><td>1011.3</td><td>1010.5</td><td>22.9</td><td>23.0</td><td>22.9</td><td> 23</td><td>4.5</td><td>2.9</td></tr>\n",
              "</tbody>\n",
              "</table>\n"
            ],
            "text/markdown": "\nA data.frame: 6 × 10\n\n| <!--/--> | PRECIPITAÇÃO TOTAL, HORÁRIO (mm) &lt;dbl&gt; | PRESSAO ATMOSFERICA AO NIVEL DA ESTACAO, HORARIA (mB) &lt;dbl&gt; | PRESSÃO ATMOSFERICA MAX.NA HORA ANT. (AUT) (mB) &lt;dbl&gt; | PRESSÃO ATMOSFERICA MIN. NA HORA ANT. (AUT) (mB) &lt;dbl&gt; | TEMPERATURA DO AR - BULBO SECO, HORARIA (°C) &lt;dbl&gt; | TEMPERATURA MÁXIMA NA HORA ANT. (AUT) (°C) &lt;dbl&gt; | TEMPERATURA MÍNIMA NA HORA ANT. (AUT) (°C) &lt;dbl&gt; | VENTO, DIREÇÃO HORARIA (gr) (° (gr)) &lt;int&gt; | VENTO, RAJADA MAXIMA (m/s) &lt;dbl&gt; | VENTO, VELOCIDADE HORARIA (m/s) &lt;dbl&gt; |\n|---|---|---|---|---|---|---|---|---|---|---|\n| 1 | 0 | 1011.8 | 1012.2 | 1011.8 | 23.9 | 25.2 | 23.9 |  27 | 7.7 | 3.3 |\n| 2 | 0 | 1012.3 | 1012.3 | 1011.8 | 23.4 | 23.9 | 23.4 | 349 | 5.5 | 3.0 |\n| 3 | 0 | 1012.4 | 1012.5 | 1012.2 | 23.1 | 23.5 | 23.1 |   2 | 5.8 | 2.6 |\n| 4 | 0 | 1011.9 | 1012.4 | 1011.9 | 23.2 | 23.2 | 23.1 |  11 | 4.5 | 2.8 |\n| 5 | 0 | 1011.2 | 1011.9 | 1011.2 | 23.0 | 23.2 | 23.0 |  19 | 4.7 | 2.9 |\n| 6 | 0 | 1010.5 | 1011.3 | 1010.5 | 22.9 | 23.0 | 22.9 |  23 | 4.5 | 2.9 |\n\n",
            "text/latex": "A data.frame: 6 × 10\n\\begin{tabular}{r|llllllllll}\n  & PRECIPITAÇÃO TOTAL, HORÁRIO (mm) & PRESSAO ATMOSFERICA AO NIVEL DA ESTACAO, HORARIA (mB) & PRESSÃO ATMOSFERICA MAX.NA HORA ANT. (AUT) (mB) & PRESSÃO ATMOSFERICA MIN. NA HORA ANT. (AUT) (mB) & TEMPERATURA DO AR - BULBO SECO, HORARIA (°C) & TEMPERATURA MÁXIMA NA HORA ANT. (AUT) (°C) & TEMPERATURA MÍNIMA NA HORA ANT. (AUT) (°C) & VENTO, DIREÇÃO HORARIA (gr) (° (gr)) & VENTO, RAJADA MAXIMA (m/s) & VENTO, VELOCIDADE HORARIA (m/s)\\\\\n  & <dbl> & <dbl> & <dbl> & <dbl> & <dbl> & <dbl> & <dbl> & <int> & <dbl> & <dbl>\\\\\n\\hline\n\t1 & 0 & 1011.8 & 1012.2 & 1011.8 & 23.9 & 25.2 & 23.9 &  27 & 7.7 & 3.3\\\\\n\t2 & 0 & 1012.3 & 1012.3 & 1011.8 & 23.4 & 23.9 & 23.4 & 349 & 5.5 & 3.0\\\\\n\t3 & 0 & 1012.4 & 1012.5 & 1012.2 & 23.1 & 23.5 & 23.1 &   2 & 5.8 & 2.6\\\\\n\t4 & 0 & 1011.9 & 1012.4 & 1011.9 & 23.2 & 23.2 & 23.1 &  11 & 4.5 & 2.8\\\\\n\t5 & 0 & 1011.2 & 1011.9 & 1011.2 & 23.0 & 23.2 & 23.0 &  19 & 4.7 & 2.9\\\\\n\t6 & 0 & 1010.5 & 1011.3 & 1010.5 & 22.9 & 23.0 & 22.9 &  23 & 4.5 & 2.9\\\\\n\\end{tabular}\n",
            "text/plain": [
              "  PRECIPITAÇÃO TOTAL, HORÁRIO (mm)\n",
              "1 0                               \n",
              "2 0                               \n",
              "3 0                               \n",
              "4 0                               \n",
              "5 0                               \n",
              "6 0                               \n",
              "  PRESSAO ATMOSFERICA AO NIVEL DA ESTACAO, HORARIA (mB)\n",
              "1 1011.8                                               \n",
              "2 1012.3                                               \n",
              "3 1012.4                                               \n",
              "4 1011.9                                               \n",
              "5 1011.2                                               \n",
              "6 1010.5                                               \n",
              "  PRESSÃO ATMOSFERICA MAX.NA HORA ANT. (AUT) (mB)\n",
              "1 1012.2                                         \n",
              "2 1012.3                                         \n",
              "3 1012.5                                         \n",
              "4 1012.4                                         \n",
              "5 1011.9                                         \n",
              "6 1011.3                                         \n",
              "  PRESSÃO ATMOSFERICA MIN. NA HORA ANT. (AUT) (mB)\n",
              "1 1011.8                                          \n",
              "2 1011.8                                          \n",
              "3 1012.2                                          \n",
              "4 1011.9                                          \n",
              "5 1011.2                                          \n",
              "6 1010.5                                          \n",
              "  TEMPERATURA DO AR - BULBO SECO, HORARIA (°C)\n",
              "1 23.9                                        \n",
              "2 23.4                                        \n",
              "3 23.1                                        \n",
              "4 23.2                                        \n",
              "5 23.0                                        \n",
              "6 22.9                                        \n",
              "  TEMPERATURA MÁXIMA NA HORA ANT. (AUT) (°C)\n",
              "1 25.2                                      \n",
              "2 23.9                                      \n",
              "3 23.5                                      \n",
              "4 23.2                                      \n",
              "5 23.2                                      \n",
              "6 23.0                                      \n",
              "  TEMPERATURA MÍNIMA NA HORA ANT. (AUT) (°C)\n",
              "1 23.9                                      \n",
              "2 23.4                                      \n",
              "3 23.1                                      \n",
              "4 23.1                                      \n",
              "5 23.0                                      \n",
              "6 22.9                                      \n",
              "  VENTO, DIREÇÃO HORARIA (gr) (° (gr)) VENTO, RAJADA MAXIMA (m/s)\n",
              "1  27                                  7.7                       \n",
              "2 349                                  5.5                       \n",
              "3   2                                  5.8                       \n",
              "4  11                                  4.5                       \n",
              "5  19                                  4.7                       \n",
              "6  23                                  4.5                       \n",
              "  VENTO, VELOCIDADE HORARIA (m/s)\n",
              "1 3.3                            \n",
              "2 3.0                            \n",
              "3 2.6                            \n",
              "4 2.8                            \n",
              "5 2.9                            \n",
              "6 2.9                            "
            ]
          },
          "metadata": {}
        }
      ]
    },
    {
      "cell_type": "markdown",
      "source": [
        "## All Rows At 9 Hours"
      ],
      "metadata": {
        "id": "5Q0Ccs6oZyng"
      }
    },
    {
      "cell_type": "code",
      "source": [
        "# Filtering rows at 9 hours\n",
        "data1_item1c <- data1 %>%\n",
        "  filter(grepl(\"^09:\", data1[[\"Hora UTC\"]]))\n",
        "\n",
        "head(column_filter(data1_item1c))"
      ],
      "metadata": {
        "colab": {
          "base_uri": "https://localhost:8080/",
          "height": 393
        },
        "id": "LtpLJ7EnZ39b",
        "outputId": "39c6c1d9-5c9c-4830-8de9-07e244a64653"
      },
      "execution_count": null,
      "outputs": [
        {
          "output_type": "display_data",
          "data": {
            "text/html": [
              "<table class=\"dataframe\">\n",
              "<caption>A data.frame: 6 × 10</caption>\n",
              "<thead>\n",
              "\t<tr><th></th><th scope=col>PRECIPITAÇÃO TOTAL, HORÁRIO (mm)</th><th scope=col>PRESSAO ATMOSFERICA AO NIVEL DA ESTACAO, HORARIA (mB)</th><th scope=col>PRESSÃO ATMOSFERICA MAX.NA HORA ANT. (AUT) (mB)</th><th scope=col>PRESSÃO ATMOSFERICA MIN. NA HORA ANT. (AUT) (mB)</th><th scope=col>TEMPERATURA DO AR - BULBO SECO, HORARIA (°C)</th><th scope=col>TEMPERATURA MÁXIMA NA HORA ANT. (AUT) (°C)</th><th scope=col>TEMPERATURA MÍNIMA NA HORA ANT. (AUT) (°C)</th><th scope=col>VENTO, DIREÇÃO HORARIA (gr) (° (gr))</th><th scope=col>VENTO, RAJADA MAXIMA (m/s)</th><th scope=col>VENTO, VELOCIDADE HORARIA (m/s)</th></tr>\n",
              "\t<tr><th></th><th scope=col>&lt;dbl&gt;</th><th scope=col>&lt;dbl&gt;</th><th scope=col>&lt;dbl&gt;</th><th scope=col>&lt;dbl&gt;</th><th scope=col>&lt;dbl&gt;</th><th scope=col>&lt;dbl&gt;</th><th scope=col>&lt;dbl&gt;</th><th scope=col>&lt;int&gt;</th><th scope=col>&lt;dbl&gt;</th><th scope=col>&lt;dbl&gt;</th></tr>\n",
              "</thead>\n",
              "<tbody>\n",
              "\t<tr><th scope=row>1</th><td>0.4</td><td>1006.7</td><td>1006.8</td><td>1006.6</td><td>22.2</td><td>22.2</td><td>21.9</td><td> 31</td><td>4.1</td><td>2.4</td></tr>\n",
              "\t<tr><th scope=row>2</th><td>0.4</td><td>1008.7</td><td>1008.7</td><td>1008.2</td><td>24.1</td><td>24.5</td><td>23.9</td><td>359</td><td>7.5</td><td>4.8</td></tr>\n",
              "\t<tr><th scope=row>3</th><td>0.0</td><td>1008.1</td><td>1008.1</td><td>1007.7</td><td>24.3</td><td>24.3</td><td>23.7</td><td>115</td><td>3.1</td><td>1.4</td></tr>\n",
              "\t<tr><th scope=row>4</th><td>0.0</td><td>1006.3</td><td>1006.3</td><td>1006.2</td><td>24.9</td><td>24.9</td><td>24.2</td><td> 32</td><td>3.0</td><td>2.0</td></tr>\n",
              "\t<tr><th scope=row>5</th><td>0.0</td><td>1003.2</td><td>1003.2</td><td>1002.7</td><td>28.4</td><td>28.7</td><td>27.3</td><td>346</td><td>7.6</td><td>2.6</td></tr>\n",
              "\t<tr><th scope=row>6</th><td>0.2</td><td>1003.9</td><td>1004.0</td><td>1003.3</td><td>24.6</td><td>24.6</td><td>24.5</td><td>  2</td><td>4.7</td><td>2.8</td></tr>\n",
              "</tbody>\n",
              "</table>\n"
            ],
            "text/markdown": "\nA data.frame: 6 × 10\n\n| <!--/--> | PRECIPITAÇÃO TOTAL, HORÁRIO (mm) &lt;dbl&gt; | PRESSAO ATMOSFERICA AO NIVEL DA ESTACAO, HORARIA (mB) &lt;dbl&gt; | PRESSÃO ATMOSFERICA MAX.NA HORA ANT. (AUT) (mB) &lt;dbl&gt; | PRESSÃO ATMOSFERICA MIN. NA HORA ANT. (AUT) (mB) &lt;dbl&gt; | TEMPERATURA DO AR - BULBO SECO, HORARIA (°C) &lt;dbl&gt; | TEMPERATURA MÁXIMA NA HORA ANT. (AUT) (°C) &lt;dbl&gt; | TEMPERATURA MÍNIMA NA HORA ANT. (AUT) (°C) &lt;dbl&gt; | VENTO, DIREÇÃO HORARIA (gr) (° (gr)) &lt;int&gt; | VENTO, RAJADA MAXIMA (m/s) &lt;dbl&gt; | VENTO, VELOCIDADE HORARIA (m/s) &lt;dbl&gt; |\n|---|---|---|---|---|---|---|---|---|---|---|\n| 1 | 0.4 | 1006.7 | 1006.8 | 1006.6 | 22.2 | 22.2 | 21.9 |  31 | 4.1 | 2.4 |\n| 2 | 0.4 | 1008.7 | 1008.7 | 1008.2 | 24.1 | 24.5 | 23.9 | 359 | 7.5 | 4.8 |\n| 3 | 0.0 | 1008.1 | 1008.1 | 1007.7 | 24.3 | 24.3 | 23.7 | 115 | 3.1 | 1.4 |\n| 4 | 0.0 | 1006.3 | 1006.3 | 1006.2 | 24.9 | 24.9 | 24.2 |  32 | 3.0 | 2.0 |\n| 5 | 0.0 | 1003.2 | 1003.2 | 1002.7 | 28.4 | 28.7 | 27.3 | 346 | 7.6 | 2.6 |\n| 6 | 0.2 | 1003.9 | 1004.0 | 1003.3 | 24.6 | 24.6 | 24.5 |   2 | 4.7 | 2.8 |\n\n",
            "text/latex": "A data.frame: 6 × 10\n\\begin{tabular}{r|llllllllll}\n  & PRECIPITAÇÃO TOTAL, HORÁRIO (mm) & PRESSAO ATMOSFERICA AO NIVEL DA ESTACAO, HORARIA (mB) & PRESSÃO ATMOSFERICA MAX.NA HORA ANT. (AUT) (mB) & PRESSÃO ATMOSFERICA MIN. NA HORA ANT. (AUT) (mB) & TEMPERATURA DO AR - BULBO SECO, HORARIA (°C) & TEMPERATURA MÁXIMA NA HORA ANT. (AUT) (°C) & TEMPERATURA MÍNIMA NA HORA ANT. (AUT) (°C) & VENTO, DIREÇÃO HORARIA (gr) (° (gr)) & VENTO, RAJADA MAXIMA (m/s) & VENTO, VELOCIDADE HORARIA (m/s)\\\\\n  & <dbl> & <dbl> & <dbl> & <dbl> & <dbl> & <dbl> & <dbl> & <int> & <dbl> & <dbl>\\\\\n\\hline\n\t1 & 0.4 & 1006.7 & 1006.8 & 1006.6 & 22.2 & 22.2 & 21.9 &  31 & 4.1 & 2.4\\\\\n\t2 & 0.4 & 1008.7 & 1008.7 & 1008.2 & 24.1 & 24.5 & 23.9 & 359 & 7.5 & 4.8\\\\\n\t3 & 0.0 & 1008.1 & 1008.1 & 1007.7 & 24.3 & 24.3 & 23.7 & 115 & 3.1 & 1.4\\\\\n\t4 & 0.0 & 1006.3 & 1006.3 & 1006.2 & 24.9 & 24.9 & 24.2 &  32 & 3.0 & 2.0\\\\\n\t5 & 0.0 & 1003.2 & 1003.2 & 1002.7 & 28.4 & 28.7 & 27.3 & 346 & 7.6 & 2.6\\\\\n\t6 & 0.2 & 1003.9 & 1004.0 & 1003.3 & 24.6 & 24.6 & 24.5 &   2 & 4.7 & 2.8\\\\\n\\end{tabular}\n",
            "text/plain": [
              "  PRECIPITAÇÃO TOTAL, HORÁRIO (mm)\n",
              "1 0.4                             \n",
              "2 0.4                             \n",
              "3 0.0                             \n",
              "4 0.0                             \n",
              "5 0.0                             \n",
              "6 0.2                             \n",
              "  PRESSAO ATMOSFERICA AO NIVEL DA ESTACAO, HORARIA (mB)\n",
              "1 1006.7                                               \n",
              "2 1008.7                                               \n",
              "3 1008.1                                               \n",
              "4 1006.3                                               \n",
              "5 1003.2                                               \n",
              "6 1003.9                                               \n",
              "  PRESSÃO ATMOSFERICA MAX.NA HORA ANT. (AUT) (mB)\n",
              "1 1006.8                                         \n",
              "2 1008.7                                         \n",
              "3 1008.1                                         \n",
              "4 1006.3                                         \n",
              "5 1003.2                                         \n",
              "6 1004.0                                         \n",
              "  PRESSÃO ATMOSFERICA MIN. NA HORA ANT. (AUT) (mB)\n",
              "1 1006.6                                          \n",
              "2 1008.2                                          \n",
              "3 1007.7                                          \n",
              "4 1006.2                                          \n",
              "5 1002.7                                          \n",
              "6 1003.3                                          \n",
              "  TEMPERATURA DO AR - BULBO SECO, HORARIA (°C)\n",
              "1 22.2                                        \n",
              "2 24.1                                        \n",
              "3 24.3                                        \n",
              "4 24.9                                        \n",
              "5 28.4                                        \n",
              "6 24.6                                        \n",
              "  TEMPERATURA MÁXIMA NA HORA ANT. (AUT) (°C)\n",
              "1 22.2                                      \n",
              "2 24.5                                      \n",
              "3 24.3                                      \n",
              "4 24.9                                      \n",
              "5 28.7                                      \n",
              "6 24.6                                      \n",
              "  TEMPERATURA MÍNIMA NA HORA ANT. (AUT) (°C)\n",
              "1 21.9                                      \n",
              "2 23.9                                      \n",
              "3 23.7                                      \n",
              "4 24.2                                      \n",
              "5 27.3                                      \n",
              "6 24.5                                      \n",
              "  VENTO, DIREÇÃO HORARIA (gr) (° (gr)) VENTO, RAJADA MAXIMA (m/s)\n",
              "1  31                                  4.1                       \n",
              "2 359                                  7.5                       \n",
              "3 115                                  3.1                       \n",
              "4  32                                  3.0                       \n",
              "5 346                                  7.6                       \n",
              "6   2                                  4.7                       \n",
              "  VENTO, VELOCIDADE HORARIA (m/s)\n",
              "1 2.4                            \n",
              "2 4.8                            \n",
              "3 1.4                            \n",
              "4 2.0                            \n",
              "5 2.6                            \n",
              "6 2.8                            "
            ]
          },
          "metadata": {}
        }
      ]
    },
    {
      "cell_type": "code",
      "source": [
        "# Filtering rows at 9 hours\n",
        "data2_item1c <- data2 %>%\n",
        "  filter(grepl(\"^09:\", data2[[\"Hora UTC\"]]))\n",
        "\n",
        "head(column_filter(data2_item1c))"
      ],
      "metadata": {
        "colab": {
          "base_uri": "https://localhost:8080/",
          "height": 393
        },
        "id": "3lLhNTVzbRIn",
        "outputId": "1e4b8abd-7d2d-4a89-81b7-94c06f5738bf"
      },
      "execution_count": null,
      "outputs": [
        {
          "output_type": "display_data",
          "data": {
            "text/html": [
              "<table class=\"dataframe\">\n",
              "<caption>A data.frame: 6 × 10</caption>\n",
              "<thead>\n",
              "\t<tr><th></th><th scope=col>PRECIPITAÇÃO TOTAL, HORÁRIO (mm)</th><th scope=col>PRESSAO ATMOSFERICA AO NIVEL DA ESTACAO, HORARIA (mB)</th><th scope=col>PRESSÃO ATMOSFERICA MAX.NA HORA ANT. (AUT) (mB)</th><th scope=col>PRESSÃO ATMOSFERICA MIN. NA HORA ANT. (AUT) (mB)</th><th scope=col>TEMPERATURA DO AR - BULBO SECO, HORARIA (°C)</th><th scope=col>TEMPERATURA MÁXIMA NA HORA ANT. (AUT) (°C)</th><th scope=col>TEMPERATURA MÍNIMA NA HORA ANT. (AUT) (°C)</th><th scope=col>VENTO, DIREÇÃO HORARIA (gr) (° (gr))</th><th scope=col>VENTO, RAJADA MAXIMA (m/s)</th><th scope=col>VENTO, VELOCIDADE HORARIA (m/s)</th></tr>\n",
              "\t<tr><th></th><th scope=col>&lt;dbl&gt;</th><th scope=col>&lt;dbl&gt;</th><th scope=col>&lt;dbl&gt;</th><th scope=col>&lt;dbl&gt;</th><th scope=col>&lt;dbl&gt;</th><th scope=col>&lt;dbl&gt;</th><th scope=col>&lt;dbl&gt;</th><th scope=col>&lt;int&gt;</th><th scope=col>&lt;dbl&gt;</th><th scope=col>&lt;dbl&gt;</th></tr>\n",
              "</thead>\n",
              "<tbody>\n",
              "\t<tr><th scope=row>1</th><td>0.0</td><td>1012.5</td><td>1012.6</td><td>1012.0</td><td>22.0</td><td>22.0</td><td>20.5</td><td> 53</td><td> 3.2</td><td>1.7</td></tr>\n",
              "\t<tr><th scope=row>2</th><td>0.0</td><td>1011.7</td><td>1011.8</td><td>1011.1</td><td>21.8</td><td>21.8</td><td>21.3</td><td>  1</td><td> 3.3</td><td>1.9</td></tr>\n",
              "\t<tr><th scope=row>3</th><td>0.0</td><td>1006.7</td><td>1006.7</td><td>1006.0</td><td>25.2</td><td>25.2</td><td>24.8</td><td>359</td><td> 9.4</td><td>4.6</td></tr>\n",
              "\t<tr><th scope=row>4</th><td>0.0</td><td>1005.2</td><td>1005.2</td><td>1004.8</td><td>26.6</td><td>26.9</td><td>26.4</td><td>350</td><td> 9.4</td><td>6.2</td></tr>\n",
              "\t<tr><th scope=row>5</th><td>0.0</td><td>1008.6</td><td>1008.6</td><td>1008.0</td><td>22.3</td><td>22.4</td><td>21.9</td><td>252</td><td> 3.6</td><td>1.6</td></tr>\n",
              "\t<tr><th scope=row>6</th><td>1.6</td><td>1013.1</td><td>1013.1</td><td>1012.2</td><td>21.3</td><td>21.4</td><td>21.1</td><td>224</td><td>10.6</td><td>6.0</td></tr>\n",
              "</tbody>\n",
              "</table>\n"
            ],
            "text/markdown": "\nA data.frame: 6 × 10\n\n| <!--/--> | PRECIPITAÇÃO TOTAL, HORÁRIO (mm) &lt;dbl&gt; | PRESSAO ATMOSFERICA AO NIVEL DA ESTACAO, HORARIA (mB) &lt;dbl&gt; | PRESSÃO ATMOSFERICA MAX.NA HORA ANT. (AUT) (mB) &lt;dbl&gt; | PRESSÃO ATMOSFERICA MIN. NA HORA ANT. (AUT) (mB) &lt;dbl&gt; | TEMPERATURA DO AR - BULBO SECO, HORARIA (°C) &lt;dbl&gt; | TEMPERATURA MÁXIMA NA HORA ANT. (AUT) (°C) &lt;dbl&gt; | TEMPERATURA MÍNIMA NA HORA ANT. (AUT) (°C) &lt;dbl&gt; | VENTO, DIREÇÃO HORARIA (gr) (° (gr)) &lt;int&gt; | VENTO, RAJADA MAXIMA (m/s) &lt;dbl&gt; | VENTO, VELOCIDADE HORARIA (m/s) &lt;dbl&gt; |\n|---|---|---|---|---|---|---|---|---|---|---|\n| 1 | 0.0 | 1012.5 | 1012.6 | 1012.0 | 22.0 | 22.0 | 20.5 |  53 |  3.2 | 1.7 |\n| 2 | 0.0 | 1011.7 | 1011.8 | 1011.1 | 21.8 | 21.8 | 21.3 |   1 |  3.3 | 1.9 |\n| 3 | 0.0 | 1006.7 | 1006.7 | 1006.0 | 25.2 | 25.2 | 24.8 | 359 |  9.4 | 4.6 |\n| 4 | 0.0 | 1005.2 | 1005.2 | 1004.8 | 26.6 | 26.9 | 26.4 | 350 |  9.4 | 6.2 |\n| 5 | 0.0 | 1008.6 | 1008.6 | 1008.0 | 22.3 | 22.4 | 21.9 | 252 |  3.6 | 1.6 |\n| 6 | 1.6 | 1013.1 | 1013.1 | 1012.2 | 21.3 | 21.4 | 21.1 | 224 | 10.6 | 6.0 |\n\n",
            "text/latex": "A data.frame: 6 × 10\n\\begin{tabular}{r|llllllllll}\n  & PRECIPITAÇÃO TOTAL, HORÁRIO (mm) & PRESSAO ATMOSFERICA AO NIVEL DA ESTACAO, HORARIA (mB) & PRESSÃO ATMOSFERICA MAX.NA HORA ANT. (AUT) (mB) & PRESSÃO ATMOSFERICA MIN. NA HORA ANT. (AUT) (mB) & TEMPERATURA DO AR - BULBO SECO, HORARIA (°C) & TEMPERATURA MÁXIMA NA HORA ANT. (AUT) (°C) & TEMPERATURA MÍNIMA NA HORA ANT. (AUT) (°C) & VENTO, DIREÇÃO HORARIA (gr) (° (gr)) & VENTO, RAJADA MAXIMA (m/s) & VENTO, VELOCIDADE HORARIA (m/s)\\\\\n  & <dbl> & <dbl> & <dbl> & <dbl> & <dbl> & <dbl> & <dbl> & <int> & <dbl> & <dbl>\\\\\n\\hline\n\t1 & 0.0 & 1012.5 & 1012.6 & 1012.0 & 22.0 & 22.0 & 20.5 &  53 &  3.2 & 1.7\\\\\n\t2 & 0.0 & 1011.7 & 1011.8 & 1011.1 & 21.8 & 21.8 & 21.3 &   1 &  3.3 & 1.9\\\\\n\t3 & 0.0 & 1006.7 & 1006.7 & 1006.0 & 25.2 & 25.2 & 24.8 & 359 &  9.4 & 4.6\\\\\n\t4 & 0.0 & 1005.2 & 1005.2 & 1004.8 & 26.6 & 26.9 & 26.4 & 350 &  9.4 & 6.2\\\\\n\t5 & 0.0 & 1008.6 & 1008.6 & 1008.0 & 22.3 & 22.4 & 21.9 & 252 &  3.6 & 1.6\\\\\n\t6 & 1.6 & 1013.1 & 1013.1 & 1012.2 & 21.3 & 21.4 & 21.1 & 224 & 10.6 & 6.0\\\\\n\\end{tabular}\n",
            "text/plain": [
              "  PRECIPITAÇÃO TOTAL, HORÁRIO (mm)\n",
              "1 0.0                             \n",
              "2 0.0                             \n",
              "3 0.0                             \n",
              "4 0.0                             \n",
              "5 0.0                             \n",
              "6 1.6                             \n",
              "  PRESSAO ATMOSFERICA AO NIVEL DA ESTACAO, HORARIA (mB)\n",
              "1 1012.5                                               \n",
              "2 1011.7                                               \n",
              "3 1006.7                                               \n",
              "4 1005.2                                               \n",
              "5 1008.6                                               \n",
              "6 1013.1                                               \n",
              "  PRESSÃO ATMOSFERICA MAX.NA HORA ANT. (AUT) (mB)\n",
              "1 1012.6                                         \n",
              "2 1011.8                                         \n",
              "3 1006.7                                         \n",
              "4 1005.2                                         \n",
              "5 1008.6                                         \n",
              "6 1013.1                                         \n",
              "  PRESSÃO ATMOSFERICA MIN. NA HORA ANT. (AUT) (mB)\n",
              "1 1012.0                                          \n",
              "2 1011.1                                          \n",
              "3 1006.0                                          \n",
              "4 1004.8                                          \n",
              "5 1008.0                                          \n",
              "6 1012.2                                          \n",
              "  TEMPERATURA DO AR - BULBO SECO, HORARIA (°C)\n",
              "1 22.0                                        \n",
              "2 21.8                                        \n",
              "3 25.2                                        \n",
              "4 26.6                                        \n",
              "5 22.3                                        \n",
              "6 21.3                                        \n",
              "  TEMPERATURA MÁXIMA NA HORA ANT. (AUT) (°C)\n",
              "1 22.0                                      \n",
              "2 21.8                                      \n",
              "3 25.2                                      \n",
              "4 26.9                                      \n",
              "5 22.4                                      \n",
              "6 21.4                                      \n",
              "  TEMPERATURA MÍNIMA NA HORA ANT. (AUT) (°C)\n",
              "1 20.5                                      \n",
              "2 21.3                                      \n",
              "3 24.8                                      \n",
              "4 26.4                                      \n",
              "5 21.9                                      \n",
              "6 21.1                                      \n",
              "  VENTO, DIREÇÃO HORARIA (gr) (° (gr)) VENTO, RAJADA MAXIMA (m/s)\n",
              "1  53                                   3.2                      \n",
              "2   1                                   3.3                      \n",
              "3 359                                   9.4                      \n",
              "4 350                                   9.4                      \n",
              "5 252                                   3.6                      \n",
              "6 224                                  10.6                      \n",
              "  VENTO, VELOCIDADE HORARIA (m/s)\n",
              "1 1.7                            \n",
              "2 1.9                            \n",
              "3 4.6                            \n",
              "4 6.2                            \n",
              "5 1.6                            \n",
              "6 6.0                            "
            ]
          },
          "metadata": {}
        }
      ]
    },
    {
      "cell_type": "markdown",
      "source": [
        "## All Rows At 15 Hours"
      ],
      "metadata": {
        "id": "2ssWwTAEbvBh"
      }
    },
    {
      "cell_type": "code",
      "source": [
        "# Filtering rows at 15 hours\n",
        "data1_item1d <- data1 %>%\n",
        "  filter(grepl(\"^15:\", data1[[\"Hora UTC\"]]))\n",
        "\n",
        "head(column_filter(data1_item1d))"
      ],
      "metadata": {
        "colab": {
          "base_uri": "https://localhost:8080/",
          "height": 393
        },
        "id": "gk1kLJOHbxrL",
        "outputId": "a712ff07-2050-42d6-dbd0-ab1b38d08a2a"
      },
      "execution_count": null,
      "outputs": [
        {
          "output_type": "display_data",
          "data": {
            "text/html": [
              "<table class=\"dataframe\">\n",
              "<caption>A data.frame: 6 × 10</caption>\n",
              "<thead>\n",
              "\t<tr><th></th><th scope=col>PRECIPITAÇÃO TOTAL, HORÁRIO (mm)</th><th scope=col>PRESSAO ATMOSFERICA AO NIVEL DA ESTACAO, HORARIA (mB)</th><th scope=col>PRESSÃO ATMOSFERICA MAX.NA HORA ANT. (AUT) (mB)</th><th scope=col>PRESSÃO ATMOSFERICA MIN. NA HORA ANT. (AUT) (mB)</th><th scope=col>TEMPERATURA DO AR - BULBO SECO, HORARIA (°C)</th><th scope=col>TEMPERATURA MÁXIMA NA HORA ANT. (AUT) (°C)</th><th scope=col>TEMPERATURA MÍNIMA NA HORA ANT. (AUT) (°C)</th><th scope=col>VENTO, DIREÇÃO HORARIA (gr) (° (gr))</th><th scope=col>VENTO, RAJADA MAXIMA (m/s)</th><th scope=col>VENTO, VELOCIDADE HORARIA (m/s)</th></tr>\n",
              "\t<tr><th></th><th scope=col>&lt;dbl&gt;</th><th scope=col>&lt;dbl&gt;</th><th scope=col>&lt;dbl&gt;</th><th scope=col>&lt;dbl&gt;</th><th scope=col>&lt;dbl&gt;</th><th scope=col>&lt;dbl&gt;</th><th scope=col>&lt;dbl&gt;</th><th scope=col>&lt;int&gt;</th><th scope=col>&lt;dbl&gt;</th><th scope=col>&lt;dbl&gt;</th></tr>\n",
              "</thead>\n",
              "<tbody>\n",
              "\t<tr><th scope=row>1</th><td>0.2</td><td>1007.9</td><td>1008.4</td><td>1007.9</td><td>26.5</td><td>27.1</td><td>26.5</td><td>336</td><td> 5.9</td><td>3.4</td></tr>\n",
              "\t<tr><th scope=row>2</th><td>0.0</td><td>1009.3</td><td>1009.7</td><td>1009.3</td><td>30.5</td><td>30.5</td><td>29.3</td><td>341</td><td> 9.7</td><td>5.1</td></tr>\n",
              "\t<tr><th scope=row>3</th><td>0.0</td><td>1007.9</td><td>1008.2</td><td>1007.9</td><td>31.3</td><td>32.2</td><td>31.0</td><td>343</td><td>10.5</td><td>4.7</td></tr>\n",
              "\t<tr><th scope=row>4</th><td>0.0</td><td>1006.5</td><td>1006.8</td><td>1006.5</td><td>32.0</td><td>32.7</td><td>31.2</td><td>  1</td><td> 9.3</td><td>4.1</td></tr>\n",
              "\t<tr><th scope=row>5</th><td>0.0</td><td>1003.7</td><td>1004.2</td><td>1003.6</td><td>31.1</td><td>31.4</td><td>30.7</td><td>349</td><td>12.5</td><td>7.3</td></tr>\n",
              "\t<tr><th scope=row>6</th><td>0.0</td><td>1004.1</td><td>1004.4</td><td>1004.1</td><td>30.0</td><td>31.4</td><td>29.1</td><td>337</td><td>11.0</td><td>5.9</td></tr>\n",
              "</tbody>\n",
              "</table>\n"
            ],
            "text/markdown": "\nA data.frame: 6 × 10\n\n| <!--/--> | PRECIPITAÇÃO TOTAL, HORÁRIO (mm) &lt;dbl&gt; | PRESSAO ATMOSFERICA AO NIVEL DA ESTACAO, HORARIA (mB) &lt;dbl&gt; | PRESSÃO ATMOSFERICA MAX.NA HORA ANT. (AUT) (mB) &lt;dbl&gt; | PRESSÃO ATMOSFERICA MIN. NA HORA ANT. (AUT) (mB) &lt;dbl&gt; | TEMPERATURA DO AR - BULBO SECO, HORARIA (°C) &lt;dbl&gt; | TEMPERATURA MÁXIMA NA HORA ANT. (AUT) (°C) &lt;dbl&gt; | TEMPERATURA MÍNIMA NA HORA ANT. (AUT) (°C) &lt;dbl&gt; | VENTO, DIREÇÃO HORARIA (gr) (° (gr)) &lt;int&gt; | VENTO, RAJADA MAXIMA (m/s) &lt;dbl&gt; | VENTO, VELOCIDADE HORARIA (m/s) &lt;dbl&gt; |\n|---|---|---|---|---|---|---|---|---|---|---|\n| 1 | 0.2 | 1007.9 | 1008.4 | 1007.9 | 26.5 | 27.1 | 26.5 | 336 |  5.9 | 3.4 |\n| 2 | 0.0 | 1009.3 | 1009.7 | 1009.3 | 30.5 | 30.5 | 29.3 | 341 |  9.7 | 5.1 |\n| 3 | 0.0 | 1007.9 | 1008.2 | 1007.9 | 31.3 | 32.2 | 31.0 | 343 | 10.5 | 4.7 |\n| 4 | 0.0 | 1006.5 | 1006.8 | 1006.5 | 32.0 | 32.7 | 31.2 |   1 |  9.3 | 4.1 |\n| 5 | 0.0 | 1003.7 | 1004.2 | 1003.6 | 31.1 | 31.4 | 30.7 | 349 | 12.5 | 7.3 |\n| 6 | 0.0 | 1004.1 | 1004.4 | 1004.1 | 30.0 | 31.4 | 29.1 | 337 | 11.0 | 5.9 |\n\n",
            "text/latex": "A data.frame: 6 × 10\n\\begin{tabular}{r|llllllllll}\n  & PRECIPITAÇÃO TOTAL, HORÁRIO (mm) & PRESSAO ATMOSFERICA AO NIVEL DA ESTACAO, HORARIA (mB) & PRESSÃO ATMOSFERICA MAX.NA HORA ANT. (AUT) (mB) & PRESSÃO ATMOSFERICA MIN. NA HORA ANT. (AUT) (mB) & TEMPERATURA DO AR - BULBO SECO, HORARIA (°C) & TEMPERATURA MÁXIMA NA HORA ANT. (AUT) (°C) & TEMPERATURA MÍNIMA NA HORA ANT. (AUT) (°C) & VENTO, DIREÇÃO HORARIA (gr) (° (gr)) & VENTO, RAJADA MAXIMA (m/s) & VENTO, VELOCIDADE HORARIA (m/s)\\\\\n  & <dbl> & <dbl> & <dbl> & <dbl> & <dbl> & <dbl> & <dbl> & <int> & <dbl> & <dbl>\\\\\n\\hline\n\t1 & 0.2 & 1007.9 & 1008.4 & 1007.9 & 26.5 & 27.1 & 26.5 & 336 &  5.9 & 3.4\\\\\n\t2 & 0.0 & 1009.3 & 1009.7 & 1009.3 & 30.5 & 30.5 & 29.3 & 341 &  9.7 & 5.1\\\\\n\t3 & 0.0 & 1007.9 & 1008.2 & 1007.9 & 31.3 & 32.2 & 31.0 & 343 & 10.5 & 4.7\\\\\n\t4 & 0.0 & 1006.5 & 1006.8 & 1006.5 & 32.0 & 32.7 & 31.2 &   1 &  9.3 & 4.1\\\\\n\t5 & 0.0 & 1003.7 & 1004.2 & 1003.6 & 31.1 & 31.4 & 30.7 & 349 & 12.5 & 7.3\\\\\n\t6 & 0.0 & 1004.1 & 1004.4 & 1004.1 & 30.0 & 31.4 & 29.1 & 337 & 11.0 & 5.9\\\\\n\\end{tabular}\n",
            "text/plain": [
              "  PRECIPITAÇÃO TOTAL, HORÁRIO (mm)\n",
              "1 0.2                             \n",
              "2 0.0                             \n",
              "3 0.0                             \n",
              "4 0.0                             \n",
              "5 0.0                             \n",
              "6 0.0                             \n",
              "  PRESSAO ATMOSFERICA AO NIVEL DA ESTACAO, HORARIA (mB)\n",
              "1 1007.9                                               \n",
              "2 1009.3                                               \n",
              "3 1007.9                                               \n",
              "4 1006.5                                               \n",
              "5 1003.7                                               \n",
              "6 1004.1                                               \n",
              "  PRESSÃO ATMOSFERICA MAX.NA HORA ANT. (AUT) (mB)\n",
              "1 1008.4                                         \n",
              "2 1009.7                                         \n",
              "3 1008.2                                         \n",
              "4 1006.8                                         \n",
              "5 1004.2                                         \n",
              "6 1004.4                                         \n",
              "  PRESSÃO ATMOSFERICA MIN. NA HORA ANT. (AUT) (mB)\n",
              "1 1007.9                                          \n",
              "2 1009.3                                          \n",
              "3 1007.9                                          \n",
              "4 1006.5                                          \n",
              "5 1003.6                                          \n",
              "6 1004.1                                          \n",
              "  TEMPERATURA DO AR - BULBO SECO, HORARIA (°C)\n",
              "1 26.5                                        \n",
              "2 30.5                                        \n",
              "3 31.3                                        \n",
              "4 32.0                                        \n",
              "5 31.1                                        \n",
              "6 30.0                                        \n",
              "  TEMPERATURA MÁXIMA NA HORA ANT. (AUT) (°C)\n",
              "1 27.1                                      \n",
              "2 30.5                                      \n",
              "3 32.2                                      \n",
              "4 32.7                                      \n",
              "5 31.4                                      \n",
              "6 31.4                                      \n",
              "  TEMPERATURA MÍNIMA NA HORA ANT. (AUT) (°C)\n",
              "1 26.5                                      \n",
              "2 29.3                                      \n",
              "3 31.0                                      \n",
              "4 31.2                                      \n",
              "5 30.7                                      \n",
              "6 29.1                                      \n",
              "  VENTO, DIREÇÃO HORARIA (gr) (° (gr)) VENTO, RAJADA MAXIMA (m/s)\n",
              "1 336                                   5.9                      \n",
              "2 341                                   9.7                      \n",
              "3 343                                  10.5                      \n",
              "4   1                                   9.3                      \n",
              "5 349                                  12.5                      \n",
              "6 337                                  11.0                      \n",
              "  VENTO, VELOCIDADE HORARIA (m/s)\n",
              "1 3.4                            \n",
              "2 5.1                            \n",
              "3 4.7                            \n",
              "4 4.1                            \n",
              "5 7.3                            \n",
              "6 5.9                            "
            ]
          },
          "metadata": {}
        }
      ]
    },
    {
      "cell_type": "code",
      "source": [
        "# Filtering rows at 15 hours\n",
        "data2_item1d <- data2 %>%\n",
        "  filter(grepl(\"^15:\", data2[[\"Hora UTC\"]]))\n",
        "\n",
        "head(column_filter(data2_item1d))"
      ],
      "metadata": {
        "colab": {
          "base_uri": "https://localhost:8080/",
          "height": 393
        },
        "id": "nidSKBYOb4IJ",
        "outputId": "aca601cd-721b-4380-e9a1-0a904afa83c8"
      },
      "execution_count": null,
      "outputs": [
        {
          "output_type": "display_data",
          "data": {
            "text/html": [
              "<table class=\"dataframe\">\n",
              "<caption>A data.frame: 6 × 10</caption>\n",
              "<thead>\n",
              "\t<tr><th></th><th scope=col>PRECIPITAÇÃO TOTAL, HORÁRIO (mm)</th><th scope=col>PRESSAO ATMOSFERICA AO NIVEL DA ESTACAO, HORARIA (mB)</th><th scope=col>PRESSÃO ATMOSFERICA MAX.NA HORA ANT. (AUT) (mB)</th><th scope=col>PRESSÃO ATMOSFERICA MIN. NA HORA ANT. (AUT) (mB)</th><th scope=col>TEMPERATURA DO AR - BULBO SECO, HORARIA (°C)</th><th scope=col>TEMPERATURA MÁXIMA NA HORA ANT. (AUT) (°C)</th><th scope=col>TEMPERATURA MÍNIMA NA HORA ANT. (AUT) (°C)</th><th scope=col>VENTO, DIREÇÃO HORARIA (gr) (° (gr))</th><th scope=col>VENTO, RAJADA MAXIMA (m/s)</th><th scope=col>VENTO, VELOCIDADE HORARIA (m/s)</th></tr>\n",
              "\t<tr><th></th><th scope=col>&lt;dbl&gt;</th><th scope=col>&lt;dbl&gt;</th><th scope=col>&lt;dbl&gt;</th><th scope=col>&lt;dbl&gt;</th><th scope=col>&lt;dbl&gt;</th><th scope=col>&lt;dbl&gt;</th><th scope=col>&lt;dbl&gt;</th><th scope=col>&lt;int&gt;</th><th scope=col>&lt;dbl&gt;</th><th scope=col>&lt;dbl&gt;</th></tr>\n",
              "</thead>\n",
              "<tbody>\n",
              "\t<tr><th scope=row>1</th><td>0.0</td><td>1013.4</td><td>1013.8</td><td>1013.3</td><td>24.9</td><td>25.3</td><td>23.6</td><td>187</td><td> 4.7</td><td>3.6</td></tr>\n",
              "\t<tr><th scope=row>2</th><td>0.0</td><td>1010.0</td><td>1011.2</td><td>1010.0</td><td>29.6</td><td>30.1</td><td>24.3</td><td>115</td><td> 7.4</td><td>4.8</td></tr>\n",
              "\t<tr><th scope=row>3</th><td>0.0</td><td>1007.0</td><td>1007.7</td><td>1007.0</td><td>34.5</td><td>34.7</td><td>31.8</td><td>352</td><td>12.7</td><td>4.8</td></tr>\n",
              "\t<tr><th scope=row>4</th><td>0.0</td><td>1006.1</td><td>1006.3</td><td>1006.1</td><td>32.0</td><td>33.7</td><td>31.0</td><td>338</td><td>11.3</td><td>5.3</td></tr>\n",
              "\t<tr><th scope=row>5</th><td>0.2</td><td>1010.5</td><td>1010.5</td><td>1010.4</td><td>22.6</td><td>23.0</td><td>22.4</td><td>253</td><td> 7.9</td><td>5.4</td></tr>\n",
              "\t<tr><th scope=row>6</th><td>1.4</td><td>1015.3</td><td>1015.5</td><td>1015.3</td><td>21.2</td><td>21.4</td><td>21.1</td><td>237</td><td> 8.6</td><td>7.2</td></tr>\n",
              "</tbody>\n",
              "</table>\n"
            ],
            "text/markdown": "\nA data.frame: 6 × 10\n\n| <!--/--> | PRECIPITAÇÃO TOTAL, HORÁRIO (mm) &lt;dbl&gt; | PRESSAO ATMOSFERICA AO NIVEL DA ESTACAO, HORARIA (mB) &lt;dbl&gt; | PRESSÃO ATMOSFERICA MAX.NA HORA ANT. (AUT) (mB) &lt;dbl&gt; | PRESSÃO ATMOSFERICA MIN. NA HORA ANT. (AUT) (mB) &lt;dbl&gt; | TEMPERATURA DO AR - BULBO SECO, HORARIA (°C) &lt;dbl&gt; | TEMPERATURA MÁXIMA NA HORA ANT. (AUT) (°C) &lt;dbl&gt; | TEMPERATURA MÍNIMA NA HORA ANT. (AUT) (°C) &lt;dbl&gt; | VENTO, DIREÇÃO HORARIA (gr) (° (gr)) &lt;int&gt; | VENTO, RAJADA MAXIMA (m/s) &lt;dbl&gt; | VENTO, VELOCIDADE HORARIA (m/s) &lt;dbl&gt; |\n|---|---|---|---|---|---|---|---|---|---|---|\n| 1 | 0.0 | 1013.4 | 1013.8 | 1013.3 | 24.9 | 25.3 | 23.6 | 187 |  4.7 | 3.6 |\n| 2 | 0.0 | 1010.0 | 1011.2 | 1010.0 | 29.6 | 30.1 | 24.3 | 115 |  7.4 | 4.8 |\n| 3 | 0.0 | 1007.0 | 1007.7 | 1007.0 | 34.5 | 34.7 | 31.8 | 352 | 12.7 | 4.8 |\n| 4 | 0.0 | 1006.1 | 1006.3 | 1006.1 | 32.0 | 33.7 | 31.0 | 338 | 11.3 | 5.3 |\n| 5 | 0.2 | 1010.5 | 1010.5 | 1010.4 | 22.6 | 23.0 | 22.4 | 253 |  7.9 | 5.4 |\n| 6 | 1.4 | 1015.3 | 1015.5 | 1015.3 | 21.2 | 21.4 | 21.1 | 237 |  8.6 | 7.2 |\n\n",
            "text/latex": "A data.frame: 6 × 10\n\\begin{tabular}{r|llllllllll}\n  & PRECIPITAÇÃO TOTAL, HORÁRIO (mm) & PRESSAO ATMOSFERICA AO NIVEL DA ESTACAO, HORARIA (mB) & PRESSÃO ATMOSFERICA MAX.NA HORA ANT. (AUT) (mB) & PRESSÃO ATMOSFERICA MIN. NA HORA ANT. (AUT) (mB) & TEMPERATURA DO AR - BULBO SECO, HORARIA (°C) & TEMPERATURA MÁXIMA NA HORA ANT. (AUT) (°C) & TEMPERATURA MÍNIMA NA HORA ANT. (AUT) (°C) & VENTO, DIREÇÃO HORARIA (gr) (° (gr)) & VENTO, RAJADA MAXIMA (m/s) & VENTO, VELOCIDADE HORARIA (m/s)\\\\\n  & <dbl> & <dbl> & <dbl> & <dbl> & <dbl> & <dbl> & <dbl> & <int> & <dbl> & <dbl>\\\\\n\\hline\n\t1 & 0.0 & 1013.4 & 1013.8 & 1013.3 & 24.9 & 25.3 & 23.6 & 187 &  4.7 & 3.6\\\\\n\t2 & 0.0 & 1010.0 & 1011.2 & 1010.0 & 29.6 & 30.1 & 24.3 & 115 &  7.4 & 4.8\\\\\n\t3 & 0.0 & 1007.0 & 1007.7 & 1007.0 & 34.5 & 34.7 & 31.8 & 352 & 12.7 & 4.8\\\\\n\t4 & 0.0 & 1006.1 & 1006.3 & 1006.1 & 32.0 & 33.7 & 31.0 & 338 & 11.3 & 5.3\\\\\n\t5 & 0.2 & 1010.5 & 1010.5 & 1010.4 & 22.6 & 23.0 & 22.4 & 253 &  7.9 & 5.4\\\\\n\t6 & 1.4 & 1015.3 & 1015.5 & 1015.3 & 21.2 & 21.4 & 21.1 & 237 &  8.6 & 7.2\\\\\n\\end{tabular}\n",
            "text/plain": [
              "  PRECIPITAÇÃO TOTAL, HORÁRIO (mm)\n",
              "1 0.0                             \n",
              "2 0.0                             \n",
              "3 0.0                             \n",
              "4 0.0                             \n",
              "5 0.2                             \n",
              "6 1.4                             \n",
              "  PRESSAO ATMOSFERICA AO NIVEL DA ESTACAO, HORARIA (mB)\n",
              "1 1013.4                                               \n",
              "2 1010.0                                               \n",
              "3 1007.0                                               \n",
              "4 1006.1                                               \n",
              "5 1010.5                                               \n",
              "6 1015.3                                               \n",
              "  PRESSÃO ATMOSFERICA MAX.NA HORA ANT. (AUT) (mB)\n",
              "1 1013.8                                         \n",
              "2 1011.2                                         \n",
              "3 1007.7                                         \n",
              "4 1006.3                                         \n",
              "5 1010.5                                         \n",
              "6 1015.5                                         \n",
              "  PRESSÃO ATMOSFERICA MIN. NA HORA ANT. (AUT) (mB)\n",
              "1 1013.3                                          \n",
              "2 1010.0                                          \n",
              "3 1007.0                                          \n",
              "4 1006.1                                          \n",
              "5 1010.4                                          \n",
              "6 1015.3                                          \n",
              "  TEMPERATURA DO AR - BULBO SECO, HORARIA (°C)\n",
              "1 24.9                                        \n",
              "2 29.6                                        \n",
              "3 34.5                                        \n",
              "4 32.0                                        \n",
              "5 22.6                                        \n",
              "6 21.2                                        \n",
              "  TEMPERATURA MÁXIMA NA HORA ANT. (AUT) (°C)\n",
              "1 25.3                                      \n",
              "2 30.1                                      \n",
              "3 34.7                                      \n",
              "4 33.7                                      \n",
              "5 23.0                                      \n",
              "6 21.4                                      \n",
              "  TEMPERATURA MÍNIMA NA HORA ANT. (AUT) (°C)\n",
              "1 23.6                                      \n",
              "2 24.3                                      \n",
              "3 31.8                                      \n",
              "4 31.0                                      \n",
              "5 22.4                                      \n",
              "6 21.1                                      \n",
              "  VENTO, DIREÇÃO HORARIA (gr) (° (gr)) VENTO, RAJADA MAXIMA (m/s)\n",
              "1 187                                   4.7                      \n",
              "2 115                                   7.4                      \n",
              "3 352                                  12.7                      \n",
              "4 338                                  11.3                      \n",
              "5 253                                   7.9                      \n",
              "6 237                                   8.6                      \n",
              "  VENTO, VELOCIDADE HORARIA (m/s)\n",
              "1 3.6                            \n",
              "2 4.8                            \n",
              "3 4.8                            \n",
              "4 5.3                            \n",
              "5 5.4                            \n",
              "6 7.2                            "
            ]
          },
          "metadata": {}
        }
      ]
    },
    {
      "cell_type": "markdown",
      "source": [
        "# Item 2"
      ],
      "metadata": {
        "id": "G5CG-jCWb89v"
      }
    },
    {
      "cell_type": "code",
      "source": [
        "# Function to calculate mode\n",
        "mode_function <- function(x) {\n",
        "  ux <- unique(x)\n",
        "  ux[which.max(tabulate(match(x, ux)))]\n",
        "}\n",
        "\n",
        "# Function to get basic statistics\n",
        "get_statistics <- function(data) {\n",
        "  statistics <- data.frame(\n",
        "    Mean = sapply(data, mean, na.rm = TRUE),\n",
        "    Median = sapply(data, median, na.rm = TRUE),\n",
        "    Variance = sapply(data, var, na.rm = TRUE),\n",
        "    Min = sapply(data, min, na.rm = TRUE),\n",
        "    Max = sapply(data, max, na.rm = TRUE),\n",
        "    Mode = sapply(data, mode_function),\n",
        "    Range = sapply(data, function(x) diff(range(x, na.rm = TRUE)))\n",
        "  )\n",
        "  return(statistics)\n",
        "}"
      ],
      "metadata": {
        "id": "KQbKquCNb-mQ"
      },
      "execution_count": null,
      "outputs": []
    },
    {
      "cell_type": "code",
      "source": [
        "# Applying function\n",
        "stats <- get_statistics(column_filter(data1))\n",
        "print(stats)"
      ],
      "metadata": {
        "colab": {
          "base_uri": "https://localhost:8080/"
        },
        "id": "ODK25zumeLa0",
        "outputId": "9edfe3a7-c069-4696-e051-ceb1630666c5"
      },
      "execution_count": null,
      "outputs": [
        {
          "output_type": "stream",
          "name": "stdout",
          "text": [
            "                                                             Mean Median\n",
            "PRECIPITAÇÃO TOTAL, HORÁRIO (mm)                         0.148407    0.0\n",
            "PRESSAO ATMOSFERICA AO NIVEL DA ESTACAO, HORARIA (mB) 1013.814468 1013.4\n",
            "PRESSÃO ATMOSFERICA MAX.NA HORA ANT. (AUT) (mB)       1014.060386 1013.6\n",
            "PRESSÃO ATMOSFERICA MIN. NA HORA ANT. (AUT) (mB)      1013.565844 1013.1\n",
            "TEMPERATURA DO AR - BULBO SECO, HORARIA (°C)            23.175928   23.1\n",
            "TEMPERATURA MÁXIMA NA HORA ANT. (AUT) (°C)              23.752655   23.5\n",
            "TEMPERATURA MÍNIMA NA HORA ANT. (AUT) (°C)              22.633527   22.7\n",
            "VENTO, DIREÇÃO HORARIA (gr) (° (gr))                   144.248715  129.0\n",
            "VENTO, RAJADA MAXIMA (m/s)                               6.229759    5.7\n",
            "VENTO, VELOCIDADE HORARIA (m/s)                          3.540813    3.1\n",
            "                                                          Variance    Min\n",
            "PRECIPITAÇÃO TOTAL, HORÁRIO (mm)                          2.151175    0.0\n",
            "PRESSAO ATMOSFERICA AO NIVEL DA ESTACAO, HORARIA (mB)    22.407727 1000.1\n",
            "PRESSÃO ATMOSFERICA MAX.NA HORA ANT. (AUT) (mB)          22.250120 1000.3\n",
            "PRESSÃO ATMOSFERICA MIN. NA HORA ANT. (AUT) (mB)         22.506532  999.9\n",
            "TEMPERATURA DO AR - BULBO SECO, HORARIA (°C)             13.872753   11.9\n",
            "TEMPERATURA MÁXIMA NA HORA ANT. (AUT) (°C)               15.161262   12.5\n",
            "TEMPERATURA MÍNIMA NA HORA ANT. (AUT) (°C)               12.611489   11.3\n",
            "VENTO, DIREÇÃO HORARIA (gr) (° (gr))                  12352.082949    1.0\n",
            "VENTO, RAJADA MAXIMA (m/s)                               10.377828    0.9\n",
            "VENTO, VELOCIDADE HORARIA (m/s)                           4.713579    0.2\n",
            "                                                         Max   Mode Range\n",
            "PRECIPITAÇÃO TOTAL, HORÁRIO (mm)                        97.2    0.0  97.2\n",
            "PRESSAO ATMOSFERICA AO NIVEL DA ESTACAO, HORARIA (mB) 1029.4 1010.2  29.3\n",
            "PRESSÃO ATMOSFERICA MAX.NA HORA ANT. (AUT) (mB)       1029.6 1012.5  29.3\n",
            "PRESSÃO ATMOSFERICA MIN. NA HORA ANT. (AUT) (mB)      1029.3 1014.1  29.4\n",
            "TEMPERATURA DO AR - BULBO SECO, HORARIA (°C)            39.1   23.7  27.2\n",
            "TEMPERATURA MÁXIMA NA HORA ANT. (AUT) (°C)              39.9   23.8  27.4\n",
            "TEMPERATURA MÍNIMA NA HORA ANT. (AUT) (°C)              38.3   23.6  27.0\n",
            "VENTO, DIREÇÃO HORARIA (gr) (° (gr))                   360.0   11.0 359.0\n",
            "VENTO, RAJADA MAXIMA (m/s)                              23.4    3.0  22.5\n",
            "VENTO, VELOCIDADE HORARIA (m/s)                         15.9    2.0  15.7\n"
          ]
        }
      ]
    },
    {
      "cell_type": "code",
      "source": [
        "# Applying function\n",
        "stats <- get_statistics(column_filter(data2))\n",
        "print(stats)"
      ],
      "metadata": {
        "colab": {
          "base_uri": "https://localhost:8080/"
        },
        "id": "UX5ql5ndeL4J",
        "outputId": "e6989546-4284-458a-dd64-f81f2195be3a"
      },
      "execution_count": null,
      "outputs": [
        {
          "output_type": "stream",
          "name": "stdout",
          "text": [
            "                                                              Mean Median\n",
            "PRECIPITAÇÃO TOTAL, HORÁRIO (mm)                         0.1157229    0.0\n",
            "PRESSAO ATMOSFERICA AO NIVEL DA ESTACAO, HORARIA (mB) 1013.6871227 1013.5\n",
            "PRESSÃO ATMOSFERICA MAX.NA HORA ANT. (AUT) (mB)       1013.9358293 1013.7\n",
            "PRESSÃO ATMOSFERICA MIN. NA HORA ANT. (AUT) (mB)      1013.4353406 1013.2\n",
            "TEMPERATURA DO AR - BULBO SECO, HORARIA (°C)            24.0166715   23.8\n",
            "TEMPERATURA MÁXIMA NA HORA ANT. (AUT) (°C)              24.6121156   24.3\n",
            "TEMPERATURA MÍNIMA NA HORA ANT. (AUT) (°C)              23.4625323   23.4\n",
            "VENTO, DIREÇÃO HORARIA (gr) (° (gr))                   138.5038804  122.0\n",
            "VENTO, RAJADA MAXIMA (m/s)                               5.9065249    5.4\n",
            "VENTO, VELOCIDADE HORARIA (m/s)                          3.3388186    3.0\n",
            "                                                          Variance   Min    Max\n",
            "PRECIPITAÇÃO TOTAL, HORÁRIO (mm)                          1.191378   0.0   42.8\n",
            "PRESSAO ATMOSFERICA AO NIVEL DA ESTACAO, HORARIA (mB)    22.916520 998.4 1030.9\n",
            "PRESSÃO ATMOSFERICA MAX.NA HORA ANT. (AUT) (mB)          22.628920 999.2 1031.0\n",
            "PRESSÃO ATMOSFERICA MIN. NA HORA ANT. (AUT) (mB)         23.149050 998.4 1030.6\n",
            "TEMPERATURA DO AR - BULBO SECO, HORARIA (°C)             13.536295  13.0   41.4\n",
            "TEMPERATURA MÁXIMA NA HORA ANT. (AUT) (°C)               14.910037  13.3   41.9\n",
            "TEMPERATURA MÍNIMA NA HORA ANT. (AUT) (°C)               12.139776  12.8   39.0\n",
            "VENTO, DIREÇÃO HORARIA (gr) (° (gr))                  12491.273451   1.0  360.0\n",
            "VENTO, RAJADA MAXIMA (m/s)                                8.371284   0.8   22.2\n",
            "VENTO, VELOCIDADE HORARIA (m/s)                           3.663166   0.2   14.3\n",
            "                                                        Mode Range\n",
            "PRECIPITAÇÃO TOTAL, HORÁRIO (mm)                         0.0  42.8\n",
            "PRESSAO ATMOSFERICA AO NIVEL DA ESTACAO, HORARIA (mB) 1010.8  32.5\n",
            "PRESSÃO ATMOSFERICA MAX.NA HORA ANT. (AUT) (mB)       1011.4  31.8\n",
            "PRESSÃO ATMOSFERICA MIN. NA HORA ANT. (AUT) (mB)      1010.0  32.2\n",
            "TEMPERATURA DO AR - BULBO SECO, HORARIA (°C)            23.6  28.4\n",
            "TEMPERATURA MÁXIMA NA HORA ANT. (AUT) (°C)              23.8  28.6\n",
            "TEMPERATURA MÍNIMA NA HORA ANT. (AUT) (°C)              23.3  26.2\n",
            "VENTO, DIREÇÃO HORARIA (gr) (° (gr))                     9.0 359.0\n",
            "VENTO, RAJADA MAXIMA (m/s)                               3.0  21.4\n",
            "VENTO, VELOCIDADE HORARIA (m/s)                          2.0  14.1\n"
          ]
        }
      ]
    },
    {
      "cell_type": "markdown",
      "source": [
        "# Item 3"
      ],
      "metadata": {
        "id": "R15ndJvReOk1"
      }
    },
    {
      "cell_type": "markdown",
      "source": [
        "## Groupby Hour"
      ],
      "metadata": {
        "id": "EVIlg-lzTZ7f"
      }
    },
    {
      "cell_type": "code",
      "source": [
        "# Using groupby and summarise to calculate sum and mean\n",
        "result <- data1 %>%\n",
        "  group_by(data1[[\"Hora UTC\"]]) %>%\n",
        "  summarise(across(all_of(colnames(column_filter(data1))),\n",
        "                   list(sum = sum, mean = mean),\n",
        "                   .names = \"{.col}_{.fn}\"))\n",
        "\n",
        "head(result)"
      ],
      "metadata": {
        "id": "6cxblbPvePrR",
        "colab": {
          "base_uri": "https://localhost:8080/",
          "height": 393
        },
        "outputId": "d346feca-73c2-4b08-8954-0810f853c6ca"
      },
      "execution_count": null,
      "outputs": [
        {
          "output_type": "display_data",
          "data": {
            "text/html": [
              "<table class=\"dataframe\">\n",
              "<caption>A tibble: 6 × 21</caption>\n",
              "<thead>\n",
              "\t<tr><th scope=col>data1[[\"Hora UTC\"]]</th><th scope=col>PRECIPITAÇÃO TOTAL, HORÁRIO (mm)_sum</th><th scope=col>PRECIPITAÇÃO TOTAL, HORÁRIO (mm)_mean</th><th scope=col>PRESSAO ATMOSFERICA AO NIVEL DA ESTACAO, HORARIA (mB)_sum</th><th scope=col>PRESSAO ATMOSFERICA AO NIVEL DA ESTACAO, HORARIA (mB)_mean</th><th scope=col>PRESSÃO ATMOSFERICA MAX.NA HORA ANT. (AUT) (mB)_sum</th><th scope=col>PRESSÃO ATMOSFERICA MAX.NA HORA ANT. (AUT) (mB)_mean</th><th scope=col>PRESSÃO ATMOSFERICA MIN. NA HORA ANT. (AUT) (mB)_sum</th><th scope=col>PRESSÃO ATMOSFERICA MIN. NA HORA ANT. (AUT) (mB)_mean</th><th scope=col>TEMPERATURA DO AR - BULBO SECO, HORARIA (°C)_sum</th><th scope=col>⋯</th><th scope=col>TEMPERATURA MÁXIMA NA HORA ANT. (AUT) (°C)_sum</th><th scope=col>TEMPERATURA MÁXIMA NA HORA ANT. (AUT) (°C)_mean</th><th scope=col>TEMPERATURA MÍNIMA NA HORA ANT. (AUT) (°C)_sum</th><th scope=col>TEMPERATURA MÍNIMA NA HORA ANT. (AUT) (°C)_mean</th><th scope=col>VENTO, DIREÇÃO HORARIA (gr) (° (gr))_sum</th><th scope=col>VENTO, DIREÇÃO HORARIA (gr) (° (gr))_mean</th><th scope=col>VENTO, RAJADA MAXIMA (m/s)_sum</th><th scope=col>VENTO, RAJADA MAXIMA (m/s)_mean</th><th scope=col>VENTO, VELOCIDADE HORARIA (m/s)_sum</th><th scope=col>VENTO, VELOCIDADE HORARIA (m/s)_mean</th></tr>\n",
              "\t<tr><th scope=col>&lt;chr&gt;</th><th scope=col>&lt;dbl&gt;</th><th scope=col>&lt;dbl&gt;</th><th scope=col>&lt;dbl&gt;</th><th scope=col>&lt;dbl&gt;</th><th scope=col>&lt;dbl&gt;</th><th scope=col>&lt;dbl&gt;</th><th scope=col>&lt;dbl&gt;</th><th scope=col>&lt;dbl&gt;</th><th scope=col>&lt;dbl&gt;</th><th scope=col>⋯</th><th scope=col>&lt;dbl&gt;</th><th scope=col>&lt;dbl&gt;</th><th scope=col>&lt;dbl&gt;</th><th scope=col>&lt;dbl&gt;</th><th scope=col>&lt;int&gt;</th><th scope=col>&lt;dbl&gt;</th><th scope=col>&lt;dbl&gt;</th><th scope=col>&lt;dbl&gt;</th><th scope=col>&lt;dbl&gt;</th><th scope=col>&lt;dbl&gt;</th></tr>\n",
              "</thead>\n",
              "<tbody>\n",
              "\t<tr><td>00:00</td><td> 64.6</td><td>0.17698630</td><td>370295.7</td><td>1014.509</td><td>370314.0</td><td>1014.559</td><td>370126.5</td><td>1014.045</td><td>8172.0</td><td>⋯</td><td>8420.0</td><td>23.06849</td><td>8084.8</td><td>22.15014</td><td>55388</td><td>151.7479</td><td>2065.9</td><td>5.660000</td><td>1042.8</td><td>2.856986</td></tr>\n",
              "\t<tr><td>01:00</td><td> 93.8</td><td>0.25698630</td><td>370377.9</td><td>1014.734</td><td>370414.1</td><td>1014.833</td><td>370268.7</td><td>1014.435</td><td>8022.5</td><td>⋯</td><td>8259.0</td><td>22.62740</td><td>7929.4</td><td>21.72438</td><td>52935</td><td>145.0274</td><td>1873.7</td><td>5.133425</td><td> 984.2</td><td>2.696438</td></tr>\n",
              "\t<tr><td>02:00</td><td>147.8</td><td>0.40493151</td><td>370337.3</td><td>1014.623</td><td>370426.1</td><td>1014.866</td><td>370300.0</td><td>1014.521</td><td>7910.6</td><td>⋯</td><td>8122.3</td><td>22.25288</td><td>7815.4</td><td>21.41205</td><td>49375</td><td>135.2740</td><td>1789.1</td><td>4.901644</td><td> 981.1</td><td>2.687945</td></tr>\n",
              "\t<tr><td>03:00</td><td> 81.4</td><td>0.22301370</td><td>370222.9</td><td>1014.309</td><td>370363.2</td><td>1014.694</td><td>370199.7</td><td>1014.246</td><td>7805.3</td><td>⋯</td><td>8002.4</td><td>21.92438</td><td>7716.6</td><td>21.14137</td><td>50357</td><td>137.9644</td><td>1750.4</td><td>4.795616</td><td> 996.6</td><td>2.730411</td></tr>\n",
              "\t<tr><td>04:00</td><td> 61.0</td><td>0.16712329</td><td>370070.0</td><td>1013.890</td><td>370239.7</td><td>1014.355</td><td>370054.4</td><td>1013.848</td><td>7728.7</td><td>⋯</td><td>7906.9</td><td>21.66274</td><td>7631.8</td><td>20.90904</td><td>48186</td><td>132.0164</td><td>1766.8</td><td>4.840548</td><td>1012.0</td><td>2.772603</td></tr>\n",
              "\t<tr><td>05:00</td><td> 34.4</td><td>0.09424658</td><td>369900.5</td><td>1013.426</td><td>370086.6</td><td>1013.936</td><td>369887.2</td><td>1013.390</td><td>7690.0</td><td>⋯</td><td>7840.1</td><td>21.47973</td><td>7585.3</td><td>20.78164</td><td>43898</td><td>120.2685</td><td>1771.9</td><td>4.854521</td><td>1034.7</td><td>2.834795</td></tr>\n",
              "</tbody>\n",
              "</table>\n"
            ],
            "text/markdown": "\nA tibble: 6 × 21\n\n| data1[[\"Hora UTC\"]] &lt;chr&gt; | PRECIPITAÇÃO TOTAL, HORÁRIO (mm)_sum &lt;dbl&gt; | PRECIPITAÇÃO TOTAL, HORÁRIO (mm)_mean &lt;dbl&gt; | PRESSAO ATMOSFERICA AO NIVEL DA ESTACAO, HORARIA (mB)_sum &lt;dbl&gt; | PRESSAO ATMOSFERICA AO NIVEL DA ESTACAO, HORARIA (mB)_mean &lt;dbl&gt; | PRESSÃO ATMOSFERICA MAX.NA HORA ANT. (AUT) (mB)_sum &lt;dbl&gt; | PRESSÃO ATMOSFERICA MAX.NA HORA ANT. (AUT) (mB)_mean &lt;dbl&gt; | PRESSÃO ATMOSFERICA MIN. NA HORA ANT. (AUT) (mB)_sum &lt;dbl&gt; | PRESSÃO ATMOSFERICA MIN. NA HORA ANT. (AUT) (mB)_mean &lt;dbl&gt; | TEMPERATURA DO AR - BULBO SECO, HORARIA (°C)_sum &lt;dbl&gt; | ⋯ ⋯ | TEMPERATURA MÁXIMA NA HORA ANT. (AUT) (°C)_sum &lt;dbl&gt; | TEMPERATURA MÁXIMA NA HORA ANT. (AUT) (°C)_mean &lt;dbl&gt; | TEMPERATURA MÍNIMA NA HORA ANT. (AUT) (°C)_sum &lt;dbl&gt; | TEMPERATURA MÍNIMA NA HORA ANT. (AUT) (°C)_mean &lt;dbl&gt; | VENTO, DIREÇÃO HORARIA (gr) (° (gr))_sum &lt;int&gt; | VENTO, DIREÇÃO HORARIA (gr) (° (gr))_mean &lt;dbl&gt; | VENTO, RAJADA MAXIMA (m/s)_sum &lt;dbl&gt; | VENTO, RAJADA MAXIMA (m/s)_mean &lt;dbl&gt; | VENTO, VELOCIDADE HORARIA (m/s)_sum &lt;dbl&gt; | VENTO, VELOCIDADE HORARIA (m/s)_mean &lt;dbl&gt; |\n|---|---|---|---|---|---|---|---|---|---|---|---|---|---|---|---|---|---|---|---|---|\n| 00:00 |  64.6 | 0.17698630 | 370295.7 | 1014.509 | 370314.0 | 1014.559 | 370126.5 | 1014.045 | 8172.0 | ⋯ | 8420.0 | 23.06849 | 8084.8 | 22.15014 | 55388 | 151.7479 | 2065.9 | 5.660000 | 1042.8 | 2.856986 |\n| 01:00 |  93.8 | 0.25698630 | 370377.9 | 1014.734 | 370414.1 | 1014.833 | 370268.7 | 1014.435 | 8022.5 | ⋯ | 8259.0 | 22.62740 | 7929.4 | 21.72438 | 52935 | 145.0274 | 1873.7 | 5.133425 |  984.2 | 2.696438 |\n| 02:00 | 147.8 | 0.40493151 | 370337.3 | 1014.623 | 370426.1 | 1014.866 | 370300.0 | 1014.521 | 7910.6 | ⋯ | 8122.3 | 22.25288 | 7815.4 | 21.41205 | 49375 | 135.2740 | 1789.1 | 4.901644 |  981.1 | 2.687945 |\n| 03:00 |  81.4 | 0.22301370 | 370222.9 | 1014.309 | 370363.2 | 1014.694 | 370199.7 | 1014.246 | 7805.3 | ⋯ | 8002.4 | 21.92438 | 7716.6 | 21.14137 | 50357 | 137.9644 | 1750.4 | 4.795616 |  996.6 | 2.730411 |\n| 04:00 |  61.0 | 0.16712329 | 370070.0 | 1013.890 | 370239.7 | 1014.355 | 370054.4 | 1013.848 | 7728.7 | ⋯ | 7906.9 | 21.66274 | 7631.8 | 20.90904 | 48186 | 132.0164 | 1766.8 | 4.840548 | 1012.0 | 2.772603 |\n| 05:00 |  34.4 | 0.09424658 | 369900.5 | 1013.426 | 370086.6 | 1013.936 | 369887.2 | 1013.390 | 7690.0 | ⋯ | 7840.1 | 21.47973 | 7585.3 | 20.78164 | 43898 | 120.2685 | 1771.9 | 4.854521 | 1034.7 | 2.834795 |\n\n",
            "text/latex": "A tibble: 6 × 21\n\\begin{tabular}{lllllllllllllllllllll}\n data1{[}{[}\"Hora UTC\"{]}{]} & PRECIPITAÇÃO TOTAL, HORÁRIO (mm)\\_sum & PRECIPITAÇÃO TOTAL, HORÁRIO (mm)\\_mean & PRESSAO ATMOSFERICA AO NIVEL DA ESTACAO, HORARIA (mB)\\_sum & PRESSAO ATMOSFERICA AO NIVEL DA ESTACAO, HORARIA (mB)\\_mean & PRESSÃO ATMOSFERICA MAX.NA HORA ANT. (AUT) (mB)\\_sum & PRESSÃO ATMOSFERICA MAX.NA HORA ANT. (AUT) (mB)\\_mean & PRESSÃO ATMOSFERICA MIN. NA HORA ANT. (AUT) (mB)\\_sum & PRESSÃO ATMOSFERICA MIN. NA HORA ANT. (AUT) (mB)\\_mean & TEMPERATURA DO AR - BULBO SECO, HORARIA (°C)\\_sum & ⋯ & TEMPERATURA MÁXIMA NA HORA ANT. (AUT) (°C)\\_sum & TEMPERATURA MÁXIMA NA HORA ANT. (AUT) (°C)\\_mean & TEMPERATURA MÍNIMA NA HORA ANT. (AUT) (°C)\\_sum & TEMPERATURA MÍNIMA NA HORA ANT. (AUT) (°C)\\_mean & VENTO, DIREÇÃO HORARIA (gr) (° (gr))\\_sum & VENTO, DIREÇÃO HORARIA (gr) (° (gr))\\_mean & VENTO, RAJADA MAXIMA (m/s)\\_sum & VENTO, RAJADA MAXIMA (m/s)\\_mean & VENTO, VELOCIDADE HORARIA (m/s)\\_sum & VENTO, VELOCIDADE HORARIA (m/s)\\_mean\\\\\n <chr> & <dbl> & <dbl> & <dbl> & <dbl> & <dbl> & <dbl> & <dbl> & <dbl> & <dbl> & ⋯ & <dbl> & <dbl> & <dbl> & <dbl> & <int> & <dbl> & <dbl> & <dbl> & <dbl> & <dbl>\\\\\n\\hline\n\t 00:00 &  64.6 & 0.17698630 & 370295.7 & 1014.509 & 370314.0 & 1014.559 & 370126.5 & 1014.045 & 8172.0 & ⋯ & 8420.0 & 23.06849 & 8084.8 & 22.15014 & 55388 & 151.7479 & 2065.9 & 5.660000 & 1042.8 & 2.856986\\\\\n\t 01:00 &  93.8 & 0.25698630 & 370377.9 & 1014.734 & 370414.1 & 1014.833 & 370268.7 & 1014.435 & 8022.5 & ⋯ & 8259.0 & 22.62740 & 7929.4 & 21.72438 & 52935 & 145.0274 & 1873.7 & 5.133425 &  984.2 & 2.696438\\\\\n\t 02:00 & 147.8 & 0.40493151 & 370337.3 & 1014.623 & 370426.1 & 1014.866 & 370300.0 & 1014.521 & 7910.6 & ⋯ & 8122.3 & 22.25288 & 7815.4 & 21.41205 & 49375 & 135.2740 & 1789.1 & 4.901644 &  981.1 & 2.687945\\\\\n\t 03:00 &  81.4 & 0.22301370 & 370222.9 & 1014.309 & 370363.2 & 1014.694 & 370199.7 & 1014.246 & 7805.3 & ⋯ & 8002.4 & 21.92438 & 7716.6 & 21.14137 & 50357 & 137.9644 & 1750.4 & 4.795616 &  996.6 & 2.730411\\\\\n\t 04:00 &  61.0 & 0.16712329 & 370070.0 & 1013.890 & 370239.7 & 1014.355 & 370054.4 & 1013.848 & 7728.7 & ⋯ & 7906.9 & 21.66274 & 7631.8 & 20.90904 & 48186 & 132.0164 & 1766.8 & 4.840548 & 1012.0 & 2.772603\\\\\n\t 05:00 &  34.4 & 0.09424658 & 369900.5 & 1013.426 & 370086.6 & 1013.936 & 369887.2 & 1013.390 & 7690.0 & ⋯ & 7840.1 & 21.47973 & 7585.3 & 20.78164 & 43898 & 120.2685 & 1771.9 & 4.854521 & 1034.7 & 2.834795\\\\\n\\end{tabular}\n",
            "text/plain": [
              "  data1[[\"Hora UTC\"]] PRECIPITAÇÃO TOTAL, HORÁRIO (mm)_sum\n",
              "1 00:00                64.6                               \n",
              "2 01:00                93.8                               \n",
              "3 02:00               147.8                               \n",
              "4 03:00                81.4                               \n",
              "5 04:00                61.0                               \n",
              "6 05:00                34.4                               \n",
              "  PRECIPITAÇÃO TOTAL, HORÁRIO (mm)_mean\n",
              "1 0.17698630                           \n",
              "2 0.25698630                           \n",
              "3 0.40493151                           \n",
              "4 0.22301370                           \n",
              "5 0.16712329                           \n",
              "6 0.09424658                           \n",
              "  PRESSAO ATMOSFERICA AO NIVEL DA ESTACAO, HORARIA (mB)_sum\n",
              "1 370295.7                                                 \n",
              "2 370377.9                                                 \n",
              "3 370337.3                                                 \n",
              "4 370222.9                                                 \n",
              "5 370070.0                                                 \n",
              "6 369900.5                                                 \n",
              "  PRESSAO ATMOSFERICA AO NIVEL DA ESTACAO, HORARIA (mB)_mean\n",
              "1 1014.509                                                  \n",
              "2 1014.734                                                  \n",
              "3 1014.623                                                  \n",
              "4 1014.309                                                  \n",
              "5 1013.890                                                  \n",
              "6 1013.426                                                  \n",
              "  PRESSÃO ATMOSFERICA MAX.NA HORA ANT. (AUT) (mB)_sum\n",
              "1 370314.0                                           \n",
              "2 370414.1                                           \n",
              "3 370426.1                                           \n",
              "4 370363.2                                           \n",
              "5 370239.7                                           \n",
              "6 370086.6                                           \n",
              "  PRESSÃO ATMOSFERICA MAX.NA HORA ANT. (AUT) (mB)_mean\n",
              "1 1014.559                                            \n",
              "2 1014.833                                            \n",
              "3 1014.866                                            \n",
              "4 1014.694                                            \n",
              "5 1014.355                                            \n",
              "6 1013.936                                            \n",
              "  PRESSÃO ATMOSFERICA MIN. NA HORA ANT. (AUT) (mB)_sum\n",
              "1 370126.5                                            \n",
              "2 370268.7                                            \n",
              "3 370300.0                                            \n",
              "4 370199.7                                            \n",
              "5 370054.4                                            \n",
              "6 369887.2                                            \n",
              "  PRESSÃO ATMOSFERICA MIN. NA HORA ANT. (AUT) (mB)_mean\n",
              "1 1014.045                                             \n",
              "2 1014.435                                             \n",
              "3 1014.521                                             \n",
              "4 1014.246                                             \n",
              "5 1013.848                                             \n",
              "6 1013.390                                             \n",
              "  TEMPERATURA DO AR - BULBO SECO, HORARIA (°C)_sum ⋯\n",
              "1 8172.0                                           ⋯\n",
              "2 8022.5                                           ⋯\n",
              "3 7910.6                                           ⋯\n",
              "4 7805.3                                           ⋯\n",
              "5 7728.7                                           ⋯\n",
              "6 7690.0                                           ⋯\n",
              "  TEMPERATURA MÁXIMA NA HORA ANT. (AUT) (°C)_sum\n",
              "1 8420.0                                        \n",
              "2 8259.0                                        \n",
              "3 8122.3                                        \n",
              "4 8002.4                                        \n",
              "5 7906.9                                        \n",
              "6 7840.1                                        \n",
              "  TEMPERATURA MÁXIMA NA HORA ANT. (AUT) (°C)_mean\n",
              "1 23.06849                                       \n",
              "2 22.62740                                       \n",
              "3 22.25288                                       \n",
              "4 21.92438                                       \n",
              "5 21.66274                                       \n",
              "6 21.47973                                       \n",
              "  TEMPERATURA MÍNIMA NA HORA ANT. (AUT) (°C)_sum\n",
              "1 8084.8                                        \n",
              "2 7929.4                                        \n",
              "3 7815.4                                        \n",
              "4 7716.6                                        \n",
              "5 7631.8                                        \n",
              "6 7585.3                                        \n",
              "  TEMPERATURA MÍNIMA NA HORA ANT. (AUT) (°C)_mean\n",
              "1 22.15014                                       \n",
              "2 21.72438                                       \n",
              "3 21.41205                                       \n",
              "4 21.14137                                       \n",
              "5 20.90904                                       \n",
              "6 20.78164                                       \n",
              "  VENTO, DIREÇÃO HORARIA (gr) (° (gr))_sum\n",
              "1 55388                                   \n",
              "2 52935                                   \n",
              "3 49375                                   \n",
              "4 50357                                   \n",
              "5 48186                                   \n",
              "6 43898                                   \n",
              "  VENTO, DIREÇÃO HORARIA (gr) (° (gr))_mean VENTO, RAJADA MAXIMA (m/s)_sum\n",
              "1 151.7479                                  2065.9                        \n",
              "2 145.0274                                  1873.7                        \n",
              "3 135.2740                                  1789.1                        \n",
              "4 137.9644                                  1750.4                        \n",
              "5 132.0164                                  1766.8                        \n",
              "6 120.2685                                  1771.9                        \n",
              "  VENTO, RAJADA MAXIMA (m/s)_mean VENTO, VELOCIDADE HORARIA (m/s)_sum\n",
              "1 5.660000                        1042.8                             \n",
              "2 5.133425                         984.2                             \n",
              "3 4.901644                         981.1                             \n",
              "4 4.795616                         996.6                             \n",
              "5 4.840548                        1012.0                             \n",
              "6 4.854521                        1034.7                             \n",
              "  VENTO, VELOCIDADE HORARIA (m/s)_mean\n",
              "1 2.856986                            \n",
              "2 2.696438                            \n",
              "3 2.687945                            \n",
              "4 2.730411                            \n",
              "5 2.772603                            \n",
              "6 2.834795                            "
            ]
          },
          "metadata": {}
        }
      ]
    },
    {
      "cell_type": "code",
      "source": [
        "# Using groupby and summarise to calculate sum and mean\n",
        "result <- data2 %>%\n",
        "  group_by(data2[[\"Hora UTC\"]]) %>%\n",
        "  summarise(across(all_of(colnames(column_filter(data2))),\n",
        "                   list(sum = sum, mean = mean),\n",
        "                   .names = \"{.col}_{.fn}\"))\n",
        "\n",
        "head(result)"
      ],
      "metadata": {
        "colab": {
          "base_uri": "https://localhost:8080/",
          "height": 393
        },
        "id": "5XlDpyQjRDgH",
        "outputId": "630ac607-59cf-49f4-cc6a-ed109d94a353"
      },
      "execution_count": null,
      "outputs": [
        {
          "output_type": "display_data",
          "data": {
            "text/html": [
              "<table class=\"dataframe\">\n",
              "<caption>A tibble: 6 × 21</caption>\n",
              "<thead>\n",
              "\t<tr><th scope=col>data2[[\"Hora UTC\"]]</th><th scope=col>PRECIPITAÇÃO TOTAL, HORÁRIO (mm)_sum</th><th scope=col>PRECIPITAÇÃO TOTAL, HORÁRIO (mm)_mean</th><th scope=col>PRESSAO ATMOSFERICA AO NIVEL DA ESTACAO, HORARIA (mB)_sum</th><th scope=col>PRESSAO ATMOSFERICA AO NIVEL DA ESTACAO, HORARIA (mB)_mean</th><th scope=col>PRESSÃO ATMOSFERICA MAX.NA HORA ANT. (AUT) (mB)_sum</th><th scope=col>PRESSÃO ATMOSFERICA MAX.NA HORA ANT. (AUT) (mB)_mean</th><th scope=col>PRESSÃO ATMOSFERICA MIN. NA HORA ANT. (AUT) (mB)_sum</th><th scope=col>PRESSÃO ATMOSFERICA MIN. NA HORA ANT. (AUT) (mB)_mean</th><th scope=col>TEMPERATURA DO AR - BULBO SECO, HORARIA (°C)_sum</th><th scope=col>⋯</th><th scope=col>TEMPERATURA MÁXIMA NA HORA ANT. (AUT) (°C)_sum</th><th scope=col>TEMPERATURA MÁXIMA NA HORA ANT. (AUT) (°C)_mean</th><th scope=col>TEMPERATURA MÍNIMA NA HORA ANT. (AUT) (°C)_sum</th><th scope=col>TEMPERATURA MÍNIMA NA HORA ANT. (AUT) (°C)_mean</th><th scope=col>VENTO, DIREÇÃO HORARIA (gr) (° (gr))_sum</th><th scope=col>VENTO, DIREÇÃO HORARIA (gr) (° (gr))_mean</th><th scope=col>VENTO, RAJADA MAXIMA (m/s)_sum</th><th scope=col>VENTO, RAJADA MAXIMA (m/s)_mean</th><th scope=col>VENTO, VELOCIDADE HORARIA (m/s)_sum</th><th scope=col>VENTO, VELOCIDADE HORARIA (m/s)_mean</th></tr>\n",
              "\t<tr><th scope=col>&lt;chr&gt;</th><th scope=col>&lt;dbl&gt;</th><th scope=col>&lt;dbl&gt;</th><th scope=col>&lt;dbl&gt;</th><th scope=col>&lt;dbl&gt;</th><th scope=col>&lt;dbl&gt;</th><th scope=col>&lt;dbl&gt;</th><th scope=col>&lt;dbl&gt;</th><th scope=col>&lt;dbl&gt;</th><th scope=col>&lt;dbl&gt;</th><th scope=col>⋯</th><th scope=col>&lt;dbl&gt;</th><th scope=col>&lt;dbl&gt;</th><th scope=col>&lt;dbl&gt;</th><th scope=col>&lt;dbl&gt;</th><th scope=col>&lt;int&gt;</th><th scope=col>&lt;dbl&gt;</th><th scope=col>&lt;dbl&gt;</th><th scope=col>&lt;dbl&gt;</th><th scope=col>&lt;dbl&gt;</th><th scope=col>&lt;dbl&gt;</th></tr>\n",
              "</thead>\n",
              "<tbody>\n",
              "\t<tr><td>00:00</td><td>43.6</td><td>0.15086505</td><td>293179.7</td><td>1014.463</td><td>293196.1</td><td>1014.519</td><td>293033.4</td><td>1013.956</td><td>6678.1</td><td>⋯</td><td>6870.4</td><td>23.77301</td><td>6618.7</td><td>22.90208</td><td>42887</td><td>148.3979</td><td>1588.9</td><td>5.497924</td><td>777.8</td><td>2.691349</td></tr>\n",
              "\t<tr><td>01:00</td><td>51.4</td><td>0.17785467</td><td>293238.9</td><td>1014.667</td><td>293273.8</td><td>1014.788</td><td>293148.2</td><td>1014.354</td><td>6553.9</td><td>⋯</td><td>6738.7</td><td>23.31730</td><td>6504.0</td><td>22.50519</td><td>37797</td><td>130.7855</td><td>1438.5</td><td>4.977509</td><td>724.0</td><td>2.505190</td></tr>\n",
              "\t<tr><td>02:00</td><td>40.0</td><td>0.13840830</td><td>293200.1</td><td>1014.533</td><td>293275.9</td><td>1014.796</td><td>293168.7</td><td>1014.425</td><td>6478.4</td><td>⋯</td><td>6628.3</td><td>22.93529</td><td>6411.0</td><td>22.18339</td><td>39409</td><td>136.3633</td><td>1334.6</td><td>4.617993</td><td>691.5</td><td>2.392734</td></tr>\n",
              "\t<tr><td>03:00</td><td>21.6</td><td>0.07474048</td><td>293098.0</td><td>1014.180</td><td>293223.2</td><td>1014.613</td><td>293076.8</td><td>1014.107</td><td>6395.8</td><td>⋯</td><td>6555.8</td><td>22.68443</td><td>6317.7</td><td>21.86055</td><td>36684</td><td>126.9343</td><td>1311.5</td><td>4.538062</td><td>733.9</td><td>2.539446</td></tr>\n",
              "\t<tr><td>04:00</td><td>18.6</td><td>0.06435986</td><td>292974.4</td><td>1013.752</td><td>293114.5</td><td>1014.237</td><td>292960.4</td><td>1013.704</td><td>6329.5</td><td>⋯</td><td>6482.0</td><td>22.42907</td><td>6256.6</td><td>21.64913</td><td>32667</td><td>113.0346</td><td>1325.0</td><td>4.584775</td><td>748.1</td><td>2.588581</td></tr>\n",
              "\t<tr><td>05:00</td><td>54.4</td><td>0.18823529</td><td>292854.6</td><td>1013.338</td><td>292991.0</td><td>1013.810</td><td>292839.4</td><td>1013.285</td><td>6281.8</td><td>⋯</td><td>6406.0</td><td>22.16609</td><td>6209.9</td><td>21.48754</td><td>34591</td><td>119.6920</td><td>1321.4</td><td>4.572318</td><td>762.1</td><td>2.637024</td></tr>\n",
              "</tbody>\n",
              "</table>\n"
            ],
            "text/markdown": "\nA tibble: 6 × 21\n\n| data2[[\"Hora UTC\"]] &lt;chr&gt; | PRECIPITAÇÃO TOTAL, HORÁRIO (mm)_sum &lt;dbl&gt; | PRECIPITAÇÃO TOTAL, HORÁRIO (mm)_mean &lt;dbl&gt; | PRESSAO ATMOSFERICA AO NIVEL DA ESTACAO, HORARIA (mB)_sum &lt;dbl&gt; | PRESSAO ATMOSFERICA AO NIVEL DA ESTACAO, HORARIA (mB)_mean &lt;dbl&gt; | PRESSÃO ATMOSFERICA MAX.NA HORA ANT. (AUT) (mB)_sum &lt;dbl&gt; | PRESSÃO ATMOSFERICA MAX.NA HORA ANT. (AUT) (mB)_mean &lt;dbl&gt; | PRESSÃO ATMOSFERICA MIN. NA HORA ANT. (AUT) (mB)_sum &lt;dbl&gt; | PRESSÃO ATMOSFERICA MIN. NA HORA ANT. (AUT) (mB)_mean &lt;dbl&gt; | TEMPERATURA DO AR - BULBO SECO, HORARIA (°C)_sum &lt;dbl&gt; | ⋯ ⋯ | TEMPERATURA MÁXIMA NA HORA ANT. (AUT) (°C)_sum &lt;dbl&gt; | TEMPERATURA MÁXIMA NA HORA ANT. (AUT) (°C)_mean &lt;dbl&gt; | TEMPERATURA MÍNIMA NA HORA ANT. (AUT) (°C)_sum &lt;dbl&gt; | TEMPERATURA MÍNIMA NA HORA ANT. (AUT) (°C)_mean &lt;dbl&gt; | VENTO, DIREÇÃO HORARIA (gr) (° (gr))_sum &lt;int&gt; | VENTO, DIREÇÃO HORARIA (gr) (° (gr))_mean &lt;dbl&gt; | VENTO, RAJADA MAXIMA (m/s)_sum &lt;dbl&gt; | VENTO, RAJADA MAXIMA (m/s)_mean &lt;dbl&gt; | VENTO, VELOCIDADE HORARIA (m/s)_sum &lt;dbl&gt; | VENTO, VELOCIDADE HORARIA (m/s)_mean &lt;dbl&gt; |\n|---|---|---|---|---|---|---|---|---|---|---|---|---|---|---|---|---|---|---|---|---|\n| 00:00 | 43.6 | 0.15086505 | 293179.7 | 1014.463 | 293196.1 | 1014.519 | 293033.4 | 1013.956 | 6678.1 | ⋯ | 6870.4 | 23.77301 | 6618.7 | 22.90208 | 42887 | 148.3979 | 1588.9 | 5.497924 | 777.8 | 2.691349 |\n| 01:00 | 51.4 | 0.17785467 | 293238.9 | 1014.667 | 293273.8 | 1014.788 | 293148.2 | 1014.354 | 6553.9 | ⋯ | 6738.7 | 23.31730 | 6504.0 | 22.50519 | 37797 | 130.7855 | 1438.5 | 4.977509 | 724.0 | 2.505190 |\n| 02:00 | 40.0 | 0.13840830 | 293200.1 | 1014.533 | 293275.9 | 1014.796 | 293168.7 | 1014.425 | 6478.4 | ⋯ | 6628.3 | 22.93529 | 6411.0 | 22.18339 | 39409 | 136.3633 | 1334.6 | 4.617993 | 691.5 | 2.392734 |\n| 03:00 | 21.6 | 0.07474048 | 293098.0 | 1014.180 | 293223.2 | 1014.613 | 293076.8 | 1014.107 | 6395.8 | ⋯ | 6555.8 | 22.68443 | 6317.7 | 21.86055 | 36684 | 126.9343 | 1311.5 | 4.538062 | 733.9 | 2.539446 |\n| 04:00 | 18.6 | 0.06435986 | 292974.4 | 1013.752 | 293114.5 | 1014.237 | 292960.4 | 1013.704 | 6329.5 | ⋯ | 6482.0 | 22.42907 | 6256.6 | 21.64913 | 32667 | 113.0346 | 1325.0 | 4.584775 | 748.1 | 2.588581 |\n| 05:00 | 54.4 | 0.18823529 | 292854.6 | 1013.338 | 292991.0 | 1013.810 | 292839.4 | 1013.285 | 6281.8 | ⋯ | 6406.0 | 22.16609 | 6209.9 | 21.48754 | 34591 | 119.6920 | 1321.4 | 4.572318 | 762.1 | 2.637024 |\n\n",
            "text/latex": "A tibble: 6 × 21\n\\begin{tabular}{lllllllllllllllllllll}\n data2{[}{[}\"Hora UTC\"{]}{]} & PRECIPITAÇÃO TOTAL, HORÁRIO (mm)\\_sum & PRECIPITAÇÃO TOTAL, HORÁRIO (mm)\\_mean & PRESSAO ATMOSFERICA AO NIVEL DA ESTACAO, HORARIA (mB)\\_sum & PRESSAO ATMOSFERICA AO NIVEL DA ESTACAO, HORARIA (mB)\\_mean & PRESSÃO ATMOSFERICA MAX.NA HORA ANT. (AUT) (mB)\\_sum & PRESSÃO ATMOSFERICA MAX.NA HORA ANT. (AUT) (mB)\\_mean & PRESSÃO ATMOSFERICA MIN. NA HORA ANT. (AUT) (mB)\\_sum & PRESSÃO ATMOSFERICA MIN. NA HORA ANT. (AUT) (mB)\\_mean & TEMPERATURA DO AR - BULBO SECO, HORARIA (°C)\\_sum & ⋯ & TEMPERATURA MÁXIMA NA HORA ANT. (AUT) (°C)\\_sum & TEMPERATURA MÁXIMA NA HORA ANT. (AUT) (°C)\\_mean & TEMPERATURA MÍNIMA NA HORA ANT. (AUT) (°C)\\_sum & TEMPERATURA MÍNIMA NA HORA ANT. (AUT) (°C)\\_mean & VENTO, DIREÇÃO HORARIA (gr) (° (gr))\\_sum & VENTO, DIREÇÃO HORARIA (gr) (° (gr))\\_mean & VENTO, RAJADA MAXIMA (m/s)\\_sum & VENTO, RAJADA MAXIMA (m/s)\\_mean & VENTO, VELOCIDADE HORARIA (m/s)\\_sum & VENTO, VELOCIDADE HORARIA (m/s)\\_mean\\\\\n <chr> & <dbl> & <dbl> & <dbl> & <dbl> & <dbl> & <dbl> & <dbl> & <dbl> & <dbl> & ⋯ & <dbl> & <dbl> & <dbl> & <dbl> & <int> & <dbl> & <dbl> & <dbl> & <dbl> & <dbl>\\\\\n\\hline\n\t 00:00 & 43.6 & 0.15086505 & 293179.7 & 1014.463 & 293196.1 & 1014.519 & 293033.4 & 1013.956 & 6678.1 & ⋯ & 6870.4 & 23.77301 & 6618.7 & 22.90208 & 42887 & 148.3979 & 1588.9 & 5.497924 & 777.8 & 2.691349\\\\\n\t 01:00 & 51.4 & 0.17785467 & 293238.9 & 1014.667 & 293273.8 & 1014.788 & 293148.2 & 1014.354 & 6553.9 & ⋯ & 6738.7 & 23.31730 & 6504.0 & 22.50519 & 37797 & 130.7855 & 1438.5 & 4.977509 & 724.0 & 2.505190\\\\\n\t 02:00 & 40.0 & 0.13840830 & 293200.1 & 1014.533 & 293275.9 & 1014.796 & 293168.7 & 1014.425 & 6478.4 & ⋯ & 6628.3 & 22.93529 & 6411.0 & 22.18339 & 39409 & 136.3633 & 1334.6 & 4.617993 & 691.5 & 2.392734\\\\\n\t 03:00 & 21.6 & 0.07474048 & 293098.0 & 1014.180 & 293223.2 & 1014.613 & 293076.8 & 1014.107 & 6395.8 & ⋯ & 6555.8 & 22.68443 & 6317.7 & 21.86055 & 36684 & 126.9343 & 1311.5 & 4.538062 & 733.9 & 2.539446\\\\\n\t 04:00 & 18.6 & 0.06435986 & 292974.4 & 1013.752 & 293114.5 & 1014.237 & 292960.4 & 1013.704 & 6329.5 & ⋯ & 6482.0 & 22.42907 & 6256.6 & 21.64913 & 32667 & 113.0346 & 1325.0 & 4.584775 & 748.1 & 2.588581\\\\\n\t 05:00 & 54.4 & 0.18823529 & 292854.6 & 1013.338 & 292991.0 & 1013.810 & 292839.4 & 1013.285 & 6281.8 & ⋯ & 6406.0 & 22.16609 & 6209.9 & 21.48754 & 34591 & 119.6920 & 1321.4 & 4.572318 & 762.1 & 2.637024\\\\\n\\end{tabular}\n",
            "text/plain": [
              "  data2[[\"Hora UTC\"]] PRECIPITAÇÃO TOTAL, HORÁRIO (mm)_sum\n",
              "1 00:00               43.6                                \n",
              "2 01:00               51.4                                \n",
              "3 02:00               40.0                                \n",
              "4 03:00               21.6                                \n",
              "5 04:00               18.6                                \n",
              "6 05:00               54.4                                \n",
              "  PRECIPITAÇÃO TOTAL, HORÁRIO (mm)_mean\n",
              "1 0.15086505                           \n",
              "2 0.17785467                           \n",
              "3 0.13840830                           \n",
              "4 0.07474048                           \n",
              "5 0.06435986                           \n",
              "6 0.18823529                           \n",
              "  PRESSAO ATMOSFERICA AO NIVEL DA ESTACAO, HORARIA (mB)_sum\n",
              "1 293179.7                                                 \n",
              "2 293238.9                                                 \n",
              "3 293200.1                                                 \n",
              "4 293098.0                                                 \n",
              "5 292974.4                                                 \n",
              "6 292854.6                                                 \n",
              "  PRESSAO ATMOSFERICA AO NIVEL DA ESTACAO, HORARIA (mB)_mean\n",
              "1 1014.463                                                  \n",
              "2 1014.667                                                  \n",
              "3 1014.533                                                  \n",
              "4 1014.180                                                  \n",
              "5 1013.752                                                  \n",
              "6 1013.338                                                  \n",
              "  PRESSÃO ATMOSFERICA MAX.NA HORA ANT. (AUT) (mB)_sum\n",
              "1 293196.1                                           \n",
              "2 293273.8                                           \n",
              "3 293275.9                                           \n",
              "4 293223.2                                           \n",
              "5 293114.5                                           \n",
              "6 292991.0                                           \n",
              "  PRESSÃO ATMOSFERICA MAX.NA HORA ANT. (AUT) (mB)_mean\n",
              "1 1014.519                                            \n",
              "2 1014.788                                            \n",
              "3 1014.796                                            \n",
              "4 1014.613                                            \n",
              "5 1014.237                                            \n",
              "6 1013.810                                            \n",
              "  PRESSÃO ATMOSFERICA MIN. NA HORA ANT. (AUT) (mB)_sum\n",
              "1 293033.4                                            \n",
              "2 293148.2                                            \n",
              "3 293168.7                                            \n",
              "4 293076.8                                            \n",
              "5 292960.4                                            \n",
              "6 292839.4                                            \n",
              "  PRESSÃO ATMOSFERICA MIN. NA HORA ANT. (AUT) (mB)_mean\n",
              "1 1013.956                                             \n",
              "2 1014.354                                             \n",
              "3 1014.425                                             \n",
              "4 1014.107                                             \n",
              "5 1013.704                                             \n",
              "6 1013.285                                             \n",
              "  TEMPERATURA DO AR - BULBO SECO, HORARIA (°C)_sum ⋯\n",
              "1 6678.1                                           ⋯\n",
              "2 6553.9                                           ⋯\n",
              "3 6478.4                                           ⋯\n",
              "4 6395.8                                           ⋯\n",
              "5 6329.5                                           ⋯\n",
              "6 6281.8                                           ⋯\n",
              "  TEMPERATURA MÁXIMA NA HORA ANT. (AUT) (°C)_sum\n",
              "1 6870.4                                        \n",
              "2 6738.7                                        \n",
              "3 6628.3                                        \n",
              "4 6555.8                                        \n",
              "5 6482.0                                        \n",
              "6 6406.0                                        \n",
              "  TEMPERATURA MÁXIMA NA HORA ANT. (AUT) (°C)_mean\n",
              "1 23.77301                                       \n",
              "2 23.31730                                       \n",
              "3 22.93529                                       \n",
              "4 22.68443                                       \n",
              "5 22.42907                                       \n",
              "6 22.16609                                       \n",
              "  TEMPERATURA MÍNIMA NA HORA ANT. (AUT) (°C)_sum\n",
              "1 6618.7                                        \n",
              "2 6504.0                                        \n",
              "3 6411.0                                        \n",
              "4 6317.7                                        \n",
              "5 6256.6                                        \n",
              "6 6209.9                                        \n",
              "  TEMPERATURA MÍNIMA NA HORA ANT. (AUT) (°C)_mean\n",
              "1 22.90208                                       \n",
              "2 22.50519                                       \n",
              "3 22.18339                                       \n",
              "4 21.86055                                       \n",
              "5 21.64913                                       \n",
              "6 21.48754                                       \n",
              "  VENTO, DIREÇÃO HORARIA (gr) (° (gr))_sum\n",
              "1 42887                                   \n",
              "2 37797                                   \n",
              "3 39409                                   \n",
              "4 36684                                   \n",
              "5 32667                                   \n",
              "6 34591                                   \n",
              "  VENTO, DIREÇÃO HORARIA (gr) (° (gr))_mean VENTO, RAJADA MAXIMA (m/s)_sum\n",
              "1 148.3979                                  1588.9                        \n",
              "2 130.7855                                  1438.5                        \n",
              "3 136.3633                                  1334.6                        \n",
              "4 126.9343                                  1311.5                        \n",
              "5 113.0346                                  1325.0                        \n",
              "6 119.6920                                  1321.4                        \n",
              "  VENTO, RAJADA MAXIMA (m/s)_mean VENTO, VELOCIDADE HORARIA (m/s)_sum\n",
              "1 5.497924                        777.8                              \n",
              "2 4.977509                        724.0                              \n",
              "3 4.617993                        691.5                              \n",
              "4 4.538062                        733.9                              \n",
              "5 4.584775                        748.1                              \n",
              "6 4.572318                        762.1                              \n",
              "  VENTO, VELOCIDADE HORARIA (m/s)_mean\n",
              "1 2.691349                            \n",
              "2 2.505190                            \n",
              "3 2.392734                            \n",
              "4 2.539446                            \n",
              "5 2.588581                            \n",
              "6 2.637024                            "
            ]
          },
          "metadata": {}
        }
      ]
    },
    {
      "cell_type": "markdown",
      "source": [
        "## Groupby Day"
      ],
      "metadata": {
        "id": "mO6Imi0xTerL"
      }
    },
    {
      "cell_type": "code",
      "source": [
        "# Using groupby and summarise to calculate sum and mean\n",
        "result <- data1 %>%\n",
        "  group_by(day = day(data1[[\"Data\"]])) %>%\n",
        "  summarise(across(all_of(colnames(column_filter(data1))),\n",
        "                   list(sum = sum, mean = mean),\n",
        "                   .names = \"{.col}_{.fn}\"))\n",
        "\n",
        "head(result)"
      ],
      "metadata": {
        "colab": {
          "base_uri": "https://localhost:8080/",
          "height": 393
        },
        "id": "Mc20rO-wTlGb",
        "outputId": "a192e351-00e0-45fc-ed90-07c3b6ffe5ba"
      },
      "execution_count": null,
      "outputs": [
        {
          "output_type": "display_data",
          "data": {
            "text/html": [
              "<table class=\"dataframe\">\n",
              "<caption>A tibble: 6 × 21</caption>\n",
              "<thead>\n",
              "\t<tr><th scope=col>day</th><th scope=col>PRECIPITAÇÃO TOTAL, HORÁRIO (mm)_sum</th><th scope=col>PRECIPITAÇÃO TOTAL, HORÁRIO (mm)_mean</th><th scope=col>PRESSAO ATMOSFERICA AO NIVEL DA ESTACAO, HORARIA (mB)_sum</th><th scope=col>PRESSAO ATMOSFERICA AO NIVEL DA ESTACAO, HORARIA (mB)_mean</th><th scope=col>PRESSÃO ATMOSFERICA MAX.NA HORA ANT. (AUT) (mB)_sum</th><th scope=col>PRESSÃO ATMOSFERICA MAX.NA HORA ANT. (AUT) (mB)_mean</th><th scope=col>PRESSÃO ATMOSFERICA MIN. NA HORA ANT. (AUT) (mB)_sum</th><th scope=col>PRESSÃO ATMOSFERICA MIN. NA HORA ANT. (AUT) (mB)_mean</th><th scope=col>TEMPERATURA DO AR - BULBO SECO, HORARIA (°C)_sum</th><th scope=col>⋯</th><th scope=col>TEMPERATURA MÁXIMA NA HORA ANT. (AUT) (°C)_sum</th><th scope=col>TEMPERATURA MÁXIMA NA HORA ANT. (AUT) (°C)_mean</th><th scope=col>TEMPERATURA MÍNIMA NA HORA ANT. (AUT) (°C)_sum</th><th scope=col>TEMPERATURA MÍNIMA NA HORA ANT. (AUT) (°C)_mean</th><th scope=col>VENTO, DIREÇÃO HORARIA (gr) (° (gr))_sum</th><th scope=col>VENTO, DIREÇÃO HORARIA (gr) (° (gr))_mean</th><th scope=col>VENTO, RAJADA MAXIMA (m/s)_sum</th><th scope=col>VENTO, RAJADA MAXIMA (m/s)_mean</th><th scope=col>VENTO, VELOCIDADE HORARIA (m/s)_sum</th><th scope=col>VENTO, VELOCIDADE HORARIA (m/s)_mean</th></tr>\n",
              "\t<tr><th scope=col>&lt;int&gt;</th><th scope=col>&lt;dbl&gt;</th><th scope=col>&lt;dbl&gt;</th><th scope=col>&lt;dbl&gt;</th><th scope=col>&lt;dbl&gt;</th><th scope=col>&lt;dbl&gt;</th><th scope=col>&lt;dbl&gt;</th><th scope=col>&lt;dbl&gt;</th><th scope=col>&lt;dbl&gt;</th><th scope=col>&lt;dbl&gt;</th><th scope=col>⋯</th><th scope=col>&lt;dbl&gt;</th><th scope=col>&lt;dbl&gt;</th><th scope=col>&lt;dbl&gt;</th><th scope=col>&lt;dbl&gt;</th><th scope=col>&lt;int&gt;</th><th scope=col>&lt;dbl&gt;</th><th scope=col>&lt;dbl&gt;</th><th scope=col>&lt;dbl&gt;</th><th scope=col>&lt;dbl&gt;</th><th scope=col>&lt;dbl&gt;</th></tr>\n",
              "</thead>\n",
              "<tbody>\n",
              "\t<tr><td>1</td><td>290.8</td><td>1.00972222</td><td>291811.1</td><td>1013.233</td><td>291885.0</td><td>1013.490</td><td>291734.4</td><td>1012.967</td><td>6633.2</td><td>⋯</td><td>6793.8</td><td>23.58958</td><td>6479.7</td><td>22.49896</td><td>37827</td><td>131.3438</td><td>1767.3</td><td>6.136458</td><td> 954.1</td><td>3.312847</td></tr>\n",
              "\t<tr><td>2</td><td> 93.6</td><td>0.32500000</td><td>292058.1</td><td>1014.091</td><td>292118.1</td><td>1014.299</td><td>291985.9</td><td>1013.840</td><td>6696.1</td><td>⋯</td><td>6871.2</td><td>23.85833</td><td>6508.7</td><td>22.59965</td><td>43429</td><td>150.7951</td><td>1924.5</td><td>6.682292</td><td>1074.4</td><td>3.730556</td></tr>\n",
              "\t<tr><td>3</td><td> 20.4</td><td>0.07083333</td><td>292173.0</td><td>1014.490</td><td>292239.6</td><td>1014.721</td><td>292107.7</td><td>1014.263</td><td>6780.1</td><td>⋯</td><td>6960.2</td><td>24.16736</td><td>6620.0</td><td>22.98611</td><td>38856</td><td>134.9167</td><td>1866.2</td><td>6.479861</td><td>1072.6</td><td>3.724306</td></tr>\n",
              "\t<tr><td>4</td><td> 39.2</td><td>0.13611111</td><td>291966.4</td><td>1013.772</td><td>292039.3</td><td>1014.025</td><td>291903.0</td><td>1013.552</td><td>6680.9</td><td>⋯</td><td>6869.0</td><td>23.85069</td><td>6498.3</td><td>22.56354</td><td>40695</td><td>141.3021</td><td>1691.3</td><td>5.872569</td><td> 888.7</td><td>3.085764</td></tr>\n",
              "\t<tr><td>5</td><td> 26.2</td><td>0.09128920</td><td>290840.1</td><td>1013.380</td><td>290905.2</td><td>1013.607</td><td>290764.3</td><td>1013.116</td><td>6821.1</td><td>⋯</td><td>6988.1</td><td>24.34878</td><td>6666.3</td><td>23.22753</td><td>44197</td><td>153.9965</td><td>1851.1</td><td>6.449826</td><td>1019.4</td><td>3.551916</td></tr>\n",
              "\t<tr><td>6</td><td> 32.0</td><td>0.11111111</td><td>292075.8</td><td>1014.152</td><td>292147.6</td><td>1014.401</td><td>292011.2</td><td>1013.928</td><td>6751.9</td><td>⋯</td><td>6920.1</td><td>24.02812</td><td>6600.2</td><td>22.91736</td><td>45903</td><td>159.3854</td><td>1988.2</td><td>6.903472</td><td>1099.6</td><td>3.818056</td></tr>\n",
              "</tbody>\n",
              "</table>\n"
            ],
            "text/markdown": "\nA tibble: 6 × 21\n\n| day &lt;int&gt; | PRECIPITAÇÃO TOTAL, HORÁRIO (mm)_sum &lt;dbl&gt; | PRECIPITAÇÃO TOTAL, HORÁRIO (mm)_mean &lt;dbl&gt; | PRESSAO ATMOSFERICA AO NIVEL DA ESTACAO, HORARIA (mB)_sum &lt;dbl&gt; | PRESSAO ATMOSFERICA AO NIVEL DA ESTACAO, HORARIA (mB)_mean &lt;dbl&gt; | PRESSÃO ATMOSFERICA MAX.NA HORA ANT. (AUT) (mB)_sum &lt;dbl&gt; | PRESSÃO ATMOSFERICA MAX.NA HORA ANT. (AUT) (mB)_mean &lt;dbl&gt; | PRESSÃO ATMOSFERICA MIN. NA HORA ANT. (AUT) (mB)_sum &lt;dbl&gt; | PRESSÃO ATMOSFERICA MIN. NA HORA ANT. (AUT) (mB)_mean &lt;dbl&gt; | TEMPERATURA DO AR - BULBO SECO, HORARIA (°C)_sum &lt;dbl&gt; | ⋯ ⋯ | TEMPERATURA MÁXIMA NA HORA ANT. (AUT) (°C)_sum &lt;dbl&gt; | TEMPERATURA MÁXIMA NA HORA ANT. (AUT) (°C)_mean &lt;dbl&gt; | TEMPERATURA MÍNIMA NA HORA ANT. (AUT) (°C)_sum &lt;dbl&gt; | TEMPERATURA MÍNIMA NA HORA ANT. (AUT) (°C)_mean &lt;dbl&gt; | VENTO, DIREÇÃO HORARIA (gr) (° (gr))_sum &lt;int&gt; | VENTO, DIREÇÃO HORARIA (gr) (° (gr))_mean &lt;dbl&gt; | VENTO, RAJADA MAXIMA (m/s)_sum &lt;dbl&gt; | VENTO, RAJADA MAXIMA (m/s)_mean &lt;dbl&gt; | VENTO, VELOCIDADE HORARIA (m/s)_sum &lt;dbl&gt; | VENTO, VELOCIDADE HORARIA (m/s)_mean &lt;dbl&gt; |\n|---|---|---|---|---|---|---|---|---|---|---|---|---|---|---|---|---|---|---|---|---|\n| 1 | 290.8 | 1.00972222 | 291811.1 | 1013.233 | 291885.0 | 1013.490 | 291734.4 | 1012.967 | 6633.2 | ⋯ | 6793.8 | 23.58958 | 6479.7 | 22.49896 | 37827 | 131.3438 | 1767.3 | 6.136458 |  954.1 | 3.312847 |\n| 2 |  93.6 | 0.32500000 | 292058.1 | 1014.091 | 292118.1 | 1014.299 | 291985.9 | 1013.840 | 6696.1 | ⋯ | 6871.2 | 23.85833 | 6508.7 | 22.59965 | 43429 | 150.7951 | 1924.5 | 6.682292 | 1074.4 | 3.730556 |\n| 3 |  20.4 | 0.07083333 | 292173.0 | 1014.490 | 292239.6 | 1014.721 | 292107.7 | 1014.263 | 6780.1 | ⋯ | 6960.2 | 24.16736 | 6620.0 | 22.98611 | 38856 | 134.9167 | 1866.2 | 6.479861 | 1072.6 | 3.724306 |\n| 4 |  39.2 | 0.13611111 | 291966.4 | 1013.772 | 292039.3 | 1014.025 | 291903.0 | 1013.552 | 6680.9 | ⋯ | 6869.0 | 23.85069 | 6498.3 | 22.56354 | 40695 | 141.3021 | 1691.3 | 5.872569 |  888.7 | 3.085764 |\n| 5 |  26.2 | 0.09128920 | 290840.1 | 1013.380 | 290905.2 | 1013.607 | 290764.3 | 1013.116 | 6821.1 | ⋯ | 6988.1 | 24.34878 | 6666.3 | 23.22753 | 44197 | 153.9965 | 1851.1 | 6.449826 | 1019.4 | 3.551916 |\n| 6 |  32.0 | 0.11111111 | 292075.8 | 1014.152 | 292147.6 | 1014.401 | 292011.2 | 1013.928 | 6751.9 | ⋯ | 6920.1 | 24.02812 | 6600.2 | 22.91736 | 45903 | 159.3854 | 1988.2 | 6.903472 | 1099.6 | 3.818056 |\n\n",
            "text/latex": "A tibble: 6 × 21\n\\begin{tabular}{lllllllllllllllllllll}\n day & PRECIPITAÇÃO TOTAL, HORÁRIO (mm)\\_sum & PRECIPITAÇÃO TOTAL, HORÁRIO (mm)\\_mean & PRESSAO ATMOSFERICA AO NIVEL DA ESTACAO, HORARIA (mB)\\_sum & PRESSAO ATMOSFERICA AO NIVEL DA ESTACAO, HORARIA (mB)\\_mean & PRESSÃO ATMOSFERICA MAX.NA HORA ANT. (AUT) (mB)\\_sum & PRESSÃO ATMOSFERICA MAX.NA HORA ANT. (AUT) (mB)\\_mean & PRESSÃO ATMOSFERICA MIN. NA HORA ANT. (AUT) (mB)\\_sum & PRESSÃO ATMOSFERICA MIN. NA HORA ANT. (AUT) (mB)\\_mean & TEMPERATURA DO AR - BULBO SECO, HORARIA (°C)\\_sum & ⋯ & TEMPERATURA MÁXIMA NA HORA ANT. (AUT) (°C)\\_sum & TEMPERATURA MÁXIMA NA HORA ANT. (AUT) (°C)\\_mean & TEMPERATURA MÍNIMA NA HORA ANT. (AUT) (°C)\\_sum & TEMPERATURA MÍNIMA NA HORA ANT. (AUT) (°C)\\_mean & VENTO, DIREÇÃO HORARIA (gr) (° (gr))\\_sum & VENTO, DIREÇÃO HORARIA (gr) (° (gr))\\_mean & VENTO, RAJADA MAXIMA (m/s)\\_sum & VENTO, RAJADA MAXIMA (m/s)\\_mean & VENTO, VELOCIDADE HORARIA (m/s)\\_sum & VENTO, VELOCIDADE HORARIA (m/s)\\_mean\\\\\n <int> & <dbl> & <dbl> & <dbl> & <dbl> & <dbl> & <dbl> & <dbl> & <dbl> & <dbl> & ⋯ & <dbl> & <dbl> & <dbl> & <dbl> & <int> & <dbl> & <dbl> & <dbl> & <dbl> & <dbl>\\\\\n\\hline\n\t 1 & 290.8 & 1.00972222 & 291811.1 & 1013.233 & 291885.0 & 1013.490 & 291734.4 & 1012.967 & 6633.2 & ⋯ & 6793.8 & 23.58958 & 6479.7 & 22.49896 & 37827 & 131.3438 & 1767.3 & 6.136458 &  954.1 & 3.312847\\\\\n\t 2 &  93.6 & 0.32500000 & 292058.1 & 1014.091 & 292118.1 & 1014.299 & 291985.9 & 1013.840 & 6696.1 & ⋯ & 6871.2 & 23.85833 & 6508.7 & 22.59965 & 43429 & 150.7951 & 1924.5 & 6.682292 & 1074.4 & 3.730556\\\\\n\t 3 &  20.4 & 0.07083333 & 292173.0 & 1014.490 & 292239.6 & 1014.721 & 292107.7 & 1014.263 & 6780.1 & ⋯ & 6960.2 & 24.16736 & 6620.0 & 22.98611 & 38856 & 134.9167 & 1866.2 & 6.479861 & 1072.6 & 3.724306\\\\\n\t 4 &  39.2 & 0.13611111 & 291966.4 & 1013.772 & 292039.3 & 1014.025 & 291903.0 & 1013.552 & 6680.9 & ⋯ & 6869.0 & 23.85069 & 6498.3 & 22.56354 & 40695 & 141.3021 & 1691.3 & 5.872569 &  888.7 & 3.085764\\\\\n\t 5 &  26.2 & 0.09128920 & 290840.1 & 1013.380 & 290905.2 & 1013.607 & 290764.3 & 1013.116 & 6821.1 & ⋯ & 6988.1 & 24.34878 & 6666.3 & 23.22753 & 44197 & 153.9965 & 1851.1 & 6.449826 & 1019.4 & 3.551916\\\\\n\t 6 &  32.0 & 0.11111111 & 292075.8 & 1014.152 & 292147.6 & 1014.401 & 292011.2 & 1013.928 & 6751.9 & ⋯ & 6920.1 & 24.02812 & 6600.2 & 22.91736 & 45903 & 159.3854 & 1988.2 & 6.903472 & 1099.6 & 3.818056\\\\\n\\end{tabular}\n",
            "text/plain": [
              "  day PRECIPITAÇÃO TOTAL, HORÁRIO (mm)_sum\n",
              "1 1   290.8                               \n",
              "2 2    93.6                               \n",
              "3 3    20.4                               \n",
              "4 4    39.2                               \n",
              "5 5    26.2                               \n",
              "6 6    32.0                               \n",
              "  PRECIPITAÇÃO TOTAL, HORÁRIO (mm)_mean\n",
              "1 1.00972222                           \n",
              "2 0.32500000                           \n",
              "3 0.07083333                           \n",
              "4 0.13611111                           \n",
              "5 0.09128920                           \n",
              "6 0.11111111                           \n",
              "  PRESSAO ATMOSFERICA AO NIVEL DA ESTACAO, HORARIA (mB)_sum\n",
              "1 291811.1                                                 \n",
              "2 292058.1                                                 \n",
              "3 292173.0                                                 \n",
              "4 291966.4                                                 \n",
              "5 290840.1                                                 \n",
              "6 292075.8                                                 \n",
              "  PRESSAO ATMOSFERICA AO NIVEL DA ESTACAO, HORARIA (mB)_mean\n",
              "1 1013.233                                                  \n",
              "2 1014.091                                                  \n",
              "3 1014.490                                                  \n",
              "4 1013.772                                                  \n",
              "5 1013.380                                                  \n",
              "6 1014.152                                                  \n",
              "  PRESSÃO ATMOSFERICA MAX.NA HORA ANT. (AUT) (mB)_sum\n",
              "1 291885.0                                           \n",
              "2 292118.1                                           \n",
              "3 292239.6                                           \n",
              "4 292039.3                                           \n",
              "5 290905.2                                           \n",
              "6 292147.6                                           \n",
              "  PRESSÃO ATMOSFERICA MAX.NA HORA ANT. (AUT) (mB)_mean\n",
              "1 1013.490                                            \n",
              "2 1014.299                                            \n",
              "3 1014.721                                            \n",
              "4 1014.025                                            \n",
              "5 1013.607                                            \n",
              "6 1014.401                                            \n",
              "  PRESSÃO ATMOSFERICA MIN. NA HORA ANT. (AUT) (mB)_sum\n",
              "1 291734.4                                            \n",
              "2 291985.9                                            \n",
              "3 292107.7                                            \n",
              "4 291903.0                                            \n",
              "5 290764.3                                            \n",
              "6 292011.2                                            \n",
              "  PRESSÃO ATMOSFERICA MIN. NA HORA ANT. (AUT) (mB)_mean\n",
              "1 1012.967                                             \n",
              "2 1013.840                                             \n",
              "3 1014.263                                             \n",
              "4 1013.552                                             \n",
              "5 1013.116                                             \n",
              "6 1013.928                                             \n",
              "  TEMPERATURA DO AR - BULBO SECO, HORARIA (°C)_sum ⋯\n",
              "1 6633.2                                           ⋯\n",
              "2 6696.1                                           ⋯\n",
              "3 6780.1                                           ⋯\n",
              "4 6680.9                                           ⋯\n",
              "5 6821.1                                           ⋯\n",
              "6 6751.9                                           ⋯\n",
              "  TEMPERATURA MÁXIMA NA HORA ANT. (AUT) (°C)_sum\n",
              "1 6793.8                                        \n",
              "2 6871.2                                        \n",
              "3 6960.2                                        \n",
              "4 6869.0                                        \n",
              "5 6988.1                                        \n",
              "6 6920.1                                        \n",
              "  TEMPERATURA MÁXIMA NA HORA ANT. (AUT) (°C)_mean\n",
              "1 23.58958                                       \n",
              "2 23.85833                                       \n",
              "3 24.16736                                       \n",
              "4 23.85069                                       \n",
              "5 24.34878                                       \n",
              "6 24.02812                                       \n",
              "  TEMPERATURA MÍNIMA NA HORA ANT. (AUT) (°C)_sum\n",
              "1 6479.7                                        \n",
              "2 6508.7                                        \n",
              "3 6620.0                                        \n",
              "4 6498.3                                        \n",
              "5 6666.3                                        \n",
              "6 6600.2                                        \n",
              "  TEMPERATURA MÍNIMA NA HORA ANT. (AUT) (°C)_mean\n",
              "1 22.49896                                       \n",
              "2 22.59965                                       \n",
              "3 22.98611                                       \n",
              "4 22.56354                                       \n",
              "5 23.22753                                       \n",
              "6 22.91736                                       \n",
              "  VENTO, DIREÇÃO HORARIA (gr) (° (gr))_sum\n",
              "1 37827                                   \n",
              "2 43429                                   \n",
              "3 38856                                   \n",
              "4 40695                                   \n",
              "5 44197                                   \n",
              "6 45903                                   \n",
              "  VENTO, DIREÇÃO HORARIA (gr) (° (gr))_mean VENTO, RAJADA MAXIMA (m/s)_sum\n",
              "1 131.3438                                  1767.3                        \n",
              "2 150.7951                                  1924.5                        \n",
              "3 134.9167                                  1866.2                        \n",
              "4 141.3021                                  1691.3                        \n",
              "5 153.9965                                  1851.1                        \n",
              "6 159.3854                                  1988.2                        \n",
              "  VENTO, RAJADA MAXIMA (m/s)_mean VENTO, VELOCIDADE HORARIA (m/s)_sum\n",
              "1 6.136458                         954.1                             \n",
              "2 6.682292                        1074.4                             \n",
              "3 6.479861                        1072.6                             \n",
              "4 5.872569                         888.7                             \n",
              "5 6.449826                        1019.4                             \n",
              "6 6.903472                        1099.6                             \n",
              "  VENTO, VELOCIDADE HORARIA (m/s)_mean\n",
              "1 3.312847                            \n",
              "2 3.730556                            \n",
              "3 3.724306                            \n",
              "4 3.085764                            \n",
              "5 3.551916                            \n",
              "6 3.818056                            "
            ]
          },
          "metadata": {}
        }
      ]
    },
    {
      "cell_type": "code",
      "source": [
        "# Using groupby and summarise to calculate sum and mean\n",
        "result <- data2 %>%\n",
        "  group_by(day = day(data2[[\"Data\"]])) %>%\n",
        "  summarise(across(all_of(colnames(column_filter(data2))),\n",
        "                   list(sum = sum, mean = mean),\n",
        "                   .names = \"{.col}_{.fn}\"))\n",
        "\n",
        "head(result)"
      ],
      "metadata": {
        "colab": {
          "base_uri": "https://localhost:8080/",
          "height": 393
        },
        "id": "eXm_WmaXUOEq",
        "outputId": "748bc98d-bac6-4478-9f99-80d0d7cdba0a"
      },
      "execution_count": null,
      "outputs": [
        {
          "output_type": "display_data",
          "data": {
            "text/html": [
              "<table class=\"dataframe\">\n",
              "<caption>A tibble: 6 × 21</caption>\n",
              "<thead>\n",
              "\t<tr><th scope=col>day</th><th scope=col>PRECIPITAÇÃO TOTAL, HORÁRIO (mm)_sum</th><th scope=col>PRECIPITAÇÃO TOTAL, HORÁRIO (mm)_mean</th><th scope=col>PRESSAO ATMOSFERICA AO NIVEL DA ESTACAO, HORARIA (mB)_sum</th><th scope=col>PRESSAO ATMOSFERICA AO NIVEL DA ESTACAO, HORARIA (mB)_mean</th><th scope=col>PRESSÃO ATMOSFERICA MAX.NA HORA ANT. (AUT) (mB)_sum</th><th scope=col>PRESSÃO ATMOSFERICA MAX.NA HORA ANT. (AUT) (mB)_mean</th><th scope=col>PRESSÃO ATMOSFERICA MIN. NA HORA ANT. (AUT) (mB)_sum</th><th scope=col>PRESSÃO ATMOSFERICA MIN. NA HORA ANT. (AUT) (mB)_mean</th><th scope=col>TEMPERATURA DO AR - BULBO SECO, HORARIA (°C)_sum</th><th scope=col>⋯</th><th scope=col>TEMPERATURA MÁXIMA NA HORA ANT. (AUT) (°C)_sum</th><th scope=col>TEMPERATURA MÁXIMA NA HORA ANT. (AUT) (°C)_mean</th><th scope=col>TEMPERATURA MÍNIMA NA HORA ANT. (AUT) (°C)_sum</th><th scope=col>TEMPERATURA MÍNIMA NA HORA ANT. (AUT) (°C)_mean</th><th scope=col>VENTO, DIREÇÃO HORARIA (gr) (° (gr))_sum</th><th scope=col>VENTO, DIREÇÃO HORARIA (gr) (° (gr))_mean</th><th scope=col>VENTO, RAJADA MAXIMA (m/s)_sum</th><th scope=col>VENTO, RAJADA MAXIMA (m/s)_mean</th><th scope=col>VENTO, VELOCIDADE HORARIA (m/s)_sum</th><th scope=col>VENTO, VELOCIDADE HORARIA (m/s)_mean</th></tr>\n",
              "\t<tr><th scope=col>&lt;int&gt;</th><th scope=col>&lt;dbl&gt;</th><th scope=col>&lt;dbl&gt;</th><th scope=col>&lt;dbl&gt;</th><th scope=col>&lt;dbl&gt;</th><th scope=col>&lt;dbl&gt;</th><th scope=col>&lt;dbl&gt;</th><th scope=col>&lt;dbl&gt;</th><th scope=col>&lt;dbl&gt;</th><th scope=col>&lt;dbl&gt;</th><th scope=col>⋯</th><th scope=col>&lt;dbl&gt;</th><th scope=col>&lt;dbl&gt;</th><th scope=col>&lt;dbl&gt;</th><th scope=col>&lt;dbl&gt;</th><th scope=col>&lt;int&gt;</th><th scope=col>&lt;dbl&gt;</th><th scope=col>&lt;dbl&gt;</th><th scope=col>&lt;dbl&gt;</th><th scope=col>&lt;dbl&gt;</th><th scope=col>&lt;dbl&gt;</th></tr>\n",
              "</thead>\n",
              "<tbody>\n",
              "\t<tr><td>1</td><td> 3.8</td><td>0.01596639</td><td>241360.4</td><td>1014.119</td><td>241420.6</td><td>1014.372</td><td>241301.6</td><td>1013.872</td><td>5592.6</td><td>⋯</td><td>5717.3</td><td>24.02227</td><td>5479.9</td><td>23.02479</td><td>36345</td><td>152.7101</td><td>1368.5</td><td>5.750000</td><td>824.5</td><td>3.464286</td></tr>\n",
              "\t<tr><td>2</td><td> 8.6</td><td>0.03583333</td><td>243297.9</td><td>1013.741</td><td>243361.6</td><td>1014.007</td><td>243244.1</td><td>1013.517</td><td>5697.9</td><td>⋯</td><td>5842.7</td><td>24.34458</td><td>5570.5</td><td>23.21042</td><td>35436</td><td>147.6500</td><td>1420.4</td><td>5.918333</td><td>860.1</td><td>3.583750</td></tr>\n",
              "\t<tr><td>3</td><td> 1.2</td><td>0.00500000</td><td>243017.7</td><td>1012.574</td><td>243081.2</td><td>1012.838</td><td>242963.6</td><td>1012.348</td><td>5873.7</td><td>⋯</td><td>6018.2</td><td>25.07583</td><td>5726.9</td><td>23.86208</td><td>28678</td><td>119.4917</td><td>1400.4</td><td>5.835000</td><td>809.6</td><td>3.373333</td></tr>\n",
              "\t<tr><td>4</td><td>11.8</td><td>0.04916667</td><td>243093.0</td><td>1012.888</td><td>243147.7</td><td>1013.115</td><td>243025.7</td><td>1012.607</td><td>5781.2</td><td>⋯</td><td>5928.2</td><td>24.70083</td><td>5655.3</td><td>23.56375</td><td>40798</td><td>169.9917</td><td>1401.1</td><td>5.837917</td><td>784.7</td><td>3.269583</td></tr>\n",
              "\t<tr><td>5</td><td>13.8</td><td>0.05750000</td><td>243407.8</td><td>1014.199</td><td>243455.1</td><td>1014.396</td><td>243345.3</td><td>1013.939</td><td>5605.4</td><td>⋯</td><td>5729.6</td><td>23.87333</td><td>5495.5</td><td>22.89792</td><td>37673</td><td>156.9708</td><td>1277.7</td><td>5.323750</td><td>804.6</td><td>3.352500</td></tr>\n",
              "\t<tr><td>6</td><td>63.4</td><td>0.26416667</td><td>243572.9</td><td>1014.887</td><td>243633.0</td><td>1015.138</td><td>243516.0</td><td>1014.650</td><td>5606.2</td><td>⋯</td><td>5742.6</td><td>23.92750</td><td>5495.7</td><td>22.89875</td><td>33349</td><td>138.9542</td><td>1437.3</td><td>5.988750</td><td>869.4</td><td>3.622500</td></tr>\n",
              "</tbody>\n",
              "</table>\n"
            ],
            "text/markdown": "\nA tibble: 6 × 21\n\n| day &lt;int&gt; | PRECIPITAÇÃO TOTAL, HORÁRIO (mm)_sum &lt;dbl&gt; | PRECIPITAÇÃO TOTAL, HORÁRIO (mm)_mean &lt;dbl&gt; | PRESSAO ATMOSFERICA AO NIVEL DA ESTACAO, HORARIA (mB)_sum &lt;dbl&gt; | PRESSAO ATMOSFERICA AO NIVEL DA ESTACAO, HORARIA (mB)_mean &lt;dbl&gt; | PRESSÃO ATMOSFERICA MAX.NA HORA ANT. (AUT) (mB)_sum &lt;dbl&gt; | PRESSÃO ATMOSFERICA MAX.NA HORA ANT. (AUT) (mB)_mean &lt;dbl&gt; | PRESSÃO ATMOSFERICA MIN. NA HORA ANT. (AUT) (mB)_sum &lt;dbl&gt; | PRESSÃO ATMOSFERICA MIN. NA HORA ANT. (AUT) (mB)_mean &lt;dbl&gt; | TEMPERATURA DO AR - BULBO SECO, HORARIA (°C)_sum &lt;dbl&gt; | ⋯ ⋯ | TEMPERATURA MÁXIMA NA HORA ANT. (AUT) (°C)_sum &lt;dbl&gt; | TEMPERATURA MÁXIMA NA HORA ANT. (AUT) (°C)_mean &lt;dbl&gt; | TEMPERATURA MÍNIMA NA HORA ANT. (AUT) (°C)_sum &lt;dbl&gt; | TEMPERATURA MÍNIMA NA HORA ANT. (AUT) (°C)_mean &lt;dbl&gt; | VENTO, DIREÇÃO HORARIA (gr) (° (gr))_sum &lt;int&gt; | VENTO, DIREÇÃO HORARIA (gr) (° (gr))_mean &lt;dbl&gt; | VENTO, RAJADA MAXIMA (m/s)_sum &lt;dbl&gt; | VENTO, RAJADA MAXIMA (m/s)_mean &lt;dbl&gt; | VENTO, VELOCIDADE HORARIA (m/s)_sum &lt;dbl&gt; | VENTO, VELOCIDADE HORARIA (m/s)_mean &lt;dbl&gt; |\n|---|---|---|---|---|---|---|---|---|---|---|---|---|---|---|---|---|---|---|---|---|\n| 1 |  3.8 | 0.01596639 | 241360.4 | 1014.119 | 241420.6 | 1014.372 | 241301.6 | 1013.872 | 5592.6 | ⋯ | 5717.3 | 24.02227 | 5479.9 | 23.02479 | 36345 | 152.7101 | 1368.5 | 5.750000 | 824.5 | 3.464286 |\n| 2 |  8.6 | 0.03583333 | 243297.9 | 1013.741 | 243361.6 | 1014.007 | 243244.1 | 1013.517 | 5697.9 | ⋯ | 5842.7 | 24.34458 | 5570.5 | 23.21042 | 35436 | 147.6500 | 1420.4 | 5.918333 | 860.1 | 3.583750 |\n| 3 |  1.2 | 0.00500000 | 243017.7 | 1012.574 | 243081.2 | 1012.838 | 242963.6 | 1012.348 | 5873.7 | ⋯ | 6018.2 | 25.07583 | 5726.9 | 23.86208 | 28678 | 119.4917 | 1400.4 | 5.835000 | 809.6 | 3.373333 |\n| 4 | 11.8 | 0.04916667 | 243093.0 | 1012.888 | 243147.7 | 1013.115 | 243025.7 | 1012.607 | 5781.2 | ⋯ | 5928.2 | 24.70083 | 5655.3 | 23.56375 | 40798 | 169.9917 | 1401.1 | 5.837917 | 784.7 | 3.269583 |\n| 5 | 13.8 | 0.05750000 | 243407.8 | 1014.199 | 243455.1 | 1014.396 | 243345.3 | 1013.939 | 5605.4 | ⋯ | 5729.6 | 23.87333 | 5495.5 | 22.89792 | 37673 | 156.9708 | 1277.7 | 5.323750 | 804.6 | 3.352500 |\n| 6 | 63.4 | 0.26416667 | 243572.9 | 1014.887 | 243633.0 | 1015.138 | 243516.0 | 1014.650 | 5606.2 | ⋯ | 5742.6 | 23.92750 | 5495.7 | 22.89875 | 33349 | 138.9542 | 1437.3 | 5.988750 | 869.4 | 3.622500 |\n\n",
            "text/latex": "A tibble: 6 × 21\n\\begin{tabular}{lllllllllllllllllllll}\n day & PRECIPITAÇÃO TOTAL, HORÁRIO (mm)\\_sum & PRECIPITAÇÃO TOTAL, HORÁRIO (mm)\\_mean & PRESSAO ATMOSFERICA AO NIVEL DA ESTACAO, HORARIA (mB)\\_sum & PRESSAO ATMOSFERICA AO NIVEL DA ESTACAO, HORARIA (mB)\\_mean & PRESSÃO ATMOSFERICA MAX.NA HORA ANT. (AUT) (mB)\\_sum & PRESSÃO ATMOSFERICA MAX.NA HORA ANT. (AUT) (mB)\\_mean & PRESSÃO ATMOSFERICA MIN. NA HORA ANT. (AUT) (mB)\\_sum & PRESSÃO ATMOSFERICA MIN. NA HORA ANT. (AUT) (mB)\\_mean & TEMPERATURA DO AR - BULBO SECO, HORARIA (°C)\\_sum & ⋯ & TEMPERATURA MÁXIMA NA HORA ANT. (AUT) (°C)\\_sum & TEMPERATURA MÁXIMA NA HORA ANT. (AUT) (°C)\\_mean & TEMPERATURA MÍNIMA NA HORA ANT. (AUT) (°C)\\_sum & TEMPERATURA MÍNIMA NA HORA ANT. (AUT) (°C)\\_mean & VENTO, DIREÇÃO HORARIA (gr) (° (gr))\\_sum & VENTO, DIREÇÃO HORARIA (gr) (° (gr))\\_mean & VENTO, RAJADA MAXIMA (m/s)\\_sum & VENTO, RAJADA MAXIMA (m/s)\\_mean & VENTO, VELOCIDADE HORARIA (m/s)\\_sum & VENTO, VELOCIDADE HORARIA (m/s)\\_mean\\\\\n <int> & <dbl> & <dbl> & <dbl> & <dbl> & <dbl> & <dbl> & <dbl> & <dbl> & <dbl> & ⋯ & <dbl> & <dbl> & <dbl> & <dbl> & <int> & <dbl> & <dbl> & <dbl> & <dbl> & <dbl>\\\\\n\\hline\n\t 1 &  3.8 & 0.01596639 & 241360.4 & 1014.119 & 241420.6 & 1014.372 & 241301.6 & 1013.872 & 5592.6 & ⋯ & 5717.3 & 24.02227 & 5479.9 & 23.02479 & 36345 & 152.7101 & 1368.5 & 5.750000 & 824.5 & 3.464286\\\\\n\t 2 &  8.6 & 0.03583333 & 243297.9 & 1013.741 & 243361.6 & 1014.007 & 243244.1 & 1013.517 & 5697.9 & ⋯ & 5842.7 & 24.34458 & 5570.5 & 23.21042 & 35436 & 147.6500 & 1420.4 & 5.918333 & 860.1 & 3.583750\\\\\n\t 3 &  1.2 & 0.00500000 & 243017.7 & 1012.574 & 243081.2 & 1012.838 & 242963.6 & 1012.348 & 5873.7 & ⋯ & 6018.2 & 25.07583 & 5726.9 & 23.86208 & 28678 & 119.4917 & 1400.4 & 5.835000 & 809.6 & 3.373333\\\\\n\t 4 & 11.8 & 0.04916667 & 243093.0 & 1012.888 & 243147.7 & 1013.115 & 243025.7 & 1012.607 & 5781.2 & ⋯ & 5928.2 & 24.70083 & 5655.3 & 23.56375 & 40798 & 169.9917 & 1401.1 & 5.837917 & 784.7 & 3.269583\\\\\n\t 5 & 13.8 & 0.05750000 & 243407.8 & 1014.199 & 243455.1 & 1014.396 & 243345.3 & 1013.939 & 5605.4 & ⋯ & 5729.6 & 23.87333 & 5495.5 & 22.89792 & 37673 & 156.9708 & 1277.7 & 5.323750 & 804.6 & 3.352500\\\\\n\t 6 & 63.4 & 0.26416667 & 243572.9 & 1014.887 & 243633.0 & 1015.138 & 243516.0 & 1014.650 & 5606.2 & ⋯ & 5742.6 & 23.92750 & 5495.7 & 22.89875 & 33349 & 138.9542 & 1437.3 & 5.988750 & 869.4 & 3.622500\\\\\n\\end{tabular}\n",
            "text/plain": [
              "  day PRECIPITAÇÃO TOTAL, HORÁRIO (mm)_sum\n",
              "1 1    3.8                                \n",
              "2 2    8.6                                \n",
              "3 3    1.2                                \n",
              "4 4   11.8                                \n",
              "5 5   13.8                                \n",
              "6 6   63.4                                \n",
              "  PRECIPITAÇÃO TOTAL, HORÁRIO (mm)_mean\n",
              "1 0.01596639                           \n",
              "2 0.03583333                           \n",
              "3 0.00500000                           \n",
              "4 0.04916667                           \n",
              "5 0.05750000                           \n",
              "6 0.26416667                           \n",
              "  PRESSAO ATMOSFERICA AO NIVEL DA ESTACAO, HORARIA (mB)_sum\n",
              "1 241360.4                                                 \n",
              "2 243297.9                                                 \n",
              "3 243017.7                                                 \n",
              "4 243093.0                                                 \n",
              "5 243407.8                                                 \n",
              "6 243572.9                                                 \n",
              "  PRESSAO ATMOSFERICA AO NIVEL DA ESTACAO, HORARIA (mB)_mean\n",
              "1 1014.119                                                  \n",
              "2 1013.741                                                  \n",
              "3 1012.574                                                  \n",
              "4 1012.888                                                  \n",
              "5 1014.199                                                  \n",
              "6 1014.887                                                  \n",
              "  PRESSÃO ATMOSFERICA MAX.NA HORA ANT. (AUT) (mB)_sum\n",
              "1 241420.6                                           \n",
              "2 243361.6                                           \n",
              "3 243081.2                                           \n",
              "4 243147.7                                           \n",
              "5 243455.1                                           \n",
              "6 243633.0                                           \n",
              "  PRESSÃO ATMOSFERICA MAX.NA HORA ANT. (AUT) (mB)_mean\n",
              "1 1014.372                                            \n",
              "2 1014.007                                            \n",
              "3 1012.838                                            \n",
              "4 1013.115                                            \n",
              "5 1014.396                                            \n",
              "6 1015.138                                            \n",
              "  PRESSÃO ATMOSFERICA MIN. NA HORA ANT. (AUT) (mB)_sum\n",
              "1 241301.6                                            \n",
              "2 243244.1                                            \n",
              "3 242963.6                                            \n",
              "4 243025.7                                            \n",
              "5 243345.3                                            \n",
              "6 243516.0                                            \n",
              "  PRESSÃO ATMOSFERICA MIN. NA HORA ANT. (AUT) (mB)_mean\n",
              "1 1013.872                                             \n",
              "2 1013.517                                             \n",
              "3 1012.348                                             \n",
              "4 1012.607                                             \n",
              "5 1013.939                                             \n",
              "6 1014.650                                             \n",
              "  TEMPERATURA DO AR - BULBO SECO, HORARIA (°C)_sum ⋯\n",
              "1 5592.6                                           ⋯\n",
              "2 5697.9                                           ⋯\n",
              "3 5873.7                                           ⋯\n",
              "4 5781.2                                           ⋯\n",
              "5 5605.4                                           ⋯\n",
              "6 5606.2                                           ⋯\n",
              "  TEMPERATURA MÁXIMA NA HORA ANT. (AUT) (°C)_sum\n",
              "1 5717.3                                        \n",
              "2 5842.7                                        \n",
              "3 6018.2                                        \n",
              "4 5928.2                                        \n",
              "5 5729.6                                        \n",
              "6 5742.6                                        \n",
              "  TEMPERATURA MÁXIMA NA HORA ANT. (AUT) (°C)_mean\n",
              "1 24.02227                                       \n",
              "2 24.34458                                       \n",
              "3 25.07583                                       \n",
              "4 24.70083                                       \n",
              "5 23.87333                                       \n",
              "6 23.92750                                       \n",
              "  TEMPERATURA MÍNIMA NA HORA ANT. (AUT) (°C)_sum\n",
              "1 5479.9                                        \n",
              "2 5570.5                                        \n",
              "3 5726.9                                        \n",
              "4 5655.3                                        \n",
              "5 5495.5                                        \n",
              "6 5495.7                                        \n",
              "  TEMPERATURA MÍNIMA NA HORA ANT. (AUT) (°C)_mean\n",
              "1 23.02479                                       \n",
              "2 23.21042                                       \n",
              "3 23.86208                                       \n",
              "4 23.56375                                       \n",
              "5 22.89792                                       \n",
              "6 22.89875                                       \n",
              "  VENTO, DIREÇÃO HORARIA (gr) (° (gr))_sum\n",
              "1 36345                                   \n",
              "2 35436                                   \n",
              "3 28678                                   \n",
              "4 40798                                   \n",
              "5 37673                                   \n",
              "6 33349                                   \n",
              "  VENTO, DIREÇÃO HORARIA (gr) (° (gr))_mean VENTO, RAJADA MAXIMA (m/s)_sum\n",
              "1 152.7101                                  1368.5                        \n",
              "2 147.6500                                  1420.4                        \n",
              "3 119.4917                                  1400.4                        \n",
              "4 169.9917                                  1401.1                        \n",
              "5 156.9708                                  1277.7                        \n",
              "6 138.9542                                  1437.3                        \n",
              "  VENTO, RAJADA MAXIMA (m/s)_mean VENTO, VELOCIDADE HORARIA (m/s)_sum\n",
              "1 5.750000                        824.5                              \n",
              "2 5.918333                        860.1                              \n",
              "3 5.835000                        809.6                              \n",
              "4 5.837917                        784.7                              \n",
              "5 5.323750                        804.6                              \n",
              "6 5.988750                        869.4                              \n",
              "  VENTO, VELOCIDADE HORARIA (m/s)_mean\n",
              "1 3.464286                            \n",
              "2 3.583750                            \n",
              "3 3.373333                            \n",
              "4 3.269583                            \n",
              "5 3.352500                            \n",
              "6 3.622500                            "
            ]
          },
          "metadata": {}
        }
      ]
    },
    {
      "cell_type": "markdown",
      "source": [
        "## Groupby Week"
      ],
      "metadata": {
        "id": "SFHlbmn5UR9R"
      }
    },
    {
      "cell_type": "code",
      "source": [
        "# Using groupby and summarise to calculate sum and mean\n",
        "result <- data1 %>%\n",
        "  group_by(week = floor_date(data1[[\"Data\"]], \"week\")) %>%\n",
        "  summarise(across(all_of(colnames(column_filter(data1))),\n",
        "                   list(sum = sum, mean = mean),\n",
        "                   .names = \"{.col}_{.fn}\"))\n",
        "\n",
        "head(result)"
      ],
      "metadata": {
        "colab": {
          "base_uri": "https://localhost:8080/",
          "height": 497
        },
        "id": "q1ddGuh9UUp8",
        "outputId": "dde1b6a4-9fcf-4bc7-e305-b05d18369e03"
      },
      "execution_count": null,
      "outputs": [
        {
          "output_type": "display_data",
          "data": {
            "text/html": [
              "<table class=\"dataframe\">\n",
              "<caption>A tibble: 6 × 21</caption>\n",
              "<thead>\n",
              "\t<tr><th scope=col>week</th><th scope=col>PRECIPITAÇÃO TOTAL, HORÁRIO (mm)_sum</th><th scope=col>PRECIPITAÇÃO TOTAL, HORÁRIO (mm)_mean</th><th scope=col>PRESSAO ATMOSFERICA AO NIVEL DA ESTACAO, HORARIA (mB)_sum</th><th scope=col>PRESSAO ATMOSFERICA AO NIVEL DA ESTACAO, HORARIA (mB)_mean</th><th scope=col>PRESSÃO ATMOSFERICA MAX.NA HORA ANT. (AUT) (mB)_sum</th><th scope=col>PRESSÃO ATMOSFERICA MAX.NA HORA ANT. (AUT) (mB)_mean</th><th scope=col>PRESSÃO ATMOSFERICA MIN. NA HORA ANT. (AUT) (mB)_sum</th><th scope=col>PRESSÃO ATMOSFERICA MIN. NA HORA ANT. (AUT) (mB)_mean</th><th scope=col>TEMPERATURA DO AR - BULBO SECO, HORARIA (°C)_sum</th><th scope=col>⋯</th><th scope=col>TEMPERATURA MÁXIMA NA HORA ANT. (AUT) (°C)_sum</th><th scope=col>TEMPERATURA MÁXIMA NA HORA ANT. (AUT) (°C)_mean</th><th scope=col>TEMPERATURA MÍNIMA NA HORA ANT. (AUT) (°C)_sum</th><th scope=col>TEMPERATURA MÍNIMA NA HORA ANT. (AUT) (°C)_mean</th><th scope=col>VENTO, DIREÇÃO HORARIA (gr) (° (gr))_sum</th><th scope=col>VENTO, DIREÇÃO HORARIA (gr) (° (gr))_mean</th><th scope=col>VENTO, RAJADA MAXIMA (m/s)_sum</th><th scope=col>VENTO, RAJADA MAXIMA (m/s)_mean</th><th scope=col>VENTO, VELOCIDADE HORARIA (m/s)_sum</th><th scope=col>VENTO, VELOCIDADE HORARIA (m/s)_mean</th></tr>\n",
              "\t<tr><th scope=col>&lt;date&gt;</th><th scope=col>&lt;dbl&gt;</th><th scope=col>&lt;dbl&gt;</th><th scope=col>&lt;dbl&gt;</th><th scope=col>&lt;dbl&gt;</th><th scope=col>&lt;dbl&gt;</th><th scope=col>&lt;dbl&gt;</th><th scope=col>&lt;dbl&gt;</th><th scope=col>&lt;dbl&gt;</th><th scope=col>&lt;dbl&gt;</th><th scope=col>⋯</th><th scope=col>&lt;dbl&gt;</th><th scope=col>&lt;dbl&gt;</th><th scope=col>&lt;dbl&gt;</th><th scope=col>&lt;dbl&gt;</th><th scope=col>&lt;int&gt;</th><th scope=col>&lt;dbl&gt;</th><th scope=col>&lt;dbl&gt;</th><th scope=col>&lt;dbl&gt;</th><th scope=col>&lt;dbl&gt;</th><th scope=col>&lt;dbl&gt;</th></tr>\n",
              "</thead>\n",
              "<tbody>\n",
              "\t<tr><td>2021-12-26</td><td> 4.2</td><td>0.17500000</td><td> 24171.6</td><td>1007.150</td><td> 24176.7</td><td>1007.362</td><td> 24164.7</td><td>1006.862</td><td> 599.9</td><td>⋯</td><td> 614.8</td><td>25.61667</td><td> 587.5</td><td>24.47917</td><td> 3466</td><td>144.4167</td><td> 108.7</td><td>4.529167</td><td> 56.8</td><td>2.366667</td></tr>\n",
              "\t<tr><td>2022-01-02</td><td>41.2</td><td>0.24523810</td><td>169147.0</td><td>1006.827</td><td>169182.5</td><td>1007.039</td><td>169107.9</td><td>1006.595</td><td>4385.6</td><td>⋯</td><td>4485.8</td><td>26.70119</td><td>4298.4</td><td>25.58571</td><td>28296</td><td>168.4286</td><td>1186.8</td><td>7.064286</td><td>655.0</td><td>3.898810</td></tr>\n",
              "\t<tr><td>2022-01-09</td><td>19.4</td><td>0.11547619</td><td>170083.0</td><td>1012.399</td><td>170122.2</td><td>1012.632</td><td>170043.7</td><td>1012.165</td><td>4088.0</td><td>⋯</td><td>4156.8</td><td>24.74286</td><td>4028.0</td><td>23.97619</td><td>24813</td><td>147.6964</td><td> 676.6</td><td>4.027381</td><td>406.1</td><td>2.417262</td></tr>\n",
              "\t<tr><td>2022-01-16</td><td> 4.2</td><td>0.02500000</td><td>170039.1</td><td>1012.138</td><td>170079.3</td><td>1012.377</td><td>170001.5</td><td>1011.914</td><td>4490.5</td><td>⋯</td><td>4601.2</td><td>27.38810</td><td>4387.6</td><td>26.11667</td><td>20563</td><td>122.3988</td><td>1014.7</td><td>6.039881</td><td>552.6</td><td>3.289286</td></tr>\n",
              "\t<tr><td>2022-01-23</td><td> 6.2</td><td>0.03690476</td><td>169390.8</td><td>1008.279</td><td>169430.4</td><td>1008.514</td><td>169354.3</td><td>1008.061</td><td>4450.7</td><td>⋯</td><td>4592.9</td><td>27.33869</td><td>4298.3</td><td>25.58512</td><td>23607</td><td>140.5179</td><td>1036.8</td><td>6.171429</td><td>540.5</td><td>3.217262</td></tr>\n",
              "\t<tr><td>2022-01-30</td><td>20.4</td><td>0.12215569</td><td>168646.4</td><td>1009.859</td><td>168688.8</td><td>1010.113</td><td>168605.9</td><td>1009.616</td><td>4236.3</td><td>⋯</td><td>4314.4</td><td>25.83473</td><td>4169.8</td><td>24.96886</td><td>25968</td><td>155.4970</td><td> 848.0</td><td>5.077844</td><td>454.9</td><td>2.723952</td></tr>\n",
              "</tbody>\n",
              "</table>\n"
            ],
            "text/markdown": "\nA tibble: 6 × 21\n\n| week &lt;date&gt; | PRECIPITAÇÃO TOTAL, HORÁRIO (mm)_sum &lt;dbl&gt; | PRECIPITAÇÃO TOTAL, HORÁRIO (mm)_mean &lt;dbl&gt; | PRESSAO ATMOSFERICA AO NIVEL DA ESTACAO, HORARIA (mB)_sum &lt;dbl&gt; | PRESSAO ATMOSFERICA AO NIVEL DA ESTACAO, HORARIA (mB)_mean &lt;dbl&gt; | PRESSÃO ATMOSFERICA MAX.NA HORA ANT. (AUT) (mB)_sum &lt;dbl&gt; | PRESSÃO ATMOSFERICA MAX.NA HORA ANT. (AUT) (mB)_mean &lt;dbl&gt; | PRESSÃO ATMOSFERICA MIN. NA HORA ANT. (AUT) (mB)_sum &lt;dbl&gt; | PRESSÃO ATMOSFERICA MIN. NA HORA ANT. (AUT) (mB)_mean &lt;dbl&gt; | TEMPERATURA DO AR - BULBO SECO, HORARIA (°C)_sum &lt;dbl&gt; | ⋯ ⋯ | TEMPERATURA MÁXIMA NA HORA ANT. (AUT) (°C)_sum &lt;dbl&gt; | TEMPERATURA MÁXIMA NA HORA ANT. (AUT) (°C)_mean &lt;dbl&gt; | TEMPERATURA MÍNIMA NA HORA ANT. (AUT) (°C)_sum &lt;dbl&gt; | TEMPERATURA MÍNIMA NA HORA ANT. (AUT) (°C)_mean &lt;dbl&gt; | VENTO, DIREÇÃO HORARIA (gr) (° (gr))_sum &lt;int&gt; | VENTO, DIREÇÃO HORARIA (gr) (° (gr))_mean &lt;dbl&gt; | VENTO, RAJADA MAXIMA (m/s)_sum &lt;dbl&gt; | VENTO, RAJADA MAXIMA (m/s)_mean &lt;dbl&gt; | VENTO, VELOCIDADE HORARIA (m/s)_sum &lt;dbl&gt; | VENTO, VELOCIDADE HORARIA (m/s)_mean &lt;dbl&gt; |\n|---|---|---|---|---|---|---|---|---|---|---|---|---|---|---|---|---|---|---|---|---|\n| 2021-12-26 |  4.2 | 0.17500000 |  24171.6 | 1007.150 |  24176.7 | 1007.362 |  24164.7 | 1006.862 |  599.9 | ⋯ |  614.8 | 25.61667 |  587.5 | 24.47917 |  3466 | 144.4167 |  108.7 | 4.529167 |  56.8 | 2.366667 |\n| 2022-01-02 | 41.2 | 0.24523810 | 169147.0 | 1006.827 | 169182.5 | 1007.039 | 169107.9 | 1006.595 | 4385.6 | ⋯ | 4485.8 | 26.70119 | 4298.4 | 25.58571 | 28296 | 168.4286 | 1186.8 | 7.064286 | 655.0 | 3.898810 |\n| 2022-01-09 | 19.4 | 0.11547619 | 170083.0 | 1012.399 | 170122.2 | 1012.632 | 170043.7 | 1012.165 | 4088.0 | ⋯ | 4156.8 | 24.74286 | 4028.0 | 23.97619 | 24813 | 147.6964 |  676.6 | 4.027381 | 406.1 | 2.417262 |\n| 2022-01-16 |  4.2 | 0.02500000 | 170039.1 | 1012.138 | 170079.3 | 1012.377 | 170001.5 | 1011.914 | 4490.5 | ⋯ | 4601.2 | 27.38810 | 4387.6 | 26.11667 | 20563 | 122.3988 | 1014.7 | 6.039881 | 552.6 | 3.289286 |\n| 2022-01-23 |  6.2 | 0.03690476 | 169390.8 | 1008.279 | 169430.4 | 1008.514 | 169354.3 | 1008.061 | 4450.7 | ⋯ | 4592.9 | 27.33869 | 4298.3 | 25.58512 | 23607 | 140.5179 | 1036.8 | 6.171429 | 540.5 | 3.217262 |\n| 2022-01-30 | 20.4 | 0.12215569 | 168646.4 | 1009.859 | 168688.8 | 1010.113 | 168605.9 | 1009.616 | 4236.3 | ⋯ | 4314.4 | 25.83473 | 4169.8 | 24.96886 | 25968 | 155.4970 |  848.0 | 5.077844 | 454.9 | 2.723952 |\n\n",
            "text/latex": "A tibble: 6 × 21\n\\begin{tabular}{lllllllllllllllllllll}\n week & PRECIPITAÇÃO TOTAL, HORÁRIO (mm)\\_sum & PRECIPITAÇÃO TOTAL, HORÁRIO (mm)\\_mean & PRESSAO ATMOSFERICA AO NIVEL DA ESTACAO, HORARIA (mB)\\_sum & PRESSAO ATMOSFERICA AO NIVEL DA ESTACAO, HORARIA (mB)\\_mean & PRESSÃO ATMOSFERICA MAX.NA HORA ANT. (AUT) (mB)\\_sum & PRESSÃO ATMOSFERICA MAX.NA HORA ANT. (AUT) (mB)\\_mean & PRESSÃO ATMOSFERICA MIN. NA HORA ANT. (AUT) (mB)\\_sum & PRESSÃO ATMOSFERICA MIN. NA HORA ANT. (AUT) (mB)\\_mean & TEMPERATURA DO AR - BULBO SECO, HORARIA (°C)\\_sum & ⋯ & TEMPERATURA MÁXIMA NA HORA ANT. (AUT) (°C)\\_sum & TEMPERATURA MÁXIMA NA HORA ANT. (AUT) (°C)\\_mean & TEMPERATURA MÍNIMA NA HORA ANT. (AUT) (°C)\\_sum & TEMPERATURA MÍNIMA NA HORA ANT. (AUT) (°C)\\_mean & VENTO, DIREÇÃO HORARIA (gr) (° (gr))\\_sum & VENTO, DIREÇÃO HORARIA (gr) (° (gr))\\_mean & VENTO, RAJADA MAXIMA (m/s)\\_sum & VENTO, RAJADA MAXIMA (m/s)\\_mean & VENTO, VELOCIDADE HORARIA (m/s)\\_sum & VENTO, VELOCIDADE HORARIA (m/s)\\_mean\\\\\n <date> & <dbl> & <dbl> & <dbl> & <dbl> & <dbl> & <dbl> & <dbl> & <dbl> & <dbl> & ⋯ & <dbl> & <dbl> & <dbl> & <dbl> & <int> & <dbl> & <dbl> & <dbl> & <dbl> & <dbl>\\\\\n\\hline\n\t 2021-12-26 &  4.2 & 0.17500000 &  24171.6 & 1007.150 &  24176.7 & 1007.362 &  24164.7 & 1006.862 &  599.9 & ⋯ &  614.8 & 25.61667 &  587.5 & 24.47917 &  3466 & 144.4167 &  108.7 & 4.529167 &  56.8 & 2.366667\\\\\n\t 2022-01-02 & 41.2 & 0.24523810 & 169147.0 & 1006.827 & 169182.5 & 1007.039 & 169107.9 & 1006.595 & 4385.6 & ⋯ & 4485.8 & 26.70119 & 4298.4 & 25.58571 & 28296 & 168.4286 & 1186.8 & 7.064286 & 655.0 & 3.898810\\\\\n\t 2022-01-09 & 19.4 & 0.11547619 & 170083.0 & 1012.399 & 170122.2 & 1012.632 & 170043.7 & 1012.165 & 4088.0 & ⋯ & 4156.8 & 24.74286 & 4028.0 & 23.97619 & 24813 & 147.6964 &  676.6 & 4.027381 & 406.1 & 2.417262\\\\\n\t 2022-01-16 &  4.2 & 0.02500000 & 170039.1 & 1012.138 & 170079.3 & 1012.377 & 170001.5 & 1011.914 & 4490.5 & ⋯ & 4601.2 & 27.38810 & 4387.6 & 26.11667 & 20563 & 122.3988 & 1014.7 & 6.039881 & 552.6 & 3.289286\\\\\n\t 2022-01-23 &  6.2 & 0.03690476 & 169390.8 & 1008.279 & 169430.4 & 1008.514 & 169354.3 & 1008.061 & 4450.7 & ⋯ & 4592.9 & 27.33869 & 4298.3 & 25.58512 & 23607 & 140.5179 & 1036.8 & 6.171429 & 540.5 & 3.217262\\\\\n\t 2022-01-30 & 20.4 & 0.12215569 & 168646.4 & 1009.859 & 168688.8 & 1010.113 & 168605.9 & 1009.616 & 4236.3 & ⋯ & 4314.4 & 25.83473 & 4169.8 & 24.96886 & 25968 & 155.4970 &  848.0 & 5.077844 & 454.9 & 2.723952\\\\\n\\end{tabular}\n",
            "text/plain": [
              "  week       PRECIPITAÇÃO TOTAL, HORÁRIO (mm)_sum\n",
              "1 2021-12-26  4.2                                \n",
              "2 2022-01-02 41.2                                \n",
              "3 2022-01-09 19.4                                \n",
              "4 2022-01-16  4.2                                \n",
              "5 2022-01-23  6.2                                \n",
              "6 2022-01-30 20.4                                \n",
              "  PRECIPITAÇÃO TOTAL, HORÁRIO (mm)_mean\n",
              "1 0.17500000                           \n",
              "2 0.24523810                           \n",
              "3 0.11547619                           \n",
              "4 0.02500000                           \n",
              "5 0.03690476                           \n",
              "6 0.12215569                           \n",
              "  PRESSAO ATMOSFERICA AO NIVEL DA ESTACAO, HORARIA (mB)_sum\n",
              "1  24171.6                                                 \n",
              "2 169147.0                                                 \n",
              "3 170083.0                                                 \n",
              "4 170039.1                                                 \n",
              "5 169390.8                                                 \n",
              "6 168646.4                                                 \n",
              "  PRESSAO ATMOSFERICA AO NIVEL DA ESTACAO, HORARIA (mB)_mean\n",
              "1 1007.150                                                  \n",
              "2 1006.827                                                  \n",
              "3 1012.399                                                  \n",
              "4 1012.138                                                  \n",
              "5 1008.279                                                  \n",
              "6 1009.859                                                  \n",
              "  PRESSÃO ATMOSFERICA MAX.NA HORA ANT. (AUT) (mB)_sum\n",
              "1  24176.7                                           \n",
              "2 169182.5                                           \n",
              "3 170122.2                                           \n",
              "4 170079.3                                           \n",
              "5 169430.4                                           \n",
              "6 168688.8                                           \n",
              "  PRESSÃO ATMOSFERICA MAX.NA HORA ANT. (AUT) (mB)_mean\n",
              "1 1007.362                                            \n",
              "2 1007.039                                            \n",
              "3 1012.632                                            \n",
              "4 1012.377                                            \n",
              "5 1008.514                                            \n",
              "6 1010.113                                            \n",
              "  PRESSÃO ATMOSFERICA MIN. NA HORA ANT. (AUT) (mB)_sum\n",
              "1  24164.7                                            \n",
              "2 169107.9                                            \n",
              "3 170043.7                                            \n",
              "4 170001.5                                            \n",
              "5 169354.3                                            \n",
              "6 168605.9                                            \n",
              "  PRESSÃO ATMOSFERICA MIN. NA HORA ANT. (AUT) (mB)_mean\n",
              "1 1006.862                                             \n",
              "2 1006.595                                             \n",
              "3 1012.165                                             \n",
              "4 1011.914                                             \n",
              "5 1008.061                                             \n",
              "6 1009.616                                             \n",
              "  TEMPERATURA DO AR - BULBO SECO, HORARIA (°C)_sum ⋯\n",
              "1  599.9                                           ⋯\n",
              "2 4385.6                                           ⋯\n",
              "3 4088.0                                           ⋯\n",
              "4 4490.5                                           ⋯\n",
              "5 4450.7                                           ⋯\n",
              "6 4236.3                                           ⋯\n",
              "  TEMPERATURA MÁXIMA NA HORA ANT. (AUT) (°C)_sum\n",
              "1  614.8                                        \n",
              "2 4485.8                                        \n",
              "3 4156.8                                        \n",
              "4 4601.2                                        \n",
              "5 4592.9                                        \n",
              "6 4314.4                                        \n",
              "  TEMPERATURA MÁXIMA NA HORA ANT. (AUT) (°C)_mean\n",
              "1 25.61667                                       \n",
              "2 26.70119                                       \n",
              "3 24.74286                                       \n",
              "4 27.38810                                       \n",
              "5 27.33869                                       \n",
              "6 25.83473                                       \n",
              "  TEMPERATURA MÍNIMA NA HORA ANT. (AUT) (°C)_sum\n",
              "1  587.5                                        \n",
              "2 4298.4                                        \n",
              "3 4028.0                                        \n",
              "4 4387.6                                        \n",
              "5 4298.3                                        \n",
              "6 4169.8                                        \n",
              "  TEMPERATURA MÍNIMA NA HORA ANT. (AUT) (°C)_mean\n",
              "1 24.47917                                       \n",
              "2 25.58571                                       \n",
              "3 23.97619                                       \n",
              "4 26.11667                                       \n",
              "5 25.58512                                       \n",
              "6 24.96886                                       \n",
              "  VENTO, DIREÇÃO HORARIA (gr) (° (gr))_sum\n",
              "1  3466                                   \n",
              "2 28296                                   \n",
              "3 24813                                   \n",
              "4 20563                                   \n",
              "5 23607                                   \n",
              "6 25968                                   \n",
              "  VENTO, DIREÇÃO HORARIA (gr) (° (gr))_mean VENTO, RAJADA MAXIMA (m/s)_sum\n",
              "1 144.4167                                   108.7                        \n",
              "2 168.4286                                  1186.8                        \n",
              "3 147.6964                                   676.6                        \n",
              "4 122.3988                                  1014.7                        \n",
              "5 140.5179                                  1036.8                        \n",
              "6 155.4970                                   848.0                        \n",
              "  VENTO, RAJADA MAXIMA (m/s)_mean VENTO, VELOCIDADE HORARIA (m/s)_sum\n",
              "1 4.529167                         56.8                              \n",
              "2 7.064286                        655.0                              \n",
              "3 4.027381                        406.1                              \n",
              "4 6.039881                        552.6                              \n",
              "5 6.171429                        540.5                              \n",
              "6 5.077844                        454.9                              \n",
              "  VENTO, VELOCIDADE HORARIA (m/s)_mean\n",
              "1 2.366667                            \n",
              "2 3.898810                            \n",
              "3 2.417262                            \n",
              "4 3.289286                            \n",
              "5 3.217262                            \n",
              "6 2.723952                            "
            ]
          },
          "metadata": {}
        }
      ]
    },
    {
      "cell_type": "code",
      "source": [
        "# Using groupby and summarise to calculate sum and mean\n",
        "result <- data2 %>%\n",
        "  group_by(week = floor_date(data2[[\"Data\"]], \"week\")) %>%\n",
        "  summarise(across(all_of(colnames(column_filter(data2))),\n",
        "                   list(sum = sum, mean = mean),\n",
        "                   .names = \"{.col}_{.fn}\"))\n",
        "\n",
        "head(result)"
      ],
      "metadata": {
        "colab": {
          "base_uri": "https://localhost:8080/",
          "height": 497
        },
        "id": "jgsRxfHAUsQE",
        "outputId": "0923d918-cbac-42aa-f781-ff5656d5370a"
      },
      "execution_count": null,
      "outputs": [
        {
          "output_type": "display_data",
          "data": {
            "text/html": [
              "<table class=\"dataframe\">\n",
              "<caption>A tibble: 6 × 21</caption>\n",
              "<thead>\n",
              "\t<tr><th scope=col>week</th><th scope=col>PRECIPITAÇÃO TOTAL, HORÁRIO (mm)_sum</th><th scope=col>PRECIPITAÇÃO TOTAL, HORÁRIO (mm)_mean</th><th scope=col>PRESSAO ATMOSFERICA AO NIVEL DA ESTACAO, HORARIA (mB)_sum</th><th scope=col>PRESSAO ATMOSFERICA AO NIVEL DA ESTACAO, HORARIA (mB)_mean</th><th scope=col>PRESSÃO ATMOSFERICA MAX.NA HORA ANT. (AUT) (mB)_sum</th><th scope=col>PRESSÃO ATMOSFERICA MAX.NA HORA ANT. (AUT) (mB)_mean</th><th scope=col>PRESSÃO ATMOSFERICA MIN. NA HORA ANT. (AUT) (mB)_sum</th><th scope=col>PRESSÃO ATMOSFERICA MIN. NA HORA ANT. (AUT) (mB)_mean</th><th scope=col>TEMPERATURA DO AR - BULBO SECO, HORARIA (°C)_sum</th><th scope=col>⋯</th><th scope=col>TEMPERATURA MÁXIMA NA HORA ANT. (AUT) (°C)_sum</th><th scope=col>TEMPERATURA MÁXIMA NA HORA ANT. (AUT) (°C)_mean</th><th scope=col>TEMPERATURA MÍNIMA NA HORA ANT. (AUT) (°C)_sum</th><th scope=col>TEMPERATURA MÍNIMA NA HORA ANT. (AUT) (°C)_mean</th><th scope=col>VENTO, DIREÇÃO HORARIA (gr) (° (gr))_sum</th><th scope=col>VENTO, DIREÇÃO HORARIA (gr) (° (gr))_mean</th><th scope=col>VENTO, RAJADA MAXIMA (m/s)_sum</th><th scope=col>VENTO, RAJADA MAXIMA (m/s)_mean</th><th scope=col>VENTO, VELOCIDADE HORARIA (m/s)_sum</th><th scope=col>VENTO, VELOCIDADE HORARIA (m/s)_mean</th></tr>\n",
              "\t<tr><th scope=col>&lt;date&gt;</th><th scope=col>&lt;dbl&gt;</th><th scope=col>&lt;dbl&gt;</th><th scope=col>&lt;dbl&gt;</th><th scope=col>&lt;dbl&gt;</th><th scope=col>&lt;dbl&gt;</th><th scope=col>&lt;dbl&gt;</th><th scope=col>&lt;dbl&gt;</th><th scope=col>&lt;dbl&gt;</th><th scope=col>&lt;dbl&gt;</th><th scope=col>⋯</th><th scope=col>&lt;dbl&gt;</th><th scope=col>&lt;dbl&gt;</th><th scope=col>&lt;dbl&gt;</th><th scope=col>&lt;dbl&gt;</th><th scope=col>&lt;int&gt;</th><th scope=col>&lt;dbl&gt;</th><th scope=col>&lt;dbl&gt;</th><th scope=col>&lt;dbl&gt;</th><th scope=col>&lt;dbl&gt;</th><th scope=col>&lt;dbl&gt;</th></tr>\n",
              "</thead>\n",
              "<tbody>\n",
              "\t<tr><td>2023-01-01</td><td> 92.0</td><td>0.55421687</td><td>167797.0</td><td>1010.825</td><td>167837.4</td><td>1011.069</td><td>167754.9</td><td>1010.572</td><td>3980.4</td><td>⋯</td><td>4066.5</td><td>24.49699</td><td>3893.1</td><td>23.45241</td><td>31414</td><td>189.2410</td><td>1184.5</td><td>7.135542</td><td>725.7</td><td>4.371687</td></tr>\n",
              "\t<tr><td>2023-01-08</td><td> 43.6</td><td>0.25952381</td><td>169894.9</td><td>1011.279</td><td>169939.4</td><td>1011.544</td><td>169857.7</td><td>1011.058</td><td>4090.5</td><td>⋯</td><td>4168.9</td><td>24.81488</td><td>4010.9</td><td>23.87440</td><td>24173</td><td>143.8869</td><td> 793.9</td><td>4.725595</td><td>430.7</td><td>2.563690</td></tr>\n",
              "\t<tr><td>2023-01-15</td><td>  2.8</td><td>0.01666667</td><td>169857.8</td><td>1011.058</td><td>169897.0</td><td>1011.292</td><td>169819.9</td><td>1010.833</td><td>4429.0</td><td>⋯</td><td>4523.5</td><td>26.92560</td><td>4340.0</td><td>25.83333</td><td>23033</td><td>137.1012</td><td> 887.2</td><td>5.280952</td><td>501.6</td><td>2.985714</td></tr>\n",
              "\t<tr><td>2023-01-22</td><td> 17.4</td><td>0.10357143</td><td>169556.4</td><td>1009.264</td><td>169593.7</td><td>1009.486</td><td>169513.0</td><td>1009.006</td><td>4289.6</td><td>⋯</td><td>4385.8</td><td>26.10595</td><td>4197.2</td><td>24.98333</td><td>20869</td><td>124.2202</td><td> 985.8</td><td>5.867857</td><td>545.6</td><td>3.247619</td></tr>\n",
              "\t<tr><td>2023-01-29</td><td> 36.2</td><td>0.21547619</td><td>169632.8</td><td>1009.719</td><td>169681.0</td><td>1010.006</td><td>169589.3</td><td>1009.460</td><td>4522.4</td><td>⋯</td><td>4655.6</td><td>27.71190</td><td>4404.9</td><td>26.21964</td><td>21998</td><td>130.9405</td><td>1074.8</td><td>6.397619</td><td>555.6</td><td>3.307143</td></tr>\n",
              "\t<tr><td>2023-02-05</td><td>123.0</td><td>0.73214286</td><td>169860.6</td><td>1011.075</td><td>169908.2</td><td>1011.358</td><td>169810.4</td><td>1010.776</td><td>4274.0</td><td>⋯</td><td>4370.1</td><td>26.01250</td><td>4196.0</td><td>24.97619</td><td>23636</td><td>140.6905</td><td> 910.7</td><td>5.420833</td><td>504.6</td><td>3.003571</td></tr>\n",
              "</tbody>\n",
              "</table>\n"
            ],
            "text/markdown": "\nA tibble: 6 × 21\n\n| week &lt;date&gt; | PRECIPITAÇÃO TOTAL, HORÁRIO (mm)_sum &lt;dbl&gt; | PRECIPITAÇÃO TOTAL, HORÁRIO (mm)_mean &lt;dbl&gt; | PRESSAO ATMOSFERICA AO NIVEL DA ESTACAO, HORARIA (mB)_sum &lt;dbl&gt; | PRESSAO ATMOSFERICA AO NIVEL DA ESTACAO, HORARIA (mB)_mean &lt;dbl&gt; | PRESSÃO ATMOSFERICA MAX.NA HORA ANT. (AUT) (mB)_sum &lt;dbl&gt; | PRESSÃO ATMOSFERICA MAX.NA HORA ANT. (AUT) (mB)_mean &lt;dbl&gt; | PRESSÃO ATMOSFERICA MIN. NA HORA ANT. (AUT) (mB)_sum &lt;dbl&gt; | PRESSÃO ATMOSFERICA MIN. NA HORA ANT. (AUT) (mB)_mean &lt;dbl&gt; | TEMPERATURA DO AR - BULBO SECO, HORARIA (°C)_sum &lt;dbl&gt; | ⋯ ⋯ | TEMPERATURA MÁXIMA NA HORA ANT. (AUT) (°C)_sum &lt;dbl&gt; | TEMPERATURA MÁXIMA NA HORA ANT. (AUT) (°C)_mean &lt;dbl&gt; | TEMPERATURA MÍNIMA NA HORA ANT. (AUT) (°C)_sum &lt;dbl&gt; | TEMPERATURA MÍNIMA NA HORA ANT. (AUT) (°C)_mean &lt;dbl&gt; | VENTO, DIREÇÃO HORARIA (gr) (° (gr))_sum &lt;int&gt; | VENTO, DIREÇÃO HORARIA (gr) (° (gr))_mean &lt;dbl&gt; | VENTO, RAJADA MAXIMA (m/s)_sum &lt;dbl&gt; | VENTO, RAJADA MAXIMA (m/s)_mean &lt;dbl&gt; | VENTO, VELOCIDADE HORARIA (m/s)_sum &lt;dbl&gt; | VENTO, VELOCIDADE HORARIA (m/s)_mean &lt;dbl&gt; |\n|---|---|---|---|---|---|---|---|---|---|---|---|---|---|---|---|---|---|---|---|---|\n| 2023-01-01 |  92.0 | 0.55421687 | 167797.0 | 1010.825 | 167837.4 | 1011.069 | 167754.9 | 1010.572 | 3980.4 | ⋯ | 4066.5 | 24.49699 | 3893.1 | 23.45241 | 31414 | 189.2410 | 1184.5 | 7.135542 | 725.7 | 4.371687 |\n| 2023-01-08 |  43.6 | 0.25952381 | 169894.9 | 1011.279 | 169939.4 | 1011.544 | 169857.7 | 1011.058 | 4090.5 | ⋯ | 4168.9 | 24.81488 | 4010.9 | 23.87440 | 24173 | 143.8869 |  793.9 | 4.725595 | 430.7 | 2.563690 |\n| 2023-01-15 |   2.8 | 0.01666667 | 169857.8 | 1011.058 | 169897.0 | 1011.292 | 169819.9 | 1010.833 | 4429.0 | ⋯ | 4523.5 | 26.92560 | 4340.0 | 25.83333 | 23033 | 137.1012 |  887.2 | 5.280952 | 501.6 | 2.985714 |\n| 2023-01-22 |  17.4 | 0.10357143 | 169556.4 | 1009.264 | 169593.7 | 1009.486 | 169513.0 | 1009.006 | 4289.6 | ⋯ | 4385.8 | 26.10595 | 4197.2 | 24.98333 | 20869 | 124.2202 |  985.8 | 5.867857 | 545.6 | 3.247619 |\n| 2023-01-29 |  36.2 | 0.21547619 | 169632.8 | 1009.719 | 169681.0 | 1010.006 | 169589.3 | 1009.460 | 4522.4 | ⋯ | 4655.6 | 27.71190 | 4404.9 | 26.21964 | 21998 | 130.9405 | 1074.8 | 6.397619 | 555.6 | 3.307143 |\n| 2023-02-05 | 123.0 | 0.73214286 | 169860.6 | 1011.075 | 169908.2 | 1011.358 | 169810.4 | 1010.776 | 4274.0 | ⋯ | 4370.1 | 26.01250 | 4196.0 | 24.97619 | 23636 | 140.6905 |  910.7 | 5.420833 | 504.6 | 3.003571 |\n\n",
            "text/latex": "A tibble: 6 × 21\n\\begin{tabular}{lllllllllllllllllllll}\n week & PRECIPITAÇÃO TOTAL, HORÁRIO (mm)\\_sum & PRECIPITAÇÃO TOTAL, HORÁRIO (mm)\\_mean & PRESSAO ATMOSFERICA AO NIVEL DA ESTACAO, HORARIA (mB)\\_sum & PRESSAO ATMOSFERICA AO NIVEL DA ESTACAO, HORARIA (mB)\\_mean & PRESSÃO ATMOSFERICA MAX.NA HORA ANT. (AUT) (mB)\\_sum & PRESSÃO ATMOSFERICA MAX.NA HORA ANT. (AUT) (mB)\\_mean & PRESSÃO ATMOSFERICA MIN. NA HORA ANT. (AUT) (mB)\\_sum & PRESSÃO ATMOSFERICA MIN. NA HORA ANT. (AUT) (mB)\\_mean & TEMPERATURA DO AR - BULBO SECO, HORARIA (°C)\\_sum & ⋯ & TEMPERATURA MÁXIMA NA HORA ANT. (AUT) (°C)\\_sum & TEMPERATURA MÁXIMA NA HORA ANT. (AUT) (°C)\\_mean & TEMPERATURA MÍNIMA NA HORA ANT. (AUT) (°C)\\_sum & TEMPERATURA MÍNIMA NA HORA ANT. (AUT) (°C)\\_mean & VENTO, DIREÇÃO HORARIA (gr) (° (gr))\\_sum & VENTO, DIREÇÃO HORARIA (gr) (° (gr))\\_mean & VENTO, RAJADA MAXIMA (m/s)\\_sum & VENTO, RAJADA MAXIMA (m/s)\\_mean & VENTO, VELOCIDADE HORARIA (m/s)\\_sum & VENTO, VELOCIDADE HORARIA (m/s)\\_mean\\\\\n <date> & <dbl> & <dbl> & <dbl> & <dbl> & <dbl> & <dbl> & <dbl> & <dbl> & <dbl> & ⋯ & <dbl> & <dbl> & <dbl> & <dbl> & <int> & <dbl> & <dbl> & <dbl> & <dbl> & <dbl>\\\\\n\\hline\n\t 2023-01-01 &  92.0 & 0.55421687 & 167797.0 & 1010.825 & 167837.4 & 1011.069 & 167754.9 & 1010.572 & 3980.4 & ⋯ & 4066.5 & 24.49699 & 3893.1 & 23.45241 & 31414 & 189.2410 & 1184.5 & 7.135542 & 725.7 & 4.371687\\\\\n\t 2023-01-08 &  43.6 & 0.25952381 & 169894.9 & 1011.279 & 169939.4 & 1011.544 & 169857.7 & 1011.058 & 4090.5 & ⋯ & 4168.9 & 24.81488 & 4010.9 & 23.87440 & 24173 & 143.8869 &  793.9 & 4.725595 & 430.7 & 2.563690\\\\\n\t 2023-01-15 &   2.8 & 0.01666667 & 169857.8 & 1011.058 & 169897.0 & 1011.292 & 169819.9 & 1010.833 & 4429.0 & ⋯ & 4523.5 & 26.92560 & 4340.0 & 25.83333 & 23033 & 137.1012 &  887.2 & 5.280952 & 501.6 & 2.985714\\\\\n\t 2023-01-22 &  17.4 & 0.10357143 & 169556.4 & 1009.264 & 169593.7 & 1009.486 & 169513.0 & 1009.006 & 4289.6 & ⋯ & 4385.8 & 26.10595 & 4197.2 & 24.98333 & 20869 & 124.2202 &  985.8 & 5.867857 & 545.6 & 3.247619\\\\\n\t 2023-01-29 &  36.2 & 0.21547619 & 169632.8 & 1009.719 & 169681.0 & 1010.006 & 169589.3 & 1009.460 & 4522.4 & ⋯ & 4655.6 & 27.71190 & 4404.9 & 26.21964 & 21998 & 130.9405 & 1074.8 & 6.397619 & 555.6 & 3.307143\\\\\n\t 2023-02-05 & 123.0 & 0.73214286 & 169860.6 & 1011.075 & 169908.2 & 1011.358 & 169810.4 & 1010.776 & 4274.0 & ⋯ & 4370.1 & 26.01250 & 4196.0 & 24.97619 & 23636 & 140.6905 &  910.7 & 5.420833 & 504.6 & 3.003571\\\\\n\\end{tabular}\n",
            "text/plain": [
              "  week       PRECIPITAÇÃO TOTAL, HORÁRIO (mm)_sum\n",
              "1 2023-01-01  92.0                               \n",
              "2 2023-01-08  43.6                               \n",
              "3 2023-01-15   2.8                               \n",
              "4 2023-01-22  17.4                               \n",
              "5 2023-01-29  36.2                               \n",
              "6 2023-02-05 123.0                               \n",
              "  PRECIPITAÇÃO TOTAL, HORÁRIO (mm)_mean\n",
              "1 0.55421687                           \n",
              "2 0.25952381                           \n",
              "3 0.01666667                           \n",
              "4 0.10357143                           \n",
              "5 0.21547619                           \n",
              "6 0.73214286                           \n",
              "  PRESSAO ATMOSFERICA AO NIVEL DA ESTACAO, HORARIA (mB)_sum\n",
              "1 167797.0                                                 \n",
              "2 169894.9                                                 \n",
              "3 169857.8                                                 \n",
              "4 169556.4                                                 \n",
              "5 169632.8                                                 \n",
              "6 169860.6                                                 \n",
              "  PRESSAO ATMOSFERICA AO NIVEL DA ESTACAO, HORARIA (mB)_mean\n",
              "1 1010.825                                                  \n",
              "2 1011.279                                                  \n",
              "3 1011.058                                                  \n",
              "4 1009.264                                                  \n",
              "5 1009.719                                                  \n",
              "6 1011.075                                                  \n",
              "  PRESSÃO ATMOSFERICA MAX.NA HORA ANT. (AUT) (mB)_sum\n",
              "1 167837.4                                           \n",
              "2 169939.4                                           \n",
              "3 169897.0                                           \n",
              "4 169593.7                                           \n",
              "5 169681.0                                           \n",
              "6 169908.2                                           \n",
              "  PRESSÃO ATMOSFERICA MAX.NA HORA ANT. (AUT) (mB)_mean\n",
              "1 1011.069                                            \n",
              "2 1011.544                                            \n",
              "3 1011.292                                            \n",
              "4 1009.486                                            \n",
              "5 1010.006                                            \n",
              "6 1011.358                                            \n",
              "  PRESSÃO ATMOSFERICA MIN. NA HORA ANT. (AUT) (mB)_sum\n",
              "1 167754.9                                            \n",
              "2 169857.7                                            \n",
              "3 169819.9                                            \n",
              "4 169513.0                                            \n",
              "5 169589.3                                            \n",
              "6 169810.4                                            \n",
              "  PRESSÃO ATMOSFERICA MIN. NA HORA ANT. (AUT) (mB)_mean\n",
              "1 1010.572                                             \n",
              "2 1011.058                                             \n",
              "3 1010.833                                             \n",
              "4 1009.006                                             \n",
              "5 1009.460                                             \n",
              "6 1010.776                                             \n",
              "  TEMPERATURA DO AR - BULBO SECO, HORARIA (°C)_sum ⋯\n",
              "1 3980.4                                           ⋯\n",
              "2 4090.5                                           ⋯\n",
              "3 4429.0                                           ⋯\n",
              "4 4289.6                                           ⋯\n",
              "5 4522.4                                           ⋯\n",
              "6 4274.0                                           ⋯\n",
              "  TEMPERATURA MÁXIMA NA HORA ANT. (AUT) (°C)_sum\n",
              "1 4066.5                                        \n",
              "2 4168.9                                        \n",
              "3 4523.5                                        \n",
              "4 4385.8                                        \n",
              "5 4655.6                                        \n",
              "6 4370.1                                        \n",
              "  TEMPERATURA MÁXIMA NA HORA ANT. (AUT) (°C)_mean\n",
              "1 24.49699                                       \n",
              "2 24.81488                                       \n",
              "3 26.92560                                       \n",
              "4 26.10595                                       \n",
              "5 27.71190                                       \n",
              "6 26.01250                                       \n",
              "  TEMPERATURA MÍNIMA NA HORA ANT. (AUT) (°C)_sum\n",
              "1 3893.1                                        \n",
              "2 4010.9                                        \n",
              "3 4340.0                                        \n",
              "4 4197.2                                        \n",
              "5 4404.9                                        \n",
              "6 4196.0                                        \n",
              "  TEMPERATURA MÍNIMA NA HORA ANT. (AUT) (°C)_mean\n",
              "1 23.45241                                       \n",
              "2 23.87440                                       \n",
              "3 25.83333                                       \n",
              "4 24.98333                                       \n",
              "5 26.21964                                       \n",
              "6 24.97619                                       \n",
              "  VENTO, DIREÇÃO HORARIA (gr) (° (gr))_sum\n",
              "1 31414                                   \n",
              "2 24173                                   \n",
              "3 23033                                   \n",
              "4 20869                                   \n",
              "5 21998                                   \n",
              "6 23636                                   \n",
              "  VENTO, DIREÇÃO HORARIA (gr) (° (gr))_mean VENTO, RAJADA MAXIMA (m/s)_sum\n",
              "1 189.2410                                  1184.5                        \n",
              "2 143.8869                                   793.9                        \n",
              "3 137.1012                                   887.2                        \n",
              "4 124.2202                                   985.8                        \n",
              "5 130.9405                                  1074.8                        \n",
              "6 140.6905                                   910.7                        \n",
              "  VENTO, RAJADA MAXIMA (m/s)_mean VENTO, VELOCIDADE HORARIA (m/s)_sum\n",
              "1 7.135542                        725.7                              \n",
              "2 4.725595                        430.7                              \n",
              "3 5.280952                        501.6                              \n",
              "4 5.867857                        545.6                              \n",
              "5 6.397619                        555.6                              \n",
              "6 5.420833                        504.6                              \n",
              "  VENTO, VELOCIDADE HORARIA (m/s)_mean\n",
              "1 4.371687                            \n",
              "2 2.563690                            \n",
              "3 2.985714                            \n",
              "4 3.247619                            \n",
              "5 3.307143                            \n",
              "6 3.003571                            "
            ]
          },
          "metadata": {}
        }
      ]
    },
    {
      "cell_type": "markdown",
      "source": [
        "## Groupby Month"
      ],
      "metadata": {
        "id": "Ra3y0yucUvj8"
      }
    },
    {
      "cell_type": "code",
      "source": [
        "# Using groupby and summarise to calculate sum and mean\n",
        "result <- data1 %>%\n",
        "  group_by(month = floor_date(data1[[\"Data\"]], \"month\")) %>%\n",
        "  summarise(across(all_of(colnames(column_filter(data1))),\n",
        "                   list(sum = sum, mean = mean),\n",
        "                   .names = \"{.col}_{.fn}\"))\n",
        "\n",
        "head(result)"
      ],
      "metadata": {
        "colab": {
          "base_uri": "https://localhost:8080/",
          "height": 497
        },
        "id": "JMkp1z13Uzha",
        "outputId": "2232e5a5-ad1a-49ff-fd91-7e4c3399f584"
      },
      "execution_count": null,
      "outputs": [
        {
          "output_type": "display_data",
          "data": {
            "text/html": [
              "<table class=\"dataframe\">\n",
              "<caption>A tibble: 6 × 21</caption>\n",
              "<thead>\n",
              "\t<tr><th scope=col>month</th><th scope=col>PRECIPITAÇÃO TOTAL, HORÁRIO (mm)_sum</th><th scope=col>PRECIPITAÇÃO TOTAL, HORÁRIO (mm)_mean</th><th scope=col>PRESSAO ATMOSFERICA AO NIVEL DA ESTACAO, HORARIA (mB)_sum</th><th scope=col>PRESSAO ATMOSFERICA AO NIVEL DA ESTACAO, HORARIA (mB)_mean</th><th scope=col>PRESSÃO ATMOSFERICA MAX.NA HORA ANT. (AUT) (mB)_sum</th><th scope=col>PRESSÃO ATMOSFERICA MAX.NA HORA ANT. (AUT) (mB)_mean</th><th scope=col>PRESSÃO ATMOSFERICA MIN. NA HORA ANT. (AUT) (mB)_sum</th><th scope=col>PRESSÃO ATMOSFERICA MIN. NA HORA ANT. (AUT) (mB)_mean</th><th scope=col>TEMPERATURA DO AR - BULBO SECO, HORARIA (°C)_sum</th><th scope=col>⋯</th><th scope=col>TEMPERATURA MÁXIMA NA HORA ANT. (AUT) (°C)_sum</th><th scope=col>TEMPERATURA MÁXIMA NA HORA ANT. (AUT) (°C)_mean</th><th scope=col>TEMPERATURA MÍNIMA NA HORA ANT. (AUT) (°C)_sum</th><th scope=col>TEMPERATURA MÍNIMA NA HORA ANT. (AUT) (°C)_mean</th><th scope=col>VENTO, DIREÇÃO HORARIA (gr) (° (gr))_sum</th><th scope=col>VENTO, DIREÇÃO HORARIA (gr) (° (gr))_mean</th><th scope=col>VENTO, RAJADA MAXIMA (m/s)_sum</th><th scope=col>VENTO, RAJADA MAXIMA (m/s)_mean</th><th scope=col>VENTO, VELOCIDADE HORARIA (m/s)_sum</th><th scope=col>VENTO, VELOCIDADE HORARIA (m/s)_mean</th></tr>\n",
              "\t<tr><th scope=col>&lt;date&gt;</th><th scope=col>&lt;dbl&gt;</th><th scope=col>&lt;dbl&gt;</th><th scope=col>&lt;dbl&gt;</th><th scope=col>&lt;dbl&gt;</th><th scope=col>&lt;dbl&gt;</th><th scope=col>&lt;dbl&gt;</th><th scope=col>&lt;dbl&gt;</th><th scope=col>&lt;dbl&gt;</th><th scope=col>&lt;dbl&gt;</th><th scope=col>⋯</th><th scope=col>&lt;dbl&gt;</th><th scope=col>&lt;dbl&gt;</th><th scope=col>&lt;dbl&gt;</th><th scope=col>&lt;dbl&gt;</th><th scope=col>&lt;int&gt;</th><th scope=col>&lt;dbl&gt;</th><th scope=col>&lt;dbl&gt;</th><th scope=col>&lt;dbl&gt;</th><th scope=col>&lt;dbl&gt;</th><th scope=col>&lt;dbl&gt;</th></tr>\n",
              "</thead>\n",
              "<tbody>\n",
              "\t<tr><td>2022-01-01</td><td> 89.0</td><td>0.11962366</td><td>751249.5</td><td>1009.744</td><td>751424.6</td><td>1009.979</td><td>751076.0</td><td>1009.511</td><td>19173.9</td><td>⋯</td><td>19629.0</td><td>26.38306</td><td>18744.3</td><td>25.19395</td><td>108749</td><td>146.1680</td><td>4277.8</td><td>5.749731</td><td>2341.6</td><td>3.147312</td></tr>\n",
              "\t<tr><td>2022-02-01</td><td> 82.4</td><td>0.12316891</td><td>676293.3</td><td>1010.902</td><td>676443.1</td><td>1011.126</td><td>676139.8</td><td>1010.672</td><td>16967.2</td><td>⋯</td><td>17325.0</td><td>25.89686</td><td>16647.4</td><td>24.88401</td><td> 94052</td><td>140.5859</td><td>3525.3</td><td>5.269507</td><td>1994.0</td><td>2.980568</td></tr>\n",
              "\t<tr><td>2022-03-01</td><td> 46.0</td><td>0.06182796</td><td>752316.3</td><td>1011.178</td><td>752494.2</td><td>1011.417</td><td>752133.3</td><td>1010.932</td><td>19894.9</td><td>⋯</td><td>20429.8</td><td>27.45941</td><td>19372.3</td><td>26.03804</td><td> 95044</td><td>127.7473</td><td>4562.4</td><td>6.132258</td><td>2540.7</td><td>3.414919</td></tr>\n",
              "\t<tr><td>2022-04-01</td><td>379.2</td><td>0.52666667</td><td>729664.8</td><td>1013.423</td><td>729835.5</td><td>1013.660</td><td>729489.8</td><td>1013.180</td><td>17510.3</td><td>⋯</td><td>17872.9</td><td>24.82347</td><td>17178.0</td><td>23.85833</td><td>106395</td><td>147.7708</td><td>4678.6</td><td>6.498056</td><td>2693.7</td><td>3.741250</td></tr>\n",
              "\t<tr><td>2022-05-01</td><td> 20.8</td><td>0.02795699</td><td>755381.8</td><td>1015.298</td><td>755557.6</td><td>1015.534</td><td>755207.5</td><td>1015.064</td><td>16457.9</td><td>⋯</td><td>16881.6</td><td>22.69032</td><td>16057.6</td><td>21.58280</td><td>117486</td><td>157.9113</td><td>4607.2</td><td>6.192473</td><td>2707.6</td><td>3.639247</td></tr>\n",
              "\t<tr><td>2022-06-01</td><td> 65.2</td><td>0.09055556</td><td>731913.5</td><td>1016.547</td><td>732079.4</td><td>1016.777</td><td>731742.0</td><td>1016.308</td><td>14783.1</td><td>⋯</td><td>15153.1</td><td>21.04597</td><td>14431.4</td><td>20.04361</td><td>104382</td><td>144.9750</td><td>4549.8</td><td>6.319167</td><td>2691.9</td><td>3.738750</td></tr>\n",
              "</tbody>\n",
              "</table>\n"
            ],
            "text/markdown": "\nA tibble: 6 × 21\n\n| month &lt;date&gt; | PRECIPITAÇÃO TOTAL, HORÁRIO (mm)_sum &lt;dbl&gt; | PRECIPITAÇÃO TOTAL, HORÁRIO (mm)_mean &lt;dbl&gt; | PRESSAO ATMOSFERICA AO NIVEL DA ESTACAO, HORARIA (mB)_sum &lt;dbl&gt; | PRESSAO ATMOSFERICA AO NIVEL DA ESTACAO, HORARIA (mB)_mean &lt;dbl&gt; | PRESSÃO ATMOSFERICA MAX.NA HORA ANT. (AUT) (mB)_sum &lt;dbl&gt; | PRESSÃO ATMOSFERICA MAX.NA HORA ANT. (AUT) (mB)_mean &lt;dbl&gt; | PRESSÃO ATMOSFERICA MIN. NA HORA ANT. (AUT) (mB)_sum &lt;dbl&gt; | PRESSÃO ATMOSFERICA MIN. NA HORA ANT. (AUT) (mB)_mean &lt;dbl&gt; | TEMPERATURA DO AR - BULBO SECO, HORARIA (°C)_sum &lt;dbl&gt; | ⋯ ⋯ | TEMPERATURA MÁXIMA NA HORA ANT. (AUT) (°C)_sum &lt;dbl&gt; | TEMPERATURA MÁXIMA NA HORA ANT. (AUT) (°C)_mean &lt;dbl&gt; | TEMPERATURA MÍNIMA NA HORA ANT. (AUT) (°C)_sum &lt;dbl&gt; | TEMPERATURA MÍNIMA NA HORA ANT. (AUT) (°C)_mean &lt;dbl&gt; | VENTO, DIREÇÃO HORARIA (gr) (° (gr))_sum &lt;int&gt; | VENTO, DIREÇÃO HORARIA (gr) (° (gr))_mean &lt;dbl&gt; | VENTO, RAJADA MAXIMA (m/s)_sum &lt;dbl&gt; | VENTO, RAJADA MAXIMA (m/s)_mean &lt;dbl&gt; | VENTO, VELOCIDADE HORARIA (m/s)_sum &lt;dbl&gt; | VENTO, VELOCIDADE HORARIA (m/s)_mean &lt;dbl&gt; |\n|---|---|---|---|---|---|---|---|---|---|---|---|---|---|---|---|---|---|---|---|---|\n| 2022-01-01 |  89.0 | 0.11962366 | 751249.5 | 1009.744 | 751424.6 | 1009.979 | 751076.0 | 1009.511 | 19173.9 | ⋯ | 19629.0 | 26.38306 | 18744.3 | 25.19395 | 108749 | 146.1680 | 4277.8 | 5.749731 | 2341.6 | 3.147312 |\n| 2022-02-01 |  82.4 | 0.12316891 | 676293.3 | 1010.902 | 676443.1 | 1011.126 | 676139.8 | 1010.672 | 16967.2 | ⋯ | 17325.0 | 25.89686 | 16647.4 | 24.88401 |  94052 | 140.5859 | 3525.3 | 5.269507 | 1994.0 | 2.980568 |\n| 2022-03-01 |  46.0 | 0.06182796 | 752316.3 | 1011.178 | 752494.2 | 1011.417 | 752133.3 | 1010.932 | 19894.9 | ⋯ | 20429.8 | 27.45941 | 19372.3 | 26.03804 |  95044 | 127.7473 | 4562.4 | 6.132258 | 2540.7 | 3.414919 |\n| 2022-04-01 | 379.2 | 0.52666667 | 729664.8 | 1013.423 | 729835.5 | 1013.660 | 729489.8 | 1013.180 | 17510.3 | ⋯ | 17872.9 | 24.82347 | 17178.0 | 23.85833 | 106395 | 147.7708 | 4678.6 | 6.498056 | 2693.7 | 3.741250 |\n| 2022-05-01 |  20.8 | 0.02795699 | 755381.8 | 1015.298 | 755557.6 | 1015.534 | 755207.5 | 1015.064 | 16457.9 | ⋯ | 16881.6 | 22.69032 | 16057.6 | 21.58280 | 117486 | 157.9113 | 4607.2 | 6.192473 | 2707.6 | 3.639247 |\n| 2022-06-01 |  65.2 | 0.09055556 | 731913.5 | 1016.547 | 732079.4 | 1016.777 | 731742.0 | 1016.308 | 14783.1 | ⋯ | 15153.1 | 21.04597 | 14431.4 | 20.04361 | 104382 | 144.9750 | 4549.8 | 6.319167 | 2691.9 | 3.738750 |\n\n",
            "text/latex": "A tibble: 6 × 21\n\\begin{tabular}{lllllllllllllllllllll}\n month & PRECIPITAÇÃO TOTAL, HORÁRIO (mm)\\_sum & PRECIPITAÇÃO TOTAL, HORÁRIO (mm)\\_mean & PRESSAO ATMOSFERICA AO NIVEL DA ESTACAO, HORARIA (mB)\\_sum & PRESSAO ATMOSFERICA AO NIVEL DA ESTACAO, HORARIA (mB)\\_mean & PRESSÃO ATMOSFERICA MAX.NA HORA ANT. (AUT) (mB)\\_sum & PRESSÃO ATMOSFERICA MAX.NA HORA ANT. (AUT) (mB)\\_mean & PRESSÃO ATMOSFERICA MIN. NA HORA ANT. (AUT) (mB)\\_sum & PRESSÃO ATMOSFERICA MIN. NA HORA ANT. (AUT) (mB)\\_mean & TEMPERATURA DO AR - BULBO SECO, HORARIA (°C)\\_sum & ⋯ & TEMPERATURA MÁXIMA NA HORA ANT. (AUT) (°C)\\_sum & TEMPERATURA MÁXIMA NA HORA ANT. (AUT) (°C)\\_mean & TEMPERATURA MÍNIMA NA HORA ANT. (AUT) (°C)\\_sum & TEMPERATURA MÍNIMA NA HORA ANT. (AUT) (°C)\\_mean & VENTO, DIREÇÃO HORARIA (gr) (° (gr))\\_sum & VENTO, DIREÇÃO HORARIA (gr) (° (gr))\\_mean & VENTO, RAJADA MAXIMA (m/s)\\_sum & VENTO, RAJADA MAXIMA (m/s)\\_mean & VENTO, VELOCIDADE HORARIA (m/s)\\_sum & VENTO, VELOCIDADE HORARIA (m/s)\\_mean\\\\\n <date> & <dbl> & <dbl> & <dbl> & <dbl> & <dbl> & <dbl> & <dbl> & <dbl> & <dbl> & ⋯ & <dbl> & <dbl> & <dbl> & <dbl> & <int> & <dbl> & <dbl> & <dbl> & <dbl> & <dbl>\\\\\n\\hline\n\t 2022-01-01 &  89.0 & 0.11962366 & 751249.5 & 1009.744 & 751424.6 & 1009.979 & 751076.0 & 1009.511 & 19173.9 & ⋯ & 19629.0 & 26.38306 & 18744.3 & 25.19395 & 108749 & 146.1680 & 4277.8 & 5.749731 & 2341.6 & 3.147312\\\\\n\t 2022-02-01 &  82.4 & 0.12316891 & 676293.3 & 1010.902 & 676443.1 & 1011.126 & 676139.8 & 1010.672 & 16967.2 & ⋯ & 17325.0 & 25.89686 & 16647.4 & 24.88401 &  94052 & 140.5859 & 3525.3 & 5.269507 & 1994.0 & 2.980568\\\\\n\t 2022-03-01 &  46.0 & 0.06182796 & 752316.3 & 1011.178 & 752494.2 & 1011.417 & 752133.3 & 1010.932 & 19894.9 & ⋯ & 20429.8 & 27.45941 & 19372.3 & 26.03804 &  95044 & 127.7473 & 4562.4 & 6.132258 & 2540.7 & 3.414919\\\\\n\t 2022-04-01 & 379.2 & 0.52666667 & 729664.8 & 1013.423 & 729835.5 & 1013.660 & 729489.8 & 1013.180 & 17510.3 & ⋯ & 17872.9 & 24.82347 & 17178.0 & 23.85833 & 106395 & 147.7708 & 4678.6 & 6.498056 & 2693.7 & 3.741250\\\\\n\t 2022-05-01 &  20.8 & 0.02795699 & 755381.8 & 1015.298 & 755557.6 & 1015.534 & 755207.5 & 1015.064 & 16457.9 & ⋯ & 16881.6 & 22.69032 & 16057.6 & 21.58280 & 117486 & 157.9113 & 4607.2 & 6.192473 & 2707.6 & 3.639247\\\\\n\t 2022-06-01 &  65.2 & 0.09055556 & 731913.5 & 1016.547 & 732079.4 & 1016.777 & 731742.0 & 1016.308 & 14783.1 & ⋯ & 15153.1 & 21.04597 & 14431.4 & 20.04361 & 104382 & 144.9750 & 4549.8 & 6.319167 & 2691.9 & 3.738750\\\\\n\\end{tabular}\n",
            "text/plain": [
              "  month      PRECIPITAÇÃO TOTAL, HORÁRIO (mm)_sum\n",
              "1 2022-01-01  89.0                               \n",
              "2 2022-02-01  82.4                               \n",
              "3 2022-03-01  46.0                               \n",
              "4 2022-04-01 379.2                               \n",
              "5 2022-05-01  20.8                               \n",
              "6 2022-06-01  65.2                               \n",
              "  PRECIPITAÇÃO TOTAL, HORÁRIO (mm)_mean\n",
              "1 0.11962366                           \n",
              "2 0.12316891                           \n",
              "3 0.06182796                           \n",
              "4 0.52666667                           \n",
              "5 0.02795699                           \n",
              "6 0.09055556                           \n",
              "  PRESSAO ATMOSFERICA AO NIVEL DA ESTACAO, HORARIA (mB)_sum\n",
              "1 751249.5                                                 \n",
              "2 676293.3                                                 \n",
              "3 752316.3                                                 \n",
              "4 729664.8                                                 \n",
              "5 755381.8                                                 \n",
              "6 731913.5                                                 \n",
              "  PRESSAO ATMOSFERICA AO NIVEL DA ESTACAO, HORARIA (mB)_mean\n",
              "1 1009.744                                                  \n",
              "2 1010.902                                                  \n",
              "3 1011.178                                                  \n",
              "4 1013.423                                                  \n",
              "5 1015.298                                                  \n",
              "6 1016.547                                                  \n",
              "  PRESSÃO ATMOSFERICA MAX.NA HORA ANT. (AUT) (mB)_sum\n",
              "1 751424.6                                           \n",
              "2 676443.1                                           \n",
              "3 752494.2                                           \n",
              "4 729835.5                                           \n",
              "5 755557.6                                           \n",
              "6 732079.4                                           \n",
              "  PRESSÃO ATMOSFERICA MAX.NA HORA ANT. (AUT) (mB)_mean\n",
              "1 1009.979                                            \n",
              "2 1011.126                                            \n",
              "3 1011.417                                            \n",
              "4 1013.660                                            \n",
              "5 1015.534                                            \n",
              "6 1016.777                                            \n",
              "  PRESSÃO ATMOSFERICA MIN. NA HORA ANT. (AUT) (mB)_sum\n",
              "1 751076.0                                            \n",
              "2 676139.8                                            \n",
              "3 752133.3                                            \n",
              "4 729489.8                                            \n",
              "5 755207.5                                            \n",
              "6 731742.0                                            \n",
              "  PRESSÃO ATMOSFERICA MIN. NA HORA ANT. (AUT) (mB)_mean\n",
              "1 1009.511                                             \n",
              "2 1010.672                                             \n",
              "3 1010.932                                             \n",
              "4 1013.180                                             \n",
              "5 1015.064                                             \n",
              "6 1016.308                                             \n",
              "  TEMPERATURA DO AR - BULBO SECO, HORARIA (°C)_sum ⋯\n",
              "1 19173.9                                          ⋯\n",
              "2 16967.2                                          ⋯\n",
              "3 19894.9                                          ⋯\n",
              "4 17510.3                                          ⋯\n",
              "5 16457.9                                          ⋯\n",
              "6 14783.1                                          ⋯\n",
              "  TEMPERATURA MÁXIMA NA HORA ANT. (AUT) (°C)_sum\n",
              "1 19629.0                                       \n",
              "2 17325.0                                       \n",
              "3 20429.8                                       \n",
              "4 17872.9                                       \n",
              "5 16881.6                                       \n",
              "6 15153.1                                       \n",
              "  TEMPERATURA MÁXIMA NA HORA ANT. (AUT) (°C)_mean\n",
              "1 26.38306                                       \n",
              "2 25.89686                                       \n",
              "3 27.45941                                       \n",
              "4 24.82347                                       \n",
              "5 22.69032                                       \n",
              "6 21.04597                                       \n",
              "  TEMPERATURA MÍNIMA NA HORA ANT. (AUT) (°C)_sum\n",
              "1 18744.3                                       \n",
              "2 16647.4                                       \n",
              "3 19372.3                                       \n",
              "4 17178.0                                       \n",
              "5 16057.6                                       \n",
              "6 14431.4                                       \n",
              "  TEMPERATURA MÍNIMA NA HORA ANT. (AUT) (°C)_mean\n",
              "1 25.19395                                       \n",
              "2 24.88401                                       \n",
              "3 26.03804                                       \n",
              "4 23.85833                                       \n",
              "5 21.58280                                       \n",
              "6 20.04361                                       \n",
              "  VENTO, DIREÇÃO HORARIA (gr) (° (gr))_sum\n",
              "1 108749                                  \n",
              "2  94052                                  \n",
              "3  95044                                  \n",
              "4 106395                                  \n",
              "5 117486                                  \n",
              "6 104382                                  \n",
              "  VENTO, DIREÇÃO HORARIA (gr) (° (gr))_mean VENTO, RAJADA MAXIMA (m/s)_sum\n",
              "1 146.1680                                  4277.8                        \n",
              "2 140.5859                                  3525.3                        \n",
              "3 127.7473                                  4562.4                        \n",
              "4 147.7708                                  4678.6                        \n",
              "5 157.9113                                  4607.2                        \n",
              "6 144.9750                                  4549.8                        \n",
              "  VENTO, RAJADA MAXIMA (m/s)_mean VENTO, VELOCIDADE HORARIA (m/s)_sum\n",
              "1 5.749731                        2341.6                             \n",
              "2 5.269507                        1994.0                             \n",
              "3 6.132258                        2540.7                             \n",
              "4 6.498056                        2693.7                             \n",
              "5 6.192473                        2707.6                             \n",
              "6 6.319167                        2691.9                             \n",
              "  VENTO, VELOCIDADE HORARIA (m/s)_mean\n",
              "1 3.147312                            \n",
              "2 2.980568                            \n",
              "3 3.414919                            \n",
              "4 3.741250                            \n",
              "5 3.639247                            \n",
              "6 3.738750                            "
            ]
          },
          "metadata": {}
        }
      ]
    },
    {
      "cell_type": "code",
      "source": [
        "# Using groupby and summarise to calculate sum and mean\n",
        "result <- data2 %>%\n",
        "  group_by(month = floor_date(data2[[\"Data\"]], \"month\")) %>%\n",
        "  summarise(across(all_of(colnames(column_filter(data2))),\n",
        "                   list(sum = sum, mean = mean),\n",
        "                   .names = \"{.col}_{.fn}\"))\n",
        "\n",
        "head(result)"
      ],
      "metadata": {
        "colab": {
          "base_uri": "https://localhost:8080/",
          "height": 497
        },
        "id": "u5DCrRpq5Iqx",
        "outputId": "9fefef15-5e77-4d79-e331-056b5d8e8ecf"
      },
      "execution_count": null,
      "outputs": [
        {
          "output_type": "display_data",
          "data": {
            "text/html": [
              "<table class=\"dataframe\">\n",
              "<caption>A tibble: 6 × 21</caption>\n",
              "<thead>\n",
              "\t<tr><th scope=col>month</th><th scope=col>PRECIPITAÇÃO TOTAL, HORÁRIO (mm)_sum</th><th scope=col>PRECIPITAÇÃO TOTAL, HORÁRIO (mm)_mean</th><th scope=col>PRESSAO ATMOSFERICA AO NIVEL DA ESTACAO, HORARIA (mB)_sum</th><th scope=col>PRESSAO ATMOSFERICA AO NIVEL DA ESTACAO, HORARIA (mB)_mean</th><th scope=col>PRESSÃO ATMOSFERICA MAX.NA HORA ANT. (AUT) (mB)_sum</th><th scope=col>PRESSÃO ATMOSFERICA MAX.NA HORA ANT. (AUT) (mB)_mean</th><th scope=col>PRESSÃO ATMOSFERICA MIN. NA HORA ANT. (AUT) (mB)_sum</th><th scope=col>PRESSÃO ATMOSFERICA MIN. NA HORA ANT. (AUT) (mB)_mean</th><th scope=col>TEMPERATURA DO AR - BULBO SECO, HORARIA (°C)_sum</th><th scope=col>⋯</th><th scope=col>TEMPERATURA MÁXIMA NA HORA ANT. (AUT) (°C)_sum</th><th scope=col>TEMPERATURA MÁXIMA NA HORA ANT. (AUT) (°C)_mean</th><th scope=col>TEMPERATURA MÍNIMA NA HORA ANT. (AUT) (°C)_sum</th><th scope=col>TEMPERATURA MÍNIMA NA HORA ANT. (AUT) (°C)_mean</th><th scope=col>VENTO, DIREÇÃO HORARIA (gr) (° (gr))_sum</th><th scope=col>VENTO, DIREÇÃO HORARIA (gr) (° (gr))_mean</th><th scope=col>VENTO, RAJADA MAXIMA (m/s)_sum</th><th scope=col>VENTO, RAJADA MAXIMA (m/s)_mean</th><th scope=col>VENTO, VELOCIDADE HORARIA (m/s)_sum</th><th scope=col>VENTO, VELOCIDADE HORARIA (m/s)_mean</th></tr>\n",
              "\t<tr><th scope=col>&lt;date&gt;</th><th scope=col>&lt;dbl&gt;</th><th scope=col>&lt;dbl&gt;</th><th scope=col>&lt;dbl&gt;</th><th scope=col>&lt;dbl&gt;</th><th scope=col>&lt;dbl&gt;</th><th scope=col>&lt;dbl&gt;</th><th scope=col>&lt;dbl&gt;</th><th scope=col>&lt;dbl&gt;</th><th scope=col>&lt;dbl&gt;</th><th scope=col>⋯</th><th scope=col>&lt;dbl&gt;</th><th scope=col>&lt;dbl&gt;</th><th scope=col>&lt;dbl&gt;</th><th scope=col>&lt;dbl&gt;</th><th scope=col>&lt;int&gt;</th><th scope=col>&lt;dbl&gt;</th><th scope=col>&lt;dbl&gt;</th><th scope=col>&lt;dbl&gt;</th><th scope=col>&lt;dbl&gt;</th><th scope=col>&lt;dbl&gt;</th></tr>\n",
              "</thead>\n",
              "<tbody>\n",
              "\t<tr><td>2023-01-01</td><td>188.0</td><td>0.25336927</td><td>749796.6</td><td>1010.508</td><td>749979.2</td><td>1010.754</td><td>749619.2</td><td>1010.268</td><td>18662.7</td><td>⋯</td><td>19073.0</td><td>25.70485</td><td>18263.8</td><td>24.61429</td><td>107626</td><td>145.0485</td><td>4338.0</td><td>5.846361</td><td>2451.1</td><td>3.303369</td></tr>\n",
              "\t<tr><td>2023-02-01</td><td>160.6</td><td>0.23898810</td><td>679258.6</td><td>1010.801</td><td>679442.5</td><td>1011.075</td><td>679067.5</td><td>1010.517</td><td>17809.3</td><td>⋯</td><td>18223.2</td><td>27.11786</td><td>17432.5</td><td>25.94122</td><td> 99857</td><td>148.5967</td><td>3990.5</td><td>5.938244</td><td>2133.0</td><td>3.174107</td></tr>\n",
              "\t<tr><td>2023-03-01</td><td> 80.2</td><td>0.10779570</td><td>753469.3</td><td>1012.728</td><td>753640.4</td><td>1012.958</td><td>753296.8</td><td>1012.496</td><td>19251.6</td><td>⋯</td><td>19684.2</td><td>26.45726</td><td>18872.7</td><td>25.36653</td><td> 97732</td><td>131.3602</td><td>4075.0</td><td>5.477151</td><td>2270.2</td><td>3.051344</td></tr>\n",
              "\t<tr><td>2023-04-01</td><td>124.0</td><td>0.17222222</td><td>729523.1</td><td>1013.227</td><td>729691.6</td><td>1013.461</td><td>729351.7</td><td>1012.988</td><td>17047.4</td><td>⋯</td><td>17423.2</td><td>24.19889</td><td>16715.1</td><td>23.21542</td><td> 98357</td><td>136.6069</td><td>3956.2</td><td>5.494722</td><td>2304.5</td><td>3.200694</td></tr>\n",
              "\t<tr><td>2023-05-01</td><td> 57.2</td><td>0.10514706</td><td>553193.0</td><td>1016.899</td><td>553319.4</td><td>1017.131</td><td>553066.3</td><td>1016.666</td><td>12075.3</td><td>⋯</td><td>12374.5</td><td>22.74724</td><td>11792.3</td><td>21.67702</td><td> 73935</td><td>135.9099</td><td>2924.1</td><td>5.375184</td><td>1701.9</td><td>3.128493</td></tr>\n",
              "\t<tr><td>2023-06-01</td><td>  8.0</td><td>0.01111111</td><td>733021.2</td><td>1018.085</td><td>733168.2</td><td>1018.289</td><td>732867.4</td><td>1017.871</td><td>15449.3</td><td>⋯</td><td>15883.7</td><td>22.06069</td><td>15049.3</td><td>20.90181</td><td> 95329</td><td>132.4014</td><td>4020.9</td><td>5.584583</td><td>2406.6</td><td>3.342500</td></tr>\n",
              "</tbody>\n",
              "</table>\n"
            ],
            "text/markdown": "\nA tibble: 6 × 21\n\n| month &lt;date&gt; | PRECIPITAÇÃO TOTAL, HORÁRIO (mm)_sum &lt;dbl&gt; | PRECIPITAÇÃO TOTAL, HORÁRIO (mm)_mean &lt;dbl&gt; | PRESSAO ATMOSFERICA AO NIVEL DA ESTACAO, HORARIA (mB)_sum &lt;dbl&gt; | PRESSAO ATMOSFERICA AO NIVEL DA ESTACAO, HORARIA (mB)_mean &lt;dbl&gt; | PRESSÃO ATMOSFERICA MAX.NA HORA ANT. (AUT) (mB)_sum &lt;dbl&gt; | PRESSÃO ATMOSFERICA MAX.NA HORA ANT. (AUT) (mB)_mean &lt;dbl&gt; | PRESSÃO ATMOSFERICA MIN. NA HORA ANT. (AUT) (mB)_sum &lt;dbl&gt; | PRESSÃO ATMOSFERICA MIN. NA HORA ANT. (AUT) (mB)_mean &lt;dbl&gt; | TEMPERATURA DO AR - BULBO SECO, HORARIA (°C)_sum &lt;dbl&gt; | ⋯ ⋯ | TEMPERATURA MÁXIMA NA HORA ANT. (AUT) (°C)_sum &lt;dbl&gt; | TEMPERATURA MÁXIMA NA HORA ANT. (AUT) (°C)_mean &lt;dbl&gt; | TEMPERATURA MÍNIMA NA HORA ANT. (AUT) (°C)_sum &lt;dbl&gt; | TEMPERATURA MÍNIMA NA HORA ANT. (AUT) (°C)_mean &lt;dbl&gt; | VENTO, DIREÇÃO HORARIA (gr) (° (gr))_sum &lt;int&gt; | VENTO, DIREÇÃO HORARIA (gr) (° (gr))_mean &lt;dbl&gt; | VENTO, RAJADA MAXIMA (m/s)_sum &lt;dbl&gt; | VENTO, RAJADA MAXIMA (m/s)_mean &lt;dbl&gt; | VENTO, VELOCIDADE HORARIA (m/s)_sum &lt;dbl&gt; | VENTO, VELOCIDADE HORARIA (m/s)_mean &lt;dbl&gt; |\n|---|---|---|---|---|---|---|---|---|---|---|---|---|---|---|---|---|---|---|---|---|\n| 2023-01-01 | 188.0 | 0.25336927 | 749796.6 | 1010.508 | 749979.2 | 1010.754 | 749619.2 | 1010.268 | 18662.7 | ⋯ | 19073.0 | 25.70485 | 18263.8 | 24.61429 | 107626 | 145.0485 | 4338.0 | 5.846361 | 2451.1 | 3.303369 |\n| 2023-02-01 | 160.6 | 0.23898810 | 679258.6 | 1010.801 | 679442.5 | 1011.075 | 679067.5 | 1010.517 | 17809.3 | ⋯ | 18223.2 | 27.11786 | 17432.5 | 25.94122 |  99857 | 148.5967 | 3990.5 | 5.938244 | 2133.0 | 3.174107 |\n| 2023-03-01 |  80.2 | 0.10779570 | 753469.3 | 1012.728 | 753640.4 | 1012.958 | 753296.8 | 1012.496 | 19251.6 | ⋯ | 19684.2 | 26.45726 | 18872.7 | 25.36653 |  97732 | 131.3602 | 4075.0 | 5.477151 | 2270.2 | 3.051344 |\n| 2023-04-01 | 124.0 | 0.17222222 | 729523.1 | 1013.227 | 729691.6 | 1013.461 | 729351.7 | 1012.988 | 17047.4 | ⋯ | 17423.2 | 24.19889 | 16715.1 | 23.21542 |  98357 | 136.6069 | 3956.2 | 5.494722 | 2304.5 | 3.200694 |\n| 2023-05-01 |  57.2 | 0.10514706 | 553193.0 | 1016.899 | 553319.4 | 1017.131 | 553066.3 | 1016.666 | 12075.3 | ⋯ | 12374.5 | 22.74724 | 11792.3 | 21.67702 |  73935 | 135.9099 | 2924.1 | 5.375184 | 1701.9 | 3.128493 |\n| 2023-06-01 |   8.0 | 0.01111111 | 733021.2 | 1018.085 | 733168.2 | 1018.289 | 732867.4 | 1017.871 | 15449.3 | ⋯ | 15883.7 | 22.06069 | 15049.3 | 20.90181 |  95329 | 132.4014 | 4020.9 | 5.584583 | 2406.6 | 3.342500 |\n\n",
            "text/latex": "A tibble: 6 × 21\n\\begin{tabular}{lllllllllllllllllllll}\n month & PRECIPITAÇÃO TOTAL, HORÁRIO (mm)\\_sum & PRECIPITAÇÃO TOTAL, HORÁRIO (mm)\\_mean & PRESSAO ATMOSFERICA AO NIVEL DA ESTACAO, HORARIA (mB)\\_sum & PRESSAO ATMOSFERICA AO NIVEL DA ESTACAO, HORARIA (mB)\\_mean & PRESSÃO ATMOSFERICA MAX.NA HORA ANT. (AUT) (mB)\\_sum & PRESSÃO ATMOSFERICA MAX.NA HORA ANT. (AUT) (mB)\\_mean & PRESSÃO ATMOSFERICA MIN. NA HORA ANT. (AUT) (mB)\\_sum & PRESSÃO ATMOSFERICA MIN. NA HORA ANT. (AUT) (mB)\\_mean & TEMPERATURA DO AR - BULBO SECO, HORARIA (°C)\\_sum & ⋯ & TEMPERATURA MÁXIMA NA HORA ANT. (AUT) (°C)\\_sum & TEMPERATURA MÁXIMA NA HORA ANT. (AUT) (°C)\\_mean & TEMPERATURA MÍNIMA NA HORA ANT. (AUT) (°C)\\_sum & TEMPERATURA MÍNIMA NA HORA ANT. (AUT) (°C)\\_mean & VENTO, DIREÇÃO HORARIA (gr) (° (gr))\\_sum & VENTO, DIREÇÃO HORARIA (gr) (° (gr))\\_mean & VENTO, RAJADA MAXIMA (m/s)\\_sum & VENTO, RAJADA MAXIMA (m/s)\\_mean & VENTO, VELOCIDADE HORARIA (m/s)\\_sum & VENTO, VELOCIDADE HORARIA (m/s)\\_mean\\\\\n <date> & <dbl> & <dbl> & <dbl> & <dbl> & <dbl> & <dbl> & <dbl> & <dbl> & <dbl> & ⋯ & <dbl> & <dbl> & <dbl> & <dbl> & <int> & <dbl> & <dbl> & <dbl> & <dbl> & <dbl>\\\\\n\\hline\n\t 2023-01-01 & 188.0 & 0.25336927 & 749796.6 & 1010.508 & 749979.2 & 1010.754 & 749619.2 & 1010.268 & 18662.7 & ⋯ & 19073.0 & 25.70485 & 18263.8 & 24.61429 & 107626 & 145.0485 & 4338.0 & 5.846361 & 2451.1 & 3.303369\\\\\n\t 2023-02-01 & 160.6 & 0.23898810 & 679258.6 & 1010.801 & 679442.5 & 1011.075 & 679067.5 & 1010.517 & 17809.3 & ⋯ & 18223.2 & 27.11786 & 17432.5 & 25.94122 &  99857 & 148.5967 & 3990.5 & 5.938244 & 2133.0 & 3.174107\\\\\n\t 2023-03-01 &  80.2 & 0.10779570 & 753469.3 & 1012.728 & 753640.4 & 1012.958 & 753296.8 & 1012.496 & 19251.6 & ⋯ & 19684.2 & 26.45726 & 18872.7 & 25.36653 &  97732 & 131.3602 & 4075.0 & 5.477151 & 2270.2 & 3.051344\\\\\n\t 2023-04-01 & 124.0 & 0.17222222 & 729523.1 & 1013.227 & 729691.6 & 1013.461 & 729351.7 & 1012.988 & 17047.4 & ⋯ & 17423.2 & 24.19889 & 16715.1 & 23.21542 &  98357 & 136.6069 & 3956.2 & 5.494722 & 2304.5 & 3.200694\\\\\n\t 2023-05-01 &  57.2 & 0.10514706 & 553193.0 & 1016.899 & 553319.4 & 1017.131 & 553066.3 & 1016.666 & 12075.3 & ⋯ & 12374.5 & 22.74724 & 11792.3 & 21.67702 &  73935 & 135.9099 & 2924.1 & 5.375184 & 1701.9 & 3.128493\\\\\n\t 2023-06-01 &   8.0 & 0.01111111 & 733021.2 & 1018.085 & 733168.2 & 1018.289 & 732867.4 & 1017.871 & 15449.3 & ⋯ & 15883.7 & 22.06069 & 15049.3 & 20.90181 &  95329 & 132.4014 & 4020.9 & 5.584583 & 2406.6 & 3.342500\\\\\n\\end{tabular}\n",
            "text/plain": [
              "  month      PRECIPITAÇÃO TOTAL, HORÁRIO (mm)_sum\n",
              "1 2023-01-01 188.0                               \n",
              "2 2023-02-01 160.6                               \n",
              "3 2023-03-01  80.2                               \n",
              "4 2023-04-01 124.0                               \n",
              "5 2023-05-01  57.2                               \n",
              "6 2023-06-01   8.0                               \n",
              "  PRECIPITAÇÃO TOTAL, HORÁRIO (mm)_mean\n",
              "1 0.25336927                           \n",
              "2 0.23898810                           \n",
              "3 0.10779570                           \n",
              "4 0.17222222                           \n",
              "5 0.10514706                           \n",
              "6 0.01111111                           \n",
              "  PRESSAO ATMOSFERICA AO NIVEL DA ESTACAO, HORARIA (mB)_sum\n",
              "1 749796.6                                                 \n",
              "2 679258.6                                                 \n",
              "3 753469.3                                                 \n",
              "4 729523.1                                                 \n",
              "5 553193.0                                                 \n",
              "6 733021.2                                                 \n",
              "  PRESSAO ATMOSFERICA AO NIVEL DA ESTACAO, HORARIA (mB)_mean\n",
              "1 1010.508                                                  \n",
              "2 1010.801                                                  \n",
              "3 1012.728                                                  \n",
              "4 1013.227                                                  \n",
              "5 1016.899                                                  \n",
              "6 1018.085                                                  \n",
              "  PRESSÃO ATMOSFERICA MAX.NA HORA ANT. (AUT) (mB)_sum\n",
              "1 749979.2                                           \n",
              "2 679442.5                                           \n",
              "3 753640.4                                           \n",
              "4 729691.6                                           \n",
              "5 553319.4                                           \n",
              "6 733168.2                                           \n",
              "  PRESSÃO ATMOSFERICA MAX.NA HORA ANT. (AUT) (mB)_mean\n",
              "1 1010.754                                            \n",
              "2 1011.075                                            \n",
              "3 1012.958                                            \n",
              "4 1013.461                                            \n",
              "5 1017.131                                            \n",
              "6 1018.289                                            \n",
              "  PRESSÃO ATMOSFERICA MIN. NA HORA ANT. (AUT) (mB)_sum\n",
              "1 749619.2                                            \n",
              "2 679067.5                                            \n",
              "3 753296.8                                            \n",
              "4 729351.7                                            \n",
              "5 553066.3                                            \n",
              "6 732867.4                                            \n",
              "  PRESSÃO ATMOSFERICA MIN. NA HORA ANT. (AUT) (mB)_mean\n",
              "1 1010.268                                             \n",
              "2 1010.517                                             \n",
              "3 1012.496                                             \n",
              "4 1012.988                                             \n",
              "5 1016.666                                             \n",
              "6 1017.871                                             \n",
              "  TEMPERATURA DO AR - BULBO SECO, HORARIA (°C)_sum ⋯\n",
              "1 18662.7                                          ⋯\n",
              "2 17809.3                                          ⋯\n",
              "3 19251.6                                          ⋯\n",
              "4 17047.4                                          ⋯\n",
              "5 12075.3                                          ⋯\n",
              "6 15449.3                                          ⋯\n",
              "  TEMPERATURA MÁXIMA NA HORA ANT. (AUT) (°C)_sum\n",
              "1 19073.0                                       \n",
              "2 18223.2                                       \n",
              "3 19684.2                                       \n",
              "4 17423.2                                       \n",
              "5 12374.5                                       \n",
              "6 15883.7                                       \n",
              "  TEMPERATURA MÁXIMA NA HORA ANT. (AUT) (°C)_mean\n",
              "1 25.70485                                       \n",
              "2 27.11786                                       \n",
              "3 26.45726                                       \n",
              "4 24.19889                                       \n",
              "5 22.74724                                       \n",
              "6 22.06069                                       \n",
              "  TEMPERATURA MÍNIMA NA HORA ANT. (AUT) (°C)_sum\n",
              "1 18263.8                                       \n",
              "2 17432.5                                       \n",
              "3 18872.7                                       \n",
              "4 16715.1                                       \n",
              "5 11792.3                                       \n",
              "6 15049.3                                       \n",
              "  TEMPERATURA MÍNIMA NA HORA ANT. (AUT) (°C)_mean\n",
              "1 24.61429                                       \n",
              "2 25.94122                                       \n",
              "3 25.36653                                       \n",
              "4 23.21542                                       \n",
              "5 21.67702                                       \n",
              "6 20.90181                                       \n",
              "  VENTO, DIREÇÃO HORARIA (gr) (° (gr))_sum\n",
              "1 107626                                  \n",
              "2  99857                                  \n",
              "3  97732                                  \n",
              "4  98357                                  \n",
              "5  73935                                  \n",
              "6  95329                                  \n",
              "  VENTO, DIREÇÃO HORARIA (gr) (° (gr))_mean VENTO, RAJADA MAXIMA (m/s)_sum\n",
              "1 145.0485                                  4338.0                        \n",
              "2 148.5967                                  3990.5                        \n",
              "3 131.3602                                  4075.0                        \n",
              "4 136.6069                                  3956.2                        \n",
              "5 135.9099                                  2924.1                        \n",
              "6 132.4014                                  4020.9                        \n",
              "  VENTO, RAJADA MAXIMA (m/s)_mean VENTO, VELOCIDADE HORARIA (m/s)_sum\n",
              "1 5.846361                        2451.1                             \n",
              "2 5.938244                        2133.0                             \n",
              "3 5.477151                        2270.2                             \n",
              "4 5.494722                        2304.5                             \n",
              "5 5.375184                        1701.9                             \n",
              "6 5.584583                        2406.6                             \n",
              "  VENTO, VELOCIDADE HORARIA (m/s)_mean\n",
              "1 3.303369                            \n",
              "2 3.174107                            \n",
              "3 3.051344                            \n",
              "4 3.200694                            \n",
              "5 3.128493                            \n",
              "6 3.342500                            "
            ]
          },
          "metadata": {}
        }
      ]
    },
    {
      "cell_type": "markdown",
      "source": [
        "## Groupby Bimester"
      ],
      "metadata": {
        "id": "2pAJoNZkU5tD"
      }
    },
    {
      "cell_type": "code",
      "source": [
        "# Using groupby and summarise to calculate sum and mean\n",
        "result <- data1 %>%\n",
        "  mutate(bimester = floor_date(data1[[\"Data\"]], \"2 months\")) %>%\n",
        "  group_by(bimester) %>%\n",
        "  summarise(across(all_of(colnames(column_filter(data1))),\n",
        "                   list(sum = sum, mean = mean),\n",
        "                   .names = \"{.col}_{.fn}\"))\n",
        "\n",
        "head(result)"
      ],
      "metadata": {
        "colab": {
          "base_uri": "https://localhost:8080/",
          "height": 497
        },
        "id": "Tu9YXFobU8rr",
        "outputId": "e0b07571-7bbf-408c-a233-605ea3d841bb"
      },
      "execution_count": null,
      "outputs": [
        {
          "output_type": "display_data",
          "data": {
            "text/html": [
              "<table class=\"dataframe\">\n",
              "<caption>A tibble: 6 × 21</caption>\n",
              "<thead>\n",
              "\t<tr><th scope=col>bimester</th><th scope=col>PRECIPITAÇÃO TOTAL, HORÁRIO (mm)_sum</th><th scope=col>PRECIPITAÇÃO TOTAL, HORÁRIO (mm)_mean</th><th scope=col>PRESSAO ATMOSFERICA AO NIVEL DA ESTACAO, HORARIA (mB)_sum</th><th scope=col>PRESSAO ATMOSFERICA AO NIVEL DA ESTACAO, HORARIA (mB)_mean</th><th scope=col>PRESSÃO ATMOSFERICA MAX.NA HORA ANT. (AUT) (mB)_sum</th><th scope=col>PRESSÃO ATMOSFERICA MAX.NA HORA ANT. (AUT) (mB)_mean</th><th scope=col>PRESSÃO ATMOSFERICA MIN. NA HORA ANT. (AUT) (mB)_sum</th><th scope=col>PRESSÃO ATMOSFERICA MIN. NA HORA ANT. (AUT) (mB)_mean</th><th scope=col>TEMPERATURA DO AR - BULBO SECO, HORARIA (°C)_sum</th><th scope=col>⋯</th><th scope=col>TEMPERATURA MÁXIMA NA HORA ANT. (AUT) (°C)_sum</th><th scope=col>TEMPERATURA MÁXIMA NA HORA ANT. (AUT) (°C)_mean</th><th scope=col>TEMPERATURA MÍNIMA NA HORA ANT. (AUT) (°C)_sum</th><th scope=col>TEMPERATURA MÍNIMA NA HORA ANT. (AUT) (°C)_mean</th><th scope=col>VENTO, DIREÇÃO HORARIA (gr) (° (gr))_sum</th><th scope=col>VENTO, DIREÇÃO HORARIA (gr) (° (gr))_mean</th><th scope=col>VENTO, RAJADA MAXIMA (m/s)_sum</th><th scope=col>VENTO, RAJADA MAXIMA (m/s)_mean</th><th scope=col>VENTO, VELOCIDADE HORARIA (m/s)_sum</th><th scope=col>VENTO, VELOCIDADE HORARIA (m/s)_mean</th></tr>\n",
              "\t<tr><th scope=col>&lt;date&gt;</th><th scope=col>&lt;dbl&gt;</th><th scope=col>&lt;dbl&gt;</th><th scope=col>&lt;dbl&gt;</th><th scope=col>&lt;dbl&gt;</th><th scope=col>&lt;dbl&gt;</th><th scope=col>&lt;dbl&gt;</th><th scope=col>&lt;dbl&gt;</th><th scope=col>&lt;dbl&gt;</th><th scope=col>&lt;dbl&gt;</th><th scope=col>⋯</th><th scope=col>&lt;dbl&gt;</th><th scope=col>&lt;dbl&gt;</th><th scope=col>&lt;dbl&gt;</th><th scope=col>&lt;dbl&gt;</th><th scope=col>&lt;int&gt;</th><th scope=col>&lt;dbl&gt;</th><th scope=col>&lt;dbl&gt;</th><th scope=col>&lt;dbl&gt;</th><th scope=col>&lt;dbl&gt;</th><th scope=col>&lt;dbl&gt;</th></tr>\n",
              "</thead>\n",
              "<tbody>\n",
              "\t<tr><td>2022-01-01</td><td>171.4</td><td>0.12130219</td><td>1427543</td><td>1010.292</td><td>1427868</td><td>1010.522</td><td>1427216</td><td>1010.061</td><td>36141.1</td><td>⋯</td><td>36954.0</td><td>26.15287</td><td>35391.7</td><td>25.04720</td><td>202801</td><td>143.5251</td><td>7803.1</td><td>5.522364</td><td>4335.6</td><td>3.068365</td></tr>\n",
              "\t<tr><td>2022-03-01</td><td>425.2</td><td>0.29043716</td><td>1481981</td><td>1012.282</td><td>1482330</td><td>1012.520</td><td>1481623</td><td>1012.038</td><td>37405.2</td><td>⋯</td><td>38302.7</td><td>26.16305</td><td>36550.3</td><td>24.96605</td><td>201439</td><td>137.5949</td><td>9241.0</td><td>6.312158</td><td>5234.4</td><td>3.575410</td></tr>\n",
              "\t<tr><td>2022-05-01</td><td> 86.0</td><td>0.05874317</td><td>1487295</td><td>1015.912</td><td>1487637</td><td>1016.145</td><td>1486950</td><td>1015.676</td><td>31241.0</td><td>⋯</td><td>32034.7</td><td>21.88163</td><td>30489.0</td><td>20.82582</td><td>221868</td><td>151.5492</td><td>9157.0</td><td>6.254781</td><td>5399.5</td><td>3.688183</td></tr>\n",
              "\t<tr><td>2022-07-01</td><td>103.6</td><td>0.06962366</td><td>1514439</td><td>1017.768</td><td>1514798</td><td>1018.009</td><td>1514074</td><td>1017.523</td><td>31967.2</td><td>⋯</td><td>32909.1</td><td>22.11633</td><td>31078.1</td><td>20.88582</td><td>199851</td><td>134.3085</td><td>9889.7</td><td>6.646304</td><td>5552.2</td><td>3.731317</td></tr>\n",
              "\t<tr><td>2022-09-01</td><td>178.4</td><td>0.12185792</td><td>1485852</td><td>1014.926</td><td>1486272</td><td>1015.213</td><td>1485439</td><td>1014.644</td><td>32055.2</td><td>⋯</td><td>32811.1</td><td>22.41195</td><td>31366.8</td><td>21.42541</td><td>219645</td><td>150.0307</td><td>9286.6</td><td>6.343306</td><td>5300.7</td><td>3.620697</td></tr>\n",
              "\t<tr><td>2022-11-01</td><td>335.0</td><td>0.22882514</td><td>1480863</td><td>1011.518</td><td>1481223</td><td>1011.764</td><td>1480495</td><td>1011.267</td><td>34141.9</td><td>⋯</td><td>34990.4</td><td>23.90055</td><td>33325.9</td><td>22.76359</td><td>217582</td><td>148.6216</td><td>9176.6</td><td>6.268169</td><td>5184.5</td><td>3.541325</td></tr>\n",
              "</tbody>\n",
              "</table>\n"
            ],
            "text/markdown": "\nA tibble: 6 × 21\n\n| bimester &lt;date&gt; | PRECIPITAÇÃO TOTAL, HORÁRIO (mm)_sum &lt;dbl&gt; | PRECIPITAÇÃO TOTAL, HORÁRIO (mm)_mean &lt;dbl&gt; | PRESSAO ATMOSFERICA AO NIVEL DA ESTACAO, HORARIA (mB)_sum &lt;dbl&gt; | PRESSAO ATMOSFERICA AO NIVEL DA ESTACAO, HORARIA (mB)_mean &lt;dbl&gt; | PRESSÃO ATMOSFERICA MAX.NA HORA ANT. (AUT) (mB)_sum &lt;dbl&gt; | PRESSÃO ATMOSFERICA MAX.NA HORA ANT. (AUT) (mB)_mean &lt;dbl&gt; | PRESSÃO ATMOSFERICA MIN. NA HORA ANT. (AUT) (mB)_sum &lt;dbl&gt; | PRESSÃO ATMOSFERICA MIN. NA HORA ANT. (AUT) (mB)_mean &lt;dbl&gt; | TEMPERATURA DO AR - BULBO SECO, HORARIA (°C)_sum &lt;dbl&gt; | ⋯ ⋯ | TEMPERATURA MÁXIMA NA HORA ANT. (AUT) (°C)_sum &lt;dbl&gt; | TEMPERATURA MÁXIMA NA HORA ANT. (AUT) (°C)_mean &lt;dbl&gt; | TEMPERATURA MÍNIMA NA HORA ANT. (AUT) (°C)_sum &lt;dbl&gt; | TEMPERATURA MÍNIMA NA HORA ANT. (AUT) (°C)_mean &lt;dbl&gt; | VENTO, DIREÇÃO HORARIA (gr) (° (gr))_sum &lt;int&gt; | VENTO, DIREÇÃO HORARIA (gr) (° (gr))_mean &lt;dbl&gt; | VENTO, RAJADA MAXIMA (m/s)_sum &lt;dbl&gt; | VENTO, RAJADA MAXIMA (m/s)_mean &lt;dbl&gt; | VENTO, VELOCIDADE HORARIA (m/s)_sum &lt;dbl&gt; | VENTO, VELOCIDADE HORARIA (m/s)_mean &lt;dbl&gt; |\n|---|---|---|---|---|---|---|---|---|---|---|---|---|---|---|---|---|---|---|---|---|\n| 2022-01-01 | 171.4 | 0.12130219 | 1427543 | 1010.292 | 1427868 | 1010.522 | 1427216 | 1010.061 | 36141.1 | ⋯ | 36954.0 | 26.15287 | 35391.7 | 25.04720 | 202801 | 143.5251 | 7803.1 | 5.522364 | 4335.6 | 3.068365 |\n| 2022-03-01 | 425.2 | 0.29043716 | 1481981 | 1012.282 | 1482330 | 1012.520 | 1481623 | 1012.038 | 37405.2 | ⋯ | 38302.7 | 26.16305 | 36550.3 | 24.96605 | 201439 | 137.5949 | 9241.0 | 6.312158 | 5234.4 | 3.575410 |\n| 2022-05-01 |  86.0 | 0.05874317 | 1487295 | 1015.912 | 1487637 | 1016.145 | 1486950 | 1015.676 | 31241.0 | ⋯ | 32034.7 | 21.88163 | 30489.0 | 20.82582 | 221868 | 151.5492 | 9157.0 | 6.254781 | 5399.5 | 3.688183 |\n| 2022-07-01 | 103.6 | 0.06962366 | 1514439 | 1017.768 | 1514798 | 1018.009 | 1514074 | 1017.523 | 31967.2 | ⋯ | 32909.1 | 22.11633 | 31078.1 | 20.88582 | 199851 | 134.3085 | 9889.7 | 6.646304 | 5552.2 | 3.731317 |\n| 2022-09-01 | 178.4 | 0.12185792 | 1485852 | 1014.926 | 1486272 | 1015.213 | 1485439 | 1014.644 | 32055.2 | ⋯ | 32811.1 | 22.41195 | 31366.8 | 21.42541 | 219645 | 150.0307 | 9286.6 | 6.343306 | 5300.7 | 3.620697 |\n| 2022-11-01 | 335.0 | 0.22882514 | 1480863 | 1011.518 | 1481223 | 1011.764 | 1480495 | 1011.267 | 34141.9 | ⋯ | 34990.4 | 23.90055 | 33325.9 | 22.76359 | 217582 | 148.6216 | 9176.6 | 6.268169 | 5184.5 | 3.541325 |\n\n",
            "text/latex": "A tibble: 6 × 21\n\\begin{tabular}{lllllllllllllllllllll}\n bimester & PRECIPITAÇÃO TOTAL, HORÁRIO (mm)\\_sum & PRECIPITAÇÃO TOTAL, HORÁRIO (mm)\\_mean & PRESSAO ATMOSFERICA AO NIVEL DA ESTACAO, HORARIA (mB)\\_sum & PRESSAO ATMOSFERICA AO NIVEL DA ESTACAO, HORARIA (mB)\\_mean & PRESSÃO ATMOSFERICA MAX.NA HORA ANT. (AUT) (mB)\\_sum & PRESSÃO ATMOSFERICA MAX.NA HORA ANT. (AUT) (mB)\\_mean & PRESSÃO ATMOSFERICA MIN. NA HORA ANT. (AUT) (mB)\\_sum & PRESSÃO ATMOSFERICA MIN. NA HORA ANT. (AUT) (mB)\\_mean & TEMPERATURA DO AR - BULBO SECO, HORARIA (°C)\\_sum & ⋯ & TEMPERATURA MÁXIMA NA HORA ANT. (AUT) (°C)\\_sum & TEMPERATURA MÁXIMA NA HORA ANT. (AUT) (°C)\\_mean & TEMPERATURA MÍNIMA NA HORA ANT. (AUT) (°C)\\_sum & TEMPERATURA MÍNIMA NA HORA ANT. (AUT) (°C)\\_mean & VENTO, DIREÇÃO HORARIA (gr) (° (gr))\\_sum & VENTO, DIREÇÃO HORARIA (gr) (° (gr))\\_mean & VENTO, RAJADA MAXIMA (m/s)\\_sum & VENTO, RAJADA MAXIMA (m/s)\\_mean & VENTO, VELOCIDADE HORARIA (m/s)\\_sum & VENTO, VELOCIDADE HORARIA (m/s)\\_mean\\\\\n <date> & <dbl> & <dbl> & <dbl> & <dbl> & <dbl> & <dbl> & <dbl> & <dbl> & <dbl> & ⋯ & <dbl> & <dbl> & <dbl> & <dbl> & <int> & <dbl> & <dbl> & <dbl> & <dbl> & <dbl>\\\\\n\\hline\n\t 2022-01-01 & 171.4 & 0.12130219 & 1427543 & 1010.292 & 1427868 & 1010.522 & 1427216 & 1010.061 & 36141.1 & ⋯ & 36954.0 & 26.15287 & 35391.7 & 25.04720 & 202801 & 143.5251 & 7803.1 & 5.522364 & 4335.6 & 3.068365\\\\\n\t 2022-03-01 & 425.2 & 0.29043716 & 1481981 & 1012.282 & 1482330 & 1012.520 & 1481623 & 1012.038 & 37405.2 & ⋯ & 38302.7 & 26.16305 & 36550.3 & 24.96605 & 201439 & 137.5949 & 9241.0 & 6.312158 & 5234.4 & 3.575410\\\\\n\t 2022-05-01 &  86.0 & 0.05874317 & 1487295 & 1015.912 & 1487637 & 1016.145 & 1486950 & 1015.676 & 31241.0 & ⋯ & 32034.7 & 21.88163 & 30489.0 & 20.82582 & 221868 & 151.5492 & 9157.0 & 6.254781 & 5399.5 & 3.688183\\\\\n\t 2022-07-01 & 103.6 & 0.06962366 & 1514439 & 1017.768 & 1514798 & 1018.009 & 1514074 & 1017.523 & 31967.2 & ⋯ & 32909.1 & 22.11633 & 31078.1 & 20.88582 & 199851 & 134.3085 & 9889.7 & 6.646304 & 5552.2 & 3.731317\\\\\n\t 2022-09-01 & 178.4 & 0.12185792 & 1485852 & 1014.926 & 1486272 & 1015.213 & 1485439 & 1014.644 & 32055.2 & ⋯ & 32811.1 & 22.41195 & 31366.8 & 21.42541 & 219645 & 150.0307 & 9286.6 & 6.343306 & 5300.7 & 3.620697\\\\\n\t 2022-11-01 & 335.0 & 0.22882514 & 1480863 & 1011.518 & 1481223 & 1011.764 & 1480495 & 1011.267 & 34141.9 & ⋯ & 34990.4 & 23.90055 & 33325.9 & 22.76359 & 217582 & 148.6216 & 9176.6 & 6.268169 & 5184.5 & 3.541325\\\\\n\\end{tabular}\n",
            "text/plain": [
              "  bimester   PRECIPITAÇÃO TOTAL, HORÁRIO (mm)_sum\n",
              "1 2022-01-01 171.4                               \n",
              "2 2022-03-01 425.2                               \n",
              "3 2022-05-01  86.0                               \n",
              "4 2022-07-01 103.6                               \n",
              "5 2022-09-01 178.4                               \n",
              "6 2022-11-01 335.0                               \n",
              "  PRECIPITAÇÃO TOTAL, HORÁRIO (mm)_mean\n",
              "1 0.12130219                           \n",
              "2 0.29043716                           \n",
              "3 0.05874317                           \n",
              "4 0.06962366                           \n",
              "5 0.12185792                           \n",
              "6 0.22882514                           \n",
              "  PRESSAO ATMOSFERICA AO NIVEL DA ESTACAO, HORARIA (mB)_sum\n",
              "1 1427543                                                  \n",
              "2 1481981                                                  \n",
              "3 1487295                                                  \n",
              "4 1514439                                                  \n",
              "5 1485852                                                  \n",
              "6 1480863                                                  \n",
              "  PRESSAO ATMOSFERICA AO NIVEL DA ESTACAO, HORARIA (mB)_mean\n",
              "1 1010.292                                                  \n",
              "2 1012.282                                                  \n",
              "3 1015.912                                                  \n",
              "4 1017.768                                                  \n",
              "5 1014.926                                                  \n",
              "6 1011.518                                                  \n",
              "  PRESSÃO ATMOSFERICA MAX.NA HORA ANT. (AUT) (mB)_sum\n",
              "1 1427868                                            \n",
              "2 1482330                                            \n",
              "3 1487637                                            \n",
              "4 1514798                                            \n",
              "5 1486272                                            \n",
              "6 1481223                                            \n",
              "  PRESSÃO ATMOSFERICA MAX.NA HORA ANT. (AUT) (mB)_mean\n",
              "1 1010.522                                            \n",
              "2 1012.520                                            \n",
              "3 1016.145                                            \n",
              "4 1018.009                                            \n",
              "5 1015.213                                            \n",
              "6 1011.764                                            \n",
              "  PRESSÃO ATMOSFERICA MIN. NA HORA ANT. (AUT) (mB)_sum\n",
              "1 1427216                                             \n",
              "2 1481623                                             \n",
              "3 1486950                                             \n",
              "4 1514074                                             \n",
              "5 1485439                                             \n",
              "6 1480495                                             \n",
              "  PRESSÃO ATMOSFERICA MIN. NA HORA ANT. (AUT) (mB)_mean\n",
              "1 1010.061                                             \n",
              "2 1012.038                                             \n",
              "3 1015.676                                             \n",
              "4 1017.523                                             \n",
              "5 1014.644                                             \n",
              "6 1011.267                                             \n",
              "  TEMPERATURA DO AR - BULBO SECO, HORARIA (°C)_sum ⋯\n",
              "1 36141.1                                          ⋯\n",
              "2 37405.2                                          ⋯\n",
              "3 31241.0                                          ⋯\n",
              "4 31967.2                                          ⋯\n",
              "5 32055.2                                          ⋯\n",
              "6 34141.9                                          ⋯\n",
              "  TEMPERATURA MÁXIMA NA HORA ANT. (AUT) (°C)_sum\n",
              "1 36954.0                                       \n",
              "2 38302.7                                       \n",
              "3 32034.7                                       \n",
              "4 32909.1                                       \n",
              "5 32811.1                                       \n",
              "6 34990.4                                       \n",
              "  TEMPERATURA MÁXIMA NA HORA ANT. (AUT) (°C)_mean\n",
              "1 26.15287                                       \n",
              "2 26.16305                                       \n",
              "3 21.88163                                       \n",
              "4 22.11633                                       \n",
              "5 22.41195                                       \n",
              "6 23.90055                                       \n",
              "  TEMPERATURA MÍNIMA NA HORA ANT. (AUT) (°C)_sum\n",
              "1 35391.7                                       \n",
              "2 36550.3                                       \n",
              "3 30489.0                                       \n",
              "4 31078.1                                       \n",
              "5 31366.8                                       \n",
              "6 33325.9                                       \n",
              "  TEMPERATURA MÍNIMA NA HORA ANT. (AUT) (°C)_mean\n",
              "1 25.04720                                       \n",
              "2 24.96605                                       \n",
              "3 20.82582                                       \n",
              "4 20.88582                                       \n",
              "5 21.42541                                       \n",
              "6 22.76359                                       \n",
              "  VENTO, DIREÇÃO HORARIA (gr) (° (gr))_sum\n",
              "1 202801                                  \n",
              "2 201439                                  \n",
              "3 221868                                  \n",
              "4 199851                                  \n",
              "5 219645                                  \n",
              "6 217582                                  \n",
              "  VENTO, DIREÇÃO HORARIA (gr) (° (gr))_mean VENTO, RAJADA MAXIMA (m/s)_sum\n",
              "1 143.5251                                  7803.1                        \n",
              "2 137.5949                                  9241.0                        \n",
              "3 151.5492                                  9157.0                        \n",
              "4 134.3085                                  9889.7                        \n",
              "5 150.0307                                  9286.6                        \n",
              "6 148.6216                                  9176.6                        \n",
              "  VENTO, RAJADA MAXIMA (m/s)_mean VENTO, VELOCIDADE HORARIA (m/s)_sum\n",
              "1 5.522364                        4335.6                             \n",
              "2 6.312158                        5234.4                             \n",
              "3 6.254781                        5399.5                             \n",
              "4 6.646304                        5552.2                             \n",
              "5 6.343306                        5300.7                             \n",
              "6 6.268169                        5184.5                             \n",
              "  VENTO, VELOCIDADE HORARIA (m/s)_mean\n",
              "1 3.068365                            \n",
              "2 3.575410                            \n",
              "3 3.688183                            \n",
              "4 3.731317                            \n",
              "5 3.620697                            \n",
              "6 3.541325                            "
            ]
          },
          "metadata": {}
        }
      ]
    },
    {
      "cell_type": "code",
      "source": [
        "# Using groupby and summarise to calculate sum and mean\n",
        "result <- data2 %>%\n",
        "  mutate(bimester = floor_date(data2[[\"Data\"]], \"2 months\")) %>%\n",
        "  group_by(bimester) %>%\n",
        "  summarise(across(all_of(colnames(column_filter(data2))),\n",
        "                   list(sum = sum, mean = mean),\n",
        "                   .names = \"{.col}_{.fn}\"))\n",
        "\n",
        "head(result)"
      ],
      "metadata": {
        "colab": {
          "base_uri": "https://localhost:8080/",
          "height": 497
        },
        "id": "V7KMihVdVdJU",
        "outputId": "e3aafcba-8dc6-4f10-9317-00af8496fef7"
      },
      "execution_count": null,
      "outputs": [
        {
          "output_type": "display_data",
          "data": {
            "text/html": [
              "<table class=\"dataframe\">\n",
              "<caption>A tibble: 6 × 21</caption>\n",
              "<thead>\n",
              "\t<tr><th scope=col>bimester</th><th scope=col>PRECIPITAÇÃO TOTAL, HORÁRIO (mm)_sum</th><th scope=col>PRECIPITAÇÃO TOTAL, HORÁRIO (mm)_mean</th><th scope=col>PRESSAO ATMOSFERICA AO NIVEL DA ESTACAO, HORARIA (mB)_sum</th><th scope=col>PRESSAO ATMOSFERICA AO NIVEL DA ESTACAO, HORARIA (mB)_mean</th><th scope=col>PRESSÃO ATMOSFERICA MAX.NA HORA ANT. (AUT) (mB)_sum</th><th scope=col>PRESSÃO ATMOSFERICA MAX.NA HORA ANT. (AUT) (mB)_mean</th><th scope=col>PRESSÃO ATMOSFERICA MIN. NA HORA ANT. (AUT) (mB)_sum</th><th scope=col>PRESSÃO ATMOSFERICA MIN. NA HORA ANT. (AUT) (mB)_mean</th><th scope=col>TEMPERATURA DO AR - BULBO SECO, HORARIA (°C)_sum</th><th scope=col>⋯</th><th scope=col>TEMPERATURA MÁXIMA NA HORA ANT. (AUT) (°C)_sum</th><th scope=col>TEMPERATURA MÁXIMA NA HORA ANT. (AUT) (°C)_mean</th><th scope=col>TEMPERATURA MÍNIMA NA HORA ANT. (AUT) (°C)_sum</th><th scope=col>TEMPERATURA MÍNIMA NA HORA ANT. (AUT) (°C)_mean</th><th scope=col>VENTO, DIREÇÃO HORARIA (gr) (° (gr))_sum</th><th scope=col>VENTO, DIREÇÃO HORARIA (gr) (° (gr))_mean</th><th scope=col>VENTO, RAJADA MAXIMA (m/s)_sum</th><th scope=col>VENTO, RAJADA MAXIMA (m/s)_mean</th><th scope=col>VENTO, VELOCIDADE HORARIA (m/s)_sum</th><th scope=col>VENTO, VELOCIDADE HORARIA (m/s)_mean</th></tr>\n",
              "\t<tr><th scope=col>&lt;date&gt;</th><th scope=col>&lt;dbl&gt;</th><th scope=col>&lt;dbl&gt;</th><th scope=col>&lt;dbl&gt;</th><th scope=col>&lt;dbl&gt;</th><th scope=col>&lt;dbl&gt;</th><th scope=col>&lt;dbl&gt;</th><th scope=col>&lt;dbl&gt;</th><th scope=col>&lt;dbl&gt;</th><th scope=col>&lt;dbl&gt;</th><th scope=col>⋯</th><th scope=col>&lt;dbl&gt;</th><th scope=col>&lt;dbl&gt;</th><th scope=col>&lt;dbl&gt;</th><th scope=col>&lt;dbl&gt;</th><th scope=col>&lt;int&gt;</th><th scope=col>&lt;dbl&gt;</th><th scope=col>&lt;dbl&gt;</th><th scope=col>&lt;dbl&gt;</th><th scope=col>&lt;dbl&gt;</th><th scope=col>&lt;dbl&gt;</th></tr>\n",
              "</thead>\n",
              "<tbody>\n",
              "\t<tr><td>2023-01-01</td><td>348.6</td><td>0.24653465</td><td>1429055.2</td><td>1010.647</td><td>1429421.7</td><td>1010.906</td><td>1428687</td><td>1010.387</td><td>36472.0</td><td>⋯</td><td>37296.2</td><td>26.37638</td><td>35696.3</td><td>25.24491</td><td>207483</td><td>146.7348</td><td>8328.5</td><td>5.890028</td><td>4584.1</td><td>3.241938</td></tr>\n",
              "\t<tr><td>2023-03-01</td><td>204.2</td><td>0.13948087</td><td>1482992.4</td><td>1012.973</td><td>1483332.0</td><td>1013.205</td><td>1482648</td><td>1012.738</td><td>36299.0</td><td>⋯</td><td>37107.4</td><td>25.34658</td><td>35587.8</td><td>24.30861</td><td>196089</td><td>133.9406</td><td>8031.2</td><td>5.485792</td><td>4574.7</td><td>3.124795</td></tr>\n",
              "\t<tr><td>2023-05-01</td><td> 65.2</td><td>0.05158228</td><td>1286214.2</td><td>1017.575</td><td>1286487.6</td><td>1017.791</td><td>1285934</td><td>1017.353</td><td>27524.6</td><td>⋯</td><td>28258.2</td><td>22.35617</td><td>26841.6</td><td>21.23544</td><td>169264</td><td>133.9114</td><td>6945.0</td><td>5.494462</td><td>4108.5</td><td>3.250396</td></tr>\n",
              "\t<tr><td>2023-07-01</td><td> 75.0</td><td>0.05580357</td><td>1367131.6</td><td>1017.211</td><td>1367483.7</td><td>1017.473</td><td>1366790</td><td>1016.956</td><td>29288.4</td><td>⋯</td><td>30114.2</td><td>22.40640</td><td>28496.9</td><td>21.20305</td><td>183216</td><td>136.3214</td><td>8545.8</td><td>6.358482</td><td>4820.7</td><td>3.586830</td></tr>\n",
              "\t<tr><td>2023-09-01</td><td>  0.8</td><td>0.10000000</td><td>   8060.1</td><td>1007.513</td><td>   8061.6</td><td>1007.700</td><td>   8055</td><td>1006.875</td><td>  203.9</td><td>⋯</td><td>  207.9</td><td>25.98750</td><td>  201.8</td><td>25.22500</td><td>  1387</td><td>173.3750</td><td>  44.0</td><td>5.500000</td><td>  28.2</td><td>3.525000</td></tr>\n",
              "\t<tr><td>2023-11-01</td><td>111.4</td><td>0.07609290</td><td>1479781.5</td><td>1010.780</td><td>1480178.9</td><td>1011.051</td><td>1479370</td><td>1010.498</td><td>37320.1</td><td>⋯</td><td>38267.2</td><td>26.13880</td><td>36427.9</td><td>24.88245</td><td>206271</td><td>140.8955</td><td>9203.1</td><td>6.286270</td><td>5115.3</td><td>3.494057</td></tr>\n",
              "</tbody>\n",
              "</table>\n"
            ],
            "text/markdown": "\nA tibble: 6 × 21\n\n| bimester &lt;date&gt; | PRECIPITAÇÃO TOTAL, HORÁRIO (mm)_sum &lt;dbl&gt; | PRECIPITAÇÃO TOTAL, HORÁRIO (mm)_mean &lt;dbl&gt; | PRESSAO ATMOSFERICA AO NIVEL DA ESTACAO, HORARIA (mB)_sum &lt;dbl&gt; | PRESSAO ATMOSFERICA AO NIVEL DA ESTACAO, HORARIA (mB)_mean &lt;dbl&gt; | PRESSÃO ATMOSFERICA MAX.NA HORA ANT. (AUT) (mB)_sum &lt;dbl&gt; | PRESSÃO ATMOSFERICA MAX.NA HORA ANT. (AUT) (mB)_mean &lt;dbl&gt; | PRESSÃO ATMOSFERICA MIN. NA HORA ANT. (AUT) (mB)_sum &lt;dbl&gt; | PRESSÃO ATMOSFERICA MIN. NA HORA ANT. (AUT) (mB)_mean &lt;dbl&gt; | TEMPERATURA DO AR - BULBO SECO, HORARIA (°C)_sum &lt;dbl&gt; | ⋯ ⋯ | TEMPERATURA MÁXIMA NA HORA ANT. (AUT) (°C)_sum &lt;dbl&gt; | TEMPERATURA MÁXIMA NA HORA ANT. (AUT) (°C)_mean &lt;dbl&gt; | TEMPERATURA MÍNIMA NA HORA ANT. (AUT) (°C)_sum &lt;dbl&gt; | TEMPERATURA MÍNIMA NA HORA ANT. (AUT) (°C)_mean &lt;dbl&gt; | VENTO, DIREÇÃO HORARIA (gr) (° (gr))_sum &lt;int&gt; | VENTO, DIREÇÃO HORARIA (gr) (° (gr))_mean &lt;dbl&gt; | VENTO, RAJADA MAXIMA (m/s)_sum &lt;dbl&gt; | VENTO, RAJADA MAXIMA (m/s)_mean &lt;dbl&gt; | VENTO, VELOCIDADE HORARIA (m/s)_sum &lt;dbl&gt; | VENTO, VELOCIDADE HORARIA (m/s)_mean &lt;dbl&gt; |\n|---|---|---|---|---|---|---|---|---|---|---|---|---|---|---|---|---|---|---|---|---|\n| 2023-01-01 | 348.6 | 0.24653465 | 1429055.2 | 1010.647 | 1429421.7 | 1010.906 | 1428687 | 1010.387 | 36472.0 | ⋯ | 37296.2 | 26.37638 | 35696.3 | 25.24491 | 207483 | 146.7348 | 8328.5 | 5.890028 | 4584.1 | 3.241938 |\n| 2023-03-01 | 204.2 | 0.13948087 | 1482992.4 | 1012.973 | 1483332.0 | 1013.205 | 1482648 | 1012.738 | 36299.0 | ⋯ | 37107.4 | 25.34658 | 35587.8 | 24.30861 | 196089 | 133.9406 | 8031.2 | 5.485792 | 4574.7 | 3.124795 |\n| 2023-05-01 |  65.2 | 0.05158228 | 1286214.2 | 1017.575 | 1286487.6 | 1017.791 | 1285934 | 1017.353 | 27524.6 | ⋯ | 28258.2 | 22.35617 | 26841.6 | 21.23544 | 169264 | 133.9114 | 6945.0 | 5.494462 | 4108.5 | 3.250396 |\n| 2023-07-01 |  75.0 | 0.05580357 | 1367131.6 | 1017.211 | 1367483.7 | 1017.473 | 1366790 | 1016.956 | 29288.4 | ⋯ | 30114.2 | 22.40640 | 28496.9 | 21.20305 | 183216 | 136.3214 | 8545.8 | 6.358482 | 4820.7 | 3.586830 |\n| 2023-09-01 |   0.8 | 0.10000000 |    8060.1 | 1007.513 |    8061.6 | 1007.700 |    8055 | 1006.875 |   203.9 | ⋯ |   207.9 | 25.98750 |   201.8 | 25.22500 |   1387 | 173.3750 |   44.0 | 5.500000 |   28.2 | 3.525000 |\n| 2023-11-01 | 111.4 | 0.07609290 | 1479781.5 | 1010.780 | 1480178.9 | 1011.051 | 1479370 | 1010.498 | 37320.1 | ⋯ | 38267.2 | 26.13880 | 36427.9 | 24.88245 | 206271 | 140.8955 | 9203.1 | 6.286270 | 5115.3 | 3.494057 |\n\n",
            "text/latex": "A tibble: 6 × 21\n\\begin{tabular}{lllllllllllllllllllll}\n bimester & PRECIPITAÇÃO TOTAL, HORÁRIO (mm)\\_sum & PRECIPITAÇÃO TOTAL, HORÁRIO (mm)\\_mean & PRESSAO ATMOSFERICA AO NIVEL DA ESTACAO, HORARIA (mB)\\_sum & PRESSAO ATMOSFERICA AO NIVEL DA ESTACAO, HORARIA (mB)\\_mean & PRESSÃO ATMOSFERICA MAX.NA HORA ANT. (AUT) (mB)\\_sum & PRESSÃO ATMOSFERICA MAX.NA HORA ANT. (AUT) (mB)\\_mean & PRESSÃO ATMOSFERICA MIN. NA HORA ANT. (AUT) (mB)\\_sum & PRESSÃO ATMOSFERICA MIN. NA HORA ANT. (AUT) (mB)\\_mean & TEMPERATURA DO AR - BULBO SECO, HORARIA (°C)\\_sum & ⋯ & TEMPERATURA MÁXIMA NA HORA ANT. (AUT) (°C)\\_sum & TEMPERATURA MÁXIMA NA HORA ANT. (AUT) (°C)\\_mean & TEMPERATURA MÍNIMA NA HORA ANT. (AUT) (°C)\\_sum & TEMPERATURA MÍNIMA NA HORA ANT. (AUT) (°C)\\_mean & VENTO, DIREÇÃO HORARIA (gr) (° (gr))\\_sum & VENTO, DIREÇÃO HORARIA (gr) (° (gr))\\_mean & VENTO, RAJADA MAXIMA (m/s)\\_sum & VENTO, RAJADA MAXIMA (m/s)\\_mean & VENTO, VELOCIDADE HORARIA (m/s)\\_sum & VENTO, VELOCIDADE HORARIA (m/s)\\_mean\\\\\n <date> & <dbl> & <dbl> & <dbl> & <dbl> & <dbl> & <dbl> & <dbl> & <dbl> & <dbl> & ⋯ & <dbl> & <dbl> & <dbl> & <dbl> & <int> & <dbl> & <dbl> & <dbl> & <dbl> & <dbl>\\\\\n\\hline\n\t 2023-01-01 & 348.6 & 0.24653465 & 1429055.2 & 1010.647 & 1429421.7 & 1010.906 & 1428687 & 1010.387 & 36472.0 & ⋯ & 37296.2 & 26.37638 & 35696.3 & 25.24491 & 207483 & 146.7348 & 8328.5 & 5.890028 & 4584.1 & 3.241938\\\\\n\t 2023-03-01 & 204.2 & 0.13948087 & 1482992.4 & 1012.973 & 1483332.0 & 1013.205 & 1482648 & 1012.738 & 36299.0 & ⋯ & 37107.4 & 25.34658 & 35587.8 & 24.30861 & 196089 & 133.9406 & 8031.2 & 5.485792 & 4574.7 & 3.124795\\\\\n\t 2023-05-01 &  65.2 & 0.05158228 & 1286214.2 & 1017.575 & 1286487.6 & 1017.791 & 1285934 & 1017.353 & 27524.6 & ⋯ & 28258.2 & 22.35617 & 26841.6 & 21.23544 & 169264 & 133.9114 & 6945.0 & 5.494462 & 4108.5 & 3.250396\\\\\n\t 2023-07-01 &  75.0 & 0.05580357 & 1367131.6 & 1017.211 & 1367483.7 & 1017.473 & 1366790 & 1016.956 & 29288.4 & ⋯ & 30114.2 & 22.40640 & 28496.9 & 21.20305 & 183216 & 136.3214 & 8545.8 & 6.358482 & 4820.7 & 3.586830\\\\\n\t 2023-09-01 &   0.8 & 0.10000000 &    8060.1 & 1007.513 &    8061.6 & 1007.700 &    8055 & 1006.875 &   203.9 & ⋯ &   207.9 & 25.98750 &   201.8 & 25.22500 &   1387 & 173.3750 &   44.0 & 5.500000 &   28.2 & 3.525000\\\\\n\t 2023-11-01 & 111.4 & 0.07609290 & 1479781.5 & 1010.780 & 1480178.9 & 1011.051 & 1479370 & 1010.498 & 37320.1 & ⋯ & 38267.2 & 26.13880 & 36427.9 & 24.88245 & 206271 & 140.8955 & 9203.1 & 6.286270 & 5115.3 & 3.494057\\\\\n\\end{tabular}\n",
            "text/plain": [
              "  bimester   PRECIPITAÇÃO TOTAL, HORÁRIO (mm)_sum\n",
              "1 2023-01-01 348.6                               \n",
              "2 2023-03-01 204.2                               \n",
              "3 2023-05-01  65.2                               \n",
              "4 2023-07-01  75.0                               \n",
              "5 2023-09-01   0.8                               \n",
              "6 2023-11-01 111.4                               \n",
              "  PRECIPITAÇÃO TOTAL, HORÁRIO (mm)_mean\n",
              "1 0.24653465                           \n",
              "2 0.13948087                           \n",
              "3 0.05158228                           \n",
              "4 0.05580357                           \n",
              "5 0.10000000                           \n",
              "6 0.07609290                           \n",
              "  PRESSAO ATMOSFERICA AO NIVEL DA ESTACAO, HORARIA (mB)_sum\n",
              "1 1429055.2                                                \n",
              "2 1482992.4                                                \n",
              "3 1286214.2                                                \n",
              "4 1367131.6                                                \n",
              "5    8060.1                                                \n",
              "6 1479781.5                                                \n",
              "  PRESSAO ATMOSFERICA AO NIVEL DA ESTACAO, HORARIA (mB)_mean\n",
              "1 1010.647                                                  \n",
              "2 1012.973                                                  \n",
              "3 1017.575                                                  \n",
              "4 1017.211                                                  \n",
              "5 1007.513                                                  \n",
              "6 1010.780                                                  \n",
              "  PRESSÃO ATMOSFERICA MAX.NA HORA ANT. (AUT) (mB)_sum\n",
              "1 1429421.7                                          \n",
              "2 1483332.0                                          \n",
              "3 1286487.6                                          \n",
              "4 1367483.7                                          \n",
              "5    8061.6                                          \n",
              "6 1480178.9                                          \n",
              "  PRESSÃO ATMOSFERICA MAX.NA HORA ANT. (AUT) (mB)_mean\n",
              "1 1010.906                                            \n",
              "2 1013.205                                            \n",
              "3 1017.791                                            \n",
              "4 1017.473                                            \n",
              "5 1007.700                                            \n",
              "6 1011.051                                            \n",
              "  PRESSÃO ATMOSFERICA MIN. NA HORA ANT. (AUT) (mB)_sum\n",
              "1 1428687                                             \n",
              "2 1482648                                             \n",
              "3 1285934                                             \n",
              "4 1366790                                             \n",
              "5    8055                                             \n",
              "6 1479370                                             \n",
              "  PRESSÃO ATMOSFERICA MIN. NA HORA ANT. (AUT) (mB)_mean\n",
              "1 1010.387                                             \n",
              "2 1012.738                                             \n",
              "3 1017.353                                             \n",
              "4 1016.956                                             \n",
              "5 1006.875                                             \n",
              "6 1010.498                                             \n",
              "  TEMPERATURA DO AR - BULBO SECO, HORARIA (°C)_sum ⋯\n",
              "1 36472.0                                          ⋯\n",
              "2 36299.0                                          ⋯\n",
              "3 27524.6                                          ⋯\n",
              "4 29288.4                                          ⋯\n",
              "5   203.9                                          ⋯\n",
              "6 37320.1                                          ⋯\n",
              "  TEMPERATURA MÁXIMA NA HORA ANT. (AUT) (°C)_sum\n",
              "1 37296.2                                       \n",
              "2 37107.4                                       \n",
              "3 28258.2                                       \n",
              "4 30114.2                                       \n",
              "5   207.9                                       \n",
              "6 38267.2                                       \n",
              "  TEMPERATURA MÁXIMA NA HORA ANT. (AUT) (°C)_mean\n",
              "1 26.37638                                       \n",
              "2 25.34658                                       \n",
              "3 22.35617                                       \n",
              "4 22.40640                                       \n",
              "5 25.98750                                       \n",
              "6 26.13880                                       \n",
              "  TEMPERATURA MÍNIMA NA HORA ANT. (AUT) (°C)_sum\n",
              "1 35696.3                                       \n",
              "2 35587.8                                       \n",
              "3 26841.6                                       \n",
              "4 28496.9                                       \n",
              "5   201.8                                       \n",
              "6 36427.9                                       \n",
              "  TEMPERATURA MÍNIMA NA HORA ANT. (AUT) (°C)_mean\n",
              "1 25.24491                                       \n",
              "2 24.30861                                       \n",
              "3 21.23544                                       \n",
              "4 21.20305                                       \n",
              "5 25.22500                                       \n",
              "6 24.88245                                       \n",
              "  VENTO, DIREÇÃO HORARIA (gr) (° (gr))_sum\n",
              "1 207483                                  \n",
              "2 196089                                  \n",
              "3 169264                                  \n",
              "4 183216                                  \n",
              "5   1387                                  \n",
              "6 206271                                  \n",
              "  VENTO, DIREÇÃO HORARIA (gr) (° (gr))_mean VENTO, RAJADA MAXIMA (m/s)_sum\n",
              "1 146.7348                                  8328.5                        \n",
              "2 133.9406                                  8031.2                        \n",
              "3 133.9114                                  6945.0                        \n",
              "4 136.3214                                  8545.8                        \n",
              "5 173.3750                                    44.0                        \n",
              "6 140.8955                                  9203.1                        \n",
              "  VENTO, RAJADA MAXIMA (m/s)_mean VENTO, VELOCIDADE HORARIA (m/s)_sum\n",
              "1 5.890028                        4584.1                             \n",
              "2 5.485792                        4574.7                             \n",
              "3 5.494462                        4108.5                             \n",
              "4 6.358482                        4820.7                             \n",
              "5 5.500000                          28.2                             \n",
              "6 6.286270                        5115.3                             \n",
              "  VENTO, VELOCIDADE HORARIA (m/s)_mean\n",
              "1 3.241938                            \n",
              "2 3.124795                            \n",
              "3 3.250396                            \n",
              "4 3.586830                            \n",
              "5 3.525000                            \n",
              "6 3.494057                            "
            ]
          },
          "metadata": {}
        }
      ]
    },
    {
      "cell_type": "markdown",
      "source": [
        "## Groupby Trimester"
      ],
      "metadata": {
        "id": "rjXNzjJ_VfeV"
      }
    },
    {
      "cell_type": "code",
      "source": [
        "# Using groupby and summarise to calculate sum and mean\n",
        "result <- data1 %>%\n",
        "  mutate(trimester = floor_date(data1[[\"Data\"]], \"3 months\")) %>%\n",
        "  group_by(trimester) %>%\n",
        "  summarise(across(all_of(colnames(column_filter(data1))),\n",
        "                   list(sum = sum, mean = mean),\n",
        "                   .names = \"{.col}_{.fn}\"))\n",
        "\n",
        "head(result)"
      ],
      "metadata": {
        "colab": {
          "base_uri": "https://localhost:8080/",
          "height": 330
        },
        "id": "VZ5J_bH3Vh2y",
        "outputId": "59bdb220-292e-4159-d4fb-4277dbbe7e2e"
      },
      "execution_count": null,
      "outputs": [
        {
          "output_type": "display_data",
          "data": {
            "text/html": [
              "<table class=\"dataframe\">\n",
              "<caption>A tibble: 4 × 21</caption>\n",
              "<thead>\n",
              "\t<tr><th scope=col>trimester</th><th scope=col>PRECIPITAÇÃO TOTAL, HORÁRIO (mm)_sum</th><th scope=col>PRECIPITAÇÃO TOTAL, HORÁRIO (mm)_mean</th><th scope=col>PRESSAO ATMOSFERICA AO NIVEL DA ESTACAO, HORARIA (mB)_sum</th><th scope=col>PRESSAO ATMOSFERICA AO NIVEL DA ESTACAO, HORARIA (mB)_mean</th><th scope=col>PRESSÃO ATMOSFERICA MAX.NA HORA ANT. (AUT) (mB)_sum</th><th scope=col>PRESSÃO ATMOSFERICA MAX.NA HORA ANT. (AUT) (mB)_mean</th><th scope=col>PRESSÃO ATMOSFERICA MIN. NA HORA ANT. (AUT) (mB)_sum</th><th scope=col>PRESSÃO ATMOSFERICA MIN. NA HORA ANT. (AUT) (mB)_mean</th><th scope=col>TEMPERATURA DO AR - BULBO SECO, HORARIA (°C)_sum</th><th scope=col>⋯</th><th scope=col>TEMPERATURA MÁXIMA NA HORA ANT. (AUT) (°C)_sum</th><th scope=col>TEMPERATURA MÁXIMA NA HORA ANT. (AUT) (°C)_mean</th><th scope=col>TEMPERATURA MÍNIMA NA HORA ANT. (AUT) (°C)_sum</th><th scope=col>TEMPERATURA MÍNIMA NA HORA ANT. (AUT) (°C)_mean</th><th scope=col>VENTO, DIREÇÃO HORARIA (gr) (° (gr))_sum</th><th scope=col>VENTO, DIREÇÃO HORARIA (gr) (° (gr))_mean</th><th scope=col>VENTO, RAJADA MAXIMA (m/s)_sum</th><th scope=col>VENTO, RAJADA MAXIMA (m/s)_mean</th><th scope=col>VENTO, VELOCIDADE HORARIA (m/s)_sum</th><th scope=col>VENTO, VELOCIDADE HORARIA (m/s)_mean</th></tr>\n",
              "\t<tr><th scope=col>&lt;date&gt;</th><th scope=col>&lt;dbl&gt;</th><th scope=col>&lt;dbl&gt;</th><th scope=col>&lt;dbl&gt;</th><th scope=col>&lt;dbl&gt;</th><th scope=col>&lt;dbl&gt;</th><th scope=col>&lt;dbl&gt;</th><th scope=col>&lt;dbl&gt;</th><th scope=col>&lt;dbl&gt;</th><th scope=col>&lt;dbl&gt;</th><th scope=col>⋯</th><th scope=col>&lt;dbl&gt;</th><th scope=col>&lt;dbl&gt;</th><th scope=col>&lt;dbl&gt;</th><th scope=col>&lt;dbl&gt;</th><th scope=col>&lt;int&gt;</th><th scope=col>&lt;dbl&gt;</th><th scope=col>&lt;dbl&gt;</th><th scope=col>&lt;dbl&gt;</th><th scope=col>&lt;dbl&gt;</th><th scope=col>&lt;dbl&gt;</th></tr>\n",
              "</thead>\n",
              "<tbody>\n",
              "\t<tr><td>2022-01-01</td><td>217.4</td><td>0.1007881</td><td>2179859</td><td>1010.598</td><td>2180362</td><td>1010.831</td><td>2179349</td><td>1010.361</td><td>56036.0</td><td>⋯</td><td>57383.8</td><td>26.60352</td><td>54764.0</td><td>25.38897</td><td>297845</td><td>138.0830</td><td>12365.5</td><td>5.732731</td><td>6876.3</td><td>3.187900</td></tr>\n",
              "\t<tr><td>2022-04-01</td><td>465.2</td><td>0.2130037</td><td>2216960</td><td>1015.092</td><td>2217472</td><td>1015.326</td><td>2216439</td><td>1014.853</td><td>48751.3</td><td>⋯</td><td>49907.6</td><td>22.85147</td><td>47667.0</td><td>21.82555</td><td>328263</td><td>150.3036</td><td>13835.6</td><td>6.334982</td><td>8093.2</td><td>3.705678</td></tr>\n",
              "\t<tr><td>2022-07-01</td><td>240.6</td><td>0.1089674</td><td>2246401</td><td>1017.392</td><td>2246962</td><td>1017.646</td><td>2245830</td><td>1017.133</td><td>46709.5</td><td>⋯</td><td>48021.9</td><td>21.74905</td><td>45477.4</td><td>20.59665</td><td>307845</td><td>139.4226</td><td>14764.3</td><td>6.686730</td><td>8385.4</td><td>3.797736</td></tr>\n",
              "\t<tr><td>2022-10-01</td><td>376.4</td><td>0.1704710</td><td>2234753</td><td>1012.116</td><td>2235331</td><td>1012.378</td><td>2234177</td><td>1011.856</td><td>51454.8</td><td>⋯</td><td>52688.7</td><td>23.86264</td><td>50293.4</td><td>22.77781</td><td>329233</td><td>149.1091</td><td>13588.6</td><td>6.154257</td><td>7652.0</td><td>3.465580</td></tr>\n",
              "</tbody>\n",
              "</table>\n"
            ],
            "text/markdown": "\nA tibble: 4 × 21\n\n| trimester &lt;date&gt; | PRECIPITAÇÃO TOTAL, HORÁRIO (mm)_sum &lt;dbl&gt; | PRECIPITAÇÃO TOTAL, HORÁRIO (mm)_mean &lt;dbl&gt; | PRESSAO ATMOSFERICA AO NIVEL DA ESTACAO, HORARIA (mB)_sum &lt;dbl&gt; | PRESSAO ATMOSFERICA AO NIVEL DA ESTACAO, HORARIA (mB)_mean &lt;dbl&gt; | PRESSÃO ATMOSFERICA MAX.NA HORA ANT. (AUT) (mB)_sum &lt;dbl&gt; | PRESSÃO ATMOSFERICA MAX.NA HORA ANT. (AUT) (mB)_mean &lt;dbl&gt; | PRESSÃO ATMOSFERICA MIN. NA HORA ANT. (AUT) (mB)_sum &lt;dbl&gt; | PRESSÃO ATMOSFERICA MIN. NA HORA ANT. (AUT) (mB)_mean &lt;dbl&gt; | TEMPERATURA DO AR - BULBO SECO, HORARIA (°C)_sum &lt;dbl&gt; | ⋯ ⋯ | TEMPERATURA MÁXIMA NA HORA ANT. (AUT) (°C)_sum &lt;dbl&gt; | TEMPERATURA MÁXIMA NA HORA ANT. (AUT) (°C)_mean &lt;dbl&gt; | TEMPERATURA MÍNIMA NA HORA ANT. (AUT) (°C)_sum &lt;dbl&gt; | TEMPERATURA MÍNIMA NA HORA ANT. (AUT) (°C)_mean &lt;dbl&gt; | VENTO, DIREÇÃO HORARIA (gr) (° (gr))_sum &lt;int&gt; | VENTO, DIREÇÃO HORARIA (gr) (° (gr))_mean &lt;dbl&gt; | VENTO, RAJADA MAXIMA (m/s)_sum &lt;dbl&gt; | VENTO, RAJADA MAXIMA (m/s)_mean &lt;dbl&gt; | VENTO, VELOCIDADE HORARIA (m/s)_sum &lt;dbl&gt; | VENTO, VELOCIDADE HORARIA (m/s)_mean &lt;dbl&gt; |\n|---|---|---|---|---|---|---|---|---|---|---|---|---|---|---|---|---|---|---|---|---|\n| 2022-01-01 | 217.4 | 0.1007881 | 2179859 | 1010.598 | 2180362 | 1010.831 | 2179349 | 1010.361 | 56036.0 | ⋯ | 57383.8 | 26.60352 | 54764.0 | 25.38897 | 297845 | 138.0830 | 12365.5 | 5.732731 | 6876.3 | 3.187900 |\n| 2022-04-01 | 465.2 | 0.2130037 | 2216960 | 1015.092 | 2217472 | 1015.326 | 2216439 | 1014.853 | 48751.3 | ⋯ | 49907.6 | 22.85147 | 47667.0 | 21.82555 | 328263 | 150.3036 | 13835.6 | 6.334982 | 8093.2 | 3.705678 |\n| 2022-07-01 | 240.6 | 0.1089674 | 2246401 | 1017.392 | 2246962 | 1017.646 | 2245830 | 1017.133 | 46709.5 | ⋯ | 48021.9 | 21.74905 | 45477.4 | 20.59665 | 307845 | 139.4226 | 14764.3 | 6.686730 | 8385.4 | 3.797736 |\n| 2022-10-01 | 376.4 | 0.1704710 | 2234753 | 1012.116 | 2235331 | 1012.378 | 2234177 | 1011.856 | 51454.8 | ⋯ | 52688.7 | 23.86264 | 50293.4 | 22.77781 | 329233 | 149.1091 | 13588.6 | 6.154257 | 7652.0 | 3.465580 |\n\n",
            "text/latex": "A tibble: 4 × 21\n\\begin{tabular}{lllllllllllllllllllll}\n trimester & PRECIPITAÇÃO TOTAL, HORÁRIO (mm)\\_sum & PRECIPITAÇÃO TOTAL, HORÁRIO (mm)\\_mean & PRESSAO ATMOSFERICA AO NIVEL DA ESTACAO, HORARIA (mB)\\_sum & PRESSAO ATMOSFERICA AO NIVEL DA ESTACAO, HORARIA (mB)\\_mean & PRESSÃO ATMOSFERICA MAX.NA HORA ANT. (AUT) (mB)\\_sum & PRESSÃO ATMOSFERICA MAX.NA HORA ANT. (AUT) (mB)\\_mean & PRESSÃO ATMOSFERICA MIN. NA HORA ANT. (AUT) (mB)\\_sum & PRESSÃO ATMOSFERICA MIN. NA HORA ANT. (AUT) (mB)\\_mean & TEMPERATURA DO AR - BULBO SECO, HORARIA (°C)\\_sum & ⋯ & TEMPERATURA MÁXIMA NA HORA ANT. (AUT) (°C)\\_sum & TEMPERATURA MÁXIMA NA HORA ANT. (AUT) (°C)\\_mean & TEMPERATURA MÍNIMA NA HORA ANT. (AUT) (°C)\\_sum & TEMPERATURA MÍNIMA NA HORA ANT. (AUT) (°C)\\_mean & VENTO, DIREÇÃO HORARIA (gr) (° (gr))\\_sum & VENTO, DIREÇÃO HORARIA (gr) (° (gr))\\_mean & VENTO, RAJADA MAXIMA (m/s)\\_sum & VENTO, RAJADA MAXIMA (m/s)\\_mean & VENTO, VELOCIDADE HORARIA (m/s)\\_sum & VENTO, VELOCIDADE HORARIA (m/s)\\_mean\\\\\n <date> & <dbl> & <dbl> & <dbl> & <dbl> & <dbl> & <dbl> & <dbl> & <dbl> & <dbl> & ⋯ & <dbl> & <dbl> & <dbl> & <dbl> & <int> & <dbl> & <dbl> & <dbl> & <dbl> & <dbl>\\\\\n\\hline\n\t 2022-01-01 & 217.4 & 0.1007881 & 2179859 & 1010.598 & 2180362 & 1010.831 & 2179349 & 1010.361 & 56036.0 & ⋯ & 57383.8 & 26.60352 & 54764.0 & 25.38897 & 297845 & 138.0830 & 12365.5 & 5.732731 & 6876.3 & 3.187900\\\\\n\t 2022-04-01 & 465.2 & 0.2130037 & 2216960 & 1015.092 & 2217472 & 1015.326 & 2216439 & 1014.853 & 48751.3 & ⋯ & 49907.6 & 22.85147 & 47667.0 & 21.82555 & 328263 & 150.3036 & 13835.6 & 6.334982 & 8093.2 & 3.705678\\\\\n\t 2022-07-01 & 240.6 & 0.1089674 & 2246401 & 1017.392 & 2246962 & 1017.646 & 2245830 & 1017.133 & 46709.5 & ⋯ & 48021.9 & 21.74905 & 45477.4 & 20.59665 & 307845 & 139.4226 & 14764.3 & 6.686730 & 8385.4 & 3.797736\\\\\n\t 2022-10-01 & 376.4 & 0.1704710 & 2234753 & 1012.116 & 2235331 & 1012.378 & 2234177 & 1011.856 & 51454.8 & ⋯ & 52688.7 & 23.86264 & 50293.4 & 22.77781 & 329233 & 149.1091 & 13588.6 & 6.154257 & 7652.0 & 3.465580\\\\\n\\end{tabular}\n",
            "text/plain": [
              "  trimester  PRECIPITAÇÃO TOTAL, HORÁRIO (mm)_sum\n",
              "1 2022-01-01 217.4                               \n",
              "2 2022-04-01 465.2                               \n",
              "3 2022-07-01 240.6                               \n",
              "4 2022-10-01 376.4                               \n",
              "  PRECIPITAÇÃO TOTAL, HORÁRIO (mm)_mean\n",
              "1 0.1007881                            \n",
              "2 0.2130037                            \n",
              "3 0.1089674                            \n",
              "4 0.1704710                            \n",
              "  PRESSAO ATMOSFERICA AO NIVEL DA ESTACAO, HORARIA (mB)_sum\n",
              "1 2179859                                                  \n",
              "2 2216960                                                  \n",
              "3 2246401                                                  \n",
              "4 2234753                                                  \n",
              "  PRESSAO ATMOSFERICA AO NIVEL DA ESTACAO, HORARIA (mB)_mean\n",
              "1 1010.598                                                  \n",
              "2 1015.092                                                  \n",
              "3 1017.392                                                  \n",
              "4 1012.116                                                  \n",
              "  PRESSÃO ATMOSFERICA MAX.NA HORA ANT. (AUT) (mB)_sum\n",
              "1 2180362                                            \n",
              "2 2217472                                            \n",
              "3 2246962                                            \n",
              "4 2235331                                            \n",
              "  PRESSÃO ATMOSFERICA MAX.NA HORA ANT. (AUT) (mB)_mean\n",
              "1 1010.831                                            \n",
              "2 1015.326                                            \n",
              "3 1017.646                                            \n",
              "4 1012.378                                            \n",
              "  PRESSÃO ATMOSFERICA MIN. NA HORA ANT. (AUT) (mB)_sum\n",
              "1 2179349                                             \n",
              "2 2216439                                             \n",
              "3 2245830                                             \n",
              "4 2234177                                             \n",
              "  PRESSÃO ATMOSFERICA MIN. NA HORA ANT. (AUT) (mB)_mean\n",
              "1 1010.361                                             \n",
              "2 1014.853                                             \n",
              "3 1017.133                                             \n",
              "4 1011.856                                             \n",
              "  TEMPERATURA DO AR - BULBO SECO, HORARIA (°C)_sum ⋯\n",
              "1 56036.0                                          ⋯\n",
              "2 48751.3                                          ⋯\n",
              "3 46709.5                                          ⋯\n",
              "4 51454.8                                          ⋯\n",
              "  TEMPERATURA MÁXIMA NA HORA ANT. (AUT) (°C)_sum\n",
              "1 57383.8                                       \n",
              "2 49907.6                                       \n",
              "3 48021.9                                       \n",
              "4 52688.7                                       \n",
              "  TEMPERATURA MÁXIMA NA HORA ANT. (AUT) (°C)_mean\n",
              "1 26.60352                                       \n",
              "2 22.85147                                       \n",
              "3 21.74905                                       \n",
              "4 23.86264                                       \n",
              "  TEMPERATURA MÍNIMA NA HORA ANT. (AUT) (°C)_sum\n",
              "1 54764.0                                       \n",
              "2 47667.0                                       \n",
              "3 45477.4                                       \n",
              "4 50293.4                                       \n",
              "  TEMPERATURA MÍNIMA NA HORA ANT. (AUT) (°C)_mean\n",
              "1 25.38897                                       \n",
              "2 21.82555                                       \n",
              "3 20.59665                                       \n",
              "4 22.77781                                       \n",
              "  VENTO, DIREÇÃO HORARIA (gr) (° (gr))_sum\n",
              "1 297845                                  \n",
              "2 328263                                  \n",
              "3 307845                                  \n",
              "4 329233                                  \n",
              "  VENTO, DIREÇÃO HORARIA (gr) (° (gr))_mean VENTO, RAJADA MAXIMA (m/s)_sum\n",
              "1 138.0830                                  12365.5                       \n",
              "2 150.3036                                  13835.6                       \n",
              "3 139.4226                                  14764.3                       \n",
              "4 149.1091                                  13588.6                       \n",
              "  VENTO, RAJADA MAXIMA (m/s)_mean VENTO, VELOCIDADE HORARIA (m/s)_sum\n",
              "1 5.732731                        6876.3                             \n",
              "2 6.334982                        8093.2                             \n",
              "3 6.686730                        8385.4                             \n",
              "4 6.154257                        7652.0                             \n",
              "  VENTO, VELOCIDADE HORARIA (m/s)_mean\n",
              "1 3.187900                            \n",
              "2 3.705678                            \n",
              "3 3.797736                            \n",
              "4 3.465580                            "
            ]
          },
          "metadata": {}
        }
      ]
    },
    {
      "cell_type": "code",
      "source": [
        "# Using groupby and summarise to calculate sum and mean\n",
        "result <- data2 %>%\n",
        "  mutate(trimester = floor_date(data2[[\"Data\"]], \"3 months\")) %>%\n",
        "  group_by(trimester) %>%\n",
        "  summarise(across(all_of(colnames(column_filter(data2))),\n",
        "                   list(sum = sum, mean = mean),\n",
        "                   .names = \"{.col}_{.fn}\"))\n",
        "\n",
        "head(result)"
      ],
      "metadata": {
        "colab": {
          "base_uri": "https://localhost:8080/",
          "height": 330
        },
        "id": "KW7ChOh7Vjox",
        "outputId": "00badb67-1a31-484e-8f74-ace0dfa1b72a"
      },
      "execution_count": null,
      "outputs": [
        {
          "output_type": "display_data",
          "data": {
            "text/html": [
              "<table class=\"dataframe\">\n",
              "<caption>A tibble: 4 × 21</caption>\n",
              "<thead>\n",
              "\t<tr><th scope=col>trimester</th><th scope=col>PRECIPITAÇÃO TOTAL, HORÁRIO (mm)_sum</th><th scope=col>PRECIPITAÇÃO TOTAL, HORÁRIO (mm)_mean</th><th scope=col>PRESSAO ATMOSFERICA AO NIVEL DA ESTACAO, HORARIA (mB)_sum</th><th scope=col>PRESSAO ATMOSFERICA AO NIVEL DA ESTACAO, HORARIA (mB)_mean</th><th scope=col>PRESSÃO ATMOSFERICA MAX.NA HORA ANT. (AUT) (mB)_sum</th><th scope=col>PRESSÃO ATMOSFERICA MAX.NA HORA ANT. (AUT) (mB)_mean</th><th scope=col>PRESSÃO ATMOSFERICA MIN. NA HORA ANT. (AUT) (mB)_sum</th><th scope=col>PRESSÃO ATMOSFERICA MIN. NA HORA ANT. (AUT) (mB)_mean</th><th scope=col>TEMPERATURA DO AR - BULBO SECO, HORARIA (°C)_sum</th><th scope=col>⋯</th><th scope=col>TEMPERATURA MÁXIMA NA HORA ANT. (AUT) (°C)_sum</th><th scope=col>TEMPERATURA MÁXIMA NA HORA ANT. (AUT) (°C)_mean</th><th scope=col>TEMPERATURA MÍNIMA NA HORA ANT. (AUT) (°C)_sum</th><th scope=col>TEMPERATURA MÍNIMA NA HORA ANT. (AUT) (°C)_mean</th><th scope=col>VENTO, DIREÇÃO HORARIA (gr) (° (gr))_sum</th><th scope=col>VENTO, DIREÇÃO HORARIA (gr) (° (gr))_mean</th><th scope=col>VENTO, RAJADA MAXIMA (m/s)_sum</th><th scope=col>VENTO, RAJADA MAXIMA (m/s)_mean</th><th scope=col>VENTO, VELOCIDADE HORARIA (m/s)_sum</th><th scope=col>VENTO, VELOCIDADE HORARIA (m/s)_mean</th></tr>\n",
              "\t<tr><th scope=col>&lt;date&gt;</th><th scope=col>&lt;dbl&gt;</th><th scope=col>&lt;dbl&gt;</th><th scope=col>&lt;dbl&gt;</th><th scope=col>&lt;dbl&gt;</th><th scope=col>&lt;dbl&gt;</th><th scope=col>&lt;dbl&gt;</th><th scope=col>&lt;dbl&gt;</th><th scope=col>&lt;dbl&gt;</th><th scope=col>&lt;dbl&gt;</th><th scope=col>⋯</th><th scope=col>&lt;dbl&gt;</th><th scope=col>&lt;dbl&gt;</th><th scope=col>&lt;dbl&gt;</th><th scope=col>&lt;dbl&gt;</th><th scope=col>&lt;int&gt;</th><th scope=col>&lt;dbl&gt;</th><th scope=col>&lt;dbl&gt;</th><th scope=col>&lt;dbl&gt;</th><th scope=col>&lt;dbl&gt;</th><th scope=col>&lt;dbl&gt;</th></tr>\n",
              "</thead>\n",
              "<tbody>\n",
              "\t<tr><td>2023-01-01</td><td>428.8</td><td>0.19870250</td><td>2182524</td><td>1011.364</td><td>2183062</td><td>1011.614</td><td>2181984</td><td>1011.114</td><td>55723.6</td><td>⋯</td><td>56980.4</td><td>26.40426</td><td>54569.0</td><td>25.28684</td><td>305215</td><td>141.4342</td><td>12403.5</td><td>5.747683</td><td>6854.3</td><td>3.176228</td></tr>\n",
              "\t<tr><td>2023-04-01</td><td>189.2</td><td>0.09536290</td><td>2015737</td><td>1015.997</td><td>2016179</td><td>1016.219</td><td>2015285</td><td>1015.769</td><td>44572.0</td><td>⋯</td><td>45681.4</td><td>23.02490</td><td>43556.7</td><td>21.95398</td><td>267621</td><td>134.8896</td><td>10901.2</td><td>5.494556</td><td>6413.0</td><td>3.232359</td></tr>\n",
              "\t<tr><td>2023-07-01</td><td> 75.0</td><td>0.05580357</td><td>1367132</td><td>1017.211</td><td>1367484</td><td>1017.473</td><td>1366790</td><td>1016.956</td><td>29288.4</td><td>⋯</td><td>30114.2</td><td>22.40640</td><td>28496.9</td><td>21.20305</td><td>183216</td><td>136.3214</td><td> 8545.8</td><td>6.358482</td><td>4820.7</td><td>3.586830</td></tr>\n",
              "\t<tr><td>2023-10-01</td><td>112.2</td><td>0.07622283</td><td>1487842</td><td>1010.762</td><td>1488240</td><td>1011.033</td><td>1487425</td><td>1010.479</td><td>37524.0</td><td>⋯</td><td>38475.1</td><td>26.13798</td><td>36629.7</td><td>24.88431</td><td>207658</td><td>141.0720</td><td> 9247.1</td><td>6.281997</td><td>5143.5</td><td>3.494226</td></tr>\n",
              "</tbody>\n",
              "</table>\n"
            ],
            "text/markdown": "\nA tibble: 4 × 21\n\n| trimester &lt;date&gt; | PRECIPITAÇÃO TOTAL, HORÁRIO (mm)_sum &lt;dbl&gt; | PRECIPITAÇÃO TOTAL, HORÁRIO (mm)_mean &lt;dbl&gt; | PRESSAO ATMOSFERICA AO NIVEL DA ESTACAO, HORARIA (mB)_sum &lt;dbl&gt; | PRESSAO ATMOSFERICA AO NIVEL DA ESTACAO, HORARIA (mB)_mean &lt;dbl&gt; | PRESSÃO ATMOSFERICA MAX.NA HORA ANT. (AUT) (mB)_sum &lt;dbl&gt; | PRESSÃO ATMOSFERICA MAX.NA HORA ANT. (AUT) (mB)_mean &lt;dbl&gt; | PRESSÃO ATMOSFERICA MIN. NA HORA ANT. (AUT) (mB)_sum &lt;dbl&gt; | PRESSÃO ATMOSFERICA MIN. NA HORA ANT. (AUT) (mB)_mean &lt;dbl&gt; | TEMPERATURA DO AR - BULBO SECO, HORARIA (°C)_sum &lt;dbl&gt; | ⋯ ⋯ | TEMPERATURA MÁXIMA NA HORA ANT. (AUT) (°C)_sum &lt;dbl&gt; | TEMPERATURA MÁXIMA NA HORA ANT. (AUT) (°C)_mean &lt;dbl&gt; | TEMPERATURA MÍNIMA NA HORA ANT. (AUT) (°C)_sum &lt;dbl&gt; | TEMPERATURA MÍNIMA NA HORA ANT. (AUT) (°C)_mean &lt;dbl&gt; | VENTO, DIREÇÃO HORARIA (gr) (° (gr))_sum &lt;int&gt; | VENTO, DIREÇÃO HORARIA (gr) (° (gr))_mean &lt;dbl&gt; | VENTO, RAJADA MAXIMA (m/s)_sum &lt;dbl&gt; | VENTO, RAJADA MAXIMA (m/s)_mean &lt;dbl&gt; | VENTO, VELOCIDADE HORARIA (m/s)_sum &lt;dbl&gt; | VENTO, VELOCIDADE HORARIA (m/s)_mean &lt;dbl&gt; |\n|---|---|---|---|---|---|---|---|---|---|---|---|---|---|---|---|---|---|---|---|---|\n| 2023-01-01 | 428.8 | 0.19870250 | 2182524 | 1011.364 | 2183062 | 1011.614 | 2181984 | 1011.114 | 55723.6 | ⋯ | 56980.4 | 26.40426 | 54569.0 | 25.28684 | 305215 | 141.4342 | 12403.5 | 5.747683 | 6854.3 | 3.176228 |\n| 2023-04-01 | 189.2 | 0.09536290 | 2015737 | 1015.997 | 2016179 | 1016.219 | 2015285 | 1015.769 | 44572.0 | ⋯ | 45681.4 | 23.02490 | 43556.7 | 21.95398 | 267621 | 134.8896 | 10901.2 | 5.494556 | 6413.0 | 3.232359 |\n| 2023-07-01 |  75.0 | 0.05580357 | 1367132 | 1017.211 | 1367484 | 1017.473 | 1366790 | 1016.956 | 29288.4 | ⋯ | 30114.2 | 22.40640 | 28496.9 | 21.20305 | 183216 | 136.3214 |  8545.8 | 6.358482 | 4820.7 | 3.586830 |\n| 2023-10-01 | 112.2 | 0.07622283 | 1487842 | 1010.762 | 1488240 | 1011.033 | 1487425 | 1010.479 | 37524.0 | ⋯ | 38475.1 | 26.13798 | 36629.7 | 24.88431 | 207658 | 141.0720 |  9247.1 | 6.281997 | 5143.5 | 3.494226 |\n\n",
            "text/latex": "A tibble: 4 × 21\n\\begin{tabular}{lllllllllllllllllllll}\n trimester & PRECIPITAÇÃO TOTAL, HORÁRIO (mm)\\_sum & PRECIPITAÇÃO TOTAL, HORÁRIO (mm)\\_mean & PRESSAO ATMOSFERICA AO NIVEL DA ESTACAO, HORARIA (mB)\\_sum & PRESSAO ATMOSFERICA AO NIVEL DA ESTACAO, HORARIA (mB)\\_mean & PRESSÃO ATMOSFERICA MAX.NA HORA ANT. (AUT) (mB)\\_sum & PRESSÃO ATMOSFERICA MAX.NA HORA ANT. (AUT) (mB)\\_mean & PRESSÃO ATMOSFERICA MIN. NA HORA ANT. (AUT) (mB)\\_sum & PRESSÃO ATMOSFERICA MIN. NA HORA ANT. (AUT) (mB)\\_mean & TEMPERATURA DO AR - BULBO SECO, HORARIA (°C)\\_sum & ⋯ & TEMPERATURA MÁXIMA NA HORA ANT. (AUT) (°C)\\_sum & TEMPERATURA MÁXIMA NA HORA ANT. (AUT) (°C)\\_mean & TEMPERATURA MÍNIMA NA HORA ANT. (AUT) (°C)\\_sum & TEMPERATURA MÍNIMA NA HORA ANT. (AUT) (°C)\\_mean & VENTO, DIREÇÃO HORARIA (gr) (° (gr))\\_sum & VENTO, DIREÇÃO HORARIA (gr) (° (gr))\\_mean & VENTO, RAJADA MAXIMA (m/s)\\_sum & VENTO, RAJADA MAXIMA (m/s)\\_mean & VENTO, VELOCIDADE HORARIA (m/s)\\_sum & VENTO, VELOCIDADE HORARIA (m/s)\\_mean\\\\\n <date> & <dbl> & <dbl> & <dbl> & <dbl> & <dbl> & <dbl> & <dbl> & <dbl> & <dbl> & ⋯ & <dbl> & <dbl> & <dbl> & <dbl> & <int> & <dbl> & <dbl> & <dbl> & <dbl> & <dbl>\\\\\n\\hline\n\t 2023-01-01 & 428.8 & 0.19870250 & 2182524 & 1011.364 & 2183062 & 1011.614 & 2181984 & 1011.114 & 55723.6 & ⋯ & 56980.4 & 26.40426 & 54569.0 & 25.28684 & 305215 & 141.4342 & 12403.5 & 5.747683 & 6854.3 & 3.176228\\\\\n\t 2023-04-01 & 189.2 & 0.09536290 & 2015737 & 1015.997 & 2016179 & 1016.219 & 2015285 & 1015.769 & 44572.0 & ⋯ & 45681.4 & 23.02490 & 43556.7 & 21.95398 & 267621 & 134.8896 & 10901.2 & 5.494556 & 6413.0 & 3.232359\\\\\n\t 2023-07-01 &  75.0 & 0.05580357 & 1367132 & 1017.211 & 1367484 & 1017.473 & 1366790 & 1016.956 & 29288.4 & ⋯ & 30114.2 & 22.40640 & 28496.9 & 21.20305 & 183216 & 136.3214 &  8545.8 & 6.358482 & 4820.7 & 3.586830\\\\\n\t 2023-10-01 & 112.2 & 0.07622283 & 1487842 & 1010.762 & 1488240 & 1011.033 & 1487425 & 1010.479 & 37524.0 & ⋯ & 38475.1 & 26.13798 & 36629.7 & 24.88431 & 207658 & 141.0720 &  9247.1 & 6.281997 & 5143.5 & 3.494226\\\\\n\\end{tabular}\n",
            "text/plain": [
              "  trimester  PRECIPITAÇÃO TOTAL, HORÁRIO (mm)_sum\n",
              "1 2023-01-01 428.8                               \n",
              "2 2023-04-01 189.2                               \n",
              "3 2023-07-01  75.0                               \n",
              "4 2023-10-01 112.2                               \n",
              "  PRECIPITAÇÃO TOTAL, HORÁRIO (mm)_mean\n",
              "1 0.19870250                           \n",
              "2 0.09536290                           \n",
              "3 0.05580357                           \n",
              "4 0.07622283                           \n",
              "  PRESSAO ATMOSFERICA AO NIVEL DA ESTACAO, HORARIA (mB)_sum\n",
              "1 2182524                                                  \n",
              "2 2015737                                                  \n",
              "3 1367132                                                  \n",
              "4 1487842                                                  \n",
              "  PRESSAO ATMOSFERICA AO NIVEL DA ESTACAO, HORARIA (mB)_mean\n",
              "1 1011.364                                                  \n",
              "2 1015.997                                                  \n",
              "3 1017.211                                                  \n",
              "4 1010.762                                                  \n",
              "  PRESSÃO ATMOSFERICA MAX.NA HORA ANT. (AUT) (mB)_sum\n",
              "1 2183062                                            \n",
              "2 2016179                                            \n",
              "3 1367484                                            \n",
              "4 1488240                                            \n",
              "  PRESSÃO ATMOSFERICA MAX.NA HORA ANT. (AUT) (mB)_mean\n",
              "1 1011.614                                            \n",
              "2 1016.219                                            \n",
              "3 1017.473                                            \n",
              "4 1011.033                                            \n",
              "  PRESSÃO ATMOSFERICA MIN. NA HORA ANT. (AUT) (mB)_sum\n",
              "1 2181984                                             \n",
              "2 2015285                                             \n",
              "3 1366790                                             \n",
              "4 1487425                                             \n",
              "  PRESSÃO ATMOSFERICA MIN. NA HORA ANT. (AUT) (mB)_mean\n",
              "1 1011.114                                             \n",
              "2 1015.769                                             \n",
              "3 1016.956                                             \n",
              "4 1010.479                                             \n",
              "  TEMPERATURA DO AR - BULBO SECO, HORARIA (°C)_sum ⋯\n",
              "1 55723.6                                          ⋯\n",
              "2 44572.0                                          ⋯\n",
              "3 29288.4                                          ⋯\n",
              "4 37524.0                                          ⋯\n",
              "  TEMPERATURA MÁXIMA NA HORA ANT. (AUT) (°C)_sum\n",
              "1 56980.4                                       \n",
              "2 45681.4                                       \n",
              "3 30114.2                                       \n",
              "4 38475.1                                       \n",
              "  TEMPERATURA MÁXIMA NA HORA ANT. (AUT) (°C)_mean\n",
              "1 26.40426                                       \n",
              "2 23.02490                                       \n",
              "3 22.40640                                       \n",
              "4 26.13798                                       \n",
              "  TEMPERATURA MÍNIMA NA HORA ANT. (AUT) (°C)_sum\n",
              "1 54569.0                                       \n",
              "2 43556.7                                       \n",
              "3 28496.9                                       \n",
              "4 36629.7                                       \n",
              "  TEMPERATURA MÍNIMA NA HORA ANT. (AUT) (°C)_mean\n",
              "1 25.28684                                       \n",
              "2 21.95398                                       \n",
              "3 21.20305                                       \n",
              "4 24.88431                                       \n",
              "  VENTO, DIREÇÃO HORARIA (gr) (° (gr))_sum\n",
              "1 305215                                  \n",
              "2 267621                                  \n",
              "3 183216                                  \n",
              "4 207658                                  \n",
              "  VENTO, DIREÇÃO HORARIA (gr) (° (gr))_mean VENTO, RAJADA MAXIMA (m/s)_sum\n",
              "1 141.4342                                  12403.5                       \n",
              "2 134.8896                                  10901.2                       \n",
              "3 136.3214                                   8545.8                       \n",
              "4 141.0720                                   9247.1                       \n",
              "  VENTO, RAJADA MAXIMA (m/s)_mean VENTO, VELOCIDADE HORARIA (m/s)_sum\n",
              "1 5.747683                        6854.3                             \n",
              "2 5.494556                        6413.0                             \n",
              "3 6.358482                        4820.7                             \n",
              "4 6.281997                        5143.5                             \n",
              "  VENTO, VELOCIDADE HORARIA (m/s)_mean\n",
              "1 3.176228                            \n",
              "2 3.232359                            \n",
              "3 3.586830                            \n",
              "4 3.494226                            "
            ]
          },
          "metadata": {}
        }
      ]
    },
    {
      "cell_type": "markdown",
      "source": [
        "## Groupby Semester"
      ],
      "metadata": {
        "id": "DD-jQr1GVskE"
      }
    },
    {
      "cell_type": "code",
      "source": [
        "# Using groupby and summarise to calculate sum and mean\n",
        "result <- data1 %>%\n",
        "  mutate(semester = floor_date(data1[[\"Data\"]], \"6 months\")) %>%\n",
        "  group_by(semester) %>%\n",
        "  summarise(across(all_of(colnames(column_filter(data1))),\n",
        "                   list(sum = sum, mean = mean),\n",
        "                   .names = \"{.col}_{.fn}\"))\n",
        "\n",
        "head(result)"
      ],
      "metadata": {
        "colab": {
          "base_uri": "https://localhost:8080/",
          "height": 302
        },
        "id": "WwCdAd7hVuUK",
        "outputId": "2b5c924d-fc04-4580-f816-a4c1061003a7"
      },
      "execution_count": null,
      "outputs": [
        {
          "output_type": "display_data",
          "data": {
            "text/html": [
              "<table class=\"dataframe\">\n",
              "<caption>A tibble: 2 × 21</caption>\n",
              "<thead>\n",
              "\t<tr><th scope=col>semester</th><th scope=col>PRECIPITAÇÃO TOTAL, HORÁRIO (mm)_sum</th><th scope=col>PRECIPITAÇÃO TOTAL, HORÁRIO (mm)_mean</th><th scope=col>PRESSAO ATMOSFERICA AO NIVEL DA ESTACAO, HORARIA (mB)_sum</th><th scope=col>PRESSAO ATMOSFERICA AO NIVEL DA ESTACAO, HORARIA (mB)_mean</th><th scope=col>PRESSÃO ATMOSFERICA MAX.NA HORA ANT. (AUT) (mB)_sum</th><th scope=col>PRESSÃO ATMOSFERICA MAX.NA HORA ANT. (AUT) (mB)_mean</th><th scope=col>PRESSÃO ATMOSFERICA MIN. NA HORA ANT. (AUT) (mB)_sum</th><th scope=col>PRESSÃO ATMOSFERICA MIN. NA HORA ANT. (AUT) (mB)_mean</th><th scope=col>TEMPERATURA DO AR - BULBO SECO, HORARIA (°C)_sum</th><th scope=col>⋯</th><th scope=col>TEMPERATURA MÁXIMA NA HORA ANT. (AUT) (°C)_sum</th><th scope=col>TEMPERATURA MÁXIMA NA HORA ANT. (AUT) (°C)_mean</th><th scope=col>TEMPERATURA MÍNIMA NA HORA ANT. (AUT) (°C)_sum</th><th scope=col>TEMPERATURA MÍNIMA NA HORA ANT. (AUT) (°C)_mean</th><th scope=col>VENTO, DIREÇÃO HORARIA (gr) (° (gr))_sum</th><th scope=col>VENTO, DIREÇÃO HORARIA (gr) (° (gr))_mean</th><th scope=col>VENTO, RAJADA MAXIMA (m/s)_sum</th><th scope=col>VENTO, RAJADA MAXIMA (m/s)_mean</th><th scope=col>VENTO, VELOCIDADE HORARIA (m/s)_sum</th><th scope=col>VENTO, VELOCIDADE HORARIA (m/s)_mean</th></tr>\n",
              "\t<tr><th scope=col>&lt;date&gt;</th><th scope=col>&lt;dbl&gt;</th><th scope=col>&lt;dbl&gt;</th><th scope=col>&lt;dbl&gt;</th><th scope=col>&lt;dbl&gt;</th><th scope=col>&lt;dbl&gt;</th><th scope=col>&lt;dbl&gt;</th><th scope=col>&lt;dbl&gt;</th><th scope=col>&lt;dbl&gt;</th><th scope=col>&lt;dbl&gt;</th><th scope=col>⋯</th><th scope=col>&lt;dbl&gt;</th><th scope=col>&lt;dbl&gt;</th><th scope=col>&lt;dbl&gt;</th><th scope=col>&lt;dbl&gt;</th><th scope=col>&lt;int&gt;</th><th scope=col>&lt;dbl&gt;</th><th scope=col>&lt;dbl&gt;</th><th scope=col>&lt;dbl&gt;</th><th scope=col>&lt;dbl&gt;</th><th scope=col>&lt;dbl&gt;</th></tr>\n",
              "</thead>\n",
              "<tbody>\n",
              "\t<tr><td>2022-01-01</td><td>682.6</td><td>0.1572449</td><td>4396819</td><td>1012.859</td><td>4397834</td><td>1013.092</td><td>4395788</td><td>1012.621</td><td>104787.3</td><td>⋯</td><td>107291.4</td><td>24.71583</td><td>102431.0</td><td>23.59618</td><td>626108</td><td>144.2313</td><td>26201.1</td><td>6.035729</td><td>14969.5</td><td>3.448399</td></tr>\n",
              "\t<tr><td>2022-07-01</td><td>617.0</td><td>0.1397192</td><td>4481154</td><td>1014.754</td><td>4482292</td><td>1015.012</td><td>4480008</td><td>1014.494</td><td> 98164.3</td><td>⋯</td><td>100710.6</td><td>22.80584</td><td> 95770.8</td><td>21.68723</td><td>637078</td><td>144.2659</td><td>28352.9</td><td>6.420494</td><td>16037.4</td><td>3.631658</td></tr>\n",
              "</tbody>\n",
              "</table>\n"
            ],
            "text/markdown": "\nA tibble: 2 × 21\n\n| semester &lt;date&gt; | PRECIPITAÇÃO TOTAL, HORÁRIO (mm)_sum &lt;dbl&gt; | PRECIPITAÇÃO TOTAL, HORÁRIO (mm)_mean &lt;dbl&gt; | PRESSAO ATMOSFERICA AO NIVEL DA ESTACAO, HORARIA (mB)_sum &lt;dbl&gt; | PRESSAO ATMOSFERICA AO NIVEL DA ESTACAO, HORARIA (mB)_mean &lt;dbl&gt; | PRESSÃO ATMOSFERICA MAX.NA HORA ANT. (AUT) (mB)_sum &lt;dbl&gt; | PRESSÃO ATMOSFERICA MAX.NA HORA ANT. (AUT) (mB)_mean &lt;dbl&gt; | PRESSÃO ATMOSFERICA MIN. NA HORA ANT. (AUT) (mB)_sum &lt;dbl&gt; | PRESSÃO ATMOSFERICA MIN. NA HORA ANT. (AUT) (mB)_mean &lt;dbl&gt; | TEMPERATURA DO AR - BULBO SECO, HORARIA (°C)_sum &lt;dbl&gt; | ⋯ ⋯ | TEMPERATURA MÁXIMA NA HORA ANT. (AUT) (°C)_sum &lt;dbl&gt; | TEMPERATURA MÁXIMA NA HORA ANT. (AUT) (°C)_mean &lt;dbl&gt; | TEMPERATURA MÍNIMA NA HORA ANT. (AUT) (°C)_sum &lt;dbl&gt; | TEMPERATURA MÍNIMA NA HORA ANT. (AUT) (°C)_mean &lt;dbl&gt; | VENTO, DIREÇÃO HORARIA (gr) (° (gr))_sum &lt;int&gt; | VENTO, DIREÇÃO HORARIA (gr) (° (gr))_mean &lt;dbl&gt; | VENTO, RAJADA MAXIMA (m/s)_sum &lt;dbl&gt; | VENTO, RAJADA MAXIMA (m/s)_mean &lt;dbl&gt; | VENTO, VELOCIDADE HORARIA (m/s)_sum &lt;dbl&gt; | VENTO, VELOCIDADE HORARIA (m/s)_mean &lt;dbl&gt; |\n|---|---|---|---|---|---|---|---|---|---|---|---|---|---|---|---|---|---|---|---|---|\n| 2022-01-01 | 682.6 | 0.1572449 | 4396819 | 1012.859 | 4397834 | 1013.092 | 4395788 | 1012.621 | 104787.3 | ⋯ | 107291.4 | 24.71583 | 102431.0 | 23.59618 | 626108 | 144.2313 | 26201.1 | 6.035729 | 14969.5 | 3.448399 |\n| 2022-07-01 | 617.0 | 0.1397192 | 4481154 | 1014.754 | 4482292 | 1015.012 | 4480008 | 1014.494 |  98164.3 | ⋯ | 100710.6 | 22.80584 |  95770.8 | 21.68723 | 637078 | 144.2659 | 28352.9 | 6.420494 | 16037.4 | 3.631658 |\n\n",
            "text/latex": "A tibble: 2 × 21\n\\begin{tabular}{lllllllllllllllllllll}\n semester & PRECIPITAÇÃO TOTAL, HORÁRIO (mm)\\_sum & PRECIPITAÇÃO TOTAL, HORÁRIO (mm)\\_mean & PRESSAO ATMOSFERICA AO NIVEL DA ESTACAO, HORARIA (mB)\\_sum & PRESSAO ATMOSFERICA AO NIVEL DA ESTACAO, HORARIA (mB)\\_mean & PRESSÃO ATMOSFERICA MAX.NA HORA ANT. (AUT) (mB)\\_sum & PRESSÃO ATMOSFERICA MAX.NA HORA ANT. (AUT) (mB)\\_mean & PRESSÃO ATMOSFERICA MIN. NA HORA ANT. (AUT) (mB)\\_sum & PRESSÃO ATMOSFERICA MIN. NA HORA ANT. (AUT) (mB)\\_mean & TEMPERATURA DO AR - BULBO SECO, HORARIA (°C)\\_sum & ⋯ & TEMPERATURA MÁXIMA NA HORA ANT. (AUT) (°C)\\_sum & TEMPERATURA MÁXIMA NA HORA ANT. (AUT) (°C)\\_mean & TEMPERATURA MÍNIMA NA HORA ANT. (AUT) (°C)\\_sum & TEMPERATURA MÍNIMA NA HORA ANT. (AUT) (°C)\\_mean & VENTO, DIREÇÃO HORARIA (gr) (° (gr))\\_sum & VENTO, DIREÇÃO HORARIA (gr) (° (gr))\\_mean & VENTO, RAJADA MAXIMA (m/s)\\_sum & VENTO, RAJADA MAXIMA (m/s)\\_mean & VENTO, VELOCIDADE HORARIA (m/s)\\_sum & VENTO, VELOCIDADE HORARIA (m/s)\\_mean\\\\\n <date> & <dbl> & <dbl> & <dbl> & <dbl> & <dbl> & <dbl> & <dbl> & <dbl> & <dbl> & ⋯ & <dbl> & <dbl> & <dbl> & <dbl> & <int> & <dbl> & <dbl> & <dbl> & <dbl> & <dbl>\\\\\n\\hline\n\t 2022-01-01 & 682.6 & 0.1572449 & 4396819 & 1012.859 & 4397834 & 1013.092 & 4395788 & 1012.621 & 104787.3 & ⋯ & 107291.4 & 24.71583 & 102431.0 & 23.59618 & 626108 & 144.2313 & 26201.1 & 6.035729 & 14969.5 & 3.448399\\\\\n\t 2022-07-01 & 617.0 & 0.1397192 & 4481154 & 1014.754 & 4482292 & 1015.012 & 4480008 & 1014.494 &  98164.3 & ⋯ & 100710.6 & 22.80584 &  95770.8 & 21.68723 & 637078 & 144.2659 & 28352.9 & 6.420494 & 16037.4 & 3.631658\\\\\n\\end{tabular}\n",
            "text/plain": [
              "  semester   PRECIPITAÇÃO TOTAL, HORÁRIO (mm)_sum\n",
              "1 2022-01-01 682.6                               \n",
              "2 2022-07-01 617.0                               \n",
              "  PRECIPITAÇÃO TOTAL, HORÁRIO (mm)_mean\n",
              "1 0.1572449                            \n",
              "2 0.1397192                            \n",
              "  PRESSAO ATMOSFERICA AO NIVEL DA ESTACAO, HORARIA (mB)_sum\n",
              "1 4396819                                                  \n",
              "2 4481154                                                  \n",
              "  PRESSAO ATMOSFERICA AO NIVEL DA ESTACAO, HORARIA (mB)_mean\n",
              "1 1012.859                                                  \n",
              "2 1014.754                                                  \n",
              "  PRESSÃO ATMOSFERICA MAX.NA HORA ANT. (AUT) (mB)_sum\n",
              "1 4397834                                            \n",
              "2 4482292                                            \n",
              "  PRESSÃO ATMOSFERICA MAX.NA HORA ANT. (AUT) (mB)_mean\n",
              "1 1013.092                                            \n",
              "2 1015.012                                            \n",
              "  PRESSÃO ATMOSFERICA MIN. NA HORA ANT. (AUT) (mB)_sum\n",
              "1 4395788                                             \n",
              "2 4480008                                             \n",
              "  PRESSÃO ATMOSFERICA MIN. NA HORA ANT. (AUT) (mB)_mean\n",
              "1 1012.621                                             \n",
              "2 1014.494                                             \n",
              "  TEMPERATURA DO AR - BULBO SECO, HORARIA (°C)_sum ⋯\n",
              "1 104787.3                                         ⋯\n",
              "2  98164.3                                         ⋯\n",
              "  TEMPERATURA MÁXIMA NA HORA ANT. (AUT) (°C)_sum\n",
              "1 107291.4                                      \n",
              "2 100710.6                                      \n",
              "  TEMPERATURA MÁXIMA NA HORA ANT. (AUT) (°C)_mean\n",
              "1 24.71583                                       \n",
              "2 22.80584                                       \n",
              "  TEMPERATURA MÍNIMA NA HORA ANT. (AUT) (°C)_sum\n",
              "1 102431.0                                      \n",
              "2  95770.8                                      \n",
              "  TEMPERATURA MÍNIMA NA HORA ANT. (AUT) (°C)_mean\n",
              "1 23.59618                                       \n",
              "2 21.68723                                       \n",
              "  VENTO, DIREÇÃO HORARIA (gr) (° (gr))_sum\n",
              "1 626108                                  \n",
              "2 637078                                  \n",
              "  VENTO, DIREÇÃO HORARIA (gr) (° (gr))_mean VENTO, RAJADA MAXIMA (m/s)_sum\n",
              "1 144.2313                                  26201.1                       \n",
              "2 144.2659                                  28352.9                       \n",
              "  VENTO, RAJADA MAXIMA (m/s)_mean VENTO, VELOCIDADE HORARIA (m/s)_sum\n",
              "1 6.035729                        14969.5                            \n",
              "2 6.420494                        16037.4                            \n",
              "  VENTO, VELOCIDADE HORARIA (m/s)_mean\n",
              "1 3.448399                            \n",
              "2 3.631658                            "
            ]
          },
          "metadata": {}
        }
      ]
    },
    {
      "cell_type": "code",
      "source": [
        "# Using groupby and summarise to calculate sum and mean\n",
        "result <- data2 %>%\n",
        "  mutate(semester = floor_date(data2[[\"Data\"]], \"6 months\")) %>%\n",
        "  group_by(semester) %>%\n",
        "  summarise(across(all_of(colnames(column_filter(data2))),\n",
        "                   list(sum = sum, mean = mean),\n",
        "                   .names = \"{.col}_{.fn}\"))\n",
        "\n",
        "head(result)"
      ],
      "metadata": {
        "colab": {
          "base_uri": "https://localhost:8080/",
          "height": 302
        },
        "id": "iyPWy1I3WD0V",
        "outputId": "4408e4e9-a594-4f52-c5c4-9f68b46443c9"
      },
      "execution_count": null,
      "outputs": [
        {
          "output_type": "display_data",
          "data": {
            "text/html": [
              "<table class=\"dataframe\">\n",
              "<caption>A tibble: 2 × 21</caption>\n",
              "<thead>\n",
              "\t<tr><th scope=col>semester</th><th scope=col>PRECIPITAÇÃO TOTAL, HORÁRIO (mm)_sum</th><th scope=col>PRECIPITAÇÃO TOTAL, HORÁRIO (mm)_mean</th><th scope=col>PRESSAO ATMOSFERICA AO NIVEL DA ESTACAO, HORARIA (mB)_sum</th><th scope=col>PRESSAO ATMOSFERICA AO NIVEL DA ESTACAO, HORARIA (mB)_mean</th><th scope=col>PRESSÃO ATMOSFERICA MAX.NA HORA ANT. (AUT) (mB)_sum</th><th scope=col>PRESSÃO ATMOSFERICA MAX.NA HORA ANT. (AUT) (mB)_mean</th><th scope=col>PRESSÃO ATMOSFERICA MIN. NA HORA ANT. (AUT) (mB)_sum</th><th scope=col>PRESSÃO ATMOSFERICA MIN. NA HORA ANT. (AUT) (mB)_mean</th><th scope=col>TEMPERATURA DO AR - BULBO SECO, HORARIA (°C)_sum</th><th scope=col>⋯</th><th scope=col>TEMPERATURA MÁXIMA NA HORA ANT. (AUT) (°C)_sum</th><th scope=col>TEMPERATURA MÁXIMA NA HORA ANT. (AUT) (°C)_mean</th><th scope=col>TEMPERATURA MÍNIMA NA HORA ANT. (AUT) (°C)_sum</th><th scope=col>TEMPERATURA MÍNIMA NA HORA ANT. (AUT) (°C)_mean</th><th scope=col>VENTO, DIREÇÃO HORARIA (gr) (° (gr))_sum</th><th scope=col>VENTO, DIREÇÃO HORARIA (gr) (° (gr))_mean</th><th scope=col>VENTO, RAJADA MAXIMA (m/s)_sum</th><th scope=col>VENTO, RAJADA MAXIMA (m/s)_mean</th><th scope=col>VENTO, VELOCIDADE HORARIA (m/s)_sum</th><th scope=col>VENTO, VELOCIDADE HORARIA (m/s)_mean</th></tr>\n",
              "\t<tr><th scope=col>&lt;date&gt;</th><th scope=col>&lt;dbl&gt;</th><th scope=col>&lt;dbl&gt;</th><th scope=col>&lt;dbl&gt;</th><th scope=col>&lt;dbl&gt;</th><th scope=col>&lt;dbl&gt;</th><th scope=col>&lt;dbl&gt;</th><th scope=col>&lt;dbl&gt;</th><th scope=col>&lt;dbl&gt;</th><th scope=col>&lt;dbl&gt;</th><th scope=col>⋯</th><th scope=col>&lt;dbl&gt;</th><th scope=col>&lt;dbl&gt;</th><th scope=col>&lt;dbl&gt;</th><th scope=col>&lt;dbl&gt;</th><th scope=col>&lt;int&gt;</th><th scope=col>&lt;dbl&gt;</th><th scope=col>&lt;dbl&gt;</th><th scope=col>&lt;dbl&gt;</th><th scope=col>&lt;dbl&gt;</th><th scope=col>&lt;dbl&gt;</th></tr>\n",
              "</thead>\n",
              "<tbody>\n",
              "\t<tr><td>2023-01-01</td><td>618.0</td><td>0.14920328</td><td>4198262</td><td>1013.583</td><td>4199241</td><td>1013.820</td><td>4197269</td><td>1013.344</td><td>100295.6</td><td>⋯</td><td>102661.8</td><td>24.78556</td><td>98125.7</td><td>23.69042</td><td>572836</td><td>138.2994</td><td>23304.7</td><td>5.626437</td><td>13267.3</td><td>3.203114</td></tr>\n",
              "\t<tr><td>2023-07-01</td><td>187.2</td><td>0.06647727</td><td>2854973</td><td>1013.840</td><td>2855724</td><td>1014.107</td><td>2854214</td><td>1013.570</td><td> 66812.4</td><td>⋯</td><td> 68589.3</td><td>24.35700</td><td>65126.6</td><td>23.12734</td><td>390874</td><td>138.8047</td><td>17792.9</td><td>6.318501</td><td> 9964.2</td><td>3.538423</td></tr>\n",
              "</tbody>\n",
              "</table>\n"
            ],
            "text/markdown": "\nA tibble: 2 × 21\n\n| semester &lt;date&gt; | PRECIPITAÇÃO TOTAL, HORÁRIO (mm)_sum &lt;dbl&gt; | PRECIPITAÇÃO TOTAL, HORÁRIO (mm)_mean &lt;dbl&gt; | PRESSAO ATMOSFERICA AO NIVEL DA ESTACAO, HORARIA (mB)_sum &lt;dbl&gt; | PRESSAO ATMOSFERICA AO NIVEL DA ESTACAO, HORARIA (mB)_mean &lt;dbl&gt; | PRESSÃO ATMOSFERICA MAX.NA HORA ANT. (AUT) (mB)_sum &lt;dbl&gt; | PRESSÃO ATMOSFERICA MAX.NA HORA ANT. (AUT) (mB)_mean &lt;dbl&gt; | PRESSÃO ATMOSFERICA MIN. NA HORA ANT. (AUT) (mB)_sum &lt;dbl&gt; | PRESSÃO ATMOSFERICA MIN. NA HORA ANT. (AUT) (mB)_mean &lt;dbl&gt; | TEMPERATURA DO AR - BULBO SECO, HORARIA (°C)_sum &lt;dbl&gt; | ⋯ ⋯ | TEMPERATURA MÁXIMA NA HORA ANT. (AUT) (°C)_sum &lt;dbl&gt; | TEMPERATURA MÁXIMA NA HORA ANT. (AUT) (°C)_mean &lt;dbl&gt; | TEMPERATURA MÍNIMA NA HORA ANT. (AUT) (°C)_sum &lt;dbl&gt; | TEMPERATURA MÍNIMA NA HORA ANT. (AUT) (°C)_mean &lt;dbl&gt; | VENTO, DIREÇÃO HORARIA (gr) (° (gr))_sum &lt;int&gt; | VENTO, DIREÇÃO HORARIA (gr) (° (gr))_mean &lt;dbl&gt; | VENTO, RAJADA MAXIMA (m/s)_sum &lt;dbl&gt; | VENTO, RAJADA MAXIMA (m/s)_mean &lt;dbl&gt; | VENTO, VELOCIDADE HORARIA (m/s)_sum &lt;dbl&gt; | VENTO, VELOCIDADE HORARIA (m/s)_mean &lt;dbl&gt; |\n|---|---|---|---|---|---|---|---|---|---|---|---|---|---|---|---|---|---|---|---|---|\n| 2023-01-01 | 618.0 | 0.14920328 | 4198262 | 1013.583 | 4199241 | 1013.820 | 4197269 | 1013.344 | 100295.6 | ⋯ | 102661.8 | 24.78556 | 98125.7 | 23.69042 | 572836 | 138.2994 | 23304.7 | 5.626437 | 13267.3 | 3.203114 |\n| 2023-07-01 | 187.2 | 0.06647727 | 2854973 | 1013.840 | 2855724 | 1014.107 | 2854214 | 1013.570 |  66812.4 | ⋯ |  68589.3 | 24.35700 | 65126.6 | 23.12734 | 390874 | 138.8047 | 17792.9 | 6.318501 |  9964.2 | 3.538423 |\n\n",
            "text/latex": "A tibble: 2 × 21\n\\begin{tabular}{lllllllllllllllllllll}\n semester & PRECIPITAÇÃO TOTAL, HORÁRIO (mm)\\_sum & PRECIPITAÇÃO TOTAL, HORÁRIO (mm)\\_mean & PRESSAO ATMOSFERICA AO NIVEL DA ESTACAO, HORARIA (mB)\\_sum & PRESSAO ATMOSFERICA AO NIVEL DA ESTACAO, HORARIA (mB)\\_mean & PRESSÃO ATMOSFERICA MAX.NA HORA ANT. (AUT) (mB)\\_sum & PRESSÃO ATMOSFERICA MAX.NA HORA ANT. (AUT) (mB)\\_mean & PRESSÃO ATMOSFERICA MIN. NA HORA ANT. (AUT) (mB)\\_sum & PRESSÃO ATMOSFERICA MIN. NA HORA ANT. (AUT) (mB)\\_mean & TEMPERATURA DO AR - BULBO SECO, HORARIA (°C)\\_sum & ⋯ & TEMPERATURA MÁXIMA NA HORA ANT. (AUT) (°C)\\_sum & TEMPERATURA MÁXIMA NA HORA ANT. (AUT) (°C)\\_mean & TEMPERATURA MÍNIMA NA HORA ANT. (AUT) (°C)\\_sum & TEMPERATURA MÍNIMA NA HORA ANT. (AUT) (°C)\\_mean & VENTO, DIREÇÃO HORARIA (gr) (° (gr))\\_sum & VENTO, DIREÇÃO HORARIA (gr) (° (gr))\\_mean & VENTO, RAJADA MAXIMA (m/s)\\_sum & VENTO, RAJADA MAXIMA (m/s)\\_mean & VENTO, VELOCIDADE HORARIA (m/s)\\_sum & VENTO, VELOCIDADE HORARIA (m/s)\\_mean\\\\\n <date> & <dbl> & <dbl> & <dbl> & <dbl> & <dbl> & <dbl> & <dbl> & <dbl> & <dbl> & ⋯ & <dbl> & <dbl> & <dbl> & <dbl> & <int> & <dbl> & <dbl> & <dbl> & <dbl> & <dbl>\\\\\n\\hline\n\t 2023-01-01 & 618.0 & 0.14920328 & 4198262 & 1013.583 & 4199241 & 1013.820 & 4197269 & 1013.344 & 100295.6 & ⋯ & 102661.8 & 24.78556 & 98125.7 & 23.69042 & 572836 & 138.2994 & 23304.7 & 5.626437 & 13267.3 & 3.203114\\\\\n\t 2023-07-01 & 187.2 & 0.06647727 & 2854973 & 1013.840 & 2855724 & 1014.107 & 2854214 & 1013.570 &  66812.4 & ⋯ &  68589.3 & 24.35700 & 65126.6 & 23.12734 & 390874 & 138.8047 & 17792.9 & 6.318501 &  9964.2 & 3.538423\\\\\n\\end{tabular}\n",
            "text/plain": [
              "  semester   PRECIPITAÇÃO TOTAL, HORÁRIO (mm)_sum\n",
              "1 2023-01-01 618.0                               \n",
              "2 2023-07-01 187.2                               \n",
              "  PRECIPITAÇÃO TOTAL, HORÁRIO (mm)_mean\n",
              "1 0.14920328                           \n",
              "2 0.06647727                           \n",
              "  PRESSAO ATMOSFERICA AO NIVEL DA ESTACAO, HORARIA (mB)_sum\n",
              "1 4198262                                                  \n",
              "2 2854973                                                  \n",
              "  PRESSAO ATMOSFERICA AO NIVEL DA ESTACAO, HORARIA (mB)_mean\n",
              "1 1013.583                                                  \n",
              "2 1013.840                                                  \n",
              "  PRESSÃO ATMOSFERICA MAX.NA HORA ANT. (AUT) (mB)_sum\n",
              "1 4199241                                            \n",
              "2 2855724                                            \n",
              "  PRESSÃO ATMOSFERICA MAX.NA HORA ANT. (AUT) (mB)_mean\n",
              "1 1013.820                                            \n",
              "2 1014.107                                            \n",
              "  PRESSÃO ATMOSFERICA MIN. NA HORA ANT. (AUT) (mB)_sum\n",
              "1 4197269                                             \n",
              "2 2854214                                             \n",
              "  PRESSÃO ATMOSFERICA MIN. NA HORA ANT. (AUT) (mB)_mean\n",
              "1 1013.344                                             \n",
              "2 1013.570                                             \n",
              "  TEMPERATURA DO AR - BULBO SECO, HORARIA (°C)_sum ⋯\n",
              "1 100295.6                                         ⋯\n",
              "2  66812.4                                         ⋯\n",
              "  TEMPERATURA MÁXIMA NA HORA ANT. (AUT) (°C)_sum\n",
              "1 102661.8                                      \n",
              "2  68589.3                                      \n",
              "  TEMPERATURA MÁXIMA NA HORA ANT. (AUT) (°C)_mean\n",
              "1 24.78556                                       \n",
              "2 24.35700                                       \n",
              "  TEMPERATURA MÍNIMA NA HORA ANT. (AUT) (°C)_sum\n",
              "1 98125.7                                       \n",
              "2 65126.6                                       \n",
              "  TEMPERATURA MÍNIMA NA HORA ANT. (AUT) (°C)_mean\n",
              "1 23.69042                                       \n",
              "2 23.12734                                       \n",
              "  VENTO, DIREÇÃO HORARIA (gr) (° (gr))_sum\n",
              "1 572836                                  \n",
              "2 390874                                  \n",
              "  VENTO, DIREÇÃO HORARIA (gr) (° (gr))_mean VENTO, RAJADA MAXIMA (m/s)_sum\n",
              "1 138.2994                                  23304.7                       \n",
              "2 138.8047                                  17792.9                       \n",
              "  VENTO, RAJADA MAXIMA (m/s)_mean VENTO, VELOCIDADE HORARIA (m/s)_sum\n",
              "1 5.626437                        13267.3                            \n",
              "2 6.318501                         9964.2                            \n",
              "  VENTO, VELOCIDADE HORARIA (m/s)_mean\n",
              "1 3.203114                            \n",
              "2 3.538423                            "
            ]
          },
          "metadata": {}
        }
      ]
    },
    {
      "cell_type": "markdown",
      "source": [
        "## Groupby Year"
      ],
      "metadata": {
        "id": "Na9nt9OEWHGq"
      }
    },
    {
      "cell_type": "code",
      "source": [
        "# Using groupby and summarise to calculate sum and mean\n",
        "result <- data1 %>%\n",
        "  mutate(year = floor_date(data1[[\"Data\"]], \"12 months\")) %>%\n",
        "  group_by(year) %>%\n",
        "  summarise(across(all_of(colnames(column_filter(data1))),\n",
        "                   list(sum = sum, mean = mean),\n",
        "                   .names = \"{.col}_{.fn}\"))\n",
        "\n",
        "head(result)"
      ],
      "metadata": {
        "colab": {
          "base_uri": "https://localhost:8080/",
          "height": 254
        },
        "id": "UWac6Ut4WKEk",
        "outputId": "db846307-74ed-4609-97da-d7aa9181e170"
      },
      "execution_count": null,
      "outputs": [
        {
          "output_type": "display_data",
          "data": {
            "text/html": [
              "<table class=\"dataframe\">\n",
              "<caption>A tibble: 1 × 21</caption>\n",
              "<thead>\n",
              "\t<tr><th scope=col>year</th><th scope=col>PRECIPITAÇÃO TOTAL, HORÁRIO (mm)_sum</th><th scope=col>PRECIPITAÇÃO TOTAL, HORÁRIO (mm)_mean</th><th scope=col>PRESSAO ATMOSFERICA AO NIVEL DA ESTACAO, HORARIA (mB)_sum</th><th scope=col>PRESSAO ATMOSFERICA AO NIVEL DA ESTACAO, HORARIA (mB)_mean</th><th scope=col>PRESSÃO ATMOSFERICA MAX.NA HORA ANT. (AUT) (mB)_sum</th><th scope=col>PRESSÃO ATMOSFERICA MAX.NA HORA ANT. (AUT) (mB)_mean</th><th scope=col>PRESSÃO ATMOSFERICA MIN. NA HORA ANT. (AUT) (mB)_sum</th><th scope=col>PRESSÃO ATMOSFERICA MIN. NA HORA ANT. (AUT) (mB)_mean</th><th scope=col>TEMPERATURA DO AR - BULBO SECO, HORARIA (°C)_sum</th><th scope=col>⋯</th><th scope=col>TEMPERATURA MÁXIMA NA HORA ANT. (AUT) (°C)_sum</th><th scope=col>TEMPERATURA MÁXIMA NA HORA ANT. (AUT) (°C)_mean</th><th scope=col>TEMPERATURA MÍNIMA NA HORA ANT. (AUT) (°C)_sum</th><th scope=col>TEMPERATURA MÍNIMA NA HORA ANT. (AUT) (°C)_mean</th><th scope=col>VENTO, DIREÇÃO HORARIA (gr) (° (gr))_sum</th><th scope=col>VENTO, DIREÇÃO HORARIA (gr) (° (gr))_mean</th><th scope=col>VENTO, RAJADA MAXIMA (m/s)_sum</th><th scope=col>VENTO, RAJADA MAXIMA (m/s)_mean</th><th scope=col>VENTO, VELOCIDADE HORARIA (m/s)_sum</th><th scope=col>VENTO, VELOCIDADE HORARIA (m/s)_mean</th></tr>\n",
              "\t<tr><th scope=col>&lt;date&gt;</th><th scope=col>&lt;dbl&gt;</th><th scope=col>&lt;dbl&gt;</th><th scope=col>&lt;dbl&gt;</th><th scope=col>&lt;dbl&gt;</th><th scope=col>&lt;dbl&gt;</th><th scope=col>&lt;dbl&gt;</th><th scope=col>&lt;dbl&gt;</th><th scope=col>&lt;dbl&gt;</th><th scope=col>&lt;dbl&gt;</th><th scope=col>⋯</th><th scope=col>&lt;dbl&gt;</th><th scope=col>&lt;dbl&gt;</th><th scope=col>&lt;dbl&gt;</th><th scope=col>&lt;dbl&gt;</th><th scope=col>&lt;int&gt;</th><th scope=col>&lt;dbl&gt;</th><th scope=col>&lt;dbl&gt;</th><th scope=col>&lt;dbl&gt;</th><th scope=col>&lt;dbl&gt;</th><th scope=col>&lt;dbl&gt;</th></tr>\n",
              "</thead>\n",
              "<tbody>\n",
              "\t<tr><td>2022-01-01</td><td>1299.6</td><td>0.148407</td><td>8877973</td><td>1013.814</td><td>8880127</td><td>1014.06</td><td>8875796</td><td>1013.566</td><td>202951.6</td><td>⋯</td><td>208002</td><td>23.75266</td><td>198201.8</td><td>22.63353</td><td>1263186</td><td>144.2487</td><td>54554</td><td>6.229759</td><td>31006.9</td><td>3.540813</td></tr>\n",
              "</tbody>\n",
              "</table>\n"
            ],
            "text/markdown": "\nA tibble: 1 × 21\n\n| year &lt;date&gt; | PRECIPITAÇÃO TOTAL, HORÁRIO (mm)_sum &lt;dbl&gt; | PRECIPITAÇÃO TOTAL, HORÁRIO (mm)_mean &lt;dbl&gt; | PRESSAO ATMOSFERICA AO NIVEL DA ESTACAO, HORARIA (mB)_sum &lt;dbl&gt; | PRESSAO ATMOSFERICA AO NIVEL DA ESTACAO, HORARIA (mB)_mean &lt;dbl&gt; | PRESSÃO ATMOSFERICA MAX.NA HORA ANT. (AUT) (mB)_sum &lt;dbl&gt; | PRESSÃO ATMOSFERICA MAX.NA HORA ANT. (AUT) (mB)_mean &lt;dbl&gt; | PRESSÃO ATMOSFERICA MIN. NA HORA ANT. (AUT) (mB)_sum &lt;dbl&gt; | PRESSÃO ATMOSFERICA MIN. NA HORA ANT. (AUT) (mB)_mean &lt;dbl&gt; | TEMPERATURA DO AR - BULBO SECO, HORARIA (°C)_sum &lt;dbl&gt; | ⋯ ⋯ | TEMPERATURA MÁXIMA NA HORA ANT. (AUT) (°C)_sum &lt;dbl&gt; | TEMPERATURA MÁXIMA NA HORA ANT. (AUT) (°C)_mean &lt;dbl&gt; | TEMPERATURA MÍNIMA NA HORA ANT. (AUT) (°C)_sum &lt;dbl&gt; | TEMPERATURA MÍNIMA NA HORA ANT. (AUT) (°C)_mean &lt;dbl&gt; | VENTO, DIREÇÃO HORARIA (gr) (° (gr))_sum &lt;int&gt; | VENTO, DIREÇÃO HORARIA (gr) (° (gr))_mean &lt;dbl&gt; | VENTO, RAJADA MAXIMA (m/s)_sum &lt;dbl&gt; | VENTO, RAJADA MAXIMA (m/s)_mean &lt;dbl&gt; | VENTO, VELOCIDADE HORARIA (m/s)_sum &lt;dbl&gt; | VENTO, VELOCIDADE HORARIA (m/s)_mean &lt;dbl&gt; |\n|---|---|---|---|---|---|---|---|---|---|---|---|---|---|---|---|---|---|---|---|---|\n| 2022-01-01 | 1299.6 | 0.148407 | 8877973 | 1013.814 | 8880127 | 1014.06 | 8875796 | 1013.566 | 202951.6 | ⋯ | 208002 | 23.75266 | 198201.8 | 22.63353 | 1263186 | 144.2487 | 54554 | 6.229759 | 31006.9 | 3.540813 |\n\n",
            "text/latex": "A tibble: 1 × 21\n\\begin{tabular}{lllllllllllllllllllll}\n year & PRECIPITAÇÃO TOTAL, HORÁRIO (mm)\\_sum & PRECIPITAÇÃO TOTAL, HORÁRIO (mm)\\_mean & PRESSAO ATMOSFERICA AO NIVEL DA ESTACAO, HORARIA (mB)\\_sum & PRESSAO ATMOSFERICA AO NIVEL DA ESTACAO, HORARIA (mB)\\_mean & PRESSÃO ATMOSFERICA MAX.NA HORA ANT. (AUT) (mB)\\_sum & PRESSÃO ATMOSFERICA MAX.NA HORA ANT. (AUT) (mB)\\_mean & PRESSÃO ATMOSFERICA MIN. NA HORA ANT. (AUT) (mB)\\_sum & PRESSÃO ATMOSFERICA MIN. NA HORA ANT. (AUT) (mB)\\_mean & TEMPERATURA DO AR - BULBO SECO, HORARIA (°C)\\_sum & ⋯ & TEMPERATURA MÁXIMA NA HORA ANT. (AUT) (°C)\\_sum & TEMPERATURA MÁXIMA NA HORA ANT. (AUT) (°C)\\_mean & TEMPERATURA MÍNIMA NA HORA ANT. (AUT) (°C)\\_sum & TEMPERATURA MÍNIMA NA HORA ANT. (AUT) (°C)\\_mean & VENTO, DIREÇÃO HORARIA (gr) (° (gr))\\_sum & VENTO, DIREÇÃO HORARIA (gr) (° (gr))\\_mean & VENTO, RAJADA MAXIMA (m/s)\\_sum & VENTO, RAJADA MAXIMA (m/s)\\_mean & VENTO, VELOCIDADE HORARIA (m/s)\\_sum & VENTO, VELOCIDADE HORARIA (m/s)\\_mean\\\\\n <date> & <dbl> & <dbl> & <dbl> & <dbl> & <dbl> & <dbl> & <dbl> & <dbl> & <dbl> & ⋯ & <dbl> & <dbl> & <dbl> & <dbl> & <int> & <dbl> & <dbl> & <dbl> & <dbl> & <dbl>\\\\\n\\hline\n\t 2022-01-01 & 1299.6 & 0.148407 & 8877973 & 1013.814 & 8880127 & 1014.06 & 8875796 & 1013.566 & 202951.6 & ⋯ & 208002 & 23.75266 & 198201.8 & 22.63353 & 1263186 & 144.2487 & 54554 & 6.229759 & 31006.9 & 3.540813\\\\\n\\end{tabular}\n",
            "text/plain": [
              "  year       PRECIPITAÇÃO TOTAL, HORÁRIO (mm)_sum\n",
              "1 2022-01-01 1299.6                              \n",
              "  PRECIPITAÇÃO TOTAL, HORÁRIO (mm)_mean\n",
              "1 0.148407                             \n",
              "  PRESSAO ATMOSFERICA AO NIVEL DA ESTACAO, HORARIA (mB)_sum\n",
              "1 8877973                                                  \n",
              "  PRESSAO ATMOSFERICA AO NIVEL DA ESTACAO, HORARIA (mB)_mean\n",
              "1 1013.814                                                  \n",
              "  PRESSÃO ATMOSFERICA MAX.NA HORA ANT. (AUT) (mB)_sum\n",
              "1 8880127                                            \n",
              "  PRESSÃO ATMOSFERICA MAX.NA HORA ANT. (AUT) (mB)_mean\n",
              "1 1014.06                                             \n",
              "  PRESSÃO ATMOSFERICA MIN. NA HORA ANT. (AUT) (mB)_sum\n",
              "1 8875796                                             \n",
              "  PRESSÃO ATMOSFERICA MIN. NA HORA ANT. (AUT) (mB)_mean\n",
              "1 1013.566                                             \n",
              "  TEMPERATURA DO AR - BULBO SECO, HORARIA (°C)_sum ⋯\n",
              "1 202951.6                                         ⋯\n",
              "  TEMPERATURA MÁXIMA NA HORA ANT. (AUT) (°C)_sum\n",
              "1 208002                                        \n",
              "  TEMPERATURA MÁXIMA NA HORA ANT. (AUT) (°C)_mean\n",
              "1 23.75266                                       \n",
              "  TEMPERATURA MÍNIMA NA HORA ANT. (AUT) (°C)_sum\n",
              "1 198201.8                                      \n",
              "  TEMPERATURA MÍNIMA NA HORA ANT. (AUT) (°C)_mean\n",
              "1 22.63353                                       \n",
              "  VENTO, DIREÇÃO HORARIA (gr) (° (gr))_sum\n",
              "1 1263186                                 \n",
              "  VENTO, DIREÇÃO HORARIA (gr) (° (gr))_mean VENTO, RAJADA MAXIMA (m/s)_sum\n",
              "1 144.2487                                  54554                         \n",
              "  VENTO, RAJADA MAXIMA (m/s)_mean VENTO, VELOCIDADE HORARIA (m/s)_sum\n",
              "1 6.229759                        31006.9                            \n",
              "  VENTO, VELOCIDADE HORARIA (m/s)_mean\n",
              "1 3.540813                            "
            ]
          },
          "metadata": {}
        }
      ]
    },
    {
      "cell_type": "code",
      "source": [
        "# Using groupby and summarise to calculate sum and mean\n",
        "result <- data2 %>%\n",
        "  mutate(year = floor_date(data2[[\"Data\"]], \"12 months\")) %>%\n",
        "  group_by(year) %>%\n",
        "  summarise(across(all_of(colnames(column_filter(data2))),\n",
        "                   list(sum = sum, mean = mean),\n",
        "                   .names = \"{.col}_{.fn}\"))\n",
        "\n",
        "head(result)"
      ],
      "metadata": {
        "colab": {
          "base_uri": "https://localhost:8080/",
          "height": 254
        },
        "id": "aOA80k2wWORw",
        "outputId": "2e76c954-aa79-4433-d3b5-5fcdd6ff71ad"
      },
      "execution_count": null,
      "outputs": [
        {
          "output_type": "display_data",
          "data": {
            "text/html": [
              "<table class=\"dataframe\">\n",
              "<caption>A tibble: 1 × 21</caption>\n",
              "<thead>\n",
              "\t<tr><th scope=col>year</th><th scope=col>PRECIPITAÇÃO TOTAL, HORÁRIO (mm)_sum</th><th scope=col>PRECIPITAÇÃO TOTAL, HORÁRIO (mm)_mean</th><th scope=col>PRESSAO ATMOSFERICA AO NIVEL DA ESTACAO, HORARIA (mB)_sum</th><th scope=col>PRESSAO ATMOSFERICA AO NIVEL DA ESTACAO, HORARIA (mB)_mean</th><th scope=col>PRESSÃO ATMOSFERICA MAX.NA HORA ANT. (AUT) (mB)_sum</th><th scope=col>PRESSÃO ATMOSFERICA MAX.NA HORA ANT. (AUT) (mB)_mean</th><th scope=col>PRESSÃO ATMOSFERICA MIN. NA HORA ANT. (AUT) (mB)_sum</th><th scope=col>PRESSÃO ATMOSFERICA MIN. NA HORA ANT. (AUT) (mB)_mean</th><th scope=col>TEMPERATURA DO AR - BULBO SECO, HORARIA (°C)_sum</th><th scope=col>⋯</th><th scope=col>TEMPERATURA MÁXIMA NA HORA ANT. (AUT) (°C)_sum</th><th scope=col>TEMPERATURA MÁXIMA NA HORA ANT. (AUT) (°C)_mean</th><th scope=col>TEMPERATURA MÍNIMA NA HORA ANT. (AUT) (°C)_sum</th><th scope=col>TEMPERATURA MÍNIMA NA HORA ANT. (AUT) (°C)_mean</th><th scope=col>VENTO, DIREÇÃO HORARIA (gr) (° (gr))_sum</th><th scope=col>VENTO, DIREÇÃO HORARIA (gr) (° (gr))_mean</th><th scope=col>VENTO, RAJADA MAXIMA (m/s)_sum</th><th scope=col>VENTO, RAJADA MAXIMA (m/s)_mean</th><th scope=col>VENTO, VELOCIDADE HORARIA (m/s)_sum</th><th scope=col>VENTO, VELOCIDADE HORARIA (m/s)_mean</th></tr>\n",
              "\t<tr><th scope=col>&lt;date&gt;</th><th scope=col>&lt;dbl&gt;</th><th scope=col>&lt;dbl&gt;</th><th scope=col>&lt;dbl&gt;</th><th scope=col>&lt;dbl&gt;</th><th scope=col>&lt;dbl&gt;</th><th scope=col>&lt;dbl&gt;</th><th scope=col>&lt;dbl&gt;</th><th scope=col>&lt;dbl&gt;</th><th scope=col>&lt;dbl&gt;</th><th scope=col>⋯</th><th scope=col>&lt;dbl&gt;</th><th scope=col>&lt;dbl&gt;</th><th scope=col>&lt;dbl&gt;</th><th scope=col>&lt;dbl&gt;</th><th scope=col>&lt;int&gt;</th><th scope=col>&lt;dbl&gt;</th><th scope=col>&lt;dbl&gt;</th><th scope=col>&lt;dbl&gt;</th><th scope=col>&lt;dbl&gt;</th><th scope=col>&lt;dbl&gt;</th></tr>\n",
              "</thead>\n",
              "<tbody>\n",
              "\t<tr><td>2023-01-01</td><td>805.2</td><td>0.1157229</td><td>7053235</td><td>1013.687</td><td>7054966</td><td>1013.936</td><td>7051483</td><td>1013.435</td><td>167108</td><td>⋯</td><td>171251.1</td><td>24.61212</td><td>163252.3</td><td>23.46253</td><td>963710</td><td>138.5039</td><td>41097.6</td><td>5.906525</td><td>23231.5</td><td>3.338819</td></tr>\n",
              "</tbody>\n",
              "</table>\n"
            ],
            "text/markdown": "\nA tibble: 1 × 21\n\n| year &lt;date&gt; | PRECIPITAÇÃO TOTAL, HORÁRIO (mm)_sum &lt;dbl&gt; | PRECIPITAÇÃO TOTAL, HORÁRIO (mm)_mean &lt;dbl&gt; | PRESSAO ATMOSFERICA AO NIVEL DA ESTACAO, HORARIA (mB)_sum &lt;dbl&gt; | PRESSAO ATMOSFERICA AO NIVEL DA ESTACAO, HORARIA (mB)_mean &lt;dbl&gt; | PRESSÃO ATMOSFERICA MAX.NA HORA ANT. (AUT) (mB)_sum &lt;dbl&gt; | PRESSÃO ATMOSFERICA MAX.NA HORA ANT. (AUT) (mB)_mean &lt;dbl&gt; | PRESSÃO ATMOSFERICA MIN. NA HORA ANT. (AUT) (mB)_sum &lt;dbl&gt; | PRESSÃO ATMOSFERICA MIN. NA HORA ANT. (AUT) (mB)_mean &lt;dbl&gt; | TEMPERATURA DO AR - BULBO SECO, HORARIA (°C)_sum &lt;dbl&gt; | ⋯ ⋯ | TEMPERATURA MÁXIMA NA HORA ANT. (AUT) (°C)_sum &lt;dbl&gt; | TEMPERATURA MÁXIMA NA HORA ANT. (AUT) (°C)_mean &lt;dbl&gt; | TEMPERATURA MÍNIMA NA HORA ANT. (AUT) (°C)_sum &lt;dbl&gt; | TEMPERATURA MÍNIMA NA HORA ANT. (AUT) (°C)_mean &lt;dbl&gt; | VENTO, DIREÇÃO HORARIA (gr) (° (gr))_sum &lt;int&gt; | VENTO, DIREÇÃO HORARIA (gr) (° (gr))_mean &lt;dbl&gt; | VENTO, RAJADA MAXIMA (m/s)_sum &lt;dbl&gt; | VENTO, RAJADA MAXIMA (m/s)_mean &lt;dbl&gt; | VENTO, VELOCIDADE HORARIA (m/s)_sum &lt;dbl&gt; | VENTO, VELOCIDADE HORARIA (m/s)_mean &lt;dbl&gt; |\n|---|---|---|---|---|---|---|---|---|---|---|---|---|---|---|---|---|---|---|---|---|\n| 2023-01-01 | 805.2 | 0.1157229 | 7053235 | 1013.687 | 7054966 | 1013.936 | 7051483 | 1013.435 | 167108 | ⋯ | 171251.1 | 24.61212 | 163252.3 | 23.46253 | 963710 | 138.5039 | 41097.6 | 5.906525 | 23231.5 | 3.338819 |\n\n",
            "text/latex": "A tibble: 1 × 21\n\\begin{tabular}{lllllllllllllllllllll}\n year & PRECIPITAÇÃO TOTAL, HORÁRIO (mm)\\_sum & PRECIPITAÇÃO TOTAL, HORÁRIO (mm)\\_mean & PRESSAO ATMOSFERICA AO NIVEL DA ESTACAO, HORARIA (mB)\\_sum & PRESSAO ATMOSFERICA AO NIVEL DA ESTACAO, HORARIA (mB)\\_mean & PRESSÃO ATMOSFERICA MAX.NA HORA ANT. (AUT) (mB)\\_sum & PRESSÃO ATMOSFERICA MAX.NA HORA ANT. (AUT) (mB)\\_mean & PRESSÃO ATMOSFERICA MIN. NA HORA ANT. (AUT) (mB)\\_sum & PRESSÃO ATMOSFERICA MIN. NA HORA ANT. (AUT) (mB)\\_mean & TEMPERATURA DO AR - BULBO SECO, HORARIA (°C)\\_sum & ⋯ & TEMPERATURA MÁXIMA NA HORA ANT. (AUT) (°C)\\_sum & TEMPERATURA MÁXIMA NA HORA ANT. (AUT) (°C)\\_mean & TEMPERATURA MÍNIMA NA HORA ANT. (AUT) (°C)\\_sum & TEMPERATURA MÍNIMA NA HORA ANT. (AUT) (°C)\\_mean & VENTO, DIREÇÃO HORARIA (gr) (° (gr))\\_sum & VENTO, DIREÇÃO HORARIA (gr) (° (gr))\\_mean & VENTO, RAJADA MAXIMA (m/s)\\_sum & VENTO, RAJADA MAXIMA (m/s)\\_mean & VENTO, VELOCIDADE HORARIA (m/s)\\_sum & VENTO, VELOCIDADE HORARIA (m/s)\\_mean\\\\\n <date> & <dbl> & <dbl> & <dbl> & <dbl> & <dbl> & <dbl> & <dbl> & <dbl> & <dbl> & ⋯ & <dbl> & <dbl> & <dbl> & <dbl> & <int> & <dbl> & <dbl> & <dbl> & <dbl> & <dbl>\\\\\n\\hline\n\t 2023-01-01 & 805.2 & 0.1157229 & 7053235 & 1013.687 & 7054966 & 1013.936 & 7051483 & 1013.435 & 167108 & ⋯ & 171251.1 & 24.61212 & 163252.3 & 23.46253 & 963710 & 138.5039 & 41097.6 & 5.906525 & 23231.5 & 3.338819\\\\\n\\end{tabular}\n",
            "text/plain": [
              "  year       PRECIPITAÇÃO TOTAL, HORÁRIO (mm)_sum\n",
              "1 2023-01-01 805.2                               \n",
              "  PRECIPITAÇÃO TOTAL, HORÁRIO (mm)_mean\n",
              "1 0.1157229                            \n",
              "  PRESSAO ATMOSFERICA AO NIVEL DA ESTACAO, HORARIA (mB)_sum\n",
              "1 7053235                                                  \n",
              "  PRESSAO ATMOSFERICA AO NIVEL DA ESTACAO, HORARIA (mB)_mean\n",
              "1 1013.687                                                  \n",
              "  PRESSÃO ATMOSFERICA MAX.NA HORA ANT. (AUT) (mB)_sum\n",
              "1 7054966                                            \n",
              "  PRESSÃO ATMOSFERICA MAX.NA HORA ANT. (AUT) (mB)_mean\n",
              "1 1013.936                                            \n",
              "  PRESSÃO ATMOSFERICA MIN. NA HORA ANT. (AUT) (mB)_sum\n",
              "1 7051483                                             \n",
              "  PRESSÃO ATMOSFERICA MIN. NA HORA ANT. (AUT) (mB)_mean\n",
              "1 1013.435                                             \n",
              "  TEMPERATURA DO AR - BULBO SECO, HORARIA (°C)_sum ⋯\n",
              "1 167108                                           ⋯\n",
              "  TEMPERATURA MÁXIMA NA HORA ANT. (AUT) (°C)_sum\n",
              "1 171251.1                                      \n",
              "  TEMPERATURA MÁXIMA NA HORA ANT. (AUT) (°C)_mean\n",
              "1 24.61212                                       \n",
              "  TEMPERATURA MÍNIMA NA HORA ANT. (AUT) (°C)_sum\n",
              "1 163252.3                                      \n",
              "  TEMPERATURA MÍNIMA NA HORA ANT. (AUT) (°C)_mean\n",
              "1 23.46253                                       \n",
              "  VENTO, DIREÇÃO HORARIA (gr) (° (gr))_sum\n",
              "1 963710                                  \n",
              "  VENTO, DIREÇÃO HORARIA (gr) (° (gr))_mean VENTO, RAJADA MAXIMA (m/s)_sum\n",
              "1 138.5039                                  41097.6                       \n",
              "  VENTO, RAJADA MAXIMA (m/s)_mean VENTO, VELOCIDADE HORARIA (m/s)_sum\n",
              "1 5.906525                        23231.5                            \n",
              "  VENTO, VELOCIDADE HORARIA (m/s)_mean\n",
              "1 3.338819                            "
            ]
          },
          "metadata": {}
        }
      ]
    },
    {
      "cell_type": "markdown",
      "source": [
        "# Item 4"
      ],
      "metadata": {
        "id": "FSgNnpDYRLiP"
      }
    },
    {
      "cell_type": "markdown",
      "source": [
        "Observando os resultados da variação relativa calculada. Temos que as diferenças principais entre os dois anos são nas variáveis \"Precipitação Total, Horário\", \"Vento, Direção Horária\", \"Vento, Rajada Máxima\", e \"Vento, Velocidade Horária\", que tiveram diferença relativa de pelo menos 10% entre os dois anos. As demais variáveis tiveram uma variação relativa menor de que 10%."
      ],
      "metadata": {
        "id": "szrrwZ4ZSmPt"
      }
    },
    {
      "cell_type": "code",
      "source": [
        "# Function to calculate relative variation\n",
        "calculate_relative_variation <- function(stats1, stats2) {\n",
        "  relative_variation <- (stats1 - stats2) / stats2 * 100\n",
        "  return(relative_variation)\n",
        "}\n",
        "\n",
        "# Calculates statistics from both dataframes\n",
        "stats_data1 <- get_statistics(column_filter(data1))\n",
        "stats_data2 <- get_statistics(column_filter(data2))\n",
        "\n",
        "# Calculates relative variation\n",
        "relative_variation <- calculate_relative_variation(stats_data1, stats_data2)\n",
        "\n",
        "# Shows relative variation\n",
        "print(relative_variation)"
      ],
      "metadata": {
        "colab": {
          "base_uri": "https://localhost:8080/"
        },
        "id": "fiIj1MqmRNMi",
        "outputId": "2bf4a58d-a3ad-4b1a-ba72-32097366a86e"
      },
      "execution_count": null,
      "outputs": [
        {
          "output_type": "stream",
          "name": "stdout",
          "text": [
            "                                                             Mean       Median\n",
            "PRECIPITAÇÃO TOTAL, HORÁRIO (mm)                      28.24339634          NaN\n",
            "PRESSAO ATMOSFERICA AO NIVEL DA ESTACAO, HORARIA (mB)  0.01256262 -0.009866798\n",
            "PRESSÃO ATMOSFERICA MAX.NA HORA ANT. (AUT) (mB)        0.01228448 -0.009864852\n",
            "PRESSÃO ATMOSFERICA MIN. NA HORA ANT. (AUT) (mB)       0.01287737 -0.009869720\n",
            "TEMPERATURA DO AR - BULBO SECO, HORARIA (°C)          -3.50066673 -2.941176471\n",
            "TEMPERATURA MÁXIMA NA HORA ANT. (AUT) (°C)            -3.49202217 -3.292181070\n",
            "TEMPERATURA MÍNIMA NA HORA ANT. (AUT) (°C)            -3.53331372 -2.991452991\n",
            "VENTO, DIREÇÃO HORARIA (gr) (° (gr))                   4.14777902  5.737704918\n",
            "VENTO, RAJADA MAXIMA (m/s)                             5.47249345  5.555555556\n",
            "VENTO, VELOCIDADE HORARIA (m/s)                        6.04987753  3.333333333\n",
            "                                                       Variance         Min\n",
            "PRECIPITAÇÃO TOTAL, HORÁRIO (mm)                      80.561871         NaN\n",
            "PRESSAO ATMOSFERICA AO NIVEL DA ESTACAO, HORARIA (mB) -2.220200   0.1702724\n",
            "PRESSÃO ATMOSFERICA MAX.NA HORA ANT. (AUT) (mB)       -1.673966   0.1100881\n",
            "PRESSÃO ATMOSFERICA MIN. NA HORA ANT. (AUT) (mB)      -2.775569   0.1502404\n",
            "TEMPERATURA DO AR - BULBO SECO, HORARIA (°C)           2.485597  -8.4615385\n",
            "TEMPERATURA MÁXIMA NA HORA ANT. (AUT) (°C)             1.684938  -6.0150376\n",
            "TEMPERATURA MÍNIMA NA HORA ANT. (AUT) (°C)             3.885679 -11.7187500\n",
            "VENTO, DIREÇÃO HORARIA (gr) (° (gr))                  -1.114302   0.0000000\n",
            "VENTO, RAJADA MAXIMA (m/s)                            23.969371  12.5000000\n",
            "VENTO, VELOCIDADE HORARIA (m/s)                       28.674995   0.0000000\n",
            "                                                              Max        Mode\n",
            "PRECIPITAÇÃO TOTAL, HORÁRIO (mm)                      127.1028037         NaN\n",
            "PRESSAO ATMOSFERICA AO NIVEL DA ESTACAO, HORARIA (mB)  -0.1455039 -0.05935892\n",
            "PRESSÃO ATMOSFERICA MAX.NA HORA ANT. (AUT) (mB)        -0.1357905  0.10876013\n",
            "PRESSÃO ATMOSFERICA MIN. NA HORA ANT. (AUT) (mB)       -0.1261401  0.40594059\n",
            "TEMPERATURA DO AR - BULBO SECO, HORARIA (°C)           -5.5555556  0.42372881\n",
            "TEMPERATURA MÁXIMA NA HORA ANT. (AUT) (°C)             -4.7732697  0.00000000\n",
            "TEMPERATURA MÍNIMA NA HORA ANT. (AUT) (°C)             -1.7948718  1.28755365\n",
            "VENTO, DIREÇÃO HORARIA (gr) (° (gr))                    0.0000000 22.22222222\n",
            "VENTO, RAJADA MAXIMA (m/s)                              5.4054054  0.00000000\n",
            "VENTO, VELOCIDADE HORARIA (m/s)                        11.1888112  0.00000000\n",
            "                                                           Range\n",
            "PRECIPITAÇÃO TOTAL, HORÁRIO (mm)                      127.102804\n",
            "PRESSAO ATMOSFERICA AO NIVEL DA ESTACAO, HORARIA (mB)  -9.846154\n",
            "PRESSÃO ATMOSFERICA MAX.NA HORA ANT. (AUT) (mB)        -7.861635\n",
            "PRESSÃO ATMOSFERICA MIN. NA HORA ANT. (AUT) (mB)       -8.695652\n",
            "TEMPERATURA DO AR - BULBO SECO, HORARIA (°C)           -4.225352\n",
            "TEMPERATURA MÁXIMA NA HORA ANT. (AUT) (°C)             -4.195804\n",
            "TEMPERATURA MÍNIMA NA HORA ANT. (AUT) (°C)              3.053435\n",
            "VENTO, DIREÇÃO HORARIA (gr) (° (gr))                    0.000000\n",
            "VENTO, RAJADA MAXIMA (m/s)                              5.140187\n",
            "VENTO, VELOCIDADE HORARIA (m/s)                        11.347518\n"
          ]
        }
      ]
    },
    {
      "cell_type": "markdown",
      "source": [
        "# Item 5"
      ],
      "metadata": {
        "id": "eebGKTstTUDG"
      }
    },
    {
      "cell_type": "code",
      "source": [
        "temperature_columns <- c(\"TEMPERATURA DO AR - BULBO SECO, HORARIA (°C)\",\n",
        "            \"TEMPERATURA MÁXIMA NA HORA ANT. (AUT) (°C)\",\n",
        "            \"TEMPERATURA MÍNIMA NA HORA ANT. (AUT) (°C)\")\n",
        "\n",
        "temperature_column_filter = function(data) {\n",
        "  return(data %>%\n",
        "  select(all_of(temperature_columns)))\n",
        "}"
      ],
      "metadata": {
        "id": "4dpSRV_eTVuo"
      },
      "execution_count": null,
      "outputs": []
    },
    {
      "cell_type": "markdown",
      "source": [
        "## Temperature Groupby Hour"
      ],
      "metadata": {
        "id": "gohlOEHhW7nP"
      }
    },
    {
      "cell_type": "code",
      "source": [
        "# Using groupby and summarise to calculate max, min and mean\n",
        "result <- data1 %>%\n",
        "  group_by(data1[[\"Hora UTC\"]]) %>%\n",
        "  summarise(across(all_of(colnames(temperature_column_filter(data1))),\n",
        "                   list(max = max, min = min, mean = mean),\n",
        "                   .names = \"{.col}_{.fn}\"))\n",
        "\n",
        "head(result)"
      ],
      "metadata": {
        "colab": {
          "base_uri": "https://localhost:8080/",
          "height": 356
        },
        "id": "-ZFWRaMQW-iF",
        "outputId": "096259a7-86c5-44fb-f50a-8488120505c1"
      },
      "execution_count": null,
      "outputs": [
        {
          "output_type": "display_data",
          "data": {
            "text/html": [
              "<table class=\"dataframe\">\n",
              "<caption>A tibble: 6 × 10</caption>\n",
              "<thead>\n",
              "\t<tr><th scope=col>data1[[\"Hora UTC\"]]</th><th scope=col>TEMPERATURA DO AR - BULBO SECO, HORARIA (°C)_max</th><th scope=col>TEMPERATURA DO AR - BULBO SECO, HORARIA (°C)_min</th><th scope=col>TEMPERATURA DO AR - BULBO SECO, HORARIA (°C)_mean</th><th scope=col>TEMPERATURA MÁXIMA NA HORA ANT. (AUT) (°C)_max</th><th scope=col>TEMPERATURA MÁXIMA NA HORA ANT. (AUT) (°C)_min</th><th scope=col>TEMPERATURA MÁXIMA NA HORA ANT. (AUT) (°C)_mean</th><th scope=col>TEMPERATURA MÍNIMA NA HORA ANT. (AUT) (°C)_max</th><th scope=col>TEMPERATURA MÍNIMA NA HORA ANT. (AUT) (°C)_min</th><th scope=col>TEMPERATURA MÍNIMA NA HORA ANT. (AUT) (°C)_mean</th></tr>\n",
              "\t<tr><th scope=col>&lt;chr&gt;</th><th scope=col>&lt;dbl&gt;</th><th scope=col>&lt;dbl&gt;</th><th scope=col>&lt;dbl&gt;</th><th scope=col>&lt;dbl&gt;</th><th scope=col>&lt;dbl&gt;</th><th scope=col>&lt;dbl&gt;</th><th scope=col>&lt;dbl&gt;</th><th scope=col>&lt;dbl&gt;</th><th scope=col>&lt;dbl&gt;</th></tr>\n",
              "</thead>\n",
              "<tbody>\n",
              "\t<tr><td>00:00</td><td>31.1</td><td>15.6</td><td>22.38904</td><td>31.4</td><td>16.2</td><td>23.06849</td><td>30.2</td><td>15.6</td><td>22.15014</td></tr>\n",
              "\t<tr><td>01:00</td><td>28.6</td><td>15.4</td><td>21.97945</td><td>31.4</td><td>15.6</td><td>22.62740</td><td>28.2</td><td>14.9</td><td>21.72438</td></tr>\n",
              "\t<tr><td>02:00</td><td>28.0</td><td>14.2</td><td>21.67288</td><td>28.6</td><td>15.5</td><td>22.25288</td><td>28.0</td><td>14.2</td><td>21.41205</td></tr>\n",
              "\t<tr><td>03:00</td><td>27.9</td><td>14.1</td><td>21.38438</td><td>28.1</td><td>14.5</td><td>21.92438</td><td>27.9</td><td>13.9</td><td>21.14137</td></tr>\n",
              "\t<tr><td>04:00</td><td>27.7</td><td>13.7</td><td>21.17452</td><td>28.0</td><td>14.1</td><td>21.66274</td><td>27.7</td><td>13.7</td><td>20.90904</td></tr>\n",
              "\t<tr><td>05:00</td><td>27.3</td><td>13.3</td><td>21.06849</td><td>27.7</td><td>14.4</td><td>21.47973</td><td>27.3</td><td>13.1</td><td>20.78164</td></tr>\n",
              "</tbody>\n",
              "</table>\n"
            ],
            "text/markdown": "\nA tibble: 6 × 10\n\n| data1[[\"Hora UTC\"]] &lt;chr&gt; | TEMPERATURA DO AR - BULBO SECO, HORARIA (°C)_max &lt;dbl&gt; | TEMPERATURA DO AR - BULBO SECO, HORARIA (°C)_min &lt;dbl&gt; | TEMPERATURA DO AR - BULBO SECO, HORARIA (°C)_mean &lt;dbl&gt; | TEMPERATURA MÁXIMA NA HORA ANT. (AUT) (°C)_max &lt;dbl&gt; | TEMPERATURA MÁXIMA NA HORA ANT. (AUT) (°C)_min &lt;dbl&gt; | TEMPERATURA MÁXIMA NA HORA ANT. (AUT) (°C)_mean &lt;dbl&gt; | TEMPERATURA MÍNIMA NA HORA ANT. (AUT) (°C)_max &lt;dbl&gt; | TEMPERATURA MÍNIMA NA HORA ANT. (AUT) (°C)_min &lt;dbl&gt; | TEMPERATURA MÍNIMA NA HORA ANT. (AUT) (°C)_mean &lt;dbl&gt; |\n|---|---|---|---|---|---|---|---|---|---|\n| 00:00 | 31.1 | 15.6 | 22.38904 | 31.4 | 16.2 | 23.06849 | 30.2 | 15.6 | 22.15014 |\n| 01:00 | 28.6 | 15.4 | 21.97945 | 31.4 | 15.6 | 22.62740 | 28.2 | 14.9 | 21.72438 |\n| 02:00 | 28.0 | 14.2 | 21.67288 | 28.6 | 15.5 | 22.25288 | 28.0 | 14.2 | 21.41205 |\n| 03:00 | 27.9 | 14.1 | 21.38438 | 28.1 | 14.5 | 21.92438 | 27.9 | 13.9 | 21.14137 |\n| 04:00 | 27.7 | 13.7 | 21.17452 | 28.0 | 14.1 | 21.66274 | 27.7 | 13.7 | 20.90904 |\n| 05:00 | 27.3 | 13.3 | 21.06849 | 27.7 | 14.4 | 21.47973 | 27.3 | 13.1 | 20.78164 |\n\n",
            "text/latex": "A tibble: 6 × 10\n\\begin{tabular}{llllllllll}\n data1{[}{[}\"Hora UTC\"{]}{]} & TEMPERATURA DO AR - BULBO SECO, HORARIA (°C)\\_max & TEMPERATURA DO AR - BULBO SECO, HORARIA (°C)\\_min & TEMPERATURA DO AR - BULBO SECO, HORARIA (°C)\\_mean & TEMPERATURA MÁXIMA NA HORA ANT. (AUT) (°C)\\_max & TEMPERATURA MÁXIMA NA HORA ANT. (AUT) (°C)\\_min & TEMPERATURA MÁXIMA NA HORA ANT. (AUT) (°C)\\_mean & TEMPERATURA MÍNIMA NA HORA ANT. (AUT) (°C)\\_max & TEMPERATURA MÍNIMA NA HORA ANT. (AUT) (°C)\\_min & TEMPERATURA MÍNIMA NA HORA ANT. (AUT) (°C)\\_mean\\\\\n <chr> & <dbl> & <dbl> & <dbl> & <dbl> & <dbl> & <dbl> & <dbl> & <dbl> & <dbl>\\\\\n\\hline\n\t 00:00 & 31.1 & 15.6 & 22.38904 & 31.4 & 16.2 & 23.06849 & 30.2 & 15.6 & 22.15014\\\\\n\t 01:00 & 28.6 & 15.4 & 21.97945 & 31.4 & 15.6 & 22.62740 & 28.2 & 14.9 & 21.72438\\\\\n\t 02:00 & 28.0 & 14.2 & 21.67288 & 28.6 & 15.5 & 22.25288 & 28.0 & 14.2 & 21.41205\\\\\n\t 03:00 & 27.9 & 14.1 & 21.38438 & 28.1 & 14.5 & 21.92438 & 27.9 & 13.9 & 21.14137\\\\\n\t 04:00 & 27.7 & 13.7 & 21.17452 & 28.0 & 14.1 & 21.66274 & 27.7 & 13.7 & 20.90904\\\\\n\t 05:00 & 27.3 & 13.3 & 21.06849 & 27.7 & 14.4 & 21.47973 & 27.3 & 13.1 & 20.78164\\\\\n\\end{tabular}\n",
            "text/plain": [
              "  data1[[\"Hora UTC\"]] TEMPERATURA DO AR - BULBO SECO, HORARIA (°C)_max\n",
              "1 00:00               31.1                                            \n",
              "2 01:00               28.6                                            \n",
              "3 02:00               28.0                                            \n",
              "4 03:00               27.9                                            \n",
              "5 04:00               27.7                                            \n",
              "6 05:00               27.3                                            \n",
              "  TEMPERATURA DO AR - BULBO SECO, HORARIA (°C)_min\n",
              "1 15.6                                            \n",
              "2 15.4                                            \n",
              "3 14.2                                            \n",
              "4 14.1                                            \n",
              "5 13.7                                            \n",
              "6 13.3                                            \n",
              "  TEMPERATURA DO AR - BULBO SECO, HORARIA (°C)_mean\n",
              "1 22.38904                                         \n",
              "2 21.97945                                         \n",
              "3 21.67288                                         \n",
              "4 21.38438                                         \n",
              "5 21.17452                                         \n",
              "6 21.06849                                         \n",
              "  TEMPERATURA MÁXIMA NA HORA ANT. (AUT) (°C)_max\n",
              "1 31.4                                          \n",
              "2 31.4                                          \n",
              "3 28.6                                          \n",
              "4 28.1                                          \n",
              "5 28.0                                          \n",
              "6 27.7                                          \n",
              "  TEMPERATURA MÁXIMA NA HORA ANT. (AUT) (°C)_min\n",
              "1 16.2                                          \n",
              "2 15.6                                          \n",
              "3 15.5                                          \n",
              "4 14.5                                          \n",
              "5 14.1                                          \n",
              "6 14.4                                          \n",
              "  TEMPERATURA MÁXIMA NA HORA ANT. (AUT) (°C)_mean\n",
              "1 23.06849                                       \n",
              "2 22.62740                                       \n",
              "3 22.25288                                       \n",
              "4 21.92438                                       \n",
              "5 21.66274                                       \n",
              "6 21.47973                                       \n",
              "  TEMPERATURA MÍNIMA NA HORA ANT. (AUT) (°C)_max\n",
              "1 30.2                                          \n",
              "2 28.2                                          \n",
              "3 28.0                                          \n",
              "4 27.9                                          \n",
              "5 27.7                                          \n",
              "6 27.3                                          \n",
              "  TEMPERATURA MÍNIMA NA HORA ANT. (AUT) (°C)_min\n",
              "1 15.6                                          \n",
              "2 14.9                                          \n",
              "3 14.2                                          \n",
              "4 13.9                                          \n",
              "5 13.7                                          \n",
              "6 13.1                                          \n",
              "  TEMPERATURA MÍNIMA NA HORA ANT. (AUT) (°C)_mean\n",
              "1 22.15014                                       \n",
              "2 21.72438                                       \n",
              "3 21.41205                                       \n",
              "4 21.14137                                       \n",
              "5 20.90904                                       \n",
              "6 20.78164                                       "
            ]
          },
          "metadata": {}
        }
      ]
    },
    {
      "cell_type": "code",
      "source": [
        "# Using groupby and summarise to calculate max, min and mean\n",
        "result <- data2 %>%\n",
        "  group_by(data2[[\"Hora UTC\"]]) %>%\n",
        "  summarise(across(all_of(colnames(temperature_column_filter(data2))),\n",
        "                   list(max = max, min = min, mean = mean),\n",
        "                   .names = \"{.col}_{.fn}\"))\n",
        "\n",
        "head(result)"
      ],
      "metadata": {
        "colab": {
          "base_uri": "https://localhost:8080/",
          "height": 356
        },
        "id": "-KGaRClqXDz5",
        "outputId": "1cc4af3b-88f7-4303-a2d2-ffd071455e07"
      },
      "execution_count": null,
      "outputs": [
        {
          "output_type": "display_data",
          "data": {
            "text/html": [
              "<table class=\"dataframe\">\n",
              "<caption>A tibble: 6 × 10</caption>\n",
              "<thead>\n",
              "\t<tr><th scope=col>data2[[\"Hora UTC\"]]</th><th scope=col>TEMPERATURA DO AR - BULBO SECO, HORARIA (°C)_max</th><th scope=col>TEMPERATURA DO AR - BULBO SECO, HORARIA (°C)_min</th><th scope=col>TEMPERATURA DO AR - BULBO SECO, HORARIA (°C)_mean</th><th scope=col>TEMPERATURA MÁXIMA NA HORA ANT. (AUT) (°C)_max</th><th scope=col>TEMPERATURA MÁXIMA NA HORA ANT. (AUT) (°C)_min</th><th scope=col>TEMPERATURA MÁXIMA NA HORA ANT. (AUT) (°C)_mean</th><th scope=col>TEMPERATURA MÍNIMA NA HORA ANT. (AUT) (°C)_max</th><th scope=col>TEMPERATURA MÍNIMA NA HORA ANT. (AUT) (°C)_min</th><th scope=col>TEMPERATURA MÍNIMA NA HORA ANT. (AUT) (°C)_mean</th></tr>\n",
              "\t<tr><th scope=col>&lt;chr&gt;</th><th scope=col>&lt;dbl&gt;</th><th scope=col>&lt;dbl&gt;</th><th scope=col>&lt;dbl&gt;</th><th scope=col>&lt;dbl&gt;</th><th scope=col>&lt;dbl&gt;</th><th scope=col>&lt;dbl&gt;</th><th scope=col>&lt;dbl&gt;</th><th scope=col>&lt;dbl&gt;</th><th scope=col>&lt;dbl&gt;</th></tr>\n",
              "</thead>\n",
              "<tbody>\n",
              "\t<tr><td>00:00</td><td>30.6</td><td>14.6</td><td>23.10761</td><td>32.6</td><td>15.7</td><td>23.77301</td><td>30.0</td><td>14.6</td><td>22.90208</td></tr>\n",
              "\t<tr><td>01:00</td><td>29.5</td><td>14.2</td><td>22.67785</td><td>31.2</td><td>14.8</td><td>23.31730</td><td>29.5</td><td>14.2</td><td>22.50519</td></tr>\n",
              "\t<tr><td>02:00</td><td>29.4</td><td>14.1</td><td>22.41661</td><td>29.7</td><td>14.6</td><td>22.93529</td><td>28.6</td><td>14.1</td><td>22.18339</td></tr>\n",
              "\t<tr><td>03:00</td><td>28.6</td><td>14.1</td><td>22.13080</td><td>29.4</td><td>14.3</td><td>22.68443</td><td>28.5</td><td>13.8</td><td>21.86055</td></tr>\n",
              "\t<tr><td>04:00</td><td>28.1</td><td>13.8</td><td>21.90138</td><td>28.6</td><td>14.4</td><td>22.42907</td><td>28.1</td><td>13.5</td><td>21.64913</td></tr>\n",
              "\t<tr><td>05:00</td><td>27.9</td><td>13.4</td><td>21.73633</td><td>30.9</td><td>13.9</td><td>22.16609</td><td>27.9</td><td>13.2</td><td>21.48754</td></tr>\n",
              "</tbody>\n",
              "</table>\n"
            ],
            "text/markdown": "\nA tibble: 6 × 10\n\n| data2[[\"Hora UTC\"]] &lt;chr&gt; | TEMPERATURA DO AR - BULBO SECO, HORARIA (°C)_max &lt;dbl&gt; | TEMPERATURA DO AR - BULBO SECO, HORARIA (°C)_min &lt;dbl&gt; | TEMPERATURA DO AR - BULBO SECO, HORARIA (°C)_mean &lt;dbl&gt; | TEMPERATURA MÁXIMA NA HORA ANT. (AUT) (°C)_max &lt;dbl&gt; | TEMPERATURA MÁXIMA NA HORA ANT. (AUT) (°C)_min &lt;dbl&gt; | TEMPERATURA MÁXIMA NA HORA ANT. (AUT) (°C)_mean &lt;dbl&gt; | TEMPERATURA MÍNIMA NA HORA ANT. (AUT) (°C)_max &lt;dbl&gt; | TEMPERATURA MÍNIMA NA HORA ANT. (AUT) (°C)_min &lt;dbl&gt; | TEMPERATURA MÍNIMA NA HORA ANT. (AUT) (°C)_mean &lt;dbl&gt; |\n|---|---|---|---|---|---|---|---|---|---|\n| 00:00 | 30.6 | 14.6 | 23.10761 | 32.6 | 15.7 | 23.77301 | 30.0 | 14.6 | 22.90208 |\n| 01:00 | 29.5 | 14.2 | 22.67785 | 31.2 | 14.8 | 23.31730 | 29.5 | 14.2 | 22.50519 |\n| 02:00 | 29.4 | 14.1 | 22.41661 | 29.7 | 14.6 | 22.93529 | 28.6 | 14.1 | 22.18339 |\n| 03:00 | 28.6 | 14.1 | 22.13080 | 29.4 | 14.3 | 22.68443 | 28.5 | 13.8 | 21.86055 |\n| 04:00 | 28.1 | 13.8 | 21.90138 | 28.6 | 14.4 | 22.42907 | 28.1 | 13.5 | 21.64913 |\n| 05:00 | 27.9 | 13.4 | 21.73633 | 30.9 | 13.9 | 22.16609 | 27.9 | 13.2 | 21.48754 |\n\n",
            "text/latex": "A tibble: 6 × 10\n\\begin{tabular}{llllllllll}\n data2{[}{[}\"Hora UTC\"{]}{]} & TEMPERATURA DO AR - BULBO SECO, HORARIA (°C)\\_max & TEMPERATURA DO AR - BULBO SECO, HORARIA (°C)\\_min & TEMPERATURA DO AR - BULBO SECO, HORARIA (°C)\\_mean & TEMPERATURA MÁXIMA NA HORA ANT. (AUT) (°C)\\_max & TEMPERATURA MÁXIMA NA HORA ANT. (AUT) (°C)\\_min & TEMPERATURA MÁXIMA NA HORA ANT. (AUT) (°C)\\_mean & TEMPERATURA MÍNIMA NA HORA ANT. (AUT) (°C)\\_max & TEMPERATURA MÍNIMA NA HORA ANT. (AUT) (°C)\\_min & TEMPERATURA MÍNIMA NA HORA ANT. (AUT) (°C)\\_mean\\\\\n <chr> & <dbl> & <dbl> & <dbl> & <dbl> & <dbl> & <dbl> & <dbl> & <dbl> & <dbl>\\\\\n\\hline\n\t 00:00 & 30.6 & 14.6 & 23.10761 & 32.6 & 15.7 & 23.77301 & 30.0 & 14.6 & 22.90208\\\\\n\t 01:00 & 29.5 & 14.2 & 22.67785 & 31.2 & 14.8 & 23.31730 & 29.5 & 14.2 & 22.50519\\\\\n\t 02:00 & 29.4 & 14.1 & 22.41661 & 29.7 & 14.6 & 22.93529 & 28.6 & 14.1 & 22.18339\\\\\n\t 03:00 & 28.6 & 14.1 & 22.13080 & 29.4 & 14.3 & 22.68443 & 28.5 & 13.8 & 21.86055\\\\\n\t 04:00 & 28.1 & 13.8 & 21.90138 & 28.6 & 14.4 & 22.42907 & 28.1 & 13.5 & 21.64913\\\\\n\t 05:00 & 27.9 & 13.4 & 21.73633 & 30.9 & 13.9 & 22.16609 & 27.9 & 13.2 & 21.48754\\\\\n\\end{tabular}\n",
            "text/plain": [
              "  data2[[\"Hora UTC\"]] TEMPERATURA DO AR - BULBO SECO, HORARIA (°C)_max\n",
              "1 00:00               30.6                                            \n",
              "2 01:00               29.5                                            \n",
              "3 02:00               29.4                                            \n",
              "4 03:00               28.6                                            \n",
              "5 04:00               28.1                                            \n",
              "6 05:00               27.9                                            \n",
              "  TEMPERATURA DO AR - BULBO SECO, HORARIA (°C)_min\n",
              "1 14.6                                            \n",
              "2 14.2                                            \n",
              "3 14.1                                            \n",
              "4 14.1                                            \n",
              "5 13.8                                            \n",
              "6 13.4                                            \n",
              "  TEMPERATURA DO AR - BULBO SECO, HORARIA (°C)_mean\n",
              "1 23.10761                                         \n",
              "2 22.67785                                         \n",
              "3 22.41661                                         \n",
              "4 22.13080                                         \n",
              "5 21.90138                                         \n",
              "6 21.73633                                         \n",
              "  TEMPERATURA MÁXIMA NA HORA ANT. (AUT) (°C)_max\n",
              "1 32.6                                          \n",
              "2 31.2                                          \n",
              "3 29.7                                          \n",
              "4 29.4                                          \n",
              "5 28.6                                          \n",
              "6 30.9                                          \n",
              "  TEMPERATURA MÁXIMA NA HORA ANT. (AUT) (°C)_min\n",
              "1 15.7                                          \n",
              "2 14.8                                          \n",
              "3 14.6                                          \n",
              "4 14.3                                          \n",
              "5 14.4                                          \n",
              "6 13.9                                          \n",
              "  TEMPERATURA MÁXIMA NA HORA ANT. (AUT) (°C)_mean\n",
              "1 23.77301                                       \n",
              "2 23.31730                                       \n",
              "3 22.93529                                       \n",
              "4 22.68443                                       \n",
              "5 22.42907                                       \n",
              "6 22.16609                                       \n",
              "  TEMPERATURA MÍNIMA NA HORA ANT. (AUT) (°C)_max\n",
              "1 30.0                                          \n",
              "2 29.5                                          \n",
              "3 28.6                                          \n",
              "4 28.5                                          \n",
              "5 28.1                                          \n",
              "6 27.9                                          \n",
              "  TEMPERATURA MÍNIMA NA HORA ANT. (AUT) (°C)_min\n",
              "1 14.6                                          \n",
              "2 14.2                                          \n",
              "3 14.1                                          \n",
              "4 13.8                                          \n",
              "5 13.5                                          \n",
              "6 13.2                                          \n",
              "  TEMPERATURA MÍNIMA NA HORA ANT. (AUT) (°C)_mean\n",
              "1 22.90208                                       \n",
              "2 22.50519                                       \n",
              "3 22.18339                                       \n",
              "4 21.86055                                       \n",
              "5 21.64913                                       \n",
              "6 21.48754                                       "
            ]
          },
          "metadata": {}
        }
      ]
    },
    {
      "cell_type": "markdown",
      "source": [
        "## Temperature Groupby Day"
      ],
      "metadata": {
        "id": "-JxOizrQXG_V"
      }
    },
    {
      "cell_type": "code",
      "source": [
        "# Using groupby and summarise to calculate max, min and mean\n",
        "result <- data1 %>%\n",
        "  group_by(day = day(data1[[\"Data\"]])) %>%\n",
        "  summarise(across(all_of(colnames(temperature_column_filter(data1))),\n",
        "                   list(max = max, min = min, mean = mean),\n",
        "                   .names = \"{.col}_{.fn}\"))\n",
        "\n",
        "head(result)"
      ],
      "metadata": {
        "colab": {
          "base_uri": "https://localhost:8080/",
          "height": 356
        },
        "id": "1V7KjayUXOdF",
        "outputId": "be37ae0a-c07b-4f4a-bf29-7016f0056d17"
      },
      "execution_count": null,
      "outputs": [
        {
          "output_type": "display_data",
          "data": {
            "text/html": [
              "<table class=\"dataframe\">\n",
              "<caption>A tibble: 6 × 10</caption>\n",
              "<thead>\n",
              "\t<tr><th scope=col>day</th><th scope=col>TEMPERATURA DO AR - BULBO SECO, HORARIA (°C)_max</th><th scope=col>TEMPERATURA DO AR - BULBO SECO, HORARIA (°C)_min</th><th scope=col>TEMPERATURA DO AR - BULBO SECO, HORARIA (°C)_mean</th><th scope=col>TEMPERATURA MÁXIMA NA HORA ANT. (AUT) (°C)_max</th><th scope=col>TEMPERATURA MÁXIMA NA HORA ANT. (AUT) (°C)_min</th><th scope=col>TEMPERATURA MÁXIMA NA HORA ANT. (AUT) (°C)_mean</th><th scope=col>TEMPERATURA MÍNIMA NA HORA ANT. (AUT) (°C)_max</th><th scope=col>TEMPERATURA MÍNIMA NA HORA ANT. (AUT) (°C)_min</th><th scope=col>TEMPERATURA MÍNIMA NA HORA ANT. (AUT) (°C)_mean</th></tr>\n",
              "\t<tr><th scope=col>&lt;int&gt;</th><th scope=col>&lt;dbl&gt;</th><th scope=col>&lt;dbl&gt;</th><th scope=col>&lt;dbl&gt;</th><th scope=col>&lt;dbl&gt;</th><th scope=col>&lt;dbl&gt;</th><th scope=col>&lt;dbl&gt;</th><th scope=col>&lt;dbl&gt;</th><th scope=col>&lt;dbl&gt;</th><th scope=col>&lt;dbl&gt;</th></tr>\n",
              "</thead>\n",
              "<tbody>\n",
              "\t<tr><td>1</td><td>38.3</td><td>11.9</td><td>23.03194</td><td>38.7</td><td>12.5</td><td>23.58958</td><td>37.7</td><td>11.3</td><td>22.49896</td></tr>\n",
              "\t<tr><td>2</td><td>36.0</td><td>14.0</td><td>23.25035</td><td>37.9</td><td>14.2</td><td>23.85833</td><td>33.9</td><td>13.5</td><td>22.59965</td></tr>\n",
              "\t<tr><td>3</td><td>34.4</td><td>16.4</td><td>23.54201</td><td>35.7</td><td>17.5</td><td>24.16736</td><td>33.8</td><td>15.8</td><td>22.98611</td></tr>\n",
              "\t<tr><td>4</td><td>35.3</td><td>15.6</td><td>23.19757</td><td>36.4</td><td>15.8</td><td>23.85069</td><td>34.5</td><td>15.6</td><td>22.56354</td></tr>\n",
              "\t<tr><td>5</td><td>35.7</td><td>15.9</td><td>23.76690</td><td>36.1</td><td>16.0</td><td>24.34878</td><td>34.1</td><td>15.6</td><td>23.22753</td></tr>\n",
              "\t<tr><td>6</td><td>37.0</td><td>13.8</td><td>23.44410</td><td>38.6</td><td>14.3</td><td>24.02812</td><td>36.4</td><td>13.8</td><td>22.91736</td></tr>\n",
              "</tbody>\n",
              "</table>\n"
            ],
            "text/markdown": "\nA tibble: 6 × 10\n\n| day &lt;int&gt; | TEMPERATURA DO AR - BULBO SECO, HORARIA (°C)_max &lt;dbl&gt; | TEMPERATURA DO AR - BULBO SECO, HORARIA (°C)_min &lt;dbl&gt; | TEMPERATURA DO AR - BULBO SECO, HORARIA (°C)_mean &lt;dbl&gt; | TEMPERATURA MÁXIMA NA HORA ANT. (AUT) (°C)_max &lt;dbl&gt; | TEMPERATURA MÁXIMA NA HORA ANT. (AUT) (°C)_min &lt;dbl&gt; | TEMPERATURA MÁXIMA NA HORA ANT. (AUT) (°C)_mean &lt;dbl&gt; | TEMPERATURA MÍNIMA NA HORA ANT. (AUT) (°C)_max &lt;dbl&gt; | TEMPERATURA MÍNIMA NA HORA ANT. (AUT) (°C)_min &lt;dbl&gt; | TEMPERATURA MÍNIMA NA HORA ANT. (AUT) (°C)_mean &lt;dbl&gt; |\n|---|---|---|---|---|---|---|---|---|---|\n| 1 | 38.3 | 11.9 | 23.03194 | 38.7 | 12.5 | 23.58958 | 37.7 | 11.3 | 22.49896 |\n| 2 | 36.0 | 14.0 | 23.25035 | 37.9 | 14.2 | 23.85833 | 33.9 | 13.5 | 22.59965 |\n| 3 | 34.4 | 16.4 | 23.54201 | 35.7 | 17.5 | 24.16736 | 33.8 | 15.8 | 22.98611 |\n| 4 | 35.3 | 15.6 | 23.19757 | 36.4 | 15.8 | 23.85069 | 34.5 | 15.6 | 22.56354 |\n| 5 | 35.7 | 15.9 | 23.76690 | 36.1 | 16.0 | 24.34878 | 34.1 | 15.6 | 23.22753 |\n| 6 | 37.0 | 13.8 | 23.44410 | 38.6 | 14.3 | 24.02812 | 36.4 | 13.8 | 22.91736 |\n\n",
            "text/latex": "A tibble: 6 × 10\n\\begin{tabular}{llllllllll}\n day & TEMPERATURA DO AR - BULBO SECO, HORARIA (°C)\\_max & TEMPERATURA DO AR - BULBO SECO, HORARIA (°C)\\_min & TEMPERATURA DO AR - BULBO SECO, HORARIA (°C)\\_mean & TEMPERATURA MÁXIMA NA HORA ANT. (AUT) (°C)\\_max & TEMPERATURA MÁXIMA NA HORA ANT. (AUT) (°C)\\_min & TEMPERATURA MÁXIMA NA HORA ANT. (AUT) (°C)\\_mean & TEMPERATURA MÍNIMA NA HORA ANT. (AUT) (°C)\\_max & TEMPERATURA MÍNIMA NA HORA ANT. (AUT) (°C)\\_min & TEMPERATURA MÍNIMA NA HORA ANT. (AUT) (°C)\\_mean\\\\\n <int> & <dbl> & <dbl> & <dbl> & <dbl> & <dbl> & <dbl> & <dbl> & <dbl> & <dbl>\\\\\n\\hline\n\t 1 & 38.3 & 11.9 & 23.03194 & 38.7 & 12.5 & 23.58958 & 37.7 & 11.3 & 22.49896\\\\\n\t 2 & 36.0 & 14.0 & 23.25035 & 37.9 & 14.2 & 23.85833 & 33.9 & 13.5 & 22.59965\\\\\n\t 3 & 34.4 & 16.4 & 23.54201 & 35.7 & 17.5 & 24.16736 & 33.8 & 15.8 & 22.98611\\\\\n\t 4 & 35.3 & 15.6 & 23.19757 & 36.4 & 15.8 & 23.85069 & 34.5 & 15.6 & 22.56354\\\\\n\t 5 & 35.7 & 15.9 & 23.76690 & 36.1 & 16.0 & 24.34878 & 34.1 & 15.6 & 23.22753\\\\\n\t 6 & 37.0 & 13.8 & 23.44410 & 38.6 & 14.3 & 24.02812 & 36.4 & 13.8 & 22.91736\\\\\n\\end{tabular}\n",
            "text/plain": [
              "  day TEMPERATURA DO AR - BULBO SECO, HORARIA (°C)_max\n",
              "1 1   38.3                                            \n",
              "2 2   36.0                                            \n",
              "3 3   34.4                                            \n",
              "4 4   35.3                                            \n",
              "5 5   35.7                                            \n",
              "6 6   37.0                                            \n",
              "  TEMPERATURA DO AR - BULBO SECO, HORARIA (°C)_min\n",
              "1 11.9                                            \n",
              "2 14.0                                            \n",
              "3 16.4                                            \n",
              "4 15.6                                            \n",
              "5 15.9                                            \n",
              "6 13.8                                            \n",
              "  TEMPERATURA DO AR - BULBO SECO, HORARIA (°C)_mean\n",
              "1 23.03194                                         \n",
              "2 23.25035                                         \n",
              "3 23.54201                                         \n",
              "4 23.19757                                         \n",
              "5 23.76690                                         \n",
              "6 23.44410                                         \n",
              "  TEMPERATURA MÁXIMA NA HORA ANT. (AUT) (°C)_max\n",
              "1 38.7                                          \n",
              "2 37.9                                          \n",
              "3 35.7                                          \n",
              "4 36.4                                          \n",
              "5 36.1                                          \n",
              "6 38.6                                          \n",
              "  TEMPERATURA MÁXIMA NA HORA ANT. (AUT) (°C)_min\n",
              "1 12.5                                          \n",
              "2 14.2                                          \n",
              "3 17.5                                          \n",
              "4 15.8                                          \n",
              "5 16.0                                          \n",
              "6 14.3                                          \n",
              "  TEMPERATURA MÁXIMA NA HORA ANT. (AUT) (°C)_mean\n",
              "1 23.58958                                       \n",
              "2 23.85833                                       \n",
              "3 24.16736                                       \n",
              "4 23.85069                                       \n",
              "5 24.34878                                       \n",
              "6 24.02812                                       \n",
              "  TEMPERATURA MÍNIMA NA HORA ANT. (AUT) (°C)_max\n",
              "1 37.7                                          \n",
              "2 33.9                                          \n",
              "3 33.8                                          \n",
              "4 34.5                                          \n",
              "5 34.1                                          \n",
              "6 36.4                                          \n",
              "  TEMPERATURA MÍNIMA NA HORA ANT. (AUT) (°C)_min\n",
              "1 11.3                                          \n",
              "2 13.5                                          \n",
              "3 15.8                                          \n",
              "4 15.6                                          \n",
              "5 15.6                                          \n",
              "6 13.8                                          \n",
              "  TEMPERATURA MÍNIMA NA HORA ANT. (AUT) (°C)_mean\n",
              "1 22.49896                                       \n",
              "2 22.59965                                       \n",
              "3 22.98611                                       \n",
              "4 22.56354                                       \n",
              "5 23.22753                                       \n",
              "6 22.91736                                       "
            ]
          },
          "metadata": {}
        }
      ]
    },
    {
      "cell_type": "code",
      "source": [
        "# Using groupby and summarise to calculate max, min and mean\n",
        "result <- data2 %>%\n",
        "  group_by(day = day(data2[[\"Data\"]])) %>%\n",
        "  summarise(across(all_of(colnames(temperature_column_filter(data2))),\n",
        "                   list(max = max, min = min, mean = mean),\n",
        "                   .names = \"{.col}_{.fn}\"))\n",
        "\n",
        "head(result)"
      ],
      "metadata": {
        "colab": {
          "base_uri": "https://localhost:8080/",
          "height": 356
        },
        "id": "fRfKamP5XSf8",
        "outputId": "24f760a9-b62f-4b2b-de6b-2125aa47bffa"
      },
      "execution_count": null,
      "outputs": [
        {
          "output_type": "display_data",
          "data": {
            "text/html": [
              "<table class=\"dataframe\">\n",
              "<caption>A tibble: 6 × 10</caption>\n",
              "<thead>\n",
              "\t<tr><th scope=col>day</th><th scope=col>TEMPERATURA DO AR - BULBO SECO, HORARIA (°C)_max</th><th scope=col>TEMPERATURA DO AR - BULBO SECO, HORARIA (°C)_min</th><th scope=col>TEMPERATURA DO AR - BULBO SECO, HORARIA (°C)_mean</th><th scope=col>TEMPERATURA MÁXIMA NA HORA ANT. (AUT) (°C)_max</th><th scope=col>TEMPERATURA MÁXIMA NA HORA ANT. (AUT) (°C)_min</th><th scope=col>TEMPERATURA MÁXIMA NA HORA ANT. (AUT) (°C)_mean</th><th scope=col>TEMPERATURA MÍNIMA NA HORA ANT. (AUT) (°C)_max</th><th scope=col>TEMPERATURA MÍNIMA NA HORA ANT. (AUT) (°C)_min</th><th scope=col>TEMPERATURA MÍNIMA NA HORA ANT. (AUT) (°C)_mean</th></tr>\n",
              "\t<tr><th scope=col>&lt;int&gt;</th><th scope=col>&lt;dbl&gt;</th><th scope=col>&lt;dbl&gt;</th><th scope=col>&lt;dbl&gt;</th><th scope=col>&lt;dbl&gt;</th><th scope=col>&lt;dbl&gt;</th><th scope=col>&lt;dbl&gt;</th><th scope=col>&lt;dbl&gt;</th><th scope=col>&lt;dbl&gt;</th><th scope=col>&lt;dbl&gt;</th></tr>\n",
              "</thead>\n",
              "<tbody>\n",
              "\t<tr><td>1</td><td>29.6</td><td>15.7</td><td>23.49832</td><td>31.8</td><td>16.9</td><td>24.02227</td><td>28.3</td><td>15.5</td><td>23.02479</td></tr>\n",
              "\t<tr><td>2</td><td>34.4</td><td>15.5</td><td>23.74125</td><td>34.9</td><td>16.0</td><td>24.34458</td><td>30.7</td><td>15.4</td><td>23.21042</td></tr>\n",
              "\t<tr><td>3</td><td>36.0</td><td>15.7</td><td>24.47375</td><td>36.5</td><td>17.4</td><td>25.07583</td><td>35.0</td><td>15.6</td><td>23.86208</td></tr>\n",
              "\t<tr><td>4</td><td>38.7</td><td>13.6</td><td>24.08833</td><td>38.8</td><td>13.8</td><td>24.70083</td><td>36.3</td><td>13.4</td><td>23.56375</td></tr>\n",
              "\t<tr><td>5</td><td>33.8</td><td>13.1</td><td>23.35583</td><td>35.1</td><td>13.5</td><td>23.87333</td><td>31.5</td><td>12.8</td><td>22.89792</td></tr>\n",
              "\t<tr><td>6</td><td>31.4</td><td>14.1</td><td>23.35917</td><td>32.1</td><td>14.6</td><td>23.92750</td><td>30.2</td><td>14.1</td><td>22.89875</td></tr>\n",
              "</tbody>\n",
              "</table>\n"
            ],
            "text/markdown": "\nA tibble: 6 × 10\n\n| day &lt;int&gt; | TEMPERATURA DO AR - BULBO SECO, HORARIA (°C)_max &lt;dbl&gt; | TEMPERATURA DO AR - BULBO SECO, HORARIA (°C)_min &lt;dbl&gt; | TEMPERATURA DO AR - BULBO SECO, HORARIA (°C)_mean &lt;dbl&gt; | TEMPERATURA MÁXIMA NA HORA ANT. (AUT) (°C)_max &lt;dbl&gt; | TEMPERATURA MÁXIMA NA HORA ANT. (AUT) (°C)_min &lt;dbl&gt; | TEMPERATURA MÁXIMA NA HORA ANT. (AUT) (°C)_mean &lt;dbl&gt; | TEMPERATURA MÍNIMA NA HORA ANT. (AUT) (°C)_max &lt;dbl&gt; | TEMPERATURA MÍNIMA NA HORA ANT. (AUT) (°C)_min &lt;dbl&gt; | TEMPERATURA MÍNIMA NA HORA ANT. (AUT) (°C)_mean &lt;dbl&gt; |\n|---|---|---|---|---|---|---|---|---|---|\n| 1 | 29.6 | 15.7 | 23.49832 | 31.8 | 16.9 | 24.02227 | 28.3 | 15.5 | 23.02479 |\n| 2 | 34.4 | 15.5 | 23.74125 | 34.9 | 16.0 | 24.34458 | 30.7 | 15.4 | 23.21042 |\n| 3 | 36.0 | 15.7 | 24.47375 | 36.5 | 17.4 | 25.07583 | 35.0 | 15.6 | 23.86208 |\n| 4 | 38.7 | 13.6 | 24.08833 | 38.8 | 13.8 | 24.70083 | 36.3 | 13.4 | 23.56375 |\n| 5 | 33.8 | 13.1 | 23.35583 | 35.1 | 13.5 | 23.87333 | 31.5 | 12.8 | 22.89792 |\n| 6 | 31.4 | 14.1 | 23.35917 | 32.1 | 14.6 | 23.92750 | 30.2 | 14.1 | 22.89875 |\n\n",
            "text/latex": "A tibble: 6 × 10\n\\begin{tabular}{llllllllll}\n day & TEMPERATURA DO AR - BULBO SECO, HORARIA (°C)\\_max & TEMPERATURA DO AR - BULBO SECO, HORARIA (°C)\\_min & TEMPERATURA DO AR - BULBO SECO, HORARIA (°C)\\_mean & TEMPERATURA MÁXIMA NA HORA ANT. (AUT) (°C)\\_max & TEMPERATURA MÁXIMA NA HORA ANT. (AUT) (°C)\\_min & TEMPERATURA MÁXIMA NA HORA ANT. (AUT) (°C)\\_mean & TEMPERATURA MÍNIMA NA HORA ANT. (AUT) (°C)\\_max & TEMPERATURA MÍNIMA NA HORA ANT. (AUT) (°C)\\_min & TEMPERATURA MÍNIMA NA HORA ANT. (AUT) (°C)\\_mean\\\\\n <int> & <dbl> & <dbl> & <dbl> & <dbl> & <dbl> & <dbl> & <dbl> & <dbl> & <dbl>\\\\\n\\hline\n\t 1 & 29.6 & 15.7 & 23.49832 & 31.8 & 16.9 & 24.02227 & 28.3 & 15.5 & 23.02479\\\\\n\t 2 & 34.4 & 15.5 & 23.74125 & 34.9 & 16.0 & 24.34458 & 30.7 & 15.4 & 23.21042\\\\\n\t 3 & 36.0 & 15.7 & 24.47375 & 36.5 & 17.4 & 25.07583 & 35.0 & 15.6 & 23.86208\\\\\n\t 4 & 38.7 & 13.6 & 24.08833 & 38.8 & 13.8 & 24.70083 & 36.3 & 13.4 & 23.56375\\\\\n\t 5 & 33.8 & 13.1 & 23.35583 & 35.1 & 13.5 & 23.87333 & 31.5 & 12.8 & 22.89792\\\\\n\t 6 & 31.4 & 14.1 & 23.35917 & 32.1 & 14.6 & 23.92750 & 30.2 & 14.1 & 22.89875\\\\\n\\end{tabular}\n",
            "text/plain": [
              "  day TEMPERATURA DO AR - BULBO SECO, HORARIA (°C)_max\n",
              "1 1   29.6                                            \n",
              "2 2   34.4                                            \n",
              "3 3   36.0                                            \n",
              "4 4   38.7                                            \n",
              "5 5   33.8                                            \n",
              "6 6   31.4                                            \n",
              "  TEMPERATURA DO AR - BULBO SECO, HORARIA (°C)_min\n",
              "1 15.7                                            \n",
              "2 15.5                                            \n",
              "3 15.7                                            \n",
              "4 13.6                                            \n",
              "5 13.1                                            \n",
              "6 14.1                                            \n",
              "  TEMPERATURA DO AR - BULBO SECO, HORARIA (°C)_mean\n",
              "1 23.49832                                         \n",
              "2 23.74125                                         \n",
              "3 24.47375                                         \n",
              "4 24.08833                                         \n",
              "5 23.35583                                         \n",
              "6 23.35917                                         \n",
              "  TEMPERATURA MÁXIMA NA HORA ANT. (AUT) (°C)_max\n",
              "1 31.8                                          \n",
              "2 34.9                                          \n",
              "3 36.5                                          \n",
              "4 38.8                                          \n",
              "5 35.1                                          \n",
              "6 32.1                                          \n",
              "  TEMPERATURA MÁXIMA NA HORA ANT. (AUT) (°C)_min\n",
              "1 16.9                                          \n",
              "2 16.0                                          \n",
              "3 17.4                                          \n",
              "4 13.8                                          \n",
              "5 13.5                                          \n",
              "6 14.6                                          \n",
              "  TEMPERATURA MÁXIMA NA HORA ANT. (AUT) (°C)_mean\n",
              "1 24.02227                                       \n",
              "2 24.34458                                       \n",
              "3 25.07583                                       \n",
              "4 24.70083                                       \n",
              "5 23.87333                                       \n",
              "6 23.92750                                       \n",
              "  TEMPERATURA MÍNIMA NA HORA ANT. (AUT) (°C)_max\n",
              "1 28.3                                          \n",
              "2 30.7                                          \n",
              "3 35.0                                          \n",
              "4 36.3                                          \n",
              "5 31.5                                          \n",
              "6 30.2                                          \n",
              "  TEMPERATURA MÍNIMA NA HORA ANT. (AUT) (°C)_min\n",
              "1 15.5                                          \n",
              "2 15.4                                          \n",
              "3 15.6                                          \n",
              "4 13.4                                          \n",
              "5 12.8                                          \n",
              "6 14.1                                          \n",
              "  TEMPERATURA MÍNIMA NA HORA ANT. (AUT) (°C)_mean\n",
              "1 23.02479                                       \n",
              "2 23.21042                                       \n",
              "3 23.86208                                       \n",
              "4 23.56375                                       \n",
              "5 22.89792                                       \n",
              "6 22.89875                                       "
            ]
          },
          "metadata": {}
        }
      ]
    },
    {
      "cell_type": "markdown",
      "source": [
        "## Temperature Groupby Week"
      ],
      "metadata": {
        "id": "5H751K2RXbWF"
      }
    },
    {
      "cell_type": "code",
      "source": [
        "# Using groupby and summarise to calculate max, min and mean\n",
        "result <- data1 %>%\n",
        "  group_by(week = floor_date(data1[[\"Data\"]], \"week\")) %>%\n",
        "  summarise(across(all_of(colnames(temperature_column_filter(data1))),\n",
        "                   list(max = max, min = min, mean = mean),\n",
        "                   .names = \"{.col}_{.fn}\"))\n",
        "\n",
        "head(result)"
      ],
      "metadata": {
        "colab": {
          "base_uri": "https://localhost:8080/",
          "height": 460
        },
        "id": "RvmonqWsXdTg",
        "outputId": "baf1f78b-9027-43eb-bef0-a9d6034ee4c2"
      },
      "execution_count": null,
      "outputs": [
        {
          "output_type": "display_data",
          "data": {
            "text/html": [
              "<table class=\"dataframe\">\n",
              "<caption>A tibble: 6 × 10</caption>\n",
              "<thead>\n",
              "\t<tr><th scope=col>week</th><th scope=col>TEMPERATURA DO AR - BULBO SECO, HORARIA (°C)_max</th><th scope=col>TEMPERATURA DO AR - BULBO SECO, HORARIA (°C)_min</th><th scope=col>TEMPERATURA DO AR - BULBO SECO, HORARIA (°C)_mean</th><th scope=col>TEMPERATURA MÁXIMA NA HORA ANT. (AUT) (°C)_max</th><th scope=col>TEMPERATURA MÁXIMA NA HORA ANT. (AUT) (°C)_min</th><th scope=col>TEMPERATURA MÁXIMA NA HORA ANT. (AUT) (°C)_mean</th><th scope=col>TEMPERATURA MÍNIMA NA HORA ANT. (AUT) (°C)_max</th><th scope=col>TEMPERATURA MÍNIMA NA HORA ANT. (AUT) (°C)_min</th><th scope=col>TEMPERATURA MÍNIMA NA HORA ANT. (AUT) (°C)_mean</th></tr>\n",
              "\t<tr><th scope=col>&lt;date&gt;</th><th scope=col>&lt;dbl&gt;</th><th scope=col>&lt;dbl&gt;</th><th scope=col>&lt;dbl&gt;</th><th scope=col>&lt;dbl&gt;</th><th scope=col>&lt;dbl&gt;</th><th scope=col>&lt;dbl&gt;</th><th scope=col>&lt;dbl&gt;</th><th scope=col>&lt;dbl&gt;</th><th scope=col>&lt;dbl&gt;</th></tr>\n",
              "</thead>\n",
              "<tbody>\n",
              "\t<tr><td>2021-12-26</td><td>29.7</td><td>21.9</td><td>24.99583</td><td>31.6</td><td>22.1</td><td>25.61667</td><td>28.2</td><td>21.9</td><td>24.47917</td></tr>\n",
              "\t<tr><td>2022-01-02</td><td>35.7</td><td>21.6</td><td>26.10476</td><td>36.4</td><td>22.0</td><td>26.70119</td><td>34.5</td><td>21.2</td><td>25.58571</td></tr>\n",
              "\t<tr><td>2022-01-09</td><td>30.6</td><td>19.5</td><td>24.33333</td><td>31.1</td><td>19.6</td><td>24.74286</td><td>30.0</td><td>19.5</td><td>23.97619</td></tr>\n",
              "\t<tr><td>2022-01-16</td><td>37.1</td><td>22.0</td><td>26.72917</td><td>38.5</td><td>22.1</td><td>27.38810</td><td>35.5</td><td>22.0</td><td>26.11667</td></tr>\n",
              "\t<tr><td>2022-01-23</td><td>39.1</td><td>20.8</td><td>26.49226</td><td>39.9</td><td>22.0</td><td>27.33869</td><td>38.3</td><td>19.6</td><td>25.58512</td></tr>\n",
              "\t<tr><td>2022-01-30</td><td>35.0</td><td>21.9</td><td>25.36707</td><td>35.8</td><td>22.0</td><td>25.83473</td><td>32.8</td><td>21.9</td><td>24.96886</td></tr>\n",
              "</tbody>\n",
              "</table>\n"
            ],
            "text/markdown": "\nA tibble: 6 × 10\n\n| week &lt;date&gt; | TEMPERATURA DO AR - BULBO SECO, HORARIA (°C)_max &lt;dbl&gt; | TEMPERATURA DO AR - BULBO SECO, HORARIA (°C)_min &lt;dbl&gt; | TEMPERATURA DO AR - BULBO SECO, HORARIA (°C)_mean &lt;dbl&gt; | TEMPERATURA MÁXIMA NA HORA ANT. (AUT) (°C)_max &lt;dbl&gt; | TEMPERATURA MÁXIMA NA HORA ANT. (AUT) (°C)_min &lt;dbl&gt; | TEMPERATURA MÁXIMA NA HORA ANT. (AUT) (°C)_mean &lt;dbl&gt; | TEMPERATURA MÍNIMA NA HORA ANT. (AUT) (°C)_max &lt;dbl&gt; | TEMPERATURA MÍNIMA NA HORA ANT. (AUT) (°C)_min &lt;dbl&gt; | TEMPERATURA MÍNIMA NA HORA ANT. (AUT) (°C)_mean &lt;dbl&gt; |\n|---|---|---|---|---|---|---|---|---|---|\n| 2021-12-26 | 29.7 | 21.9 | 24.99583 | 31.6 | 22.1 | 25.61667 | 28.2 | 21.9 | 24.47917 |\n| 2022-01-02 | 35.7 | 21.6 | 26.10476 | 36.4 | 22.0 | 26.70119 | 34.5 | 21.2 | 25.58571 |\n| 2022-01-09 | 30.6 | 19.5 | 24.33333 | 31.1 | 19.6 | 24.74286 | 30.0 | 19.5 | 23.97619 |\n| 2022-01-16 | 37.1 | 22.0 | 26.72917 | 38.5 | 22.1 | 27.38810 | 35.5 | 22.0 | 26.11667 |\n| 2022-01-23 | 39.1 | 20.8 | 26.49226 | 39.9 | 22.0 | 27.33869 | 38.3 | 19.6 | 25.58512 |\n| 2022-01-30 | 35.0 | 21.9 | 25.36707 | 35.8 | 22.0 | 25.83473 | 32.8 | 21.9 | 24.96886 |\n\n",
            "text/latex": "A tibble: 6 × 10\n\\begin{tabular}{llllllllll}\n week & TEMPERATURA DO AR - BULBO SECO, HORARIA (°C)\\_max & TEMPERATURA DO AR - BULBO SECO, HORARIA (°C)\\_min & TEMPERATURA DO AR - BULBO SECO, HORARIA (°C)\\_mean & TEMPERATURA MÁXIMA NA HORA ANT. (AUT) (°C)\\_max & TEMPERATURA MÁXIMA NA HORA ANT. (AUT) (°C)\\_min & TEMPERATURA MÁXIMA NA HORA ANT. (AUT) (°C)\\_mean & TEMPERATURA MÍNIMA NA HORA ANT. (AUT) (°C)\\_max & TEMPERATURA MÍNIMA NA HORA ANT. (AUT) (°C)\\_min & TEMPERATURA MÍNIMA NA HORA ANT. (AUT) (°C)\\_mean\\\\\n <date> & <dbl> & <dbl> & <dbl> & <dbl> & <dbl> & <dbl> & <dbl> & <dbl> & <dbl>\\\\\n\\hline\n\t 2021-12-26 & 29.7 & 21.9 & 24.99583 & 31.6 & 22.1 & 25.61667 & 28.2 & 21.9 & 24.47917\\\\\n\t 2022-01-02 & 35.7 & 21.6 & 26.10476 & 36.4 & 22.0 & 26.70119 & 34.5 & 21.2 & 25.58571\\\\\n\t 2022-01-09 & 30.6 & 19.5 & 24.33333 & 31.1 & 19.6 & 24.74286 & 30.0 & 19.5 & 23.97619\\\\\n\t 2022-01-16 & 37.1 & 22.0 & 26.72917 & 38.5 & 22.1 & 27.38810 & 35.5 & 22.0 & 26.11667\\\\\n\t 2022-01-23 & 39.1 & 20.8 & 26.49226 & 39.9 & 22.0 & 27.33869 & 38.3 & 19.6 & 25.58512\\\\\n\t 2022-01-30 & 35.0 & 21.9 & 25.36707 & 35.8 & 22.0 & 25.83473 & 32.8 & 21.9 & 24.96886\\\\\n\\end{tabular}\n",
            "text/plain": [
              "  week       TEMPERATURA DO AR - BULBO SECO, HORARIA (°C)_max\n",
              "1 2021-12-26 29.7                                            \n",
              "2 2022-01-02 35.7                                            \n",
              "3 2022-01-09 30.6                                            \n",
              "4 2022-01-16 37.1                                            \n",
              "5 2022-01-23 39.1                                            \n",
              "6 2022-01-30 35.0                                            \n",
              "  TEMPERATURA DO AR - BULBO SECO, HORARIA (°C)_min\n",
              "1 21.9                                            \n",
              "2 21.6                                            \n",
              "3 19.5                                            \n",
              "4 22.0                                            \n",
              "5 20.8                                            \n",
              "6 21.9                                            \n",
              "  TEMPERATURA DO AR - BULBO SECO, HORARIA (°C)_mean\n",
              "1 24.99583                                         \n",
              "2 26.10476                                         \n",
              "3 24.33333                                         \n",
              "4 26.72917                                         \n",
              "5 26.49226                                         \n",
              "6 25.36707                                         \n",
              "  TEMPERATURA MÁXIMA NA HORA ANT. (AUT) (°C)_max\n",
              "1 31.6                                          \n",
              "2 36.4                                          \n",
              "3 31.1                                          \n",
              "4 38.5                                          \n",
              "5 39.9                                          \n",
              "6 35.8                                          \n",
              "  TEMPERATURA MÁXIMA NA HORA ANT. (AUT) (°C)_min\n",
              "1 22.1                                          \n",
              "2 22.0                                          \n",
              "3 19.6                                          \n",
              "4 22.1                                          \n",
              "5 22.0                                          \n",
              "6 22.0                                          \n",
              "  TEMPERATURA MÁXIMA NA HORA ANT. (AUT) (°C)_mean\n",
              "1 25.61667                                       \n",
              "2 26.70119                                       \n",
              "3 24.74286                                       \n",
              "4 27.38810                                       \n",
              "5 27.33869                                       \n",
              "6 25.83473                                       \n",
              "  TEMPERATURA MÍNIMA NA HORA ANT. (AUT) (°C)_max\n",
              "1 28.2                                          \n",
              "2 34.5                                          \n",
              "3 30.0                                          \n",
              "4 35.5                                          \n",
              "5 38.3                                          \n",
              "6 32.8                                          \n",
              "  TEMPERATURA MÍNIMA NA HORA ANT. (AUT) (°C)_min\n",
              "1 21.9                                          \n",
              "2 21.2                                          \n",
              "3 19.5                                          \n",
              "4 22.0                                          \n",
              "5 19.6                                          \n",
              "6 21.9                                          \n",
              "  TEMPERATURA MÍNIMA NA HORA ANT. (AUT) (°C)_mean\n",
              "1 24.47917                                       \n",
              "2 25.58571                                       \n",
              "3 23.97619                                       \n",
              "4 26.11667                                       \n",
              "5 25.58512                                       \n",
              "6 24.96886                                       "
            ]
          },
          "metadata": {}
        }
      ]
    },
    {
      "cell_type": "code",
      "source": [
        "# Using groupby and summarise to calculate max, min and mean\n",
        "result <- data2 %>%\n",
        "  group_by(week = floor_date(data2[[\"Data\"]], \"week\")) %>%\n",
        "  summarise(across(all_of(colnames(temperature_column_filter(data2))),\n",
        "                   list(max = max, min = min, mean = mean),\n",
        "                   .names = \"{.col}_{.fn}\"))\n",
        "\n",
        "head(result)"
      ],
      "metadata": {
        "colab": {
          "base_uri": "https://localhost:8080/",
          "height": 460
        },
        "id": "ZwdlBMeiXhSU",
        "outputId": "e68fab88-c2e8-4b01-9a15-9e91a8c81c00"
      },
      "execution_count": null,
      "outputs": [
        {
          "output_type": "display_data",
          "data": {
            "text/html": [
              "<table class=\"dataframe\">\n",
              "<caption>A tibble: 6 × 10</caption>\n",
              "<thead>\n",
              "\t<tr><th scope=col>week</th><th scope=col>TEMPERATURA DO AR - BULBO SECO, HORARIA (°C)_max</th><th scope=col>TEMPERATURA DO AR - BULBO SECO, HORARIA (°C)_min</th><th scope=col>TEMPERATURA DO AR - BULBO SECO, HORARIA (°C)_mean</th><th scope=col>TEMPERATURA MÁXIMA NA HORA ANT. (AUT) (°C)_max</th><th scope=col>TEMPERATURA MÁXIMA NA HORA ANT. (AUT) (°C)_min</th><th scope=col>TEMPERATURA MÁXIMA NA HORA ANT. (AUT) (°C)_mean</th><th scope=col>TEMPERATURA MÍNIMA NA HORA ANT. (AUT) (°C)_max</th><th scope=col>TEMPERATURA MÍNIMA NA HORA ANT. (AUT) (°C)_min</th><th scope=col>TEMPERATURA MÍNIMA NA HORA ANT. (AUT) (°C)_mean</th></tr>\n",
              "\t<tr><th scope=col>&lt;date&gt;</th><th scope=col>&lt;dbl&gt;</th><th scope=col>&lt;dbl&gt;</th><th scope=col>&lt;dbl&gt;</th><th scope=col>&lt;dbl&gt;</th><th scope=col>&lt;dbl&gt;</th><th scope=col>&lt;dbl&gt;</th><th scope=col>&lt;dbl&gt;</th><th scope=col>&lt;dbl&gt;</th><th scope=col>&lt;dbl&gt;</th></tr>\n",
              "</thead>\n",
              "<tbody>\n",
              "\t<tr><td>2023-01-01</td><td>35.6</td><td>18.3</td><td>23.97831</td><td>36.5</td><td>18.3</td><td>24.49699</td><td>35.0</td><td>18.2</td><td>23.45241</td></tr>\n",
              "\t<tr><td>2023-01-08</td><td>34.7</td><td>19.4</td><td>24.34821</td><td>35.3</td><td>19.5</td><td>24.81488</td><td>33.3</td><td>19.3</td><td>23.87440</td></tr>\n",
              "\t<tr><td>2023-01-15</td><td>35.8</td><td>22.3</td><td>26.36310</td><td>35.8</td><td>22.4</td><td>26.92560</td><td>32.6</td><td>22.1</td><td>25.83333</td></tr>\n",
              "\t<tr><td>2023-01-22</td><td>34.9</td><td>20.6</td><td>25.53333</td><td>35.2</td><td>20.6</td><td>26.10595</td><td>31.8</td><td>20.2</td><td>24.98333</td></tr>\n",
              "\t<tr><td>2023-01-29</td><td>38.7</td><td>22.3</td><td>26.91905</td><td>38.8</td><td>22.5</td><td>27.71190</td><td>36.3</td><td>21.8</td><td>26.21964</td></tr>\n",
              "\t<tr><td>2023-02-05</td><td>33.8</td><td>21.0</td><td>25.44048</td><td>35.1</td><td>21.9</td><td>26.01250</td><td>31.5</td><td>20.8</td><td>24.97619</td></tr>\n",
              "</tbody>\n",
              "</table>\n"
            ],
            "text/markdown": "\nA tibble: 6 × 10\n\n| week &lt;date&gt; | TEMPERATURA DO AR - BULBO SECO, HORARIA (°C)_max &lt;dbl&gt; | TEMPERATURA DO AR - BULBO SECO, HORARIA (°C)_min &lt;dbl&gt; | TEMPERATURA DO AR - BULBO SECO, HORARIA (°C)_mean &lt;dbl&gt; | TEMPERATURA MÁXIMA NA HORA ANT. (AUT) (°C)_max &lt;dbl&gt; | TEMPERATURA MÁXIMA NA HORA ANT. (AUT) (°C)_min &lt;dbl&gt; | TEMPERATURA MÁXIMA NA HORA ANT. (AUT) (°C)_mean &lt;dbl&gt; | TEMPERATURA MÍNIMA NA HORA ANT. (AUT) (°C)_max &lt;dbl&gt; | TEMPERATURA MÍNIMA NA HORA ANT. (AUT) (°C)_min &lt;dbl&gt; | TEMPERATURA MÍNIMA NA HORA ANT. (AUT) (°C)_mean &lt;dbl&gt; |\n|---|---|---|---|---|---|---|---|---|---|\n| 2023-01-01 | 35.6 | 18.3 | 23.97831 | 36.5 | 18.3 | 24.49699 | 35.0 | 18.2 | 23.45241 |\n| 2023-01-08 | 34.7 | 19.4 | 24.34821 | 35.3 | 19.5 | 24.81488 | 33.3 | 19.3 | 23.87440 |\n| 2023-01-15 | 35.8 | 22.3 | 26.36310 | 35.8 | 22.4 | 26.92560 | 32.6 | 22.1 | 25.83333 |\n| 2023-01-22 | 34.9 | 20.6 | 25.53333 | 35.2 | 20.6 | 26.10595 | 31.8 | 20.2 | 24.98333 |\n| 2023-01-29 | 38.7 | 22.3 | 26.91905 | 38.8 | 22.5 | 27.71190 | 36.3 | 21.8 | 26.21964 |\n| 2023-02-05 | 33.8 | 21.0 | 25.44048 | 35.1 | 21.9 | 26.01250 | 31.5 | 20.8 | 24.97619 |\n\n",
            "text/latex": "A tibble: 6 × 10\n\\begin{tabular}{llllllllll}\n week & TEMPERATURA DO AR - BULBO SECO, HORARIA (°C)\\_max & TEMPERATURA DO AR - BULBO SECO, HORARIA (°C)\\_min & TEMPERATURA DO AR - BULBO SECO, HORARIA (°C)\\_mean & TEMPERATURA MÁXIMA NA HORA ANT. (AUT) (°C)\\_max & TEMPERATURA MÁXIMA NA HORA ANT. (AUT) (°C)\\_min & TEMPERATURA MÁXIMA NA HORA ANT. (AUT) (°C)\\_mean & TEMPERATURA MÍNIMA NA HORA ANT. (AUT) (°C)\\_max & TEMPERATURA MÍNIMA NA HORA ANT. (AUT) (°C)\\_min & TEMPERATURA MÍNIMA NA HORA ANT. (AUT) (°C)\\_mean\\\\\n <date> & <dbl> & <dbl> & <dbl> & <dbl> & <dbl> & <dbl> & <dbl> & <dbl> & <dbl>\\\\\n\\hline\n\t 2023-01-01 & 35.6 & 18.3 & 23.97831 & 36.5 & 18.3 & 24.49699 & 35.0 & 18.2 & 23.45241\\\\\n\t 2023-01-08 & 34.7 & 19.4 & 24.34821 & 35.3 & 19.5 & 24.81488 & 33.3 & 19.3 & 23.87440\\\\\n\t 2023-01-15 & 35.8 & 22.3 & 26.36310 & 35.8 & 22.4 & 26.92560 & 32.6 & 22.1 & 25.83333\\\\\n\t 2023-01-22 & 34.9 & 20.6 & 25.53333 & 35.2 & 20.6 & 26.10595 & 31.8 & 20.2 & 24.98333\\\\\n\t 2023-01-29 & 38.7 & 22.3 & 26.91905 & 38.8 & 22.5 & 27.71190 & 36.3 & 21.8 & 26.21964\\\\\n\t 2023-02-05 & 33.8 & 21.0 & 25.44048 & 35.1 & 21.9 & 26.01250 & 31.5 & 20.8 & 24.97619\\\\\n\\end{tabular}\n",
            "text/plain": [
              "  week       TEMPERATURA DO AR - BULBO SECO, HORARIA (°C)_max\n",
              "1 2023-01-01 35.6                                            \n",
              "2 2023-01-08 34.7                                            \n",
              "3 2023-01-15 35.8                                            \n",
              "4 2023-01-22 34.9                                            \n",
              "5 2023-01-29 38.7                                            \n",
              "6 2023-02-05 33.8                                            \n",
              "  TEMPERATURA DO AR - BULBO SECO, HORARIA (°C)_min\n",
              "1 18.3                                            \n",
              "2 19.4                                            \n",
              "3 22.3                                            \n",
              "4 20.6                                            \n",
              "5 22.3                                            \n",
              "6 21.0                                            \n",
              "  TEMPERATURA DO AR - BULBO SECO, HORARIA (°C)_mean\n",
              "1 23.97831                                         \n",
              "2 24.34821                                         \n",
              "3 26.36310                                         \n",
              "4 25.53333                                         \n",
              "5 26.91905                                         \n",
              "6 25.44048                                         \n",
              "  TEMPERATURA MÁXIMA NA HORA ANT. (AUT) (°C)_max\n",
              "1 36.5                                          \n",
              "2 35.3                                          \n",
              "3 35.8                                          \n",
              "4 35.2                                          \n",
              "5 38.8                                          \n",
              "6 35.1                                          \n",
              "  TEMPERATURA MÁXIMA NA HORA ANT. (AUT) (°C)_min\n",
              "1 18.3                                          \n",
              "2 19.5                                          \n",
              "3 22.4                                          \n",
              "4 20.6                                          \n",
              "5 22.5                                          \n",
              "6 21.9                                          \n",
              "  TEMPERATURA MÁXIMA NA HORA ANT. (AUT) (°C)_mean\n",
              "1 24.49699                                       \n",
              "2 24.81488                                       \n",
              "3 26.92560                                       \n",
              "4 26.10595                                       \n",
              "5 27.71190                                       \n",
              "6 26.01250                                       \n",
              "  TEMPERATURA MÍNIMA NA HORA ANT. (AUT) (°C)_max\n",
              "1 35.0                                          \n",
              "2 33.3                                          \n",
              "3 32.6                                          \n",
              "4 31.8                                          \n",
              "5 36.3                                          \n",
              "6 31.5                                          \n",
              "  TEMPERATURA MÍNIMA NA HORA ANT. (AUT) (°C)_min\n",
              "1 18.2                                          \n",
              "2 19.3                                          \n",
              "3 22.1                                          \n",
              "4 20.2                                          \n",
              "5 21.8                                          \n",
              "6 20.8                                          \n",
              "  TEMPERATURA MÍNIMA NA HORA ANT. (AUT) (°C)_mean\n",
              "1 23.45241                                       \n",
              "2 23.87440                                       \n",
              "3 25.83333                                       \n",
              "4 24.98333                                       \n",
              "5 26.21964                                       \n",
              "6 24.97619                                       "
            ]
          },
          "metadata": {}
        }
      ]
    },
    {
      "cell_type": "markdown",
      "source": [
        "## Temperature Groupby Month"
      ],
      "metadata": {
        "id": "_0ufIw-FXwdC"
      }
    },
    {
      "cell_type": "code",
      "source": [
        "# Using groupby and summarise to calculate max, min and mean\n",
        "result <- data1 %>%\n",
        "  group_by(month = floor_date(data1[[\"Data\"]], \"month\")) %>%\n",
        "  summarise(across(all_of(colnames(temperature_column_filter(data1))),\n",
        "                   list(max = max, min = min, mean = mean),\n",
        "                   .names = \"{.col}_{.fn}\"))\n",
        "\n",
        "head(result)"
      ],
      "metadata": {
        "colab": {
          "base_uri": "https://localhost:8080/",
          "height": 460
        },
        "id": "qp_zuMHgXyku",
        "outputId": "64c8128b-3032-4810-86b5-8c4363ba79f5"
      },
      "execution_count": null,
      "outputs": [
        {
          "output_type": "display_data",
          "data": {
            "text/html": [
              "<table class=\"dataframe\">\n",
              "<caption>A tibble: 6 × 10</caption>\n",
              "<thead>\n",
              "\t<tr><th scope=col>month</th><th scope=col>TEMPERATURA DO AR - BULBO SECO, HORARIA (°C)_max</th><th scope=col>TEMPERATURA DO AR - BULBO SECO, HORARIA (°C)_min</th><th scope=col>TEMPERATURA DO AR - BULBO SECO, HORARIA (°C)_mean</th><th scope=col>TEMPERATURA MÁXIMA NA HORA ANT. (AUT) (°C)_max</th><th scope=col>TEMPERATURA MÁXIMA NA HORA ANT. (AUT) (°C)_min</th><th scope=col>TEMPERATURA MÁXIMA NA HORA ANT. (AUT) (°C)_mean</th><th scope=col>TEMPERATURA MÍNIMA NA HORA ANT. (AUT) (°C)_max</th><th scope=col>TEMPERATURA MÍNIMA NA HORA ANT. (AUT) (°C)_min</th><th scope=col>TEMPERATURA MÍNIMA NA HORA ANT. (AUT) (°C)_mean</th></tr>\n",
              "\t<tr><th scope=col>&lt;date&gt;</th><th scope=col>&lt;dbl&gt;</th><th scope=col>&lt;dbl&gt;</th><th scope=col>&lt;dbl&gt;</th><th scope=col>&lt;dbl&gt;</th><th scope=col>&lt;dbl&gt;</th><th scope=col>&lt;dbl&gt;</th><th scope=col>&lt;dbl&gt;</th><th scope=col>&lt;dbl&gt;</th><th scope=col>&lt;dbl&gt;</th></tr>\n",
              "</thead>\n",
              "<tbody>\n",
              "\t<tr><td>2022-01-01</td><td>39.1</td><td>19.5</td><td>25.77137</td><td>39.9</td><td>19.6</td><td>26.38306</td><td>38.3</td><td>19.5</td><td>25.19395</td></tr>\n",
              "\t<tr><td>2022-02-01</td><td>35.7</td><td>20.5</td><td>25.36203</td><td>36.9</td><td>20.7</td><td>25.89686</td><td>34.9</td><td>20.5</td><td>24.88401</td></tr>\n",
              "\t<tr><td>2022-03-01</td><td>38.3</td><td>20.4</td><td>26.74046</td><td>38.7</td><td>20.6</td><td>27.45941</td><td>37.7</td><td>20.2</td><td>26.03804</td></tr>\n",
              "\t<tr><td>2022-04-01</td><td>36.1</td><td>16.9</td><td>24.31986</td><td>36.4</td><td>17.5</td><td>24.82347</td><td>35.1</td><td>16.8</td><td>23.85833</td></tr>\n",
              "\t<tr><td>2022-05-01</td><td>34.4</td><td>14.1</td><td>22.12083</td><td>34.4</td><td>14.7</td><td>22.69032</td><td>33.8</td><td>13.4</td><td>21.58280</td></tr>\n",
              "\t<tr><td>2022-06-01</td><td>31.4</td><td>13.1</td><td>20.53208</td><td>31.5</td><td>13.4</td><td>21.04597</td><td>29.6</td><td>12.7</td><td>20.04361</td></tr>\n",
              "</tbody>\n",
              "</table>\n"
            ],
            "text/markdown": "\nA tibble: 6 × 10\n\n| month &lt;date&gt; | TEMPERATURA DO AR - BULBO SECO, HORARIA (°C)_max &lt;dbl&gt; | TEMPERATURA DO AR - BULBO SECO, HORARIA (°C)_min &lt;dbl&gt; | TEMPERATURA DO AR - BULBO SECO, HORARIA (°C)_mean &lt;dbl&gt; | TEMPERATURA MÁXIMA NA HORA ANT. (AUT) (°C)_max &lt;dbl&gt; | TEMPERATURA MÁXIMA NA HORA ANT. (AUT) (°C)_min &lt;dbl&gt; | TEMPERATURA MÁXIMA NA HORA ANT. (AUT) (°C)_mean &lt;dbl&gt; | TEMPERATURA MÍNIMA NA HORA ANT. (AUT) (°C)_max &lt;dbl&gt; | TEMPERATURA MÍNIMA NA HORA ANT. (AUT) (°C)_min &lt;dbl&gt; | TEMPERATURA MÍNIMA NA HORA ANT. (AUT) (°C)_mean &lt;dbl&gt; |\n|---|---|---|---|---|---|---|---|---|---|\n| 2022-01-01 | 39.1 | 19.5 | 25.77137 | 39.9 | 19.6 | 26.38306 | 38.3 | 19.5 | 25.19395 |\n| 2022-02-01 | 35.7 | 20.5 | 25.36203 | 36.9 | 20.7 | 25.89686 | 34.9 | 20.5 | 24.88401 |\n| 2022-03-01 | 38.3 | 20.4 | 26.74046 | 38.7 | 20.6 | 27.45941 | 37.7 | 20.2 | 26.03804 |\n| 2022-04-01 | 36.1 | 16.9 | 24.31986 | 36.4 | 17.5 | 24.82347 | 35.1 | 16.8 | 23.85833 |\n| 2022-05-01 | 34.4 | 14.1 | 22.12083 | 34.4 | 14.7 | 22.69032 | 33.8 | 13.4 | 21.58280 |\n| 2022-06-01 | 31.4 | 13.1 | 20.53208 | 31.5 | 13.4 | 21.04597 | 29.6 | 12.7 | 20.04361 |\n\n",
            "text/latex": "A tibble: 6 × 10\n\\begin{tabular}{llllllllll}\n month & TEMPERATURA DO AR - BULBO SECO, HORARIA (°C)\\_max & TEMPERATURA DO AR - BULBO SECO, HORARIA (°C)\\_min & TEMPERATURA DO AR - BULBO SECO, HORARIA (°C)\\_mean & TEMPERATURA MÁXIMA NA HORA ANT. (AUT) (°C)\\_max & TEMPERATURA MÁXIMA NA HORA ANT. (AUT) (°C)\\_min & TEMPERATURA MÁXIMA NA HORA ANT. (AUT) (°C)\\_mean & TEMPERATURA MÍNIMA NA HORA ANT. (AUT) (°C)\\_max & TEMPERATURA MÍNIMA NA HORA ANT. (AUT) (°C)\\_min & TEMPERATURA MÍNIMA NA HORA ANT. (AUT) (°C)\\_mean\\\\\n <date> & <dbl> & <dbl> & <dbl> & <dbl> & <dbl> & <dbl> & <dbl> & <dbl> & <dbl>\\\\\n\\hline\n\t 2022-01-01 & 39.1 & 19.5 & 25.77137 & 39.9 & 19.6 & 26.38306 & 38.3 & 19.5 & 25.19395\\\\\n\t 2022-02-01 & 35.7 & 20.5 & 25.36203 & 36.9 & 20.7 & 25.89686 & 34.9 & 20.5 & 24.88401\\\\\n\t 2022-03-01 & 38.3 & 20.4 & 26.74046 & 38.7 & 20.6 & 27.45941 & 37.7 & 20.2 & 26.03804\\\\\n\t 2022-04-01 & 36.1 & 16.9 & 24.31986 & 36.4 & 17.5 & 24.82347 & 35.1 & 16.8 & 23.85833\\\\\n\t 2022-05-01 & 34.4 & 14.1 & 22.12083 & 34.4 & 14.7 & 22.69032 & 33.8 & 13.4 & 21.58280\\\\\n\t 2022-06-01 & 31.4 & 13.1 & 20.53208 & 31.5 & 13.4 & 21.04597 & 29.6 & 12.7 & 20.04361\\\\\n\\end{tabular}\n",
            "text/plain": [
              "  month      TEMPERATURA DO AR - BULBO SECO, HORARIA (°C)_max\n",
              "1 2022-01-01 39.1                                            \n",
              "2 2022-02-01 35.7                                            \n",
              "3 2022-03-01 38.3                                            \n",
              "4 2022-04-01 36.1                                            \n",
              "5 2022-05-01 34.4                                            \n",
              "6 2022-06-01 31.4                                            \n",
              "  TEMPERATURA DO AR - BULBO SECO, HORARIA (°C)_min\n",
              "1 19.5                                            \n",
              "2 20.5                                            \n",
              "3 20.4                                            \n",
              "4 16.9                                            \n",
              "5 14.1                                            \n",
              "6 13.1                                            \n",
              "  TEMPERATURA DO AR - BULBO SECO, HORARIA (°C)_mean\n",
              "1 25.77137                                         \n",
              "2 25.36203                                         \n",
              "3 26.74046                                         \n",
              "4 24.31986                                         \n",
              "5 22.12083                                         \n",
              "6 20.53208                                         \n",
              "  TEMPERATURA MÁXIMA NA HORA ANT. (AUT) (°C)_max\n",
              "1 39.9                                          \n",
              "2 36.9                                          \n",
              "3 38.7                                          \n",
              "4 36.4                                          \n",
              "5 34.4                                          \n",
              "6 31.5                                          \n",
              "  TEMPERATURA MÁXIMA NA HORA ANT. (AUT) (°C)_min\n",
              "1 19.6                                          \n",
              "2 20.7                                          \n",
              "3 20.6                                          \n",
              "4 17.5                                          \n",
              "5 14.7                                          \n",
              "6 13.4                                          \n",
              "  TEMPERATURA MÁXIMA NA HORA ANT. (AUT) (°C)_mean\n",
              "1 26.38306                                       \n",
              "2 25.89686                                       \n",
              "3 27.45941                                       \n",
              "4 24.82347                                       \n",
              "5 22.69032                                       \n",
              "6 21.04597                                       \n",
              "  TEMPERATURA MÍNIMA NA HORA ANT. (AUT) (°C)_max\n",
              "1 38.3                                          \n",
              "2 34.9                                          \n",
              "3 37.7                                          \n",
              "4 35.1                                          \n",
              "5 33.8                                          \n",
              "6 29.6                                          \n",
              "  TEMPERATURA MÍNIMA NA HORA ANT. (AUT) (°C)_min\n",
              "1 19.5                                          \n",
              "2 20.5                                          \n",
              "3 20.2                                          \n",
              "4 16.8                                          \n",
              "5 13.4                                          \n",
              "6 12.7                                          \n",
              "  TEMPERATURA MÍNIMA NA HORA ANT. (AUT) (°C)_mean\n",
              "1 25.19395                                       \n",
              "2 24.88401                                       \n",
              "3 26.03804                                       \n",
              "4 23.85833                                       \n",
              "5 21.58280                                       \n",
              "6 20.04361                                       "
            ]
          },
          "metadata": {}
        }
      ]
    },
    {
      "cell_type": "code",
      "source": [
        "# Using groupby and summarise to calculate max, min and mean\n",
        "result <- data2 %>%\n",
        "  group_by(month = floor_date(data2[[\"Data\"]], \"month\")) %>%\n",
        "  summarise(across(all_of(colnames(temperature_column_filter(data2))),\n",
        "                   list(max = max, min = min, mean = mean),\n",
        "                   .names = \"{.col}_{.fn}\"))\n",
        "\n",
        "head(result)"
      ],
      "metadata": {
        "colab": {
          "base_uri": "https://localhost:8080/",
          "height": 460
        },
        "id": "kUO4maokX3DL",
        "outputId": "38bd8457-b40f-4b02-903e-fde38dfe514e"
      },
      "execution_count": null,
      "outputs": [
        {
          "output_type": "display_data",
          "data": {
            "text/html": [
              "<table class=\"dataframe\">\n",
              "<caption>A tibble: 6 × 10</caption>\n",
              "<thead>\n",
              "\t<tr><th scope=col>month</th><th scope=col>TEMPERATURA DO AR - BULBO SECO, HORARIA (°C)_max</th><th scope=col>TEMPERATURA DO AR - BULBO SECO, HORARIA (°C)_min</th><th scope=col>TEMPERATURA DO AR - BULBO SECO, HORARIA (°C)_mean</th><th scope=col>TEMPERATURA MÁXIMA NA HORA ANT. (AUT) (°C)_max</th><th scope=col>TEMPERATURA MÁXIMA NA HORA ANT. (AUT) (°C)_min</th><th scope=col>TEMPERATURA MÁXIMA NA HORA ANT. (AUT) (°C)_mean</th><th scope=col>TEMPERATURA MÍNIMA NA HORA ANT. (AUT) (°C)_max</th><th scope=col>TEMPERATURA MÍNIMA NA HORA ANT. (AUT) (°C)_min</th><th scope=col>TEMPERATURA MÍNIMA NA HORA ANT. (AUT) (°C)_mean</th></tr>\n",
              "\t<tr><th scope=col>&lt;date&gt;</th><th scope=col>&lt;dbl&gt;</th><th scope=col>&lt;dbl&gt;</th><th scope=col>&lt;dbl&gt;</th><th scope=col>&lt;dbl&gt;</th><th scope=col>&lt;dbl&gt;</th><th scope=col>&lt;dbl&gt;</th><th scope=col>&lt;dbl&gt;</th><th scope=col>&lt;dbl&gt;</th><th scope=col>&lt;dbl&gt;</th></tr>\n",
              "</thead>\n",
              "<tbody>\n",
              "\t<tr><td>2023-01-01</td><td>35.8</td><td>18.3</td><td>25.15189</td><td>36.5</td><td>18.3</td><td>25.70485</td><td>35.0</td><td>18.2</td><td>24.61429</td></tr>\n",
              "\t<tr><td>2023-02-01</td><td>38.7</td><td>21.0</td><td>26.50193</td><td>38.8</td><td>21.9</td><td>27.11786</td><td>36.3</td><td>20.0</td><td>25.94122</td></tr>\n",
              "\t<tr><td>2023-03-01</td><td>36.8</td><td>20.3</td><td>25.87581</td><td>37.6</td><td>21.0</td><td>26.45726</td><td>35.1</td><td>20.3</td><td>25.36653</td></tr>\n",
              "\t<tr><td>2023-04-01</td><td>32.6</td><td>16.8</td><td>23.67694</td><td>33.3</td><td>17.0</td><td>24.19889</td><td>32.3</td><td>16.5</td><td>23.21542</td></tr>\n",
              "\t<tr><td>2023-05-01</td><td>30.1</td><td>14.3</td><td>22.19724</td><td>31.5</td><td>14.4</td><td>22.74724</td><td>29.4</td><td>14.0</td><td>21.67702</td></tr>\n",
              "\t<tr><td>2023-06-01</td><td>31.7</td><td>13.8</td><td>21.45736</td><td>32.2</td><td>14.1</td><td>22.06069</td><td>31.5</td><td>13.6</td><td>20.90181</td></tr>\n",
              "</tbody>\n",
              "</table>\n"
            ],
            "text/markdown": "\nA tibble: 6 × 10\n\n| month &lt;date&gt; | TEMPERATURA DO AR - BULBO SECO, HORARIA (°C)_max &lt;dbl&gt; | TEMPERATURA DO AR - BULBO SECO, HORARIA (°C)_min &lt;dbl&gt; | TEMPERATURA DO AR - BULBO SECO, HORARIA (°C)_mean &lt;dbl&gt; | TEMPERATURA MÁXIMA NA HORA ANT. (AUT) (°C)_max &lt;dbl&gt; | TEMPERATURA MÁXIMA NA HORA ANT. (AUT) (°C)_min &lt;dbl&gt; | TEMPERATURA MÁXIMA NA HORA ANT. (AUT) (°C)_mean &lt;dbl&gt; | TEMPERATURA MÍNIMA NA HORA ANT. (AUT) (°C)_max &lt;dbl&gt; | TEMPERATURA MÍNIMA NA HORA ANT. (AUT) (°C)_min &lt;dbl&gt; | TEMPERATURA MÍNIMA NA HORA ANT. (AUT) (°C)_mean &lt;dbl&gt; |\n|---|---|---|---|---|---|---|---|---|---|\n| 2023-01-01 | 35.8 | 18.3 | 25.15189 | 36.5 | 18.3 | 25.70485 | 35.0 | 18.2 | 24.61429 |\n| 2023-02-01 | 38.7 | 21.0 | 26.50193 | 38.8 | 21.9 | 27.11786 | 36.3 | 20.0 | 25.94122 |\n| 2023-03-01 | 36.8 | 20.3 | 25.87581 | 37.6 | 21.0 | 26.45726 | 35.1 | 20.3 | 25.36653 |\n| 2023-04-01 | 32.6 | 16.8 | 23.67694 | 33.3 | 17.0 | 24.19889 | 32.3 | 16.5 | 23.21542 |\n| 2023-05-01 | 30.1 | 14.3 | 22.19724 | 31.5 | 14.4 | 22.74724 | 29.4 | 14.0 | 21.67702 |\n| 2023-06-01 | 31.7 | 13.8 | 21.45736 | 32.2 | 14.1 | 22.06069 | 31.5 | 13.6 | 20.90181 |\n\n",
            "text/latex": "A tibble: 6 × 10\n\\begin{tabular}{llllllllll}\n month & TEMPERATURA DO AR - BULBO SECO, HORARIA (°C)\\_max & TEMPERATURA DO AR - BULBO SECO, HORARIA (°C)\\_min & TEMPERATURA DO AR - BULBO SECO, HORARIA (°C)\\_mean & TEMPERATURA MÁXIMA NA HORA ANT. (AUT) (°C)\\_max & TEMPERATURA MÁXIMA NA HORA ANT. (AUT) (°C)\\_min & TEMPERATURA MÁXIMA NA HORA ANT. (AUT) (°C)\\_mean & TEMPERATURA MÍNIMA NA HORA ANT. (AUT) (°C)\\_max & TEMPERATURA MÍNIMA NA HORA ANT. (AUT) (°C)\\_min & TEMPERATURA MÍNIMA NA HORA ANT. (AUT) (°C)\\_mean\\\\\n <date> & <dbl> & <dbl> & <dbl> & <dbl> & <dbl> & <dbl> & <dbl> & <dbl> & <dbl>\\\\\n\\hline\n\t 2023-01-01 & 35.8 & 18.3 & 25.15189 & 36.5 & 18.3 & 25.70485 & 35.0 & 18.2 & 24.61429\\\\\n\t 2023-02-01 & 38.7 & 21.0 & 26.50193 & 38.8 & 21.9 & 27.11786 & 36.3 & 20.0 & 25.94122\\\\\n\t 2023-03-01 & 36.8 & 20.3 & 25.87581 & 37.6 & 21.0 & 26.45726 & 35.1 & 20.3 & 25.36653\\\\\n\t 2023-04-01 & 32.6 & 16.8 & 23.67694 & 33.3 & 17.0 & 24.19889 & 32.3 & 16.5 & 23.21542\\\\\n\t 2023-05-01 & 30.1 & 14.3 & 22.19724 & 31.5 & 14.4 & 22.74724 & 29.4 & 14.0 & 21.67702\\\\\n\t 2023-06-01 & 31.7 & 13.8 & 21.45736 & 32.2 & 14.1 & 22.06069 & 31.5 & 13.6 & 20.90181\\\\\n\\end{tabular}\n",
            "text/plain": [
              "  month      TEMPERATURA DO AR - BULBO SECO, HORARIA (°C)_max\n",
              "1 2023-01-01 35.8                                            \n",
              "2 2023-02-01 38.7                                            \n",
              "3 2023-03-01 36.8                                            \n",
              "4 2023-04-01 32.6                                            \n",
              "5 2023-05-01 30.1                                            \n",
              "6 2023-06-01 31.7                                            \n",
              "  TEMPERATURA DO AR - BULBO SECO, HORARIA (°C)_min\n",
              "1 18.3                                            \n",
              "2 21.0                                            \n",
              "3 20.3                                            \n",
              "4 16.8                                            \n",
              "5 14.3                                            \n",
              "6 13.8                                            \n",
              "  TEMPERATURA DO AR - BULBO SECO, HORARIA (°C)_mean\n",
              "1 25.15189                                         \n",
              "2 26.50193                                         \n",
              "3 25.87581                                         \n",
              "4 23.67694                                         \n",
              "5 22.19724                                         \n",
              "6 21.45736                                         \n",
              "  TEMPERATURA MÁXIMA NA HORA ANT. (AUT) (°C)_max\n",
              "1 36.5                                          \n",
              "2 38.8                                          \n",
              "3 37.6                                          \n",
              "4 33.3                                          \n",
              "5 31.5                                          \n",
              "6 32.2                                          \n",
              "  TEMPERATURA MÁXIMA NA HORA ANT. (AUT) (°C)_min\n",
              "1 18.3                                          \n",
              "2 21.9                                          \n",
              "3 21.0                                          \n",
              "4 17.0                                          \n",
              "5 14.4                                          \n",
              "6 14.1                                          \n",
              "  TEMPERATURA MÁXIMA NA HORA ANT. (AUT) (°C)_mean\n",
              "1 25.70485                                       \n",
              "2 27.11786                                       \n",
              "3 26.45726                                       \n",
              "4 24.19889                                       \n",
              "5 22.74724                                       \n",
              "6 22.06069                                       \n",
              "  TEMPERATURA MÍNIMA NA HORA ANT. (AUT) (°C)_max\n",
              "1 35.0                                          \n",
              "2 36.3                                          \n",
              "3 35.1                                          \n",
              "4 32.3                                          \n",
              "5 29.4                                          \n",
              "6 31.5                                          \n",
              "  TEMPERATURA MÍNIMA NA HORA ANT. (AUT) (°C)_min\n",
              "1 18.2                                          \n",
              "2 20.0                                          \n",
              "3 20.3                                          \n",
              "4 16.5                                          \n",
              "5 14.0                                          \n",
              "6 13.6                                          \n",
              "  TEMPERATURA MÍNIMA NA HORA ANT. (AUT) (°C)_mean\n",
              "1 24.61429                                       \n",
              "2 25.94122                                       \n",
              "3 25.36653                                       \n",
              "4 23.21542                                       \n",
              "5 21.67702                                       \n",
              "6 20.90181                                       "
            ]
          },
          "metadata": {}
        }
      ]
    },
    {
      "cell_type": "markdown",
      "source": [
        "## Temperature Groupby Bimester"
      ],
      "metadata": {
        "id": "iCGN_wFUX6Ie"
      }
    },
    {
      "cell_type": "code",
      "source": [
        "# Using groupby and summarise to calculate max, min and mean\n",
        "result <- data1 %>%\n",
        "  group_by(bimester = floor_date(data1[[\"Data\"]], \"2 months\")) %>%\n",
        "  summarise(across(all_of(colnames(temperature_column_filter(data1))),\n",
        "                   list(max = max, min = min, mean = mean),\n",
        "                   .names = \"{.col}_{.fn}\"))\n",
        "\n",
        "head(result)"
      ],
      "metadata": {
        "colab": {
          "base_uri": "https://localhost:8080/",
          "height": 460
        },
        "id": "WU7XHEefX8-_",
        "outputId": "3ae5862e-8079-48c0-9f16-158c05676d17"
      },
      "execution_count": null,
      "outputs": [
        {
          "output_type": "display_data",
          "data": {
            "text/html": [
              "<table class=\"dataframe\">\n",
              "<caption>A tibble: 6 × 10</caption>\n",
              "<thead>\n",
              "\t<tr><th scope=col>bimester</th><th scope=col>TEMPERATURA DO AR - BULBO SECO, HORARIA (°C)_max</th><th scope=col>TEMPERATURA DO AR - BULBO SECO, HORARIA (°C)_min</th><th scope=col>TEMPERATURA DO AR - BULBO SECO, HORARIA (°C)_mean</th><th scope=col>TEMPERATURA MÁXIMA NA HORA ANT. (AUT) (°C)_max</th><th scope=col>TEMPERATURA MÁXIMA NA HORA ANT. (AUT) (°C)_min</th><th scope=col>TEMPERATURA MÁXIMA NA HORA ANT. (AUT) (°C)_mean</th><th scope=col>TEMPERATURA MÍNIMA NA HORA ANT. (AUT) (°C)_max</th><th scope=col>TEMPERATURA MÍNIMA NA HORA ANT. (AUT) (°C)_min</th><th scope=col>TEMPERATURA MÍNIMA NA HORA ANT. (AUT) (°C)_mean</th></tr>\n",
              "\t<tr><th scope=col>&lt;date&gt;</th><th scope=col>&lt;dbl&gt;</th><th scope=col>&lt;dbl&gt;</th><th scope=col>&lt;dbl&gt;</th><th scope=col>&lt;dbl&gt;</th><th scope=col>&lt;dbl&gt;</th><th scope=col>&lt;dbl&gt;</th><th scope=col>&lt;dbl&gt;</th><th scope=col>&lt;dbl&gt;</th><th scope=col>&lt;dbl&gt;</th></tr>\n",
              "</thead>\n",
              "<tbody>\n",
              "\t<tr><td>2022-01-01</td><td>39.1</td><td>19.5</td><td>25.57757</td><td>39.9</td><td>19.6</td><td>26.15287</td><td>38.3</td><td>19.5</td><td>25.04720</td></tr>\n",
              "\t<tr><td>2022-03-01</td><td>38.3</td><td>16.9</td><td>25.55000</td><td>38.7</td><td>17.5</td><td>26.16305</td><td>37.7</td><td>16.8</td><td>24.96605</td></tr>\n",
              "\t<tr><td>2022-05-01</td><td>34.4</td><td>13.1</td><td>21.33948</td><td>34.4</td><td>13.4</td><td>21.88163</td><td>33.8</td><td>12.7</td><td>20.82582</td></tr>\n",
              "\t<tr><td>2022-07-01</td><td>34.8</td><td>12.7</td><td>21.48333</td><td>34.9</td><td>13.2</td><td>22.11633</td><td>33.5</td><td>12.2</td><td>20.88582</td></tr>\n",
              "\t<tr><td>2022-09-01</td><td>37.3</td><td>11.9</td><td>21.89563</td><td>38.5</td><td>12.5</td><td>22.41195</td><td>36.1</td><td>11.3</td><td>21.42541</td></tr>\n",
              "\t<tr><td>2022-11-01</td><td>34.4</td><td>15.6</td><td>23.32097</td><td>35.1</td><td>15.8</td><td>23.90055</td><td>32.7</td><td>15.6</td><td>22.76359</td></tr>\n",
              "</tbody>\n",
              "</table>\n"
            ],
            "text/markdown": "\nA tibble: 6 × 10\n\n| bimester &lt;date&gt; | TEMPERATURA DO AR - BULBO SECO, HORARIA (°C)_max &lt;dbl&gt; | TEMPERATURA DO AR - BULBO SECO, HORARIA (°C)_min &lt;dbl&gt; | TEMPERATURA DO AR - BULBO SECO, HORARIA (°C)_mean &lt;dbl&gt; | TEMPERATURA MÁXIMA NA HORA ANT. (AUT) (°C)_max &lt;dbl&gt; | TEMPERATURA MÁXIMA NA HORA ANT. (AUT) (°C)_min &lt;dbl&gt; | TEMPERATURA MÁXIMA NA HORA ANT. (AUT) (°C)_mean &lt;dbl&gt; | TEMPERATURA MÍNIMA NA HORA ANT. (AUT) (°C)_max &lt;dbl&gt; | TEMPERATURA MÍNIMA NA HORA ANT. (AUT) (°C)_min &lt;dbl&gt; | TEMPERATURA MÍNIMA NA HORA ANT. (AUT) (°C)_mean &lt;dbl&gt; |\n|---|---|---|---|---|---|---|---|---|---|\n| 2022-01-01 | 39.1 | 19.5 | 25.57757 | 39.9 | 19.6 | 26.15287 | 38.3 | 19.5 | 25.04720 |\n| 2022-03-01 | 38.3 | 16.9 | 25.55000 | 38.7 | 17.5 | 26.16305 | 37.7 | 16.8 | 24.96605 |\n| 2022-05-01 | 34.4 | 13.1 | 21.33948 | 34.4 | 13.4 | 21.88163 | 33.8 | 12.7 | 20.82582 |\n| 2022-07-01 | 34.8 | 12.7 | 21.48333 | 34.9 | 13.2 | 22.11633 | 33.5 | 12.2 | 20.88582 |\n| 2022-09-01 | 37.3 | 11.9 | 21.89563 | 38.5 | 12.5 | 22.41195 | 36.1 | 11.3 | 21.42541 |\n| 2022-11-01 | 34.4 | 15.6 | 23.32097 | 35.1 | 15.8 | 23.90055 | 32.7 | 15.6 | 22.76359 |\n\n",
            "text/latex": "A tibble: 6 × 10\n\\begin{tabular}{llllllllll}\n bimester & TEMPERATURA DO AR - BULBO SECO, HORARIA (°C)\\_max & TEMPERATURA DO AR - BULBO SECO, HORARIA (°C)\\_min & TEMPERATURA DO AR - BULBO SECO, HORARIA (°C)\\_mean & TEMPERATURA MÁXIMA NA HORA ANT. (AUT) (°C)\\_max & TEMPERATURA MÁXIMA NA HORA ANT. (AUT) (°C)\\_min & TEMPERATURA MÁXIMA NA HORA ANT. (AUT) (°C)\\_mean & TEMPERATURA MÍNIMA NA HORA ANT. (AUT) (°C)\\_max & TEMPERATURA MÍNIMA NA HORA ANT. (AUT) (°C)\\_min & TEMPERATURA MÍNIMA NA HORA ANT. (AUT) (°C)\\_mean\\\\\n <date> & <dbl> & <dbl> & <dbl> & <dbl> & <dbl> & <dbl> & <dbl> & <dbl> & <dbl>\\\\\n\\hline\n\t 2022-01-01 & 39.1 & 19.5 & 25.57757 & 39.9 & 19.6 & 26.15287 & 38.3 & 19.5 & 25.04720\\\\\n\t 2022-03-01 & 38.3 & 16.9 & 25.55000 & 38.7 & 17.5 & 26.16305 & 37.7 & 16.8 & 24.96605\\\\\n\t 2022-05-01 & 34.4 & 13.1 & 21.33948 & 34.4 & 13.4 & 21.88163 & 33.8 & 12.7 & 20.82582\\\\\n\t 2022-07-01 & 34.8 & 12.7 & 21.48333 & 34.9 & 13.2 & 22.11633 & 33.5 & 12.2 & 20.88582\\\\\n\t 2022-09-01 & 37.3 & 11.9 & 21.89563 & 38.5 & 12.5 & 22.41195 & 36.1 & 11.3 & 21.42541\\\\\n\t 2022-11-01 & 34.4 & 15.6 & 23.32097 & 35.1 & 15.8 & 23.90055 & 32.7 & 15.6 & 22.76359\\\\\n\\end{tabular}\n",
            "text/plain": [
              "  bimester   TEMPERATURA DO AR - BULBO SECO, HORARIA (°C)_max\n",
              "1 2022-01-01 39.1                                            \n",
              "2 2022-03-01 38.3                                            \n",
              "3 2022-05-01 34.4                                            \n",
              "4 2022-07-01 34.8                                            \n",
              "5 2022-09-01 37.3                                            \n",
              "6 2022-11-01 34.4                                            \n",
              "  TEMPERATURA DO AR - BULBO SECO, HORARIA (°C)_min\n",
              "1 19.5                                            \n",
              "2 16.9                                            \n",
              "3 13.1                                            \n",
              "4 12.7                                            \n",
              "5 11.9                                            \n",
              "6 15.6                                            \n",
              "  TEMPERATURA DO AR - BULBO SECO, HORARIA (°C)_mean\n",
              "1 25.57757                                         \n",
              "2 25.55000                                         \n",
              "3 21.33948                                         \n",
              "4 21.48333                                         \n",
              "5 21.89563                                         \n",
              "6 23.32097                                         \n",
              "  TEMPERATURA MÁXIMA NA HORA ANT. (AUT) (°C)_max\n",
              "1 39.9                                          \n",
              "2 38.7                                          \n",
              "3 34.4                                          \n",
              "4 34.9                                          \n",
              "5 38.5                                          \n",
              "6 35.1                                          \n",
              "  TEMPERATURA MÁXIMA NA HORA ANT. (AUT) (°C)_min\n",
              "1 19.6                                          \n",
              "2 17.5                                          \n",
              "3 13.4                                          \n",
              "4 13.2                                          \n",
              "5 12.5                                          \n",
              "6 15.8                                          \n",
              "  TEMPERATURA MÁXIMA NA HORA ANT. (AUT) (°C)_mean\n",
              "1 26.15287                                       \n",
              "2 26.16305                                       \n",
              "3 21.88163                                       \n",
              "4 22.11633                                       \n",
              "5 22.41195                                       \n",
              "6 23.90055                                       \n",
              "  TEMPERATURA MÍNIMA NA HORA ANT. (AUT) (°C)_max\n",
              "1 38.3                                          \n",
              "2 37.7                                          \n",
              "3 33.8                                          \n",
              "4 33.5                                          \n",
              "5 36.1                                          \n",
              "6 32.7                                          \n",
              "  TEMPERATURA MÍNIMA NA HORA ANT. (AUT) (°C)_min\n",
              "1 19.5                                          \n",
              "2 16.8                                          \n",
              "3 12.7                                          \n",
              "4 12.2                                          \n",
              "5 11.3                                          \n",
              "6 15.6                                          \n",
              "  TEMPERATURA MÍNIMA NA HORA ANT. (AUT) (°C)_mean\n",
              "1 25.04720                                       \n",
              "2 24.96605                                       \n",
              "3 20.82582                                       \n",
              "4 20.88582                                       \n",
              "5 21.42541                                       \n",
              "6 22.76359                                       "
            ]
          },
          "metadata": {}
        }
      ]
    },
    {
      "cell_type": "code",
      "source": [
        "# Using groupby and summarise to calculate max, min and mean\n",
        "result <- data2 %>%\n",
        "  group_by(bimester = floor_date(data2[[\"Data\"]], \"2 months\")) %>%\n",
        "  summarise(across(all_of(colnames(temperature_column_filter(data2))),\n",
        "                   list(max = max, min = min, mean = mean),\n",
        "                   .names = \"{.col}_{.fn}\"))\n",
        "\n",
        "head(result)"
      ],
      "metadata": {
        "colab": {
          "base_uri": "https://localhost:8080/",
          "height": 460
        },
        "id": "lQUUKMLuYBCy",
        "outputId": "16062a35-8421-492a-861b-9f16dd89e895"
      },
      "execution_count": null,
      "outputs": [
        {
          "output_type": "display_data",
          "data": {
            "text/html": [
              "<table class=\"dataframe\">\n",
              "<caption>A tibble: 6 × 10</caption>\n",
              "<thead>\n",
              "\t<tr><th scope=col>bimester</th><th scope=col>TEMPERATURA DO AR - BULBO SECO, HORARIA (°C)_max</th><th scope=col>TEMPERATURA DO AR - BULBO SECO, HORARIA (°C)_min</th><th scope=col>TEMPERATURA DO AR - BULBO SECO, HORARIA (°C)_mean</th><th scope=col>TEMPERATURA MÁXIMA NA HORA ANT. (AUT) (°C)_max</th><th scope=col>TEMPERATURA MÁXIMA NA HORA ANT. (AUT) (°C)_min</th><th scope=col>TEMPERATURA MÁXIMA NA HORA ANT. (AUT) (°C)_mean</th><th scope=col>TEMPERATURA MÍNIMA NA HORA ANT. (AUT) (°C)_max</th><th scope=col>TEMPERATURA MÍNIMA NA HORA ANT. (AUT) (°C)_min</th><th scope=col>TEMPERATURA MÍNIMA NA HORA ANT. (AUT) (°C)_mean</th></tr>\n",
              "\t<tr><th scope=col>&lt;date&gt;</th><th scope=col>&lt;dbl&gt;</th><th scope=col>&lt;dbl&gt;</th><th scope=col>&lt;dbl&gt;</th><th scope=col>&lt;dbl&gt;</th><th scope=col>&lt;dbl&gt;</th><th scope=col>&lt;dbl&gt;</th><th scope=col>&lt;dbl&gt;</th><th scope=col>&lt;dbl&gt;</th><th scope=col>&lt;dbl&gt;</th></tr>\n",
              "</thead>\n",
              "<tbody>\n",
              "\t<tr><td>2023-01-01</td><td>38.7</td><td>18.3</td><td>25.79349</td><td>38.8</td><td>18.3</td><td>26.37638</td><td>36.3</td><td>18.2</td><td>25.24491</td></tr>\n",
              "\t<tr><td>2023-03-01</td><td>36.8</td><td>16.8</td><td>24.79440</td><td>37.6</td><td>17.0</td><td>25.34658</td><td>35.1</td><td>16.5</td><td>24.30861</td></tr>\n",
              "\t<tr><td>2023-05-01</td><td>31.7</td><td>13.8</td><td>21.77579</td><td>32.2</td><td>14.1</td><td>22.35617</td><td>31.5</td><td>13.6</td><td>21.23544</td></tr>\n",
              "\t<tr><td>2023-07-01</td><td>38.2</td><td>13.0</td><td>21.79196</td><td>38.7</td><td>13.3</td><td>22.40640</td><td>37.7</td><td>12.8</td><td>21.20305</td></tr>\n",
              "\t<tr><td>2023-09-01</td><td>27.4</td><td>24.6</td><td>25.48750</td><td>27.7</td><td>24.9</td><td>25.98750</td><td>26.5</td><td>24.5</td><td>25.22500</td></tr>\n",
              "\t<tr><td>2023-11-01</td><td>41.4</td><td>16.7</td><td>25.49187</td><td>41.9</td><td>17.4</td><td>26.13880</td><td>39.0</td><td>16.5</td><td>24.88245</td></tr>\n",
              "</tbody>\n",
              "</table>\n"
            ],
            "text/markdown": "\nA tibble: 6 × 10\n\n| bimester &lt;date&gt; | TEMPERATURA DO AR - BULBO SECO, HORARIA (°C)_max &lt;dbl&gt; | TEMPERATURA DO AR - BULBO SECO, HORARIA (°C)_min &lt;dbl&gt; | TEMPERATURA DO AR - BULBO SECO, HORARIA (°C)_mean &lt;dbl&gt; | TEMPERATURA MÁXIMA NA HORA ANT. (AUT) (°C)_max &lt;dbl&gt; | TEMPERATURA MÁXIMA NA HORA ANT. (AUT) (°C)_min &lt;dbl&gt; | TEMPERATURA MÁXIMA NA HORA ANT. (AUT) (°C)_mean &lt;dbl&gt; | TEMPERATURA MÍNIMA NA HORA ANT. (AUT) (°C)_max &lt;dbl&gt; | TEMPERATURA MÍNIMA NA HORA ANT. (AUT) (°C)_min &lt;dbl&gt; | TEMPERATURA MÍNIMA NA HORA ANT. (AUT) (°C)_mean &lt;dbl&gt; |\n|---|---|---|---|---|---|---|---|---|---|\n| 2023-01-01 | 38.7 | 18.3 | 25.79349 | 38.8 | 18.3 | 26.37638 | 36.3 | 18.2 | 25.24491 |\n| 2023-03-01 | 36.8 | 16.8 | 24.79440 | 37.6 | 17.0 | 25.34658 | 35.1 | 16.5 | 24.30861 |\n| 2023-05-01 | 31.7 | 13.8 | 21.77579 | 32.2 | 14.1 | 22.35617 | 31.5 | 13.6 | 21.23544 |\n| 2023-07-01 | 38.2 | 13.0 | 21.79196 | 38.7 | 13.3 | 22.40640 | 37.7 | 12.8 | 21.20305 |\n| 2023-09-01 | 27.4 | 24.6 | 25.48750 | 27.7 | 24.9 | 25.98750 | 26.5 | 24.5 | 25.22500 |\n| 2023-11-01 | 41.4 | 16.7 | 25.49187 | 41.9 | 17.4 | 26.13880 | 39.0 | 16.5 | 24.88245 |\n\n",
            "text/latex": "A tibble: 6 × 10\n\\begin{tabular}{llllllllll}\n bimester & TEMPERATURA DO AR - BULBO SECO, HORARIA (°C)\\_max & TEMPERATURA DO AR - BULBO SECO, HORARIA (°C)\\_min & TEMPERATURA DO AR - BULBO SECO, HORARIA (°C)\\_mean & TEMPERATURA MÁXIMA NA HORA ANT. (AUT) (°C)\\_max & TEMPERATURA MÁXIMA NA HORA ANT. (AUT) (°C)\\_min & TEMPERATURA MÁXIMA NA HORA ANT. (AUT) (°C)\\_mean & TEMPERATURA MÍNIMA NA HORA ANT. (AUT) (°C)\\_max & TEMPERATURA MÍNIMA NA HORA ANT. (AUT) (°C)\\_min & TEMPERATURA MÍNIMA NA HORA ANT. (AUT) (°C)\\_mean\\\\\n <date> & <dbl> & <dbl> & <dbl> & <dbl> & <dbl> & <dbl> & <dbl> & <dbl> & <dbl>\\\\\n\\hline\n\t 2023-01-01 & 38.7 & 18.3 & 25.79349 & 38.8 & 18.3 & 26.37638 & 36.3 & 18.2 & 25.24491\\\\\n\t 2023-03-01 & 36.8 & 16.8 & 24.79440 & 37.6 & 17.0 & 25.34658 & 35.1 & 16.5 & 24.30861\\\\\n\t 2023-05-01 & 31.7 & 13.8 & 21.77579 & 32.2 & 14.1 & 22.35617 & 31.5 & 13.6 & 21.23544\\\\\n\t 2023-07-01 & 38.2 & 13.0 & 21.79196 & 38.7 & 13.3 & 22.40640 & 37.7 & 12.8 & 21.20305\\\\\n\t 2023-09-01 & 27.4 & 24.6 & 25.48750 & 27.7 & 24.9 & 25.98750 & 26.5 & 24.5 & 25.22500\\\\\n\t 2023-11-01 & 41.4 & 16.7 & 25.49187 & 41.9 & 17.4 & 26.13880 & 39.0 & 16.5 & 24.88245\\\\\n\\end{tabular}\n",
            "text/plain": [
              "  bimester   TEMPERATURA DO AR - BULBO SECO, HORARIA (°C)_max\n",
              "1 2023-01-01 38.7                                            \n",
              "2 2023-03-01 36.8                                            \n",
              "3 2023-05-01 31.7                                            \n",
              "4 2023-07-01 38.2                                            \n",
              "5 2023-09-01 27.4                                            \n",
              "6 2023-11-01 41.4                                            \n",
              "  TEMPERATURA DO AR - BULBO SECO, HORARIA (°C)_min\n",
              "1 18.3                                            \n",
              "2 16.8                                            \n",
              "3 13.8                                            \n",
              "4 13.0                                            \n",
              "5 24.6                                            \n",
              "6 16.7                                            \n",
              "  TEMPERATURA DO AR - BULBO SECO, HORARIA (°C)_mean\n",
              "1 25.79349                                         \n",
              "2 24.79440                                         \n",
              "3 21.77579                                         \n",
              "4 21.79196                                         \n",
              "5 25.48750                                         \n",
              "6 25.49187                                         \n",
              "  TEMPERATURA MÁXIMA NA HORA ANT. (AUT) (°C)_max\n",
              "1 38.8                                          \n",
              "2 37.6                                          \n",
              "3 32.2                                          \n",
              "4 38.7                                          \n",
              "5 27.7                                          \n",
              "6 41.9                                          \n",
              "  TEMPERATURA MÁXIMA NA HORA ANT. (AUT) (°C)_min\n",
              "1 18.3                                          \n",
              "2 17.0                                          \n",
              "3 14.1                                          \n",
              "4 13.3                                          \n",
              "5 24.9                                          \n",
              "6 17.4                                          \n",
              "  TEMPERATURA MÁXIMA NA HORA ANT. (AUT) (°C)_mean\n",
              "1 26.37638                                       \n",
              "2 25.34658                                       \n",
              "3 22.35617                                       \n",
              "4 22.40640                                       \n",
              "5 25.98750                                       \n",
              "6 26.13880                                       \n",
              "  TEMPERATURA MÍNIMA NA HORA ANT. (AUT) (°C)_max\n",
              "1 36.3                                          \n",
              "2 35.1                                          \n",
              "3 31.5                                          \n",
              "4 37.7                                          \n",
              "5 26.5                                          \n",
              "6 39.0                                          \n",
              "  TEMPERATURA MÍNIMA NA HORA ANT. (AUT) (°C)_min\n",
              "1 18.2                                          \n",
              "2 16.5                                          \n",
              "3 13.6                                          \n",
              "4 12.8                                          \n",
              "5 24.5                                          \n",
              "6 16.5                                          \n",
              "  TEMPERATURA MÍNIMA NA HORA ANT. (AUT) (°C)_mean\n",
              "1 25.24491                                       \n",
              "2 24.30861                                       \n",
              "3 21.23544                                       \n",
              "4 21.20305                                       \n",
              "5 25.22500                                       \n",
              "6 24.88245                                       "
            ]
          },
          "metadata": {}
        }
      ]
    },
    {
      "cell_type": "markdown",
      "source": [
        "## Temperature Groupby Trimester"
      ],
      "metadata": {
        "id": "dMPWU5z-YFeA"
      }
    },
    {
      "cell_type": "code",
      "source": [
        "# Using groupby and summarise to calculate max, min and mean\n",
        "result <- data1 %>%\n",
        "  group_by(trimester = floor_date(data1[[\"Data\"]], \"3 months\")) %>%\n",
        "  summarise(across(all_of(colnames(temperature_column_filter(data1))),\n",
        "                   list(max = max, min = min, mean = mean),\n",
        "                   .names = \"{.col}_{.fn}\"))\n",
        "\n",
        "head(result)"
      ],
      "metadata": {
        "colab": {
          "base_uri": "https://localhost:8080/",
          "height": 293
        },
        "id": "6NGPPO7MYH9R",
        "outputId": "107fb771-4ad3-42e6-81f6-e213a2eb4af5"
      },
      "execution_count": null,
      "outputs": [
        {
          "output_type": "display_data",
          "data": {
            "text/html": [
              "<table class=\"dataframe\">\n",
              "<caption>A tibble: 4 × 10</caption>\n",
              "<thead>\n",
              "\t<tr><th scope=col>trimester</th><th scope=col>TEMPERATURA DO AR - BULBO SECO, HORARIA (°C)_max</th><th scope=col>TEMPERATURA DO AR - BULBO SECO, HORARIA (°C)_min</th><th scope=col>TEMPERATURA DO AR - BULBO SECO, HORARIA (°C)_mean</th><th scope=col>TEMPERATURA MÁXIMA NA HORA ANT. (AUT) (°C)_max</th><th scope=col>TEMPERATURA MÁXIMA NA HORA ANT. (AUT) (°C)_min</th><th scope=col>TEMPERATURA MÁXIMA NA HORA ANT. (AUT) (°C)_mean</th><th scope=col>TEMPERATURA MÍNIMA NA HORA ANT. (AUT) (°C)_max</th><th scope=col>TEMPERATURA MÍNIMA NA HORA ANT. (AUT) (°C)_min</th><th scope=col>TEMPERATURA MÍNIMA NA HORA ANT. (AUT) (°C)_mean</th></tr>\n",
              "\t<tr><th scope=col>&lt;date&gt;</th><th scope=col>&lt;dbl&gt;</th><th scope=col>&lt;dbl&gt;</th><th scope=col>&lt;dbl&gt;</th><th scope=col>&lt;dbl&gt;</th><th scope=col>&lt;dbl&gt;</th><th scope=col>&lt;dbl&gt;</th><th scope=col>&lt;dbl&gt;</th><th scope=col>&lt;dbl&gt;</th><th scope=col>&lt;dbl&gt;</th></tr>\n",
              "</thead>\n",
              "<tbody>\n",
              "\t<tr><td>2022-01-01</td><td>39.1</td><td>19.5</td><td>25.97867</td><td>39.9</td><td>19.6</td><td>26.60352</td><td>38.3</td><td>19.5</td><td>25.38897</td></tr>\n",
              "\t<tr><td>2022-04-01</td><td>36.1</td><td>13.1</td><td>22.32202</td><td>36.4</td><td>13.4</td><td>22.85147</td><td>35.1</td><td>12.7</td><td>21.82555</td></tr>\n",
              "\t<tr><td>2022-07-01</td><td>37.3</td><td>11.9</td><td>21.15466</td><td>38.5</td><td>12.5</td><td>21.74905</td><td>36.1</td><td>11.3</td><td>20.59665</td></tr>\n",
              "\t<tr><td>2022-10-01</td><td>36.9</td><td>15.6</td><td>23.30380</td><td>38.0</td><td>15.8</td><td>23.86264</td><td>35.8</td><td>15.6</td><td>22.77781</td></tr>\n",
              "</tbody>\n",
              "</table>\n"
            ],
            "text/markdown": "\nA tibble: 4 × 10\n\n| trimester &lt;date&gt; | TEMPERATURA DO AR - BULBO SECO, HORARIA (°C)_max &lt;dbl&gt; | TEMPERATURA DO AR - BULBO SECO, HORARIA (°C)_min &lt;dbl&gt; | TEMPERATURA DO AR - BULBO SECO, HORARIA (°C)_mean &lt;dbl&gt; | TEMPERATURA MÁXIMA NA HORA ANT. (AUT) (°C)_max &lt;dbl&gt; | TEMPERATURA MÁXIMA NA HORA ANT. (AUT) (°C)_min &lt;dbl&gt; | TEMPERATURA MÁXIMA NA HORA ANT. (AUT) (°C)_mean &lt;dbl&gt; | TEMPERATURA MÍNIMA NA HORA ANT. (AUT) (°C)_max &lt;dbl&gt; | TEMPERATURA MÍNIMA NA HORA ANT. (AUT) (°C)_min &lt;dbl&gt; | TEMPERATURA MÍNIMA NA HORA ANT. (AUT) (°C)_mean &lt;dbl&gt; |\n|---|---|---|---|---|---|---|---|---|---|\n| 2022-01-01 | 39.1 | 19.5 | 25.97867 | 39.9 | 19.6 | 26.60352 | 38.3 | 19.5 | 25.38897 |\n| 2022-04-01 | 36.1 | 13.1 | 22.32202 | 36.4 | 13.4 | 22.85147 | 35.1 | 12.7 | 21.82555 |\n| 2022-07-01 | 37.3 | 11.9 | 21.15466 | 38.5 | 12.5 | 21.74905 | 36.1 | 11.3 | 20.59665 |\n| 2022-10-01 | 36.9 | 15.6 | 23.30380 | 38.0 | 15.8 | 23.86264 | 35.8 | 15.6 | 22.77781 |\n\n",
            "text/latex": "A tibble: 4 × 10\n\\begin{tabular}{llllllllll}\n trimester & TEMPERATURA DO AR - BULBO SECO, HORARIA (°C)\\_max & TEMPERATURA DO AR - BULBO SECO, HORARIA (°C)\\_min & TEMPERATURA DO AR - BULBO SECO, HORARIA (°C)\\_mean & TEMPERATURA MÁXIMA NA HORA ANT. (AUT) (°C)\\_max & TEMPERATURA MÁXIMA NA HORA ANT. (AUT) (°C)\\_min & TEMPERATURA MÁXIMA NA HORA ANT. (AUT) (°C)\\_mean & TEMPERATURA MÍNIMA NA HORA ANT. (AUT) (°C)\\_max & TEMPERATURA MÍNIMA NA HORA ANT. (AUT) (°C)\\_min & TEMPERATURA MÍNIMA NA HORA ANT. (AUT) (°C)\\_mean\\\\\n <date> & <dbl> & <dbl> & <dbl> & <dbl> & <dbl> & <dbl> & <dbl> & <dbl> & <dbl>\\\\\n\\hline\n\t 2022-01-01 & 39.1 & 19.5 & 25.97867 & 39.9 & 19.6 & 26.60352 & 38.3 & 19.5 & 25.38897\\\\\n\t 2022-04-01 & 36.1 & 13.1 & 22.32202 & 36.4 & 13.4 & 22.85147 & 35.1 & 12.7 & 21.82555\\\\\n\t 2022-07-01 & 37.3 & 11.9 & 21.15466 & 38.5 & 12.5 & 21.74905 & 36.1 & 11.3 & 20.59665\\\\\n\t 2022-10-01 & 36.9 & 15.6 & 23.30380 & 38.0 & 15.8 & 23.86264 & 35.8 & 15.6 & 22.77781\\\\\n\\end{tabular}\n",
            "text/plain": [
              "  trimester  TEMPERATURA DO AR - BULBO SECO, HORARIA (°C)_max\n",
              "1 2022-01-01 39.1                                            \n",
              "2 2022-04-01 36.1                                            \n",
              "3 2022-07-01 37.3                                            \n",
              "4 2022-10-01 36.9                                            \n",
              "  TEMPERATURA DO AR - BULBO SECO, HORARIA (°C)_min\n",
              "1 19.5                                            \n",
              "2 13.1                                            \n",
              "3 11.9                                            \n",
              "4 15.6                                            \n",
              "  TEMPERATURA DO AR - BULBO SECO, HORARIA (°C)_mean\n",
              "1 25.97867                                         \n",
              "2 22.32202                                         \n",
              "3 21.15466                                         \n",
              "4 23.30380                                         \n",
              "  TEMPERATURA MÁXIMA NA HORA ANT. (AUT) (°C)_max\n",
              "1 39.9                                          \n",
              "2 36.4                                          \n",
              "3 38.5                                          \n",
              "4 38.0                                          \n",
              "  TEMPERATURA MÁXIMA NA HORA ANT. (AUT) (°C)_min\n",
              "1 19.6                                          \n",
              "2 13.4                                          \n",
              "3 12.5                                          \n",
              "4 15.8                                          \n",
              "  TEMPERATURA MÁXIMA NA HORA ANT. (AUT) (°C)_mean\n",
              "1 26.60352                                       \n",
              "2 22.85147                                       \n",
              "3 21.74905                                       \n",
              "4 23.86264                                       \n",
              "  TEMPERATURA MÍNIMA NA HORA ANT. (AUT) (°C)_max\n",
              "1 38.3                                          \n",
              "2 35.1                                          \n",
              "3 36.1                                          \n",
              "4 35.8                                          \n",
              "  TEMPERATURA MÍNIMA NA HORA ANT. (AUT) (°C)_min\n",
              "1 19.5                                          \n",
              "2 12.7                                          \n",
              "3 11.3                                          \n",
              "4 15.6                                          \n",
              "  TEMPERATURA MÍNIMA NA HORA ANT. (AUT) (°C)_mean\n",
              "1 25.38897                                       \n",
              "2 21.82555                                       \n",
              "3 20.59665                                       \n",
              "4 22.77781                                       "
            ]
          },
          "metadata": {}
        }
      ]
    },
    {
      "cell_type": "code",
      "source": [
        "# Using groupby and summarise to calculate max, min and mean\n",
        "result <- data2 %>%\n",
        "  group_by(trimester = floor_date(data2[[\"Data\"]], \"3 months\")) %>%\n",
        "  summarise(across(all_of(colnames(temperature_column_filter(data2))),\n",
        "                   list(max = max, min = min, mean = mean),\n",
        "                   .names = \"{.col}_{.fn}\"))\n",
        "\n",
        "head(result)"
      ],
      "metadata": {
        "colab": {
          "base_uri": "https://localhost:8080/",
          "height": 293
        },
        "id": "Uklxt6zLYKlZ",
        "outputId": "f5d15ab3-217d-4c1a-ae66-a5609c54e7b8"
      },
      "execution_count": null,
      "outputs": [
        {
          "output_type": "display_data",
          "data": {
            "text/html": [
              "<table class=\"dataframe\">\n",
              "<caption>A tibble: 4 × 10</caption>\n",
              "<thead>\n",
              "\t<tr><th scope=col>trimester</th><th scope=col>TEMPERATURA DO AR - BULBO SECO, HORARIA (°C)_max</th><th scope=col>TEMPERATURA DO AR - BULBO SECO, HORARIA (°C)_min</th><th scope=col>TEMPERATURA DO AR - BULBO SECO, HORARIA (°C)_mean</th><th scope=col>TEMPERATURA MÁXIMA NA HORA ANT. (AUT) (°C)_max</th><th scope=col>TEMPERATURA MÁXIMA NA HORA ANT. (AUT) (°C)_min</th><th scope=col>TEMPERATURA MÁXIMA NA HORA ANT. (AUT) (°C)_mean</th><th scope=col>TEMPERATURA MÍNIMA NA HORA ANT. (AUT) (°C)_max</th><th scope=col>TEMPERATURA MÍNIMA NA HORA ANT. (AUT) (°C)_min</th><th scope=col>TEMPERATURA MÍNIMA NA HORA ANT. (AUT) (°C)_mean</th></tr>\n",
              "\t<tr><th scope=col>&lt;date&gt;</th><th scope=col>&lt;dbl&gt;</th><th scope=col>&lt;dbl&gt;</th><th scope=col>&lt;dbl&gt;</th><th scope=col>&lt;dbl&gt;</th><th scope=col>&lt;dbl&gt;</th><th scope=col>&lt;dbl&gt;</th><th scope=col>&lt;dbl&gt;</th><th scope=col>&lt;dbl&gt;</th><th scope=col>&lt;dbl&gt;</th></tr>\n",
              "</thead>\n",
              "<tbody>\n",
              "\t<tr><td>2023-01-01</td><td>38.7</td><td>18.3</td><td>25.82187</td><td>38.8</td><td>18.3</td><td>26.40426</td><td>36.3</td><td>18.2</td><td>25.28684</td></tr>\n",
              "\t<tr><td>2023-04-01</td><td>32.6</td><td>13.8</td><td>22.46573</td><td>33.3</td><td>14.1</td><td>23.02490</td><td>32.3</td><td>13.6</td><td>21.95398</td></tr>\n",
              "\t<tr><td>2023-07-01</td><td>38.2</td><td>13.0</td><td>21.79196</td><td>38.7</td><td>13.3</td><td>22.40640</td><td>37.7</td><td>12.8</td><td>21.20305</td></tr>\n",
              "\t<tr><td>2023-10-01</td><td>41.4</td><td>16.7</td><td>25.49185</td><td>41.9</td><td>17.4</td><td>26.13798</td><td>39.0</td><td>16.5</td><td>24.88431</td></tr>\n",
              "</tbody>\n",
              "</table>\n"
            ],
            "text/markdown": "\nA tibble: 4 × 10\n\n| trimester &lt;date&gt; | TEMPERATURA DO AR - BULBO SECO, HORARIA (°C)_max &lt;dbl&gt; | TEMPERATURA DO AR - BULBO SECO, HORARIA (°C)_min &lt;dbl&gt; | TEMPERATURA DO AR - BULBO SECO, HORARIA (°C)_mean &lt;dbl&gt; | TEMPERATURA MÁXIMA NA HORA ANT. (AUT) (°C)_max &lt;dbl&gt; | TEMPERATURA MÁXIMA NA HORA ANT. (AUT) (°C)_min &lt;dbl&gt; | TEMPERATURA MÁXIMA NA HORA ANT. (AUT) (°C)_mean &lt;dbl&gt; | TEMPERATURA MÍNIMA NA HORA ANT. (AUT) (°C)_max &lt;dbl&gt; | TEMPERATURA MÍNIMA NA HORA ANT. (AUT) (°C)_min &lt;dbl&gt; | TEMPERATURA MÍNIMA NA HORA ANT. (AUT) (°C)_mean &lt;dbl&gt; |\n|---|---|---|---|---|---|---|---|---|---|\n| 2023-01-01 | 38.7 | 18.3 | 25.82187 | 38.8 | 18.3 | 26.40426 | 36.3 | 18.2 | 25.28684 |\n| 2023-04-01 | 32.6 | 13.8 | 22.46573 | 33.3 | 14.1 | 23.02490 | 32.3 | 13.6 | 21.95398 |\n| 2023-07-01 | 38.2 | 13.0 | 21.79196 | 38.7 | 13.3 | 22.40640 | 37.7 | 12.8 | 21.20305 |\n| 2023-10-01 | 41.4 | 16.7 | 25.49185 | 41.9 | 17.4 | 26.13798 | 39.0 | 16.5 | 24.88431 |\n\n",
            "text/latex": "A tibble: 4 × 10\n\\begin{tabular}{llllllllll}\n trimester & TEMPERATURA DO AR - BULBO SECO, HORARIA (°C)\\_max & TEMPERATURA DO AR - BULBO SECO, HORARIA (°C)\\_min & TEMPERATURA DO AR - BULBO SECO, HORARIA (°C)\\_mean & TEMPERATURA MÁXIMA NA HORA ANT. (AUT) (°C)\\_max & TEMPERATURA MÁXIMA NA HORA ANT. (AUT) (°C)\\_min & TEMPERATURA MÁXIMA NA HORA ANT. (AUT) (°C)\\_mean & TEMPERATURA MÍNIMA NA HORA ANT. (AUT) (°C)\\_max & TEMPERATURA MÍNIMA NA HORA ANT. (AUT) (°C)\\_min & TEMPERATURA MÍNIMA NA HORA ANT. (AUT) (°C)\\_mean\\\\\n <date> & <dbl> & <dbl> & <dbl> & <dbl> & <dbl> & <dbl> & <dbl> & <dbl> & <dbl>\\\\\n\\hline\n\t 2023-01-01 & 38.7 & 18.3 & 25.82187 & 38.8 & 18.3 & 26.40426 & 36.3 & 18.2 & 25.28684\\\\\n\t 2023-04-01 & 32.6 & 13.8 & 22.46573 & 33.3 & 14.1 & 23.02490 & 32.3 & 13.6 & 21.95398\\\\\n\t 2023-07-01 & 38.2 & 13.0 & 21.79196 & 38.7 & 13.3 & 22.40640 & 37.7 & 12.8 & 21.20305\\\\\n\t 2023-10-01 & 41.4 & 16.7 & 25.49185 & 41.9 & 17.4 & 26.13798 & 39.0 & 16.5 & 24.88431\\\\\n\\end{tabular}\n",
            "text/plain": [
              "  trimester  TEMPERATURA DO AR - BULBO SECO, HORARIA (°C)_max\n",
              "1 2023-01-01 38.7                                            \n",
              "2 2023-04-01 32.6                                            \n",
              "3 2023-07-01 38.2                                            \n",
              "4 2023-10-01 41.4                                            \n",
              "  TEMPERATURA DO AR - BULBO SECO, HORARIA (°C)_min\n",
              "1 18.3                                            \n",
              "2 13.8                                            \n",
              "3 13.0                                            \n",
              "4 16.7                                            \n",
              "  TEMPERATURA DO AR - BULBO SECO, HORARIA (°C)_mean\n",
              "1 25.82187                                         \n",
              "2 22.46573                                         \n",
              "3 21.79196                                         \n",
              "4 25.49185                                         \n",
              "  TEMPERATURA MÁXIMA NA HORA ANT. (AUT) (°C)_max\n",
              "1 38.8                                          \n",
              "2 33.3                                          \n",
              "3 38.7                                          \n",
              "4 41.9                                          \n",
              "  TEMPERATURA MÁXIMA NA HORA ANT. (AUT) (°C)_min\n",
              "1 18.3                                          \n",
              "2 14.1                                          \n",
              "3 13.3                                          \n",
              "4 17.4                                          \n",
              "  TEMPERATURA MÁXIMA NA HORA ANT. (AUT) (°C)_mean\n",
              "1 26.40426                                       \n",
              "2 23.02490                                       \n",
              "3 22.40640                                       \n",
              "4 26.13798                                       \n",
              "  TEMPERATURA MÍNIMA NA HORA ANT. (AUT) (°C)_max\n",
              "1 36.3                                          \n",
              "2 32.3                                          \n",
              "3 37.7                                          \n",
              "4 39.0                                          \n",
              "  TEMPERATURA MÍNIMA NA HORA ANT. (AUT) (°C)_min\n",
              "1 18.2                                          \n",
              "2 13.6                                          \n",
              "3 12.8                                          \n",
              "4 16.5                                          \n",
              "  TEMPERATURA MÍNIMA NA HORA ANT. (AUT) (°C)_mean\n",
              "1 25.28684                                       \n",
              "2 21.95398                                       \n",
              "3 21.20305                                       \n",
              "4 24.88431                                       "
            ]
          },
          "metadata": {}
        }
      ]
    },
    {
      "cell_type": "markdown",
      "source": [
        "## Temperature Groupby Semester"
      ],
      "metadata": {
        "id": "8-1hAh1-YPkx"
      }
    },
    {
      "cell_type": "code",
      "source": [
        "# Using groupby and summarise to calculate max, min and mean\n",
        "result <- data1 %>%\n",
        "  group_by(semester = floor_date(data1[[\"Data\"]], \"6 months\")) %>%\n",
        "  summarise(across(all_of(colnames(temperature_column_filter(data1))),\n",
        "                   list(max = max, min = min, mean = mean),\n",
        "                   .names = \"{.col}_{.fn}\"))\n",
        "\n",
        "head(result)"
      ],
      "metadata": {
        "colab": {
          "base_uri": "https://localhost:8080/",
          "height": 265
        },
        "id": "wQNkyhcDYO0i",
        "outputId": "fab364c0-87ba-4686-80b5-3b64fabb2c00"
      },
      "execution_count": null,
      "outputs": [
        {
          "output_type": "display_data",
          "data": {
            "text/html": [
              "<table class=\"dataframe\">\n",
              "<caption>A tibble: 2 × 10</caption>\n",
              "<thead>\n",
              "\t<tr><th scope=col>semester</th><th scope=col>TEMPERATURA DO AR - BULBO SECO, HORARIA (°C)_max</th><th scope=col>TEMPERATURA DO AR - BULBO SECO, HORARIA (°C)_min</th><th scope=col>TEMPERATURA DO AR - BULBO SECO, HORARIA (°C)_mean</th><th scope=col>TEMPERATURA MÁXIMA NA HORA ANT. (AUT) (°C)_max</th><th scope=col>TEMPERATURA MÁXIMA NA HORA ANT. (AUT) (°C)_min</th><th scope=col>TEMPERATURA MÁXIMA NA HORA ANT. (AUT) (°C)_mean</th><th scope=col>TEMPERATURA MÍNIMA NA HORA ANT. (AUT) (°C)_max</th><th scope=col>TEMPERATURA MÍNIMA NA HORA ANT. (AUT) (°C)_min</th><th scope=col>TEMPERATURA MÍNIMA NA HORA ANT. (AUT) (°C)_mean</th></tr>\n",
              "\t<tr><th scope=col>&lt;date&gt;</th><th scope=col>&lt;dbl&gt;</th><th scope=col>&lt;dbl&gt;</th><th scope=col>&lt;dbl&gt;</th><th scope=col>&lt;dbl&gt;</th><th scope=col>&lt;dbl&gt;</th><th scope=col>&lt;dbl&gt;</th><th scope=col>&lt;dbl&gt;</th><th scope=col>&lt;dbl&gt;</th><th scope=col>&lt;dbl&gt;</th></tr>\n",
              "</thead>\n",
              "<tbody>\n",
              "\t<tr><td>2022-01-01</td><td>39.1</td><td>13.1</td><td>24.13898</td><td>39.9</td><td>13.4</td><td>24.71583</td><td>38.3</td><td>12.7</td><td>23.59618</td></tr>\n",
              "\t<tr><td>2022-07-01</td><td>37.3</td><td>11.9</td><td>22.22923</td><td>38.5</td><td>12.5</td><td>22.80584</td><td>36.1</td><td>11.3</td><td>21.68723</td></tr>\n",
              "</tbody>\n",
              "</table>\n"
            ],
            "text/markdown": "\nA tibble: 2 × 10\n\n| semester &lt;date&gt; | TEMPERATURA DO AR - BULBO SECO, HORARIA (°C)_max &lt;dbl&gt; | TEMPERATURA DO AR - BULBO SECO, HORARIA (°C)_min &lt;dbl&gt; | TEMPERATURA DO AR - BULBO SECO, HORARIA (°C)_mean &lt;dbl&gt; | TEMPERATURA MÁXIMA NA HORA ANT. (AUT) (°C)_max &lt;dbl&gt; | TEMPERATURA MÁXIMA NA HORA ANT. (AUT) (°C)_min &lt;dbl&gt; | TEMPERATURA MÁXIMA NA HORA ANT. (AUT) (°C)_mean &lt;dbl&gt; | TEMPERATURA MÍNIMA NA HORA ANT. (AUT) (°C)_max &lt;dbl&gt; | TEMPERATURA MÍNIMA NA HORA ANT. (AUT) (°C)_min &lt;dbl&gt; | TEMPERATURA MÍNIMA NA HORA ANT. (AUT) (°C)_mean &lt;dbl&gt; |\n|---|---|---|---|---|---|---|---|---|---|\n| 2022-01-01 | 39.1 | 13.1 | 24.13898 | 39.9 | 13.4 | 24.71583 | 38.3 | 12.7 | 23.59618 |\n| 2022-07-01 | 37.3 | 11.9 | 22.22923 | 38.5 | 12.5 | 22.80584 | 36.1 | 11.3 | 21.68723 |\n\n",
            "text/latex": "A tibble: 2 × 10\n\\begin{tabular}{llllllllll}\n semester & TEMPERATURA DO AR - BULBO SECO, HORARIA (°C)\\_max & TEMPERATURA DO AR - BULBO SECO, HORARIA (°C)\\_min & TEMPERATURA DO AR - BULBO SECO, HORARIA (°C)\\_mean & TEMPERATURA MÁXIMA NA HORA ANT. (AUT) (°C)\\_max & TEMPERATURA MÁXIMA NA HORA ANT. (AUT) (°C)\\_min & TEMPERATURA MÁXIMA NA HORA ANT. (AUT) (°C)\\_mean & TEMPERATURA MÍNIMA NA HORA ANT. (AUT) (°C)\\_max & TEMPERATURA MÍNIMA NA HORA ANT. (AUT) (°C)\\_min & TEMPERATURA MÍNIMA NA HORA ANT. (AUT) (°C)\\_mean\\\\\n <date> & <dbl> & <dbl> & <dbl> & <dbl> & <dbl> & <dbl> & <dbl> & <dbl> & <dbl>\\\\\n\\hline\n\t 2022-01-01 & 39.1 & 13.1 & 24.13898 & 39.9 & 13.4 & 24.71583 & 38.3 & 12.7 & 23.59618\\\\\n\t 2022-07-01 & 37.3 & 11.9 & 22.22923 & 38.5 & 12.5 & 22.80584 & 36.1 & 11.3 & 21.68723\\\\\n\\end{tabular}\n",
            "text/plain": [
              "  semester   TEMPERATURA DO AR - BULBO SECO, HORARIA (°C)_max\n",
              "1 2022-01-01 39.1                                            \n",
              "2 2022-07-01 37.3                                            \n",
              "  TEMPERATURA DO AR - BULBO SECO, HORARIA (°C)_min\n",
              "1 13.1                                            \n",
              "2 11.9                                            \n",
              "  TEMPERATURA DO AR - BULBO SECO, HORARIA (°C)_mean\n",
              "1 24.13898                                         \n",
              "2 22.22923                                         \n",
              "  TEMPERATURA MÁXIMA NA HORA ANT. (AUT) (°C)_max\n",
              "1 39.9                                          \n",
              "2 38.5                                          \n",
              "  TEMPERATURA MÁXIMA NA HORA ANT. (AUT) (°C)_min\n",
              "1 13.4                                          \n",
              "2 12.5                                          \n",
              "  TEMPERATURA MÁXIMA NA HORA ANT. (AUT) (°C)_mean\n",
              "1 24.71583                                       \n",
              "2 22.80584                                       \n",
              "  TEMPERATURA MÍNIMA NA HORA ANT. (AUT) (°C)_max\n",
              "1 38.3                                          \n",
              "2 36.1                                          \n",
              "  TEMPERATURA MÍNIMA NA HORA ANT. (AUT) (°C)_min\n",
              "1 12.7                                          \n",
              "2 11.3                                          \n",
              "  TEMPERATURA MÍNIMA NA HORA ANT. (AUT) (°C)_mean\n",
              "1 23.59618                                       \n",
              "2 21.68723                                       "
            ]
          },
          "metadata": {}
        }
      ]
    },
    {
      "cell_type": "code",
      "source": [
        "# Using groupby and summarise to calculate max, min and mean\n",
        "result <- data2 %>%\n",
        "  group_by(semester = floor_date(data2[[\"Data\"]], \"6 months\")) %>%\n",
        "  summarise(across(all_of(colnames(temperature_column_filter(data2))),\n",
        "                   list(max = max, min = min, mean = mean),\n",
        "                   .names = \"{.col}_{.fn}\"))\n",
        "\n",
        "head(result)"
      ],
      "metadata": {
        "colab": {
          "base_uri": "https://localhost:8080/",
          "height": 265
        },
        "id": "RXSBcKncYUcK",
        "outputId": "4766a719-4083-42b5-c1a5-3abeae79d5a2"
      },
      "execution_count": null,
      "outputs": [
        {
          "output_type": "display_data",
          "data": {
            "text/html": [
              "<table class=\"dataframe\">\n",
              "<caption>A tibble: 2 × 10</caption>\n",
              "<thead>\n",
              "\t<tr><th scope=col>semester</th><th scope=col>TEMPERATURA DO AR - BULBO SECO, HORARIA (°C)_max</th><th scope=col>TEMPERATURA DO AR - BULBO SECO, HORARIA (°C)_min</th><th scope=col>TEMPERATURA DO AR - BULBO SECO, HORARIA (°C)_mean</th><th scope=col>TEMPERATURA MÁXIMA NA HORA ANT. (AUT) (°C)_max</th><th scope=col>TEMPERATURA MÁXIMA NA HORA ANT. (AUT) (°C)_min</th><th scope=col>TEMPERATURA MÁXIMA NA HORA ANT. (AUT) (°C)_mean</th><th scope=col>TEMPERATURA MÍNIMA NA HORA ANT. (AUT) (°C)_max</th><th scope=col>TEMPERATURA MÍNIMA NA HORA ANT. (AUT) (°C)_min</th><th scope=col>TEMPERATURA MÍNIMA NA HORA ANT. (AUT) (°C)_mean</th></tr>\n",
              "\t<tr><th scope=col>&lt;date&gt;</th><th scope=col>&lt;dbl&gt;</th><th scope=col>&lt;dbl&gt;</th><th scope=col>&lt;dbl&gt;</th><th scope=col>&lt;dbl&gt;</th><th scope=col>&lt;dbl&gt;</th><th scope=col>&lt;dbl&gt;</th><th scope=col>&lt;dbl&gt;</th><th scope=col>&lt;dbl&gt;</th><th scope=col>&lt;dbl&gt;</th></tr>\n",
              "</thead>\n",
              "<tbody>\n",
              "\t<tr><td>2023-01-01</td><td>38.7</td><td>13.8</td><td>24.21429</td><td>38.8</td><td>14.1</td><td>24.78556</td><td>36.3</td><td>13.6</td><td>23.69042</td></tr>\n",
              "\t<tr><td>2023-07-01</td><td>41.4</td><td>13.0</td><td>23.72599</td><td>41.9</td><td>13.3</td><td>24.35700</td><td>39.0</td><td>12.8</td><td>23.12734</td></tr>\n",
              "</tbody>\n",
              "</table>\n"
            ],
            "text/markdown": "\nA tibble: 2 × 10\n\n| semester &lt;date&gt; | TEMPERATURA DO AR - BULBO SECO, HORARIA (°C)_max &lt;dbl&gt; | TEMPERATURA DO AR - BULBO SECO, HORARIA (°C)_min &lt;dbl&gt; | TEMPERATURA DO AR - BULBO SECO, HORARIA (°C)_mean &lt;dbl&gt; | TEMPERATURA MÁXIMA NA HORA ANT. (AUT) (°C)_max &lt;dbl&gt; | TEMPERATURA MÁXIMA NA HORA ANT. (AUT) (°C)_min &lt;dbl&gt; | TEMPERATURA MÁXIMA NA HORA ANT. (AUT) (°C)_mean &lt;dbl&gt; | TEMPERATURA MÍNIMA NA HORA ANT. (AUT) (°C)_max &lt;dbl&gt; | TEMPERATURA MÍNIMA NA HORA ANT. (AUT) (°C)_min &lt;dbl&gt; | TEMPERATURA MÍNIMA NA HORA ANT. (AUT) (°C)_mean &lt;dbl&gt; |\n|---|---|---|---|---|---|---|---|---|---|\n| 2023-01-01 | 38.7 | 13.8 | 24.21429 | 38.8 | 14.1 | 24.78556 | 36.3 | 13.6 | 23.69042 |\n| 2023-07-01 | 41.4 | 13.0 | 23.72599 | 41.9 | 13.3 | 24.35700 | 39.0 | 12.8 | 23.12734 |\n\n",
            "text/latex": "A tibble: 2 × 10\n\\begin{tabular}{llllllllll}\n semester & TEMPERATURA DO AR - BULBO SECO, HORARIA (°C)\\_max & TEMPERATURA DO AR - BULBO SECO, HORARIA (°C)\\_min & TEMPERATURA DO AR - BULBO SECO, HORARIA (°C)\\_mean & TEMPERATURA MÁXIMA NA HORA ANT. (AUT) (°C)\\_max & TEMPERATURA MÁXIMA NA HORA ANT. (AUT) (°C)\\_min & TEMPERATURA MÁXIMA NA HORA ANT. (AUT) (°C)\\_mean & TEMPERATURA MÍNIMA NA HORA ANT. (AUT) (°C)\\_max & TEMPERATURA MÍNIMA NA HORA ANT. (AUT) (°C)\\_min & TEMPERATURA MÍNIMA NA HORA ANT. (AUT) (°C)\\_mean\\\\\n <date> & <dbl> & <dbl> & <dbl> & <dbl> & <dbl> & <dbl> & <dbl> & <dbl> & <dbl>\\\\\n\\hline\n\t 2023-01-01 & 38.7 & 13.8 & 24.21429 & 38.8 & 14.1 & 24.78556 & 36.3 & 13.6 & 23.69042\\\\\n\t 2023-07-01 & 41.4 & 13.0 & 23.72599 & 41.9 & 13.3 & 24.35700 & 39.0 & 12.8 & 23.12734\\\\\n\\end{tabular}\n",
            "text/plain": [
              "  semester   TEMPERATURA DO AR - BULBO SECO, HORARIA (°C)_max\n",
              "1 2023-01-01 38.7                                            \n",
              "2 2023-07-01 41.4                                            \n",
              "  TEMPERATURA DO AR - BULBO SECO, HORARIA (°C)_min\n",
              "1 13.8                                            \n",
              "2 13.0                                            \n",
              "  TEMPERATURA DO AR - BULBO SECO, HORARIA (°C)_mean\n",
              "1 24.21429                                         \n",
              "2 23.72599                                         \n",
              "  TEMPERATURA MÁXIMA NA HORA ANT. (AUT) (°C)_max\n",
              "1 38.8                                          \n",
              "2 41.9                                          \n",
              "  TEMPERATURA MÁXIMA NA HORA ANT. (AUT) (°C)_min\n",
              "1 14.1                                          \n",
              "2 13.3                                          \n",
              "  TEMPERATURA MÁXIMA NA HORA ANT. (AUT) (°C)_mean\n",
              "1 24.78556                                       \n",
              "2 24.35700                                       \n",
              "  TEMPERATURA MÍNIMA NA HORA ANT. (AUT) (°C)_max\n",
              "1 36.3                                          \n",
              "2 39.0                                          \n",
              "  TEMPERATURA MÍNIMA NA HORA ANT. (AUT) (°C)_min\n",
              "1 13.6                                          \n",
              "2 12.8                                          \n",
              "  TEMPERATURA MÍNIMA NA HORA ANT. (AUT) (°C)_mean\n",
              "1 23.69042                                       \n",
              "2 23.12734                                       "
            ]
          },
          "metadata": {}
        }
      ]
    },
    {
      "cell_type": "markdown",
      "source": [
        "## Temperature Groupby Year"
      ],
      "metadata": {
        "id": "_36k9KIwYXd_"
      }
    },
    {
      "cell_type": "code",
      "source": [
        "# Using groupby and summarise to calculate max, min and mean\n",
        "result <- data1 %>%\n",
        "  group_by(year = floor_date(data1[[\"Data\"]], \"12 months\")) %>%\n",
        "  summarise(across(all_of(colnames(temperature_column_filter(data1))),\n",
        "                   list(max = max, min = min, mean = mean),\n",
        "                   .names = \"{.col}_{.fn}\"))\n",
        "\n",
        "head(result)"
      ],
      "metadata": {
        "colab": {
          "base_uri": "https://localhost:8080/",
          "height": 216
        },
        "id": "zwXit0P7YZaU",
        "outputId": "fc2c475a-9ee8-4152-b6a5-394b7c3352ee"
      },
      "execution_count": null,
      "outputs": [
        {
          "output_type": "display_data",
          "data": {
            "text/html": [
              "<table class=\"dataframe\">\n",
              "<caption>A tibble: 1 × 10</caption>\n",
              "<thead>\n",
              "\t<tr><th scope=col>year</th><th scope=col>TEMPERATURA DO AR - BULBO SECO, HORARIA (°C)_max</th><th scope=col>TEMPERATURA DO AR - BULBO SECO, HORARIA (°C)_min</th><th scope=col>TEMPERATURA DO AR - BULBO SECO, HORARIA (°C)_mean</th><th scope=col>TEMPERATURA MÁXIMA NA HORA ANT. (AUT) (°C)_max</th><th scope=col>TEMPERATURA MÁXIMA NA HORA ANT. (AUT) (°C)_min</th><th scope=col>TEMPERATURA MÁXIMA NA HORA ANT. (AUT) (°C)_mean</th><th scope=col>TEMPERATURA MÍNIMA NA HORA ANT. (AUT) (°C)_max</th><th scope=col>TEMPERATURA MÍNIMA NA HORA ANT. (AUT) (°C)_min</th><th scope=col>TEMPERATURA MÍNIMA NA HORA ANT. (AUT) (°C)_mean</th></tr>\n",
              "\t<tr><th scope=col>&lt;date&gt;</th><th scope=col>&lt;dbl&gt;</th><th scope=col>&lt;dbl&gt;</th><th scope=col>&lt;dbl&gt;</th><th scope=col>&lt;dbl&gt;</th><th scope=col>&lt;dbl&gt;</th><th scope=col>&lt;dbl&gt;</th><th scope=col>&lt;dbl&gt;</th><th scope=col>&lt;dbl&gt;</th><th scope=col>&lt;dbl&gt;</th></tr>\n",
              "</thead>\n",
              "<tbody>\n",
              "\t<tr><td>2022-01-01</td><td>39.1</td><td>11.9</td><td>23.17593</td><td>39.9</td><td>12.5</td><td>23.75266</td><td>38.3</td><td>11.3</td><td>22.63353</td></tr>\n",
              "</tbody>\n",
              "</table>\n"
            ],
            "text/markdown": "\nA tibble: 1 × 10\n\n| year &lt;date&gt; | TEMPERATURA DO AR - BULBO SECO, HORARIA (°C)_max &lt;dbl&gt; | TEMPERATURA DO AR - BULBO SECO, HORARIA (°C)_min &lt;dbl&gt; | TEMPERATURA DO AR - BULBO SECO, HORARIA (°C)_mean &lt;dbl&gt; | TEMPERATURA MÁXIMA NA HORA ANT. (AUT) (°C)_max &lt;dbl&gt; | TEMPERATURA MÁXIMA NA HORA ANT. (AUT) (°C)_min &lt;dbl&gt; | TEMPERATURA MÁXIMA NA HORA ANT. (AUT) (°C)_mean &lt;dbl&gt; | TEMPERATURA MÍNIMA NA HORA ANT. (AUT) (°C)_max &lt;dbl&gt; | TEMPERATURA MÍNIMA NA HORA ANT. (AUT) (°C)_min &lt;dbl&gt; | TEMPERATURA MÍNIMA NA HORA ANT. (AUT) (°C)_mean &lt;dbl&gt; |\n|---|---|---|---|---|---|---|---|---|---|\n| 2022-01-01 | 39.1 | 11.9 | 23.17593 | 39.9 | 12.5 | 23.75266 | 38.3 | 11.3 | 22.63353 |\n\n",
            "text/latex": "A tibble: 1 × 10\n\\begin{tabular}{llllllllll}\n year & TEMPERATURA DO AR - BULBO SECO, HORARIA (°C)\\_max & TEMPERATURA DO AR - BULBO SECO, HORARIA (°C)\\_min & TEMPERATURA DO AR - BULBO SECO, HORARIA (°C)\\_mean & TEMPERATURA MÁXIMA NA HORA ANT. (AUT) (°C)\\_max & TEMPERATURA MÁXIMA NA HORA ANT. (AUT) (°C)\\_min & TEMPERATURA MÁXIMA NA HORA ANT. (AUT) (°C)\\_mean & TEMPERATURA MÍNIMA NA HORA ANT. (AUT) (°C)\\_max & TEMPERATURA MÍNIMA NA HORA ANT. (AUT) (°C)\\_min & TEMPERATURA MÍNIMA NA HORA ANT. (AUT) (°C)\\_mean\\\\\n <date> & <dbl> & <dbl> & <dbl> & <dbl> & <dbl> & <dbl> & <dbl> & <dbl> & <dbl>\\\\\n\\hline\n\t 2022-01-01 & 39.1 & 11.9 & 23.17593 & 39.9 & 12.5 & 23.75266 & 38.3 & 11.3 & 22.63353\\\\\n\\end{tabular}\n",
            "text/plain": [
              "  year       TEMPERATURA DO AR - BULBO SECO, HORARIA (°C)_max\n",
              "1 2022-01-01 39.1                                            \n",
              "  TEMPERATURA DO AR - BULBO SECO, HORARIA (°C)_min\n",
              "1 11.9                                            \n",
              "  TEMPERATURA DO AR - BULBO SECO, HORARIA (°C)_mean\n",
              "1 23.17593                                         \n",
              "  TEMPERATURA MÁXIMA NA HORA ANT. (AUT) (°C)_max\n",
              "1 39.9                                          \n",
              "  TEMPERATURA MÁXIMA NA HORA ANT. (AUT) (°C)_min\n",
              "1 12.5                                          \n",
              "  TEMPERATURA MÁXIMA NA HORA ANT. (AUT) (°C)_mean\n",
              "1 23.75266                                       \n",
              "  TEMPERATURA MÍNIMA NA HORA ANT. (AUT) (°C)_max\n",
              "1 38.3                                          \n",
              "  TEMPERATURA MÍNIMA NA HORA ANT. (AUT) (°C)_min\n",
              "1 11.3                                          \n",
              "  TEMPERATURA MÍNIMA NA HORA ANT. (AUT) (°C)_mean\n",
              "1 22.63353                                       "
            ]
          },
          "metadata": {}
        }
      ]
    },
    {
      "cell_type": "code",
      "source": [
        "# Using groupby and summarise to calculate max, min and mean\n",
        "result <- data2 %>%\n",
        "  group_by(year = floor_date(data2[[\"Data\"]], \"12 months\")) %>%\n",
        "  summarise(across(all_of(colnames(temperature_column_filter(data2))),\n",
        "                   list(max = max, min = min, mean = mean),\n",
        "                   .names = \"{.col}_{.fn}\"))\n",
        "\n",
        "head(result)"
      ],
      "metadata": {
        "colab": {
          "base_uri": "https://localhost:8080/",
          "height": 216
        },
        "id": "pmcIAUqGYkCE",
        "outputId": "bfdf20f0-84c8-4050-97a4-ad400e20b473"
      },
      "execution_count": null,
      "outputs": [
        {
          "output_type": "display_data",
          "data": {
            "text/html": [
              "<table class=\"dataframe\">\n",
              "<caption>A tibble: 1 × 10</caption>\n",
              "<thead>\n",
              "\t<tr><th scope=col>year</th><th scope=col>TEMPERATURA DO AR - BULBO SECO, HORARIA (°C)_max</th><th scope=col>TEMPERATURA DO AR - BULBO SECO, HORARIA (°C)_min</th><th scope=col>TEMPERATURA DO AR - BULBO SECO, HORARIA (°C)_mean</th><th scope=col>TEMPERATURA MÁXIMA NA HORA ANT. (AUT) (°C)_max</th><th scope=col>TEMPERATURA MÁXIMA NA HORA ANT. (AUT) (°C)_min</th><th scope=col>TEMPERATURA MÁXIMA NA HORA ANT. (AUT) (°C)_mean</th><th scope=col>TEMPERATURA MÍNIMA NA HORA ANT. (AUT) (°C)_max</th><th scope=col>TEMPERATURA MÍNIMA NA HORA ANT. (AUT) (°C)_min</th><th scope=col>TEMPERATURA MÍNIMA NA HORA ANT. (AUT) (°C)_mean</th></tr>\n",
              "\t<tr><th scope=col>&lt;date&gt;</th><th scope=col>&lt;dbl&gt;</th><th scope=col>&lt;dbl&gt;</th><th scope=col>&lt;dbl&gt;</th><th scope=col>&lt;dbl&gt;</th><th scope=col>&lt;dbl&gt;</th><th scope=col>&lt;dbl&gt;</th><th scope=col>&lt;dbl&gt;</th><th scope=col>&lt;dbl&gt;</th><th scope=col>&lt;dbl&gt;</th></tr>\n",
              "</thead>\n",
              "<tbody>\n",
              "\t<tr><td>2023-01-01</td><td>41.4</td><td>13</td><td>24.01667</td><td>41.9</td><td>13.3</td><td>24.61212</td><td>39</td><td>12.8</td><td>23.46253</td></tr>\n",
              "</tbody>\n",
              "</table>\n"
            ],
            "text/markdown": "\nA tibble: 1 × 10\n\n| year &lt;date&gt; | TEMPERATURA DO AR - BULBO SECO, HORARIA (°C)_max &lt;dbl&gt; | TEMPERATURA DO AR - BULBO SECO, HORARIA (°C)_min &lt;dbl&gt; | TEMPERATURA DO AR - BULBO SECO, HORARIA (°C)_mean &lt;dbl&gt; | TEMPERATURA MÁXIMA NA HORA ANT. (AUT) (°C)_max &lt;dbl&gt; | TEMPERATURA MÁXIMA NA HORA ANT. (AUT) (°C)_min &lt;dbl&gt; | TEMPERATURA MÁXIMA NA HORA ANT. (AUT) (°C)_mean &lt;dbl&gt; | TEMPERATURA MÍNIMA NA HORA ANT. (AUT) (°C)_max &lt;dbl&gt; | TEMPERATURA MÍNIMA NA HORA ANT. (AUT) (°C)_min &lt;dbl&gt; | TEMPERATURA MÍNIMA NA HORA ANT. (AUT) (°C)_mean &lt;dbl&gt; |\n|---|---|---|---|---|---|---|---|---|---|\n| 2023-01-01 | 41.4 | 13 | 24.01667 | 41.9 | 13.3 | 24.61212 | 39 | 12.8 | 23.46253 |\n\n",
            "text/latex": "A tibble: 1 × 10\n\\begin{tabular}{llllllllll}\n year & TEMPERATURA DO AR - BULBO SECO, HORARIA (°C)\\_max & TEMPERATURA DO AR - BULBO SECO, HORARIA (°C)\\_min & TEMPERATURA DO AR - BULBO SECO, HORARIA (°C)\\_mean & TEMPERATURA MÁXIMA NA HORA ANT. (AUT) (°C)\\_max & TEMPERATURA MÁXIMA NA HORA ANT. (AUT) (°C)\\_min & TEMPERATURA MÁXIMA NA HORA ANT. (AUT) (°C)\\_mean & TEMPERATURA MÍNIMA NA HORA ANT. (AUT) (°C)\\_max & TEMPERATURA MÍNIMA NA HORA ANT. (AUT) (°C)\\_min & TEMPERATURA MÍNIMA NA HORA ANT. (AUT) (°C)\\_mean\\\\\n <date> & <dbl> & <dbl> & <dbl> & <dbl> & <dbl> & <dbl> & <dbl> & <dbl> & <dbl>\\\\\n\\hline\n\t 2023-01-01 & 41.4 & 13 & 24.01667 & 41.9 & 13.3 & 24.61212 & 39 & 12.8 & 23.46253\\\\\n\\end{tabular}\n",
            "text/plain": [
              "  year       TEMPERATURA DO AR - BULBO SECO, HORARIA (°C)_max\n",
              "1 2023-01-01 41.4                                            \n",
              "  TEMPERATURA DO AR - BULBO SECO, HORARIA (°C)_min\n",
              "1 13                                              \n",
              "  TEMPERATURA DO AR - BULBO SECO, HORARIA (°C)_mean\n",
              "1 24.01667                                         \n",
              "  TEMPERATURA MÁXIMA NA HORA ANT. (AUT) (°C)_max\n",
              "1 41.9                                          \n",
              "  TEMPERATURA MÁXIMA NA HORA ANT. (AUT) (°C)_min\n",
              "1 13.3                                          \n",
              "  TEMPERATURA MÁXIMA NA HORA ANT. (AUT) (°C)_mean\n",
              "1 24.61212                                       \n",
              "  TEMPERATURA MÍNIMA NA HORA ANT. (AUT) (°C)_max\n",
              "1 39                                            \n",
              "  TEMPERATURA MÍNIMA NA HORA ANT. (AUT) (°C)_min\n",
              "1 12.8                                          \n",
              "  TEMPERATURA MÍNIMA NA HORA ANT. (AUT) (°C)_mean\n",
              "1 23.46253                                       "
            ]
          },
          "metadata": {}
        }
      ]
    },
    {
      "cell_type": "markdown",
      "source": [
        "# Item 6"
      ],
      "metadata": {
        "id": "4nTvgMnCYsuQ"
      }
    },
    {
      "cell_type": "markdown",
      "source": [
        "## Hottest Year On Average"
      ],
      "metadata": {
        "id": "of8Rmr34ads2"
      }
    },
    {
      "cell_type": "code",
      "source": [
        "# Calculates the mean maximum temperature of year 2022\n",
        "mean_data1 <- mean(data1[[\"TEMPERATURA MÁXIMA NA HORA ANT. (AUT) (°C)\"]])\n",
        "\n",
        "# Calculates the mean maximum temperature of year 2023\n",
        "mean_data2 <- mean(data2[[\"TEMPERATURA MÁXIMA NA HORA ANT. (AUT) (°C)\"]])\n",
        "\n",
        "# Compares means\n",
        "if (mean_data1 > mean_data2) {\n",
        "  result <- \"Year 2022 had the higher mean maximum temperature.\"\n",
        "} else if (mean_data1 < mean_data2) {\n",
        "  result <- \"Year 2023 had the higher mean maximum temperature.\"\n",
        "} else {\n",
        "  result <- \"The mean maximum temperature of years 2022 and 2023 are equal.\"\n",
        "}\n",
        "\n",
        "# Shows result\n",
        "print(result)"
      ],
      "metadata": {
        "colab": {
          "base_uri": "https://localhost:8080/"
        },
        "id": "S9SSyGTAY6tF",
        "outputId": "6f7e4511-8107-4f12-906c-0b24940d5402"
      },
      "execution_count": null,
      "outputs": [
        {
          "output_type": "stream",
          "name": "stdout",
          "text": [
            "[1] \"Year 2023 had the higher mean maximum temperature.\"\n"
          ]
        }
      ]
    },
    {
      "cell_type": "markdown",
      "source": [
        "## First Semester"
      ],
      "metadata": {
        "id": "H-YmzuipY5gX"
      }
    },
    {
      "cell_type": "code",
      "source": [
        "first_semester_data1 <- data1 %>%\n",
        "  filter(month(data1[[\"Data\"]]) %in% 1:6)\n",
        "\n",
        "first_semester_data2 <- data2 %>%\n",
        "  filter(month(data2[[\"Data\"]]) %in% 1:6)"
      ],
      "metadata": {
        "id": "DCM7JMCrYtiG"
      },
      "execution_count": null,
      "outputs": []
    },
    {
      "cell_type": "markdown",
      "source": [
        "### Hottest Months"
      ],
      "metadata": {
        "id": "zwfUB-mmcRfw"
      }
    },
    {
      "cell_type": "code",
      "source": [
        "# Calculates maximum temperature per month\n",
        "max_temp_monthly <- first_semester_data1 %>%\n",
        "  group_by(month = floor_date(first_semester_data1[[\"Data\"]], \"month\")) %>%\n",
        "  summarise(max_temp = max(first_semester_data1[[\"TEMPERATURA MÁXIMA NA HORA ANT. (AUT) (°C)\"]])) %>%\n",
        "  ungroup()\n",
        "\n",
        "# Order months in order of hottest first and select first 3\n",
        "hottest_months <- max_temp_monthly %>%\n",
        "  arrange(desc(max_temp)) %>%\n",
        "  slice(1:3)\n",
        "\n",
        "# Shows the 3 hottest months of first semester\n",
        "print(hottest_months)"
      ],
      "metadata": {
        "colab": {
          "base_uri": "https://localhost:8080/"
        },
        "id": "Wdxk7TZQbMC_",
        "outputId": "345e219d-11d4-46bd-db45-812cf7845f5b"
      },
      "execution_count": null,
      "outputs": [
        {
          "output_type": "stream",
          "name": "stdout",
          "text": [
            "\u001b[90m# A tibble: 3 × 2\u001b[39m\n",
            "  month      max_temp\n",
            "  \u001b[3m\u001b[90m<date>\u001b[39m\u001b[23m        \u001b[3m\u001b[90m<dbl>\u001b[39m\u001b[23m\n",
            "\u001b[90m1\u001b[39m 2022-01-01     39.9\n",
            "\u001b[90m2\u001b[39m 2022-02-01     39.9\n",
            "\u001b[90m3\u001b[39m 2022-03-01     39.9\n"
          ]
        }
      ]
    },
    {
      "cell_type": "code",
      "source": [
        "# Calculates maximum temperature per month\n",
        "max_temp_monthly <- first_semester_data2 %>%\n",
        "  group_by(month = floor_date(first_semester_data2[[\"Data\"]], \"month\")) %>%\n",
        "  summarise(max_temp = max(first_semester_data2[[\"TEMPERATURA MÁXIMA NA HORA ANT. (AUT) (°C)\"]])) %>%\n",
        "  ungroup()\n",
        "\n",
        "# Order months in order of hottest first and select first 3\n",
        "hottest_months <- max_temp_monthly %>%\n",
        "  arrange(desc(max_temp)) %>%\n",
        "  slice(1:3)\n",
        "\n",
        "# Shows the 3 hottest months of first semester\n",
        "print(hottest_months)"
      ],
      "metadata": {
        "colab": {
          "base_uri": "https://localhost:8080/"
        },
        "id": "3AGCdBxdcTaK",
        "outputId": "40801b97-c135-41da-ab99-80be4407a4f9"
      },
      "execution_count": null,
      "outputs": [
        {
          "output_type": "stream",
          "name": "stdout",
          "text": [
            "\u001b[90m# A tibble: 3 × 2\u001b[39m\n",
            "  month      max_temp\n",
            "  \u001b[3m\u001b[90m<date>\u001b[39m\u001b[23m        \u001b[3m\u001b[90m<dbl>\u001b[39m\u001b[23m\n",
            "\u001b[90m1\u001b[39m 2023-01-01     38.8\n",
            "\u001b[90m2\u001b[39m 2023-02-01     38.8\n",
            "\u001b[90m3\u001b[39m 2023-03-01     38.8\n"
          ]
        }
      ]
    },
    {
      "cell_type": "markdown",
      "source": [
        "### Coldest Months"
      ],
      "metadata": {
        "id": "4U6OkBOacWgs"
      }
    },
    {
      "cell_type": "code",
      "source": [
        "# Calculates maximum temperature per month\n",
        "min_temp_monthly <- first_semester_data1 %>%\n",
        "  group_by(month = floor_date(first_semester_data1[[\"Data\"]], \"month\")) %>%\n",
        "  summarise(min_temp = min(first_semester_data1[[\"TEMPERATURA MÍNIMA NA HORA ANT. (AUT) (°C)\"]])) %>%\n",
        "  ungroup()\n",
        "\n",
        "# Order months in order of coldest first and select first 3\n",
        "coldest_months <- min_temp_monthly %>%\n",
        "  arrange(desc(min_temp)) %>%\n",
        "  slice(1:3)\n",
        "\n",
        "# Shows the 3 coldest months of first semester\n",
        "print(coldest_months)"
      ],
      "metadata": {
        "colab": {
          "base_uri": "https://localhost:8080/"
        },
        "id": "_FHBvR55b34M",
        "outputId": "b5b13b57-b26a-455c-837c-00e7c455ba2d"
      },
      "execution_count": null,
      "outputs": [
        {
          "output_type": "stream",
          "name": "stdout",
          "text": [
            "\u001b[90m# A tibble: 3 × 2\u001b[39m\n",
            "  month      min_temp\n",
            "  \u001b[3m\u001b[90m<date>\u001b[39m\u001b[23m        \u001b[3m\u001b[90m<dbl>\u001b[39m\u001b[23m\n",
            "\u001b[90m1\u001b[39m 2022-01-01     12.7\n",
            "\u001b[90m2\u001b[39m 2022-02-01     12.7\n",
            "\u001b[90m3\u001b[39m 2022-03-01     12.7\n"
          ]
        }
      ]
    },
    {
      "cell_type": "code",
      "source": [
        "# Calculates maximum temperature per month\n",
        "min_temp_monthly <- first_semester_data2 %>%\n",
        "  group_by(month = floor_date(first_semester_data2[[\"Data\"]], \"month\")) %>%\n",
        "  summarise(min_temp = min(first_semester_data2[[\"TEMPERATURA MÍNIMA NA HORA ANT. (AUT) (°C)\"]])) %>%\n",
        "  ungroup()\n",
        "\n",
        "# Order months in order of coldest first and select first 3\n",
        "coldest_months <- min_temp_monthly %>%\n",
        "  arrange(desc(min_temp)) %>%\n",
        "  slice(1:3)\n",
        "\n",
        "# Shows the 3 coldest months of first semester\n",
        "print(coldest_months)"
      ],
      "metadata": {
        "colab": {
          "base_uri": "https://localhost:8080/"
        },
        "id": "3QP2pze6cYW8",
        "outputId": "6923627b-06ba-4972-997f-8c5b85deb50f"
      },
      "execution_count": null,
      "outputs": [
        {
          "output_type": "stream",
          "name": "stdout",
          "text": [
            "\u001b[90m# A tibble: 3 × 2\u001b[39m\n",
            "  month      min_temp\n",
            "  \u001b[3m\u001b[90m<date>\u001b[39m\u001b[23m        \u001b[3m\u001b[90m<dbl>\u001b[39m\u001b[23m\n",
            "\u001b[90m1\u001b[39m 2023-01-01     13.6\n",
            "\u001b[90m2\u001b[39m 2023-02-01     13.6\n",
            "\u001b[90m3\u001b[39m 2023-03-01     13.6\n"
          ]
        }
      ]
    },
    {
      "cell_type": "markdown",
      "source": [
        "## Second Semester"
      ],
      "metadata": {
        "id": "18Yjc2j3cHr9"
      }
    },
    {
      "cell_type": "code",
      "source": [
        "second_semester_data1 <- data1 %>%\n",
        "  filter(month(data1[[\"Data\"]]) %in% 7:12)\n",
        "\n",
        "second_semester_data2 <- data2 %>%\n",
        "  filter(month(data2[[\"Data\"]]) %in% 7:12)"
      ],
      "metadata": {
        "id": "0RIe7GUlcI92"
      },
      "execution_count": null,
      "outputs": []
    },
    {
      "cell_type": "markdown",
      "source": [
        "### Hottest Months"
      ],
      "metadata": {
        "id": "g54G0AzHchVg"
      }
    },
    {
      "cell_type": "code",
      "source": [
        "# Calculates maximum temperature per month\n",
        "max_temp_monthly <- second_semester_data1 %>%\n",
        "  group_by(month = floor_date(second_semester_data1[[\"Data\"]], \"month\")) %>%\n",
        "  summarise(max_temp = max(second_semester_data1[[\"TEMPERATURA MÁXIMA NA HORA ANT. (AUT) (°C)\"]])) %>%\n",
        "  ungroup()\n",
        "\n",
        "# Order months in order of hottest first and select first 3\n",
        "hottest_months <- max_temp_monthly %>%\n",
        "  arrange(desc(max_temp)) %>%\n",
        "  slice(1:3)\n",
        "\n",
        "# Shows the 3 hottest months of first semester\n",
        "print(hottest_months)"
      ],
      "metadata": {
        "colab": {
          "base_uri": "https://localhost:8080/"
        },
        "id": "2hOqZSJIcimH",
        "outputId": "b4c90744-fdf4-4d8b-b24b-af1eeb84ede7"
      },
      "execution_count": null,
      "outputs": [
        {
          "output_type": "stream",
          "name": "stdout",
          "text": [
            "\u001b[90m# A tibble: 3 × 2\u001b[39m\n",
            "  month      max_temp\n",
            "  \u001b[3m\u001b[90m<date>\u001b[39m\u001b[23m        \u001b[3m\u001b[90m<dbl>\u001b[39m\u001b[23m\n",
            "\u001b[90m1\u001b[39m 2022-07-01     38.5\n",
            "\u001b[90m2\u001b[39m 2022-08-01     38.5\n",
            "\u001b[90m3\u001b[39m 2022-09-01     38.5\n"
          ]
        }
      ]
    },
    {
      "cell_type": "code",
      "source": [
        "# Calculates maximum temperature per month\n",
        "max_temp_monthly <- second_semester_data2 %>%\n",
        "  group_by(month = floor_date(second_semester_data2[[\"Data\"]], \"month\")) %>%\n",
        "  summarise(max_temp = max(second_semester_data2[[\"TEMPERATURA MÁXIMA NA HORA ANT. (AUT) (°C)\"]])) %>%\n",
        "  ungroup()\n",
        "\n",
        "# Order months in order of hottest first and select first 3\n",
        "hottest_months <- max_temp_monthly %>%\n",
        "  arrange(desc(max_temp)) %>%\n",
        "  slice(1:3)\n",
        "\n",
        "# Shows the 3 hottest months of first semester\n",
        "print(hottest_months)"
      ],
      "metadata": {
        "colab": {
          "base_uri": "https://localhost:8080/"
        },
        "id": "DwR8OXuxcrJv",
        "outputId": "f3648ba4-3c0c-41fa-f4ce-7d2e16afb5f7"
      },
      "execution_count": null,
      "outputs": [
        {
          "output_type": "stream",
          "name": "stdout",
          "text": [
            "\u001b[90m# A tibble: 3 × 2\u001b[39m\n",
            "  month      max_temp\n",
            "  \u001b[3m\u001b[90m<date>\u001b[39m\u001b[23m        \u001b[3m\u001b[90m<dbl>\u001b[39m\u001b[23m\n",
            "\u001b[90m1\u001b[39m 2023-07-01     41.9\n",
            "\u001b[90m2\u001b[39m 2023-08-01     41.9\n",
            "\u001b[90m3\u001b[39m 2023-10-01     41.9\n"
          ]
        }
      ]
    },
    {
      "cell_type": "markdown",
      "source": [
        "### Coldest Months"
      ],
      "metadata": {
        "id": "Lz7L1nGGcw0q"
      }
    },
    {
      "cell_type": "code",
      "source": [
        "# Calculates maximum temperature per month\n",
        "min_temp_monthly <- second_semester_data1 %>%\n",
        "  group_by(month = floor_date(second_semester_data1[[\"Data\"]], \"month\")) %>%\n",
        "  summarise(min_temp = min(second_semester_data1[[\"TEMPERATURA MÍNIMA NA HORA ANT. (AUT) (°C)\"]])) %>%\n",
        "  ungroup()\n",
        "\n",
        "# Order months in order of coldest first and select first 3\n",
        "coldest_months <- min_temp_monthly %>%\n",
        "  arrange(desc(min_temp)) %>%\n",
        "  slice(1:3)\n",
        "\n",
        "# Shows the 3 coldest months of first semester\n",
        "print(coldest_months)"
      ],
      "metadata": {
        "colab": {
          "base_uri": "https://localhost:8080/"
        },
        "id": "hIyzBGo5cxzw",
        "outputId": "6ab15be4-4706-4950-fd66-b0db29761959"
      },
      "execution_count": null,
      "outputs": [
        {
          "output_type": "stream",
          "name": "stdout",
          "text": [
            "\u001b[90m# A tibble: 3 × 2\u001b[39m\n",
            "  month      min_temp\n",
            "  \u001b[3m\u001b[90m<date>\u001b[39m\u001b[23m        \u001b[3m\u001b[90m<dbl>\u001b[39m\u001b[23m\n",
            "\u001b[90m1\u001b[39m 2022-07-01     11.3\n",
            "\u001b[90m2\u001b[39m 2022-08-01     11.3\n",
            "\u001b[90m3\u001b[39m 2022-09-01     11.3\n"
          ]
        }
      ]
    },
    {
      "cell_type": "code",
      "source": [
        "# Calculates maximum temperature per month\n",
        "min_temp_monthly <- second_semester_data2 %>%\n",
        "  group_by(month = floor_date(second_semester_data2[[\"Data\"]], \"month\")) %>%\n",
        "  summarise(min_temp = min(second_semester_data2[[\"TEMPERATURA MÍNIMA NA HORA ANT. (AUT) (°C)\"]])) %>%\n",
        "  ungroup()\n",
        "\n",
        "# Order months in order of coldest first and select first 3\n",
        "coldest_months <- min_temp_monthly %>%\n",
        "  arrange(desc(min_temp)) %>%\n",
        "  slice(1:3)\n",
        "\n",
        "# Shows the 3 coldest months of first semester\n",
        "print(coldest_months)"
      ],
      "metadata": {
        "colab": {
          "base_uri": "https://localhost:8080/"
        },
        "id": "l2ypNVJVc1oU",
        "outputId": "48f592ae-1816-4ae0-a448-c7d0ae2a6a50"
      },
      "execution_count": null,
      "outputs": [
        {
          "output_type": "stream",
          "name": "stdout",
          "text": [
            "\u001b[90m# A tibble: 3 × 2\u001b[39m\n",
            "  month      min_temp\n",
            "  \u001b[3m\u001b[90m<date>\u001b[39m\u001b[23m        \u001b[3m\u001b[90m<dbl>\u001b[39m\u001b[23m\n",
            "\u001b[90m1\u001b[39m 2023-07-01     12.8\n",
            "\u001b[90m2\u001b[39m 2023-08-01     12.8\n",
            "\u001b[90m3\u001b[39m 2023-10-01     12.8\n"
          ]
        }
      ]
    },
    {
      "cell_type": "markdown",
      "source": [
        "# End"
      ],
      "metadata": {
        "id": "omL1nnD-c_Nf"
      }
    }
  ]
}